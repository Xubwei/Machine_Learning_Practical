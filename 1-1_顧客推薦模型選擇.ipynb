{
 "cells": [
  {
   "attachments": {},
   "cell_type": "markdown",
   "metadata": {},
   "source": [
    "# 顧客推薦模型"
   ]
  },
  {
   "attachments": {},
   "cell_type": "markdown",
   "metadata": {},
   "source": [
    "## 一、載入套件"
   ]
  },
  {
   "cell_type": "code",
   "execution_count": 1,
   "metadata": {},
   "outputs": [],
   "source": [
    "# Importing the libraries\n",
    "import os\n",
    "os.environ['KMP_DUPLICATE_LIB_OK']='True'\n",
    "\n",
    "from util import get_dummies, detect_str_columns,model_testRF,results_summary_to_dataframe,plot_confusion_matrix,logistic_model,logistic_importance,logistic_conf\n",
    "\n",
    "from sklearn.ensemble import RandomForestClassifier\n",
    "from sklearn.tree import DecisionTreeClassifier\n",
    "from sklearn.linear_model import LogisticRegression\n",
    "from sklearn.metrics import confusion_matrix, auc, accuracy_score,classification_report\n",
    "import pandas as pd\n",
    "from sklearn.model_selection import train_test_split\n",
    "from xgboost import XGBClassifier\n",
    "\n",
    "# ----設定繪圖-------\n",
    "import matplotlib.pyplot as plt\n",
    "import seaborn as sns\n",
    "import numpy as np\n",
    "import os\n",
    "import platform"
   ]
  },
  {
   "cell_type": "code",
   "execution_count": 2,
   "metadata": {},
   "outputs": [],
   "source": [
    "# 讀取電商資料\n",
    "data = pd.read_csv('contract.csv')"
   ]
  },
  {
   "cell_type": "code",
   "execution_count": 3,
   "metadata": {},
   "outputs": [
    {
     "data": {
      "text/html": [
       "<div>\n",
       "<style scoped>\n",
       "    .dataframe tbody tr th:only-of-type {\n",
       "        vertical-align: middle;\n",
       "    }\n",
       "\n",
       "    .dataframe tbody tr th {\n",
       "        vertical-align: top;\n",
       "    }\n",
       "\n",
       "    .dataframe thead th {\n",
       "        text-align: right;\n",
       "    }\n",
       "</style>\n",
       "<table border=\"1\" class=\"dataframe\">\n",
       "  <thead>\n",
       "    <tr style=\"text-align: right;\">\n",
       "      <th></th>\n",
       "      <th>Prod_output_num</th>\n",
       "      <th>locations</th>\n",
       "      <th>gender</th>\n",
       "      <th>age</th>\n",
       "      <th>click_on_prod</th>\n",
       "      <th>balance</th>\n",
       "      <th>registry_to_use_time</th>\n",
       "      <th>credit_card_paid</th>\n",
       "      <th>active_member</th>\n",
       "      <th>estimated_salary</th>\n",
       "      <th>buy</th>\n",
       "      <th>UID</th>\n",
       "    </tr>\n",
       "  </thead>\n",
       "  <tbody>\n",
       "    <tr>\n",
       "      <th>0</th>\n",
       "      <td>619</td>\n",
       "      <td>Taipei</td>\n",
       "      <td>Female</td>\n",
       "      <td>42</td>\n",
       "      <td>2</td>\n",
       "      <td>0.00</td>\n",
       "      <td>4</td>\n",
       "      <td>1</td>\n",
       "      <td>0</td>\n",
       "      <td>101348.88</td>\n",
       "      <td>1</td>\n",
       "      <td>0</td>\n",
       "    </tr>\n",
       "    <tr>\n",
       "      <th>1</th>\n",
       "      <td>608</td>\n",
       "      <td>Tainan</td>\n",
       "      <td>Female</td>\n",
       "      <td>41</td>\n",
       "      <td>1</td>\n",
       "      <td>83807.86</td>\n",
       "      <td>4</td>\n",
       "      <td>0</td>\n",
       "      <td>0</td>\n",
       "      <td>112542.58</td>\n",
       "      <td>0</td>\n",
       "      <td>1</td>\n",
       "    </tr>\n",
       "    <tr>\n",
       "      <th>2</th>\n",
       "      <td>502</td>\n",
       "      <td>Taipei</td>\n",
       "      <td>Female</td>\n",
       "      <td>42</td>\n",
       "      <td>8</td>\n",
       "      <td>159660.80</td>\n",
       "      <td>2</td>\n",
       "      <td>1</td>\n",
       "      <td>1</td>\n",
       "      <td>113931.57</td>\n",
       "      <td>1</td>\n",
       "      <td>2</td>\n",
       "    </tr>\n",
       "    <tr>\n",
       "      <th>3</th>\n",
       "      <td>699</td>\n",
       "      <td>Taipei</td>\n",
       "      <td>Female</td>\n",
       "      <td>39</td>\n",
       "      <td>1</td>\n",
       "      <td>0.00</td>\n",
       "      <td>3</td>\n",
       "      <td>0</td>\n",
       "      <td>1</td>\n",
       "      <td>93826.63</td>\n",
       "      <td>0</td>\n",
       "      <td>3</td>\n",
       "    </tr>\n",
       "    <tr>\n",
       "      <th>4</th>\n",
       "      <td>850</td>\n",
       "      <td>Tainan</td>\n",
       "      <td>Female</td>\n",
       "      <td>43</td>\n",
       "      <td>2</td>\n",
       "      <td>125510.82</td>\n",
       "      <td>4</td>\n",
       "      <td>1</td>\n",
       "      <td>0</td>\n",
       "      <td>79084.10</td>\n",
       "      <td>0</td>\n",
       "      <td>4</td>\n",
       "    </tr>\n",
       "  </tbody>\n",
       "</table>\n",
       "</div>"
      ],
      "text/plain": [
       "   Prod_output_num locations  gender  age  click_on_prod    balance  \\\n",
       "0              619    Taipei  Female   42              2       0.00   \n",
       "1              608    Tainan  Female   41              1   83807.86   \n",
       "2              502    Taipei  Female   42              8  159660.80   \n",
       "3              699    Taipei  Female   39              1       0.00   \n",
       "4              850    Tainan  Female   43              2  125510.82   \n",
       "\n",
       "   registry_to_use_time  credit_card_paid  active_member  estimated_salary  \\\n",
       "0                     4                 1              0         101348.88   \n",
       "1                     4                 0              0         112542.58   \n",
       "2                     2                 1              1         113931.57   \n",
       "3                     3                 0              1          93826.63   \n",
       "4                     4                 1              0          79084.10   \n",
       "\n",
       "   buy  UID  \n",
       "0    1    0  \n",
       "1    0    1  \n",
       "2    1    2  \n",
       "3    0    3  \n",
       "4    0    4  "
      ]
     },
     "execution_count": 3,
     "metadata": {},
     "output_type": "execute_result"
    }
   ],
   "source": [
    "data.head()"
   ]
  },
  {
   "attachments": {},
   "cell_type": "markdown",
   "metadata": {},
   "source": [
    "## 二、變數視覺化"
   ]
  },
  {
   "cell_type": "code",
   "execution_count": 4,
   "metadata": {},
   "outputs": [
    {
     "name": "stdout",
     "output_type": "stream",
     "text": [
      "不購買 79.63 % of the dataset\n",
      "購買 20.37 % of the dataset\n"
     ]
    },
    {
     "data": {
      "text/plain": [
       "Text(0.5, 1.0, 'purchase decision \\n (0:no vs 1:yes )')"
      ]
     },
     "execution_count": 4,
     "metadata": {},
     "output_type": "execute_result"
    },
    {
     "data": {
      "image/png": "[encoded data removed]",
      "text/plain": [
       "<Figure size 640x480 with 1 Axes>"
      ]
     },
     "metadata": {},
     "output_type": "display_data"
    }
   ],
   "source": [
    "# Buy 比例\n",
    "print('不購買', round(data['buy'].value_counts()[0]/len(data) * 100,2), '% of the dataset')\n",
    "print('購買', round(data['buy'].value_counts()[1]/len(data) * 100,2), '% of the dataset')\n",
    "\n",
    "# 看看 y變數的分佈圖\n",
    "colors = [\"#0101DF\", \"#DF0101\"]\n",
    "sns.countplot(x = 'buy', data =data, palette=colors)\n",
    "plt.title('purchase decision \\n (0:no vs 1:yes )', fontsize=14)"
   ]
  },
  {
   "attachments": {},
   "cell_type": "markdown",
   "metadata": {},
   "source": [
    "## 三、資料處理與轉換"
   ]
  },
  {
   "attachments": {},
   "cell_type": "markdown",
   "metadata": {},
   "source": [
    " 1. 標籤編碼（Label Encoding）：該方法將各類別轉換成數字，在商業界及社會科學中，\n",
    "                                最常見的就是李克特5點量表的轉換，這也是「順序尺\n",
    "                                度」之概念，也就是具有大小之分的類別，建議適用該\n",
    "                                法。                            \n",
    " 2. 獨熱編碼（One-Hot Encoding）：這代表將類別轉換成欄位格式，並且以1（有該類別）\n",
    "                                與0（沒有該類別）的形式表示之。"
   ]
  },
  {
   "cell_type": "code",
   "execution_count": 5,
   "metadata": {},
   "outputs": [
    {
     "name": "stdout",
     "output_type": "stream",
     "text": [
      "<class 'pandas.core.frame.DataFrame'>\n",
      "RangeIndex: 10000 entries, 0 to 9999\n",
      "Data columns (total 12 columns):\n",
      " #   Column                Non-Null Count  Dtype  \n",
      "---  ------                --------------  -----  \n",
      " 0   Prod_output_num       10000 non-null  int64  \n",
      " 1   locations             10000 non-null  object \n",
      " 2   gender                10000 non-null  object \n",
      " 3   age                   10000 non-null  int64  \n",
      " 4   click_on_prod         10000 non-null  int64  \n",
      " 5   balance               10000 non-null  float64\n",
      " 6   registry_to_use_time  10000 non-null  int64  \n",
      " 7   credit_card_paid      10000 non-null  int64  \n",
      " 8   active_member         10000 non-null  int64  \n",
      " 9   estimated_salary      10000 non-null  float64\n",
      " 10  buy                   10000 non-null  int64  \n",
      " 11  UID                   10000 non-null  int64  \n",
      "dtypes: float64(2), int64(8), object(2)\n",
      "memory usage: 937.6+ KB\n"
     ]
    }
   ],
   "source": [
    "data.info()"
   ]
  },
  {
   "cell_type": "code",
   "execution_count": 6,
   "metadata": {},
   "outputs": [
    {
     "name": "stdout",
     "output_type": "stream",
     "text": [
      "['locations', 'gender']\n"
     ]
    },
    {
     "data": {
      "text/html": [
       "<div>\n",
       "<style scoped>\n",
       "    .dataframe tbody tr th:only-of-type {\n",
       "        vertical-align: middle;\n",
       "    }\n",
       "\n",
       "    .dataframe tbody tr th {\n",
       "        vertical-align: top;\n",
       "    }\n",
       "\n",
       "    .dataframe thead th {\n",
       "        text-align: right;\n",
       "    }\n",
       "</style>\n",
       "<table border=\"1\" class=\"dataframe\">\n",
       "  <thead>\n",
       "    <tr style=\"text-align: right;\">\n",
       "      <th></th>\n",
       "      <th>Prod_output_num</th>\n",
       "      <th>age</th>\n",
       "      <th>click_on_prod</th>\n",
       "      <th>balance</th>\n",
       "      <th>registry_to_use_time</th>\n",
       "      <th>credit_card_paid</th>\n",
       "      <th>active_member</th>\n",
       "      <th>estimated_salary</th>\n",
       "      <th>buy</th>\n",
       "      <th>UID</th>\n",
       "      <th>locations_Taichung</th>\n",
       "      <th>locations_Tainan</th>\n",
       "      <th>locations_Taipei</th>\n",
       "      <th>gender_Female</th>\n",
       "      <th>gender_Male</th>\n",
       "    </tr>\n",
       "  </thead>\n",
       "  <tbody>\n",
       "    <tr>\n",
       "      <th>0</th>\n",
       "      <td>619</td>\n",
       "      <td>42</td>\n",
       "      <td>2</td>\n",
       "      <td>0.00</td>\n",
       "      <td>4</td>\n",
       "      <td>1</td>\n",
       "      <td>0</td>\n",
       "      <td>101348.88</td>\n",
       "      <td>1</td>\n",
       "      <td>0</td>\n",
       "      <td>0</td>\n",
       "      <td>0</td>\n",
       "      <td>1</td>\n",
       "      <td>1</td>\n",
       "      <td>0</td>\n",
       "    </tr>\n",
       "    <tr>\n",
       "      <th>1</th>\n",
       "      <td>608</td>\n",
       "      <td>41</td>\n",
       "      <td>1</td>\n",
       "      <td>83807.86</td>\n",
       "      <td>4</td>\n",
       "      <td>0</td>\n",
       "      <td>0</td>\n",
       "      <td>112542.58</td>\n",
       "      <td>0</td>\n",
       "      <td>1</td>\n",
       "      <td>0</td>\n",
       "      <td>1</td>\n",
       "      <td>0</td>\n",
       "      <td>1</td>\n",
       "      <td>0</td>\n",
       "    </tr>\n",
       "    <tr>\n",
       "      <th>2</th>\n",
       "      <td>502</td>\n",
       "      <td>42</td>\n",
       "      <td>8</td>\n",
       "      <td>159660.80</td>\n",
       "      <td>2</td>\n",
       "      <td>1</td>\n",
       "      <td>1</td>\n",
       "      <td>113931.57</td>\n",
       "      <td>1</td>\n",
       "      <td>2</td>\n",
       "      <td>0</td>\n",
       "      <td>0</td>\n",
       "      <td>1</td>\n",
       "      <td>1</td>\n",
       "      <td>0</td>\n",
       "    </tr>\n",
       "    <tr>\n",
       "      <th>3</th>\n",
       "      <td>699</td>\n",
       "      <td>39</td>\n",
       "      <td>1</td>\n",
       "      <td>0.00</td>\n",
       "      <td>3</td>\n",
       "      <td>0</td>\n",
       "      <td>1</td>\n",
       "      <td>93826.63</td>\n",
       "      <td>0</td>\n",
       "      <td>3</td>\n",
       "      <td>0</td>\n",
       "      <td>0</td>\n",
       "      <td>1</td>\n",
       "      <td>1</td>\n",
       "      <td>0</td>\n",
       "    </tr>\n",
       "    <tr>\n",
       "      <th>4</th>\n",
       "      <td>850</td>\n",
       "      <td>43</td>\n",
       "      <td>2</td>\n",
       "      <td>125510.82</td>\n",
       "      <td>4</td>\n",
       "      <td>1</td>\n",
       "      <td>0</td>\n",
       "      <td>79084.10</td>\n",
       "      <td>0</td>\n",
       "      <td>4</td>\n",
       "      <td>0</td>\n",
       "      <td>1</td>\n",
       "      <td>0</td>\n",
       "      <td>1</td>\n",
       "      <td>0</td>\n",
       "    </tr>\n",
       "  </tbody>\n",
       "</table>\n",
       "</div>"
      ],
      "text/plain": [
       "   Prod_output_num  age  click_on_prod    balance  registry_to_use_time  \\\n",
       "0              619   42              2       0.00                     4   \n",
       "1              608   41              1   83807.86                     4   \n",
       "2              502   42              8  159660.80                     2   \n",
       "3              699   39              1       0.00                     3   \n",
       "4              850   43              2  125510.82                     4   \n",
       "\n",
       "   credit_card_paid  active_member  estimated_salary  buy  UID  \\\n",
       "0                 1              0         101348.88    1    0   \n",
       "1                 0              0         112542.58    0    1   \n",
       "2                 1              1         113931.57    1    2   \n",
       "3                 0              1          93826.63    0    3   \n",
       "4                 1              0          79084.10    0    4   \n",
       "\n",
       "   locations_Taichung  locations_Tainan  locations_Taipei  gender_Female  \\\n",
       "0                   0                 0                 1              1   \n",
       "1                   0                 1                 0              1   \n",
       "2                   0                 0                 1              1   \n",
       "3                   0                 0                 1              1   \n",
       "4                   0                 1                 0              1   \n",
       "\n",
       "   gender_Male  \n",
       "0            0  \n",
       "1            0  \n",
       "2            0  \n",
       "3            0  \n",
       "4            0  "
      ]
     },
     "execution_count": 6,
     "metadata": {},
     "output_type": "execute_result"
    }
   ],
   "source": [
    "# 偵測有字串的欄位\n",
    "str_columns = detect_str_columns(data)\n",
    "print(str_columns)\n",
    "'''\n",
    "why?\n",
    "因為['使用者地區', '性別']皆非順序尺度，當作一般one hot encoding類別變數處理就可\n",
    "'''\n",
    "# 自動化\n",
    "dataset = get_dummies(str_columns, data)\n",
    "dataset.head(5)"
   ]
  },
  {
   "attachments": {},
   "cell_type": "markdown",
   "metadata": {},
   "source": [
    "### 四 、 資料處理與轉換"
   ]
  },
  {
   "cell_type": "code",
   "execution_count": 7,
   "metadata": {},
   "outputs": [],
   "source": [
    "# 將X與y分割開來\n",
    "X =dataset.drop(columns=['buy'])\n",
    "y =dataset['buy']"
   ]
  },
  {
   "cell_type": "code",
   "execution_count": 8,
   "metadata": {},
   "outputs": [],
   "source": [
    "# 切分資料集\n",
    "X_train, X_test, y_train, y_test = train_test_split(X, y, test_size = 0.2, random_state = 0)"
   ]
  },
  {
   "cell_type": "code",
   "execution_count": 9,
   "metadata": {},
   "outputs": [
    {
     "data": {
      "text/plain": [
       "(8000, 14)"
      ]
     },
     "execution_count": 9,
     "metadata": {},
     "output_type": "execute_result"
    }
   ],
   "source": [
    "# X 訓練資料集維度\n",
    "X_train.shape"
   ]
  },
  {
   "cell_type": "code",
   "execution_count": 10,
   "metadata": {},
   "outputs": [],
   "source": [
    "# 保留UID ： 做推薦清單時需要將uid放回去 找到推薦人\n",
    "train_uid = X_train['UID']\n",
    "test_uid = X_test['UID']"
   ]
  },
  {
   "cell_type": "code",
   "execution_count": 11,
   "metadata": {},
   "outputs": [],
   "source": [
    "# 刪除UID 流水號\n",
    "# del 就是直接刪除，同drop(columns = '欄位')的效果\n",
    "del X_train['UID']\n",
    "#X_train['UID']\n",
    "del X_test['UID']"
   ]
  },
  {
   "cell_type": "code",
   "execution_count": 12,
   "metadata": {},
   "outputs": [
    {
     "name": "stdout",
     "output_type": "stream",
     "text": [
      "<class 'pandas.core.frame.DataFrame'>\n",
      "Int64Index: 8000 entries, 7389 to 2732\n",
      "Data columns (total 13 columns):\n",
      " #   Column                Non-Null Count  Dtype  \n",
      "---  ------                --------------  -----  \n",
      " 0   Prod_output_num       8000 non-null   int64  \n",
      " 1   age                   8000 non-null   int64  \n",
      " 2   click_on_prod         8000 non-null   int64  \n",
      " 3   balance               8000 non-null   float64\n",
      " 4   registry_to_use_time  8000 non-null   int64  \n",
      " 5   credit_card_paid      8000 non-null   int64  \n",
      " 6   active_member         8000 non-null   int64  \n",
      " 7   estimated_salary      8000 non-null   float64\n",
      " 8   locations_Taichung    8000 non-null   uint8  \n",
      " 9   locations_Tainan      8000 non-null   uint8  \n",
      " 10  locations_Taipei      8000 non-null   uint8  \n",
      " 11  gender_Female         8000 non-null   uint8  \n",
      " 12  gender_Male           8000 non-null   uint8  \n",
      "dtypes: float64(2), int64(6), uint8(5)\n",
      "memory usage: 601.6 KB\n"
     ]
    }
   ],
   "source": [
    "# 訓練資料集的X 資料清理checklist\n",
    "# 1. UID是否刪除\n",
    "# 2. Dtype是否都是數值變數\n",
    "# 3. y變數（buy）是否已經被移除\n",
    "X_train.info()"
   ]
  },
  {
   "attachments": {},
   "cell_type": "markdown",
   "metadata": {},
   "source": [
    "## 五、模型選擇(一)：羅吉斯迴歸"
   ]
  },
  {
   "attachments": {},
   "cell_type": "markdown",
   "metadata": {},
   "source": [
    "### Model1：Logistic Regression"
   ]
  },
  {
   "cell_type": "code",
   "execution_count": 13,
   "metadata": {},
   "outputs": [],
   "source": [
    "logistic_reg = LogisticRegression()"
   ]
  },
  {
   "cell_type": "code",
   "execution_count": 14,
   "metadata": {},
   "outputs": [],
   "source": [
    "# Feature Scaling\n",
    "from sklearn.preprocessing import StandardScaler\n",
    "\n",
    "sc = StandardScaler()\n",
    "X_train_logistic = sc.fit_transform(X_train)\n",
    "X_test_logistic = sc.transform(X_test)"
   ]
  },
  {
   "cell_type": "code",
   "execution_count": 15,
   "metadata": {},
   "outputs": [
    {
     "data": {
      "text/html": [
       "<style>#sk-container-id-1 {color: black;background-color: white;}#sk-container-id-1 pre{padding: 0;}#sk-container-id-1 div.sk-toggleable {background-color: white;}#sk-container-id-1 label.sk-toggleable__label {cursor: pointer;display: block;width: 100%;margin-bottom: 0;padding: 0.3em;box-sizing: border-box;text-align: center;}#sk-container-id-1 label.sk-toggleable__label-arrow:before {content: \"▸\";float: left;margin-right: 0.25em;color: #696969;}#sk-container-id-1 label.sk-toggleable__label-arrow:hover:before {color: black;}#sk-container-id-1 div.sk-estimator:hover label.sk-toggleable__label-arrow:before {color: black;}#sk-container-id-1 div.sk-toggleable__content {max-height: 0;max-width: 0;overflow: hidden;text-align: left;background-color: #f0f8ff;}#sk-container-id-1 div.sk-toggleable__content pre {margin: 0.2em;color: black;border-radius: 0.25em;background-color: #f0f8ff;}#sk-container-id-1 input.sk-toggleable__control:checked~div.sk-toggleable__content {max-height: 200px;max-width: 100%;overflow: auto;}#sk-container-id-1 input.sk-toggleable__control:checked~label.sk-toggleable__label-arrow:before {content: \"▾\";}#sk-container-id-1 div.sk-estimator input.sk-toggleable__control:checked~label.sk-toggleable__label {background-color: #d4ebff;}#sk-container-id-1 div.sk-label input.sk-toggleable__control:checked~label.sk-toggleable__label {background-color: #d4ebff;}#sk-container-id-1 input.sk-hidden--visually {border: 0;clip: rect(1px 1px 1px 1px);clip: rect(1px, 1px, 1px, 1px);height: 1px;margin: -1px;overflow: hidden;padding: 0;position: absolute;width: 1px;}#sk-container-id-1 div.sk-estimator {font-family: monospace;background-color: #f0f8ff;border: 1px dotted black;border-radius: 0.25em;box-sizing: border-box;margin-bottom: 0.5em;}#sk-container-id-1 div.sk-estimator:hover {background-color: #d4ebff;}#sk-container-id-1 div.sk-parallel-item::after {content: \"\";width: 100%;border-bottom: 1px solid gray;flex-grow: 1;}#sk-container-id-1 div.sk-label:hover label.sk-toggleable__label {background-color: #d4ebff;}#sk-container-id-1 div.sk-serial::before {content: \"\";position: absolute;border-left: 1px solid gray;box-sizing: border-box;top: 0;bottom: 0;left: 50%;z-index: 0;}#sk-container-id-1 div.sk-serial {display: flex;flex-direction: column;align-items: center;background-color: white;padding-right: 0.2em;padding-left: 0.2em;position: relative;}#sk-container-id-1 div.sk-item {position: relative;z-index: 1;}#sk-container-id-1 div.sk-parallel {display: flex;align-items: stretch;justify-content: center;background-color: white;position: relative;}#sk-container-id-1 div.sk-item::before, #sk-container-id-1 div.sk-parallel-item::before {content: \"\";position: absolute;border-left: 1px solid gray;box-sizing: border-box;top: 0;bottom: 0;left: 50%;z-index: -1;}#sk-container-id-1 div.sk-parallel-item {display: flex;flex-direction: column;z-index: 1;position: relative;background-color: white;}#sk-container-id-1 div.sk-parallel-item:first-child::after {align-self: flex-end;width: 50%;}#sk-container-id-1 div.sk-parallel-item:last-child::after {align-self: flex-start;width: 50%;}#sk-container-id-1 div.sk-parallel-item:only-child::after {width: 0;}#sk-container-id-1 div.sk-dashed-wrapped {border: 1px dashed gray;margin: 0 0.4em 0.5em 0.4em;box-sizing: border-box;padding-bottom: 0.4em;background-color: white;}#sk-container-id-1 div.sk-label label {font-family: monospace;font-weight: bold;display: inline-block;line-height: 1.2em;}#sk-container-id-1 div.sk-label-container {text-align: center;}#sk-container-id-1 div.sk-container {/* jupyter's `normalize.less` sets `[hidden] { display: none; }` but bootstrap.min.css set `[hidden] { display: none !important; }` so we also need the `!important` here to be able to override the default hidden behavior on the sphinx rendered scikit-learn.org. See: https://github.com/scikit-learn/scikit-learn/issues/21755 */display: inline-block !important;position: relative;}#sk-container-id-1 div.sk-text-repr-fallback {display: none;}</style><div id=\"sk-container-id-1\" class=\"sk-top-container\"><div class=\"sk-text-repr-fallback\"><pre>LogisticRegression()</pre><b>In a Jupyter environment, please rerun this cell to show the HTML representation or trust the notebook. <br />On GitHub, the HTML representation is unable to render, please try loading this page with nbviewer.org.</b></div><div class=\"sk-container\" hidden><div class=\"sk-item\"><div class=\"sk-estimator sk-toggleable\"><input class=\"sk-toggleable__control sk-hidden--visually\" id=\"sk-estimator-id-1\" type=\"checkbox\" checked><label for=\"sk-estimator-id-1\" class=\"sk-toggleable__label sk-toggleable__label-arrow\">LogisticRegression</label><div class=\"sk-toggleable__content\"><pre>LogisticRegression()</pre></div></div></div></div></div>"
      ],
      "text/plain": [
       "LogisticRegression()"
      ]
     },
     "execution_count": 15,
     "metadata": {},
     "output_type": "execute_result"
    }
   ],
   "source": [
    "# 進行訓練\n",
    "logistic_reg.fit(X_train_logistic, y_train)"
   ]
  },
  {
   "cell_type": "code",
   "execution_count": 16,
   "metadata": {},
   "outputs": [
    {
     "data": {
      "text/plain": [
       "array([0, 0, 0, ..., 0, 0, 0], dtype=int64)"
      ]
     },
     "execution_count": 16,
     "metadata": {},
     "output_type": "execute_result"
    }
   ],
   "source": [
    "# 預測\n",
    "# 根據 >=0.5 購買機率來判斷是否為1，若 >=0.5 則為1，反之為 0\n",
    "logistic_pred = logistic_reg.predict(X_test_logistic)\n",
    "logistic_pred"
   ]
  },
  {
   "cell_type": "code",
   "execution_count": 17,
   "metadata": {},
   "outputs": [
    {
     "data": {
      "text/plain": [
       "array([[0.79165244, 0.20834756],\n",
       "       [0.65558126, 0.34441874],\n",
       "       [0.85510249, 0.14489751],\n",
       "       ...,\n",
       "       [0.79897348, 0.20102652],\n",
       "       [0.87423467, 0.12576533],\n",
       "       [0.76669836, 0.23330164]])"
      ]
     },
     "execution_count": 17,
     "metadata": {},
     "output_type": "execute_result"
    }
   ],
   "source": [
    "# 純粹計算購買機率\n",
    "logistic_pred_proba = logistic_reg.predict_proba(X_test_logistic)\n",
    "logistic_pred_proba"
   ]
  },
  {
   "cell_type": "code",
   "execution_count": 18,
   "metadata": {},
   "outputs": [
    {
     "data": {
      "text/plain": [
       "0.811"
      ]
     },
     "execution_count": 18,
     "metadata": {},
     "output_type": "execute_result"
    }
   ],
   "source": [
    "# 準確率\n",
    "accuracy_score(y_test, logistic_pred)"
   ]
  },
  {
   "cell_type": "code",
   "execution_count": 19,
   "metadata": {},
   "outputs": [
    {
     "name": "stdout",
     "output_type": "stream",
     "text": [
      "################ summary ################ \n",
      "[[1526   69]\n",
      " [ 309   96]]\n",
      "Training Accuracy = 0.808\n",
      "Test Accuracy = 0.811\n"
     ]
    },
    {
     "data": {
      "image/png": "[encoded data removed]",
      "text/plain": [
       "<Figure size 640x480 with 2 Axes>"
      ]
     },
     "metadata": {},
     "output_type": "display_data"
    }
   ],
   "source": [
    "# Confusion matrix plot\n",
    "# model_restRF 為 util.py 之自定義函式\n",
    "model_testRF( LogisticRegression(),\n",
    "            X_train_logistic,y_train,X_test_logistic,y_test, plot_name = 'LogisticRegression')"
   ]
  },
  {
   "attachments": {},
   "cell_type": "markdown",
   "metadata": {},
   "source": [
    "## 六、模型選擇(二)：隨機森林"
   ]
  },
  {
   "cell_type": "code",
   "execution_count": 20,
   "metadata": {},
   "outputs": [],
   "source": [
    "# 模型定義\n",
    "# verbose：秀訓練過程\n",
    "# n_jobs:用多少cpu跑\n",
    "rf_model = RandomForestClassifier(n_estimators = 100, random_state = 0,verbose=1,n_jobs=-1)"
   ]
  },
  {
   "cell_type": "code",
   "execution_count": 21,
   "metadata": {},
   "outputs": [],
   "source": [
    "# Feature Scaling\n",
    "from sklearn.preprocessing import StandardScaler\n",
    "sc = StandardScaler()\n",
    "X_train_logistic = sc.fit_transform(X_train)\n",
    "X_test_logistic = sc.transform(X_test)"
   ]
  },
  {
   "cell_type": "code",
   "execution_count": 22,
   "metadata": {},
   "outputs": [
    {
     "name": "stderr",
     "output_type": "stream",
     "text": [
      "[Parallel(n_jobs=-1)]: Using backend ThreadingBackend with 12 concurrent workers.\n",
      "[Parallel(n_jobs=-1)]: Done  26 tasks      | elapsed:    0.0s\n",
      "[Parallel(n_jobs=-1)]: Done 100 out of 100 | elapsed:    0.2s finished\n"
     ]
    },
    {
     "data": {
      "text/html": [
       "<style>#sk-container-id-2 {color: black;background-color: white;}#sk-container-id-2 pre{padding: 0;}#sk-container-id-2 div.sk-toggleable {background-color: white;}#sk-container-id-2 label.sk-toggleable__label {cursor: pointer;display: block;width: 100%;margin-bottom: 0;padding: 0.3em;box-sizing: border-box;text-align: center;}#sk-container-id-2 label.sk-toggleable__label-arrow:before {content: \"▸\";float: left;margin-right: 0.25em;color: #696969;}#sk-container-id-2 label.sk-toggleable__label-arrow:hover:before {color: black;}#sk-container-id-2 div.sk-estimator:hover label.sk-toggleable__label-arrow:before {color: black;}#sk-container-id-2 div.sk-toggleable__content {max-height: 0;max-width: 0;overflow: hidden;text-align: left;background-color: #f0f8ff;}#sk-container-id-2 div.sk-toggleable__content pre {margin: 0.2em;color: black;border-radius: 0.25em;background-color: #f0f8ff;}#sk-container-id-2 input.sk-toggleable__control:checked~div.sk-toggleable__content {max-height: 200px;max-width: 100%;overflow: auto;}#sk-container-id-2 input.sk-toggleable__control:checked~label.sk-toggleable__label-arrow:before {content: \"▾\";}#sk-container-id-2 div.sk-estimator input.sk-toggleable__control:checked~label.sk-toggleable__label {background-color: #d4ebff;}#sk-container-id-2 div.sk-label input.sk-toggleable__control:checked~label.sk-toggleable__label {background-color: #d4ebff;}#sk-container-id-2 input.sk-hidden--visually {border: 0;clip: rect(1px 1px 1px 1px);clip: rect(1px, 1px, 1px, 1px);height: 1px;margin: -1px;overflow: hidden;padding: 0;position: absolute;width: 1px;}#sk-container-id-2 div.sk-estimator {font-family: monospace;background-color: #f0f8ff;border: 1px dotted black;border-radius: 0.25em;box-sizing: border-box;margin-bottom: 0.5em;}#sk-container-id-2 div.sk-estimator:hover {background-color: #d4ebff;}#sk-container-id-2 div.sk-parallel-item::after {content: \"\";width: 100%;border-bottom: 1px solid gray;flex-grow: 1;}#sk-container-id-2 div.sk-label:hover label.sk-toggleable__label {background-color: #d4ebff;}#sk-container-id-2 div.sk-serial::before {content: \"\";position: absolute;border-left: 1px solid gray;box-sizing: border-box;top: 0;bottom: 0;left: 50%;z-index: 0;}#sk-container-id-2 div.sk-serial {display: flex;flex-direction: column;align-items: center;background-color: white;padding-right: 0.2em;padding-left: 0.2em;position: relative;}#sk-container-id-2 div.sk-item {position: relative;z-index: 1;}#sk-container-id-2 div.sk-parallel {display: flex;align-items: stretch;justify-content: center;background-color: white;position: relative;}#sk-container-id-2 div.sk-item::before, #sk-container-id-2 div.sk-parallel-item::before {content: \"\";position: absolute;border-left: 1px solid gray;box-sizing: border-box;top: 0;bottom: 0;left: 50%;z-index: -1;}#sk-container-id-2 div.sk-parallel-item {display: flex;flex-direction: column;z-index: 1;position: relative;background-color: white;}#sk-container-id-2 div.sk-parallel-item:first-child::after {align-self: flex-end;width: 50%;}#sk-container-id-2 div.sk-parallel-item:last-child::after {align-self: flex-start;width: 50%;}#sk-container-id-2 div.sk-parallel-item:only-child::after {width: 0;}#sk-container-id-2 div.sk-dashed-wrapped {border: 1px dashed gray;margin: 0 0.4em 0.5em 0.4em;box-sizing: border-box;padding-bottom: 0.4em;background-color: white;}#sk-container-id-2 div.sk-label label {font-family: monospace;font-weight: bold;display: inline-block;line-height: 1.2em;}#sk-container-id-2 div.sk-label-container {text-align: center;}#sk-container-id-2 div.sk-container {/* jupyter's `normalize.less` sets `[hidden] { display: none; }` but bootstrap.min.css set `[hidden] { display: none !important; }` so we also need the `!important` here to be able to override the default hidden behavior on the sphinx rendered scikit-learn.org. See: https://github.com/scikit-learn/scikit-learn/issues/21755 */display: inline-block !important;position: relative;}#sk-container-id-2 div.sk-text-repr-fallback {display: none;}</style><div id=\"sk-container-id-2\" class=\"sk-top-container\"><div class=\"sk-text-repr-fallback\"><pre>RandomForestClassifier(n_jobs=-1, random_state=0, verbose=1)</pre><b>In a Jupyter environment, please rerun this cell to show the HTML representation or trust the notebook. <br />On GitHub, the HTML representation is unable to render, please try loading this page with nbviewer.org.</b></div><div class=\"sk-container\" hidden><div class=\"sk-item\"><div class=\"sk-estimator sk-toggleable\"><input class=\"sk-toggleable__control sk-hidden--visually\" id=\"sk-estimator-id-2\" type=\"checkbox\" checked><label for=\"sk-estimator-id-2\" class=\"sk-toggleable__label sk-toggleable__label-arrow\">RandomForestClassifier</label><div class=\"sk-toggleable__content\"><pre>RandomForestClassifier(n_jobs=-1, random_state=0, verbose=1)</pre></div></div></div></div></div>"
      ],
      "text/plain": [
       "RandomForestClassifier(n_jobs=-1, random_state=0, verbose=1)"
      ]
     },
     "execution_count": 22,
     "metadata": {},
     "output_type": "execute_result"
    }
   ],
   "source": [
    "rf_model.fit(X_train_logistic, y_train)"
   ]
  },
  {
   "cell_type": "code",
   "execution_count": 23,
   "metadata": {},
   "outputs": [
    {
     "name": "stderr",
     "output_type": "stream",
     "text": [
      "[Parallel(n_jobs=12)]: Using backend ThreadingBackend with 12 concurrent workers.\n",
      "[Parallel(n_jobs=12)]: Done  26 tasks      | elapsed:    0.0s\n",
      "[Parallel(n_jobs=12)]: Done 100 out of 100 | elapsed:    0.0s finished\n"
     ]
    }
   ],
   "source": [
    "rf_pred = rf_model.predict(X_test_logistic)"
   ]
  },
  {
   "cell_type": "code",
   "execution_count": 24,
   "metadata": {},
   "outputs": [
    {
     "name": "stderr",
     "output_type": "stream",
     "text": [
      "[Parallel(n_jobs=12)]: Using backend ThreadingBackend with 12 concurrent workers.\n",
      "[Parallel(n_jobs=12)]: Done  26 tasks      | elapsed:    0.0s\n",
      "[Parallel(n_jobs=12)]: Done 100 out of 100 | elapsed:    0.0s finished\n"
     ]
    },
    {
     "data": {
      "text/plain": [
       "array([[0.65, 0.35],\n",
       "       [0.77, 0.23],\n",
       "       [0.77, 0.23],\n",
       "       ...,\n",
       "       [0.93, 0.07],\n",
       "       [0.72, 0.28],\n",
       "       [0.82, 0.18]])"
      ]
     },
     "execution_count": 24,
     "metadata": {},
     "output_type": "execute_result"
    }
   ],
   "source": [
    "# 預測機率\n",
    "rf_pred_proba = rf_model.predict_proba(X_test_logistic)\n",
    "rf_pred_proba"
   ]
  },
  {
   "cell_type": "code",
   "execution_count": 25,
   "metadata": {},
   "outputs": [
    {
     "data": {
      "text/plain": [
       "0.868"
      ]
     },
     "execution_count": 25,
     "metadata": {},
     "output_type": "execute_result"
    }
   ],
   "source": [
    "# 準確率\n",
    "accuracy_score(y_test, rf_pred)"
   ]
  },
  {
   "cell_type": "code",
   "execution_count": 26,
   "metadata": {},
   "outputs": [
    {
     "name": "stderr",
     "output_type": "stream",
     "text": [
      "[Parallel(n_jobs=8)]: Using backend ThreadingBackend with 8 concurrent workers.\n",
      "[Parallel(n_jobs=8)]: Done  34 tasks      | elapsed:    0.0s\n",
      "[Parallel(n_jobs=8)]: Done 100 out of 100 | elapsed:    0.3s finished\n",
      "[Parallel(n_jobs=8)]: Using backend ThreadingBackend with 8 concurrent workers.\n",
      "[Parallel(n_jobs=8)]: Done  34 tasks      | elapsed:    0.0s\n",
      "[Parallel(n_jobs=8)]: Done 100 out of 100 | elapsed:    0.0s finished\n",
      "[Parallel(n_jobs=8)]: Using backend ThreadingBackend with 8 concurrent workers.\n",
      "[Parallel(n_jobs=8)]: Done  34 tasks      | elapsed:    0.0s\n",
      "[Parallel(n_jobs=8)]: Done 100 out of 100 | elapsed:    0.0s finished\n"
     ]
    },
    {
     "name": "stdout",
     "output_type": "stream",
     "text": [
      "################ summary ################ \n",
      "[[1528   67]\n",
      " [ 197  208]]\n",
      "Training Accuracy = 1.000\n",
      "Test Accuracy = 0.868\n"
     ]
    },
    {
     "name": "stderr",
     "output_type": "stream",
     "text": [
      "[Parallel(n_jobs=8)]: Using backend ThreadingBackend with 8 concurrent workers.\n",
      "[Parallel(n_jobs=8)]: Done  34 tasks      | elapsed:    0.0s\n",
      "[Parallel(n_jobs=8)]: Done 100 out of 100 | elapsed:    0.0s finished\n",
      "[Parallel(n_jobs=8)]: Using backend ThreadingBackend with 8 concurrent workers.\n",
      "[Parallel(n_jobs=8)]: Done  34 tasks      | elapsed:    0.0s\n",
      "[Parallel(n_jobs=8)]: Done 100 out of 100 | elapsed:    0.0s finished\n"
     ]
    },
    {
     "data": {
      "image/png": "[encoded data removed]",
      "text/plain": [
       "<Figure size 640x480 with 2 Axes>"
      ]
     },
     "metadata": {},
     "output_type": "display_data"
    }
   ],
   "source": [
    "# 製作confusion matrix plot\n",
    "model_testRF(RandomForestClassifier(n_estimators = 100, random_state = 0,verbose=1,n_jobs=8)    ,\n",
    "            X_train_logistic,y_train,X_test_logistic,y_test, plot_name = 'RandomForest')"
   ]
  },
  {
   "attachments": {},
   "cell_type": "markdown",
   "metadata": {},
   "source": [
    "## 七、模型選擇(三)：XGBoost"
   ]
  },
  {
   "attachments": {},
   "cell_type": "markdown",
   "metadata": {},
   "source": [
    "learning_rate=0.5"
   ]
  },
  {
   "cell_type": "code",
   "execution_count": 27,
   "metadata": {},
   "outputs": [],
   "source": [
    "# 定義模型\n",
    "# nthread: 用多少顆cpu訓練\n",
    "# learning_rate: 學習速率。\n",
    "# 若高，運行速度快，學不精，預測效果通常差 0.5\n",
    "# 若低，運行速度慢，學精，預測效果通常好 0.05\n",
    "xgb_model = XGBClassifier(n_estimators=100 ,random_state = 0,\n",
    "            nthread = 8, learning_rate=0.5)"
   ]
  },
  {
   "cell_type": "code",
   "execution_count": 28,
   "metadata": {},
   "outputs": [
    {
     "name": "stdout",
     "output_type": "stream",
     "text": [
      "[0]\tvalidation_0-logloss:0.47023\tvalidation_1-logloss:0.47524\n",
      "[1]\tvalidation_0-logloss:0.38978\tvalidation_1-logloss:0.39779\n",
      "[2]\tvalidation_0-logloss:0.35049\tvalidation_1-logloss:0.36164\n",
      "[3]\tvalidation_0-logloss:0.32896\tvalidation_1-logloss:0.34285\n",
      "[4]\tvalidation_0-logloss:0.31141\tvalidation_1-logloss:0.33479\n",
      "[5]\tvalidation_0-logloss:0.30046\tvalidation_1-logloss:0.33089\n",
      "[6]\tvalidation_0-logloss:0.29347\tvalidation_1-logloss:0.32982\n",
      "[7]\tvalidation_0-logloss:0.28847\tvalidation_1-logloss:0.32925\n",
      "[8]\tvalidation_0-logloss:0.28373\tvalidation_1-logloss:0.33085\n",
      "[9]\tvalidation_0-logloss:0.28116\tvalidation_1-logloss:0.33094\n",
      "[10]\tvalidation_0-logloss:0.27869\tvalidation_1-logloss:0.33089\n",
      "[11]\tvalidation_0-logloss:0.27429\tvalidation_1-logloss:0.33026\n",
      "[12]\tvalidation_0-logloss:0.27231\tvalidation_1-logloss:0.33076\n",
      "[13]\tvalidation_0-logloss:0.26588\tvalidation_1-logloss:0.33259\n",
      "[14]\tvalidation_0-logloss:0.26271\tvalidation_1-logloss:0.33500\n",
      "[15]\tvalidation_0-logloss:0.25891\tvalidation_1-logloss:0.33452\n",
      "[16]\tvalidation_0-logloss:0.25664\tvalidation_1-logloss:0.33524\n",
      "[17]\tvalidation_0-logloss:0.25293\tvalidation_1-logloss:0.33772\n",
      "[18]\tvalidation_0-logloss:0.24648\tvalidation_1-logloss:0.33845\n",
      "[19]\tvalidation_0-logloss:0.24396\tvalidation_1-logloss:0.34004\n",
      "[20]\tvalidation_0-logloss:0.24063\tvalidation_1-logloss:0.34078\n",
      "[21]\tvalidation_0-logloss:0.23533\tvalidation_1-logloss:0.33866\n",
      "[22]\tvalidation_0-logloss:0.23275\tvalidation_1-logloss:0.33845\n",
      "[23]\tvalidation_0-logloss:0.22742\tvalidation_1-logloss:0.33942\n",
      "[24]\tvalidation_0-logloss:0.22373\tvalidation_1-logloss:0.34013\n",
      "[25]\tvalidation_0-logloss:0.21925\tvalidation_1-logloss:0.34115\n",
      "[26]\tvalidation_0-logloss:0.21747\tvalidation_1-logloss:0.34209\n",
      "[27]\tvalidation_0-logloss:0.21228\tvalidation_1-logloss:0.34374\n",
      "[28]\tvalidation_0-logloss:0.20969\tvalidation_1-logloss:0.34301\n",
      "[29]\tvalidation_0-logloss:0.20904\tvalidation_1-logloss:0.34305\n",
      "[30]\tvalidation_0-logloss:0.20383\tvalidation_1-logloss:0.34252\n",
      "[31]\tvalidation_0-logloss:0.20007\tvalidation_1-logloss:0.34345\n",
      "[32]\tvalidation_0-logloss:0.19578\tvalidation_1-logloss:0.34423\n",
      "[33]\tvalidation_0-logloss:0.19501\tvalidation_1-logloss:0.34435\n",
      "[34]\tvalidation_0-logloss:0.19155\tvalidation_1-logloss:0.34516\n",
      "[35]\tvalidation_0-logloss:0.19000\tvalidation_1-logloss:0.34607\n",
      "[36]\tvalidation_0-logloss:0.18500\tvalidation_1-logloss:0.34929\n",
      "[37]\tvalidation_0-logloss:0.18360\tvalidation_1-logloss:0.34985\n",
      "[38]\tvalidation_0-logloss:0.18275\tvalidation_1-logloss:0.35014\n",
      "[39]\tvalidation_0-logloss:0.18145\tvalidation_1-logloss:0.35046\n",
      "[40]\tvalidation_0-logloss:0.17950\tvalidation_1-logloss:0.35211\n",
      "[41]\tvalidation_0-logloss:0.17763\tvalidation_1-logloss:0.35339\n",
      "[42]\tvalidation_0-logloss:0.17593\tvalidation_1-logloss:0.35372\n",
      "[43]\tvalidation_0-logloss:0.17486\tvalidation_1-logloss:0.35432\n",
      "[44]\tvalidation_0-logloss:0.17136\tvalidation_1-logloss:0.35369\n",
      "[45]\tvalidation_0-logloss:0.16892\tvalidation_1-logloss:0.35384\n",
      "[46]\tvalidation_0-logloss:0.16372\tvalidation_1-logloss:0.35452\n",
      "[47]\tvalidation_0-logloss:0.16131\tvalidation_1-logloss:0.35623\n",
      "[48]\tvalidation_0-logloss:0.15860\tvalidation_1-logloss:0.35807\n",
      "[49]\tvalidation_0-logloss:0.15521\tvalidation_1-logloss:0.36061\n",
      "[50]\tvalidation_0-logloss:0.15289\tvalidation_1-logloss:0.36249\n",
      "[51]\tvalidation_0-logloss:0.15168\tvalidation_1-logloss:0.36326\n",
      "[52]\tvalidation_0-logloss:0.15047\tvalidation_1-logloss:0.36408\n",
      "[53]\tvalidation_0-logloss:0.14798\tvalidation_1-logloss:0.36409\n",
      "[54]\tvalidation_0-logloss:0.14678\tvalidation_1-logloss:0.36563\n",
      "[55]\tvalidation_0-logloss:0.14622\tvalidation_1-logloss:0.36596\n",
      "[56]\tvalidation_0-logloss:0.14580\tvalidation_1-logloss:0.36601\n",
      "[57]\tvalidation_0-logloss:0.14305\tvalidation_1-logloss:0.36796\n",
      "[58]\tvalidation_0-logloss:0.13922\tvalidation_1-logloss:0.37093\n",
      "[59]\tvalidation_0-logloss:0.13757\tvalidation_1-logloss:0.37198\n",
      "[60]\tvalidation_0-logloss:0.13580\tvalidation_1-logloss:0.37417\n",
      "[61]\tvalidation_0-logloss:0.13358\tvalidation_1-logloss:0.37431\n",
      "[62]\tvalidation_0-logloss:0.13257\tvalidation_1-logloss:0.37599\n",
      "[63]\tvalidation_0-logloss:0.13160\tvalidation_1-logloss:0.37692\n",
      "[64]\tvalidation_0-logloss:0.12780\tvalidation_1-logloss:0.37835\n",
      "[65]\tvalidation_0-logloss:0.12510\tvalidation_1-logloss:0.38032\n",
      "[66]\tvalidation_0-logloss:0.12383\tvalidation_1-logloss:0.38133\n",
      "[67]\tvalidation_0-logloss:0.12056\tvalidation_1-logloss:0.38263\n",
      "[68]\tvalidation_0-logloss:0.11909\tvalidation_1-logloss:0.38236\n",
      "[69]\tvalidation_0-logloss:0.11739\tvalidation_1-logloss:0.38387\n",
      "[70]\tvalidation_0-logloss:0.11609\tvalidation_1-logloss:0.38531\n",
      "[71]\tvalidation_0-logloss:0.11477\tvalidation_1-logloss:0.38678\n",
      "[72]\tvalidation_0-logloss:0.11422\tvalidation_1-logloss:0.38688\n",
      "[73]\tvalidation_0-logloss:0.11239\tvalidation_1-logloss:0.38684\n",
      "[74]\tvalidation_0-logloss:0.11072\tvalidation_1-logloss:0.38790\n",
      "[75]\tvalidation_0-logloss:0.10948\tvalidation_1-logloss:0.38884\n",
      "[76]\tvalidation_0-logloss:0.10732\tvalidation_1-logloss:0.39087\n",
      "[77]\tvalidation_0-logloss:0.10487\tvalidation_1-logloss:0.39281\n",
      "[78]\tvalidation_0-logloss:0.10401\tvalidation_1-logloss:0.39380\n",
      "[79]\tvalidation_0-logloss:0.10148\tvalidation_1-logloss:0.39708\n",
      "[80]\tvalidation_0-logloss:0.10071\tvalidation_1-logloss:0.39730\n",
      "[81]\tvalidation_0-logloss:0.09947\tvalidation_1-logloss:0.39744\n",
      "[82]\tvalidation_0-logloss:0.09745\tvalidation_1-logloss:0.39758\n",
      "[83]\tvalidation_0-logloss:0.09567\tvalidation_1-logloss:0.39818\n",
      "[84]\tvalidation_0-logloss:0.09435\tvalidation_1-logloss:0.39856\n",
      "[85]\tvalidation_0-logloss:0.09282\tvalidation_1-logloss:0.39869\n",
      "[86]\tvalidation_0-logloss:0.09145\tvalidation_1-logloss:0.39909\n",
      "[87]\tvalidation_0-logloss:0.09027\tvalidation_1-logloss:0.39938\n",
      "[88]\tvalidation_0-logloss:0.08997\tvalidation_1-logloss:0.39955\n",
      "[89]\tvalidation_0-logloss:0.08969\tvalidation_1-logloss:0.40073\n",
      "[90]\tvalidation_0-logloss:0.08869\tvalidation_1-logloss:0.40227\n",
      "[91]\tvalidation_0-logloss:0.08811\tvalidation_1-logloss:0.40314\n",
      "[92]\tvalidation_0-logloss:0.08664\tvalidation_1-logloss:0.40431\n",
      "[93]\tvalidation_0-logloss:0.08644\tvalidation_1-logloss:0.40460\n",
      "[94]\tvalidation_0-logloss:0.08547\tvalidation_1-logloss:0.40592\n",
      "[95]\tvalidation_0-logloss:0.08454\tvalidation_1-logloss:0.40713\n",
      "[96]\tvalidation_0-logloss:0.08340\tvalidation_1-logloss:0.40840\n",
      "[97]\tvalidation_0-logloss:0.08236\tvalidation_1-logloss:0.40849\n",
      "[98]\tvalidation_0-logloss:0.08104\tvalidation_1-logloss:0.40905\n",
      "[99]\tvalidation_0-logloss:0.08032\tvalidation_1-logloss:0.40957\n"
     ]
    },
    {
     "data": {
      "text/html": [
       "<style>#sk-container-id-3 {color: black;background-color: white;}#sk-container-id-3 pre{padding: 0;}#sk-container-id-3 div.sk-toggleable {background-color: white;}#sk-container-id-3 label.sk-toggleable__label {cursor: pointer;display: block;width: 100%;margin-bottom: 0;padding: 0.3em;box-sizing: border-box;text-align: center;}#sk-container-id-3 label.sk-toggleable__label-arrow:before {content: \"▸\";float: left;margin-right: 0.25em;color: #696969;}#sk-container-id-3 label.sk-toggleable__label-arrow:hover:before {color: black;}#sk-container-id-3 div.sk-estimator:hover label.sk-toggleable__label-arrow:before {color: black;}#sk-container-id-3 div.sk-toggleable__content {max-height: 0;max-width: 0;overflow: hidden;text-align: left;background-color: #f0f8ff;}#sk-container-id-3 div.sk-toggleable__content pre {margin: 0.2em;color: black;border-radius: 0.25em;background-color: #f0f8ff;}#sk-container-id-3 input.sk-toggleable__control:checked~div.sk-toggleable__content {max-height: 200px;max-width: 100%;overflow: auto;}#sk-container-id-3 input.sk-toggleable__control:checked~label.sk-toggleable__label-arrow:before {content: \"▾\";}#sk-container-id-3 div.sk-estimator input.sk-toggleable__control:checked~label.sk-toggleable__label {background-color: #d4ebff;}#sk-container-id-3 div.sk-label input.sk-toggleable__control:checked~label.sk-toggleable__label {background-color: #d4ebff;}#sk-container-id-3 input.sk-hidden--visually {border: 0;clip: rect(1px 1px 1px 1px);clip: rect(1px, 1px, 1px, 1px);height: 1px;margin: -1px;overflow: hidden;padding: 0;position: absolute;width: 1px;}#sk-container-id-3 div.sk-estimator {font-family: monospace;background-color: #f0f8ff;border: 1px dotted black;border-radius: 0.25em;box-sizing: border-box;margin-bottom: 0.5em;}#sk-container-id-3 div.sk-estimator:hover {background-color: #d4ebff;}#sk-container-id-3 div.sk-parallel-item::after {content: \"\";width: 100%;border-bottom: 1px solid gray;flex-grow: 1;}#sk-container-id-3 div.sk-label:hover label.sk-toggleable__label {background-color: #d4ebff;}#sk-container-id-3 div.sk-serial::before {content: \"\";position: absolute;border-left: 1px solid gray;box-sizing: border-box;top: 0;bottom: 0;left: 50%;z-index: 0;}#sk-container-id-3 div.sk-serial {display: flex;flex-direction: column;align-items: center;background-color: white;padding-right: 0.2em;padding-left: 0.2em;position: relative;}#sk-container-id-3 div.sk-item {position: relative;z-index: 1;}#sk-container-id-3 div.sk-parallel {display: flex;align-items: stretch;justify-content: center;background-color: white;position: relative;}#sk-container-id-3 div.sk-item::before, #sk-container-id-3 div.sk-parallel-item::before {content: \"\";position: absolute;border-left: 1px solid gray;box-sizing: border-box;top: 0;bottom: 0;left: 50%;z-index: -1;}#sk-container-id-3 div.sk-parallel-item {display: flex;flex-direction: column;z-index: 1;position: relative;background-color: white;}#sk-container-id-3 div.sk-parallel-item:first-child::after {align-self: flex-end;width: 50%;}#sk-container-id-3 div.sk-parallel-item:last-child::after {align-self: flex-start;width: 50%;}#sk-container-id-3 div.sk-parallel-item:only-child::after {width: 0;}#sk-container-id-3 div.sk-dashed-wrapped {border: 1px dashed gray;margin: 0 0.4em 0.5em 0.4em;box-sizing: border-box;padding-bottom: 0.4em;background-color: white;}#sk-container-id-3 div.sk-label label {font-family: monospace;font-weight: bold;display: inline-block;line-height: 1.2em;}#sk-container-id-3 div.sk-label-container {text-align: center;}#sk-container-id-3 div.sk-container {/* jupyter's `normalize.less` sets `[hidden] { display: none; }` but bootstrap.min.css set `[hidden] { display: none !important; }` so we also need the `!important` here to be able to override the default hidden behavior on the sphinx rendered scikit-learn.org. See: https://github.com/scikit-learn/scikit-learn/issues/21755 */display: inline-block !important;position: relative;}#sk-container-id-3 div.sk-text-repr-fallback {display: none;}</style><div id=\"sk-container-id-3\" class=\"sk-top-container\"><div class=\"sk-text-repr-fallback\"><pre>XGBClassifier(base_score=None, booster=None, callbacks=None,\n",
       "              colsample_bylevel=None, colsample_bynode=None,\n",
       "              colsample_bytree=None, early_stopping_rounds=None,\n",
       "              enable_categorical=False, eval_metric=None, feature_types=None,\n",
       "              gamma=None, gpu_id=None, grow_policy=None, importance_type=None,\n",
       "              interaction_constraints=None, learning_rate=0.5, max_bin=None,\n",
       "              max_cat_threshold=None, max_cat_to_onehot=None,\n",
       "              max_delta_step=None, max_depth=None, max_leaves=None,\n",
       "              min_child_weight=None, missing=nan, monotone_constraints=None,\n",
       "              n_estimators=100, n_jobs=None, nthread=8, num_parallel_tree=None,\n",
       "              predictor=None, ...)</pre><b>In a Jupyter environment, please rerun this cell to show the HTML representation or trust the notebook. <br />On GitHub, the HTML representation is unable to render, please try loading this page with nbviewer.org.</b></div><div class=\"sk-container\" hidden><div class=\"sk-item\"><div class=\"sk-estimator sk-toggleable\"><input class=\"sk-toggleable__control sk-hidden--visually\" id=\"sk-estimator-id-3\" type=\"checkbox\" checked><label for=\"sk-estimator-id-3\" class=\"sk-toggleable__label sk-toggleable__label-arrow\">XGBClassifier</label><div class=\"sk-toggleable__content\"><pre>XGBClassifier(base_score=None, booster=None, callbacks=None,\n",
       "              colsample_bylevel=None, colsample_bynode=None,\n",
       "              colsample_bytree=None, early_stopping_rounds=None,\n",
       "              enable_categorical=False, eval_metric=None, feature_types=None,\n",
       "              gamma=None, gpu_id=None, grow_policy=None, importance_type=None,\n",
       "              interaction_constraints=None, learning_rate=0.5, max_bin=None,\n",
       "              max_cat_threshold=None, max_cat_to_onehot=None,\n",
       "              max_delta_step=None, max_depth=None, max_leaves=None,\n",
       "              min_child_weight=None, missing=nan, monotone_constraints=None,\n",
       "              n_estimators=100, n_jobs=None, nthread=8, num_parallel_tree=None,\n",
       "              predictor=None, ...)</pre></div></div></div></div></div>"
      ],
      "text/plain": [
       "XGBClassifier(base_score=None, booster=None, callbacks=None,\n",
       "              colsample_bylevel=None, colsample_bynode=None,\n",
       "              colsample_bytree=None, early_stopping_rounds=None,\n",
       "              enable_categorical=False, eval_metric=None, feature_types=None,\n",
       "              gamma=None, gpu_id=None, grow_policy=None, importance_type=None,\n",
       "              interaction_constraints=None, learning_rate=0.5, max_bin=None,\n",
       "              max_cat_threshold=None, max_cat_to_onehot=None,\n",
       "              max_delta_step=None, max_depth=None, max_leaves=None,\n",
       "              min_child_weight=None, missing=nan, monotone_constraints=None,\n",
       "              n_estimators=100, n_jobs=None, nthread=8, num_parallel_tree=None,\n",
       "              predictor=None, ...)"
      ]
     },
     "execution_count": 28,
     "metadata": {},
     "output_type": "execute_result"
    }
   ],
   "source": [
    "# 訓練模型\n",
    "# eval_set：每訓練完一次，就展現/驗證我的成果，但是不代表我訓練時候有碰eval_set\n",
    "# 形式：[ (訓練X, 訓練y), (測試X, 測試y) ]\n",
    "# eg. validation_0 --》 (訓練X, 訓練y)\n",
    "# validation_1 --》 (測試X, 測試y)\n",
    "# 會以validation_1為準\n",
    "# error = 1 - 準確度；舉例：1 - 0.8 = 0.2，越低越好\n",
    "xgb_model.fit(X_train, y_train, verbose=True,\n",
    "            eval_set=[(X_train, y_train), (X_test, y_test)])"
   ]
  },
  {
   "cell_type": "code",
   "execution_count": 29,
   "metadata": {},
   "outputs": [],
   "source": [
    "# 定義模型，但是學習速率低，時間久，但準度會較高\n",
    "# learning_rate請改0.05\n",
    "xgb_model = XGBClassifier(n_estimators=100 ,random_state = 0,\n",
    "            nthread = 8, learning_rate=0.05)"
   ]
  },
  {
   "attachments": {},
   "cell_type": "markdown",
   "metadata": {},
   "source": [
    "learning_rate=0.05"
   ]
  },
  {
   "cell_type": "code",
   "execution_count": 30,
   "metadata": {},
   "outputs": [],
   "source": [
    "# 定義模型，但是學習速率低，時間久，但準度會較高\n",
    "# learning_rate請改0.05\n",
    "xgb_model = XGBClassifier(n_estimators=100 ,random_state = 0,\n",
    "            nthread = 8, learning_rate=0.05)"
   ]
  },
  {
   "cell_type": "code",
   "execution_count": 31,
   "metadata": {},
   "outputs": [
    {
     "name": "stdout",
     "output_type": "stream",
     "text": [
      "[0]\tvalidation_0-logloss:0.66454\tvalidation_1-logloss:0.66520\n",
      "[1]\tvalidation_0-logloss:0.63864\tvalidation_1-logloss:0.63987\n",
      "[2]\tvalidation_0-logloss:0.61512\tvalidation_1-logloss:0.61668\n",
      "[3]\tvalidation_0-logloss:0.59370\tvalidation_1-logloss:0.59571\n",
      "[4]\tvalidation_0-logloss:0.57404\tvalidation_1-logloss:0.57663\n",
      "[5]\tvalidation_0-logloss:0.55611\tvalidation_1-logloss:0.55907\n",
      "[6]\tvalidation_0-logloss:0.53958\tvalidation_1-logloss:0.54281\n",
      "[7]\tvalidation_0-logloss:0.52440\tvalidation_1-logloss:0.52808\n",
      "[8]\tvalidation_0-logloss:0.51040\tvalidation_1-logloss:0.51437\n",
      "[9]\tvalidation_0-logloss:0.49737\tvalidation_1-logloss:0.50188\n",
      "[10]\tvalidation_0-logloss:0.48541\tvalidation_1-logloss:0.49023\n",
      "[11]\tvalidation_0-logloss:0.47431\tvalidation_1-logloss:0.47935\n",
      "[12]\tvalidation_0-logloss:0.46372\tvalidation_1-logloss:0.46908\n",
      "[13]\tvalidation_0-logloss:0.45409\tvalidation_1-logloss:0.45978\n",
      "[14]\tvalidation_0-logloss:0.44505\tvalidation_1-logloss:0.45121\n",
      "[15]\tvalidation_0-logloss:0.43655\tvalidation_1-logloss:0.44317\n",
      "[16]\tvalidation_0-logloss:0.42887\tvalidation_1-logloss:0.43568\n",
      "[17]\tvalidation_0-logloss:0.42164\tvalidation_1-logloss:0.42870\n",
      "[18]\tvalidation_0-logloss:0.41460\tvalidation_1-logloss:0.42213\n",
      "[19]\tvalidation_0-logloss:0.40836\tvalidation_1-logloss:0.41608\n",
      "[20]\tvalidation_0-logloss:0.40249\tvalidation_1-logloss:0.41030\n",
      "[21]\tvalidation_0-logloss:0.39697\tvalidation_1-logloss:0.40503\n",
      "[22]\tvalidation_0-logloss:0.39177\tvalidation_1-logloss:0.40006\n",
      "[23]\tvalidation_0-logloss:0.38676\tvalidation_1-logloss:0.39517\n",
      "[24]\tvalidation_0-logloss:0.38207\tvalidation_1-logloss:0.39066\n",
      "[25]\tvalidation_0-logloss:0.37762\tvalidation_1-logloss:0.38666\n",
      "[26]\tvalidation_0-logloss:0.37343\tvalidation_1-logloss:0.38305\n",
      "[27]\tvalidation_0-logloss:0.36939\tvalidation_1-logloss:0.37945\n",
      "[28]\tvalidation_0-logloss:0.36549\tvalidation_1-logloss:0.37622\n",
      "[29]\tvalidation_0-logloss:0.36203\tvalidation_1-logloss:0.37324\n",
      "[30]\tvalidation_0-logloss:0.35870\tvalidation_1-logloss:0.37037\n",
      "[31]\tvalidation_0-logloss:0.35564\tvalidation_1-logloss:0.36765\n",
      "[32]\tvalidation_0-logloss:0.35261\tvalidation_1-logloss:0.36503\n",
      "[33]\tvalidation_0-logloss:0.34959\tvalidation_1-logloss:0.36255\n",
      "[34]\tvalidation_0-logloss:0.34679\tvalidation_1-logloss:0.36022\n",
      "[35]\tvalidation_0-logloss:0.34414\tvalidation_1-logloss:0.35814\n",
      "[36]\tvalidation_0-logloss:0.34183\tvalidation_1-logloss:0.35634\n",
      "[37]\tvalidation_0-logloss:0.33929\tvalidation_1-logloss:0.35447\n",
      "[38]\tvalidation_0-logloss:0.33708\tvalidation_1-logloss:0.35271\n",
      "[39]\tvalidation_0-logloss:0.33482\tvalidation_1-logloss:0.35115\n",
      "[40]\tvalidation_0-logloss:0.33275\tvalidation_1-logloss:0.34937\n",
      "[41]\tvalidation_0-logloss:0.33068\tvalidation_1-logloss:0.34792\n",
      "[42]\tvalidation_0-logloss:0.32880\tvalidation_1-logloss:0.34659\n",
      "[43]\tvalidation_0-logloss:0.32686\tvalidation_1-logloss:0.34530\n",
      "[44]\tvalidation_0-logloss:0.32510\tvalidation_1-logloss:0.34412\n",
      "[45]\tvalidation_0-logloss:0.32341\tvalidation_1-logloss:0.34296\n",
      "[46]\tvalidation_0-logloss:0.32197\tvalidation_1-logloss:0.34199\n",
      "[47]\tvalidation_0-logloss:0.32053\tvalidation_1-logloss:0.34070\n",
      "[48]\tvalidation_0-logloss:0.31882\tvalidation_1-logloss:0.33980\n",
      "[49]\tvalidation_0-logloss:0.31715\tvalidation_1-logloss:0.33899\n",
      "[50]\tvalidation_0-logloss:0.31583\tvalidation_1-logloss:0.33795\n",
      "[51]\tvalidation_0-logloss:0.31447\tvalidation_1-logloss:0.33727\n",
      "[52]\tvalidation_0-logloss:0.31328\tvalidation_1-logloss:0.33657\n",
      "[53]\tvalidation_0-logloss:0.31195\tvalidation_1-logloss:0.33597\n",
      "[54]\tvalidation_0-logloss:0.31087\tvalidation_1-logloss:0.33542\n",
      "[55]\tvalidation_0-logloss:0.30985\tvalidation_1-logloss:0.33488\n",
      "[56]\tvalidation_0-logloss:0.30870\tvalidation_1-logloss:0.33439\n",
      "[57]\tvalidation_0-logloss:0.30768\tvalidation_1-logloss:0.33393\n",
      "[58]\tvalidation_0-logloss:0.30653\tvalidation_1-logloss:0.33326\n",
      "[59]\tvalidation_0-logloss:0.30550\tvalidation_1-logloss:0.33296\n",
      "[60]\tvalidation_0-logloss:0.30456\tvalidation_1-logloss:0.33257\n",
      "[61]\tvalidation_0-logloss:0.30364\tvalidation_1-logloss:0.33234\n",
      "[62]\tvalidation_0-logloss:0.30261\tvalidation_1-logloss:0.33189\n",
      "[63]\tvalidation_0-logloss:0.30173\tvalidation_1-logloss:0.33168\n",
      "[64]\tvalidation_0-logloss:0.30078\tvalidation_1-logloss:0.33139\n",
      "[65]\tvalidation_0-logloss:0.29987\tvalidation_1-logloss:0.33112\n",
      "[66]\tvalidation_0-logloss:0.29905\tvalidation_1-logloss:0.33085\n",
      "[67]\tvalidation_0-logloss:0.29807\tvalidation_1-logloss:0.33050\n",
      "[68]\tvalidation_0-logloss:0.29756\tvalidation_1-logloss:0.33017\n",
      "[69]\tvalidation_0-logloss:0.29659\tvalidation_1-logloss:0.32989\n",
      "[70]\tvalidation_0-logloss:0.29607\tvalidation_1-logloss:0.32967\n",
      "[71]\tvalidation_0-logloss:0.29537\tvalidation_1-logloss:0.32939\n",
      "[72]\tvalidation_0-logloss:0.29479\tvalidation_1-logloss:0.32918\n",
      "[73]\tvalidation_0-logloss:0.29417\tvalidation_1-logloss:0.32913\n",
      "[74]\tvalidation_0-logloss:0.29343\tvalidation_1-logloss:0.32897\n",
      "[75]\tvalidation_0-logloss:0.29281\tvalidation_1-logloss:0.32869\n",
      "[76]\tvalidation_0-logloss:0.29220\tvalidation_1-logloss:0.32856\n",
      "[77]\tvalidation_0-logloss:0.29166\tvalidation_1-logloss:0.32854\n",
      "[78]\tvalidation_0-logloss:0.29130\tvalidation_1-logloss:0.32843\n",
      "[79]\tvalidation_0-logloss:0.29045\tvalidation_1-logloss:0.32815\n",
      "[80]\tvalidation_0-logloss:0.28992\tvalidation_1-logloss:0.32816\n",
      "[81]\tvalidation_0-logloss:0.28936\tvalidation_1-logloss:0.32830\n",
      "[82]\tvalidation_0-logloss:0.28897\tvalidation_1-logloss:0.32814\n",
      "[83]\tvalidation_0-logloss:0.28807\tvalidation_1-logloss:0.32799\n",
      "[84]\tvalidation_0-logloss:0.28764\tvalidation_1-logloss:0.32789\n",
      "[85]\tvalidation_0-logloss:0.28692\tvalidation_1-logloss:0.32789\n",
      "[86]\tvalidation_0-logloss:0.28644\tvalidation_1-logloss:0.32778\n",
      "[87]\tvalidation_0-logloss:0.28599\tvalidation_1-logloss:0.32779\n",
      "[88]\tvalidation_0-logloss:0.28551\tvalidation_1-logloss:0.32781\n",
      "[89]\tvalidation_0-logloss:0.28482\tvalidation_1-logloss:0.32767\n",
      "[90]\tvalidation_0-logloss:0.28450\tvalidation_1-logloss:0.32770\n",
      "[91]\tvalidation_0-logloss:0.28411\tvalidation_1-logloss:0.32768\n",
      "[92]\tvalidation_0-logloss:0.28381\tvalidation_1-logloss:0.32761\n",
      "[93]\tvalidation_0-logloss:0.28309\tvalidation_1-logloss:0.32773\n",
      "[94]\tvalidation_0-logloss:0.28271\tvalidation_1-logloss:0.32774\n",
      "[95]\tvalidation_0-logloss:0.28241\tvalidation_1-logloss:0.32775\n",
      "[96]\tvalidation_0-logloss:0.28177\tvalidation_1-logloss:0.32779\n",
      "[97]\tvalidation_0-logloss:0.28140\tvalidation_1-logloss:0.32769\n",
      "[98]\tvalidation_0-logloss:0.28106\tvalidation_1-logloss:0.32775\n",
      "[99]\tvalidation_0-logloss:0.28054\tvalidation_1-logloss:0.32790\n"
     ]
    },
    {
     "data": {
      "text/html": [
       "<style>#sk-container-id-4 {color: black;background-color: white;}#sk-container-id-4 pre{padding: 0;}#sk-container-id-4 div.sk-toggleable {background-color: white;}#sk-container-id-4 label.sk-toggleable__label {cursor: pointer;display: block;width: 100%;margin-bottom: 0;padding: 0.3em;box-sizing: border-box;text-align: center;}#sk-container-id-4 label.sk-toggleable__label-arrow:before {content: \"▸\";float: left;margin-right: 0.25em;color: #696969;}#sk-container-id-4 label.sk-toggleable__label-arrow:hover:before {color: black;}#sk-container-id-4 div.sk-estimator:hover label.sk-toggleable__label-arrow:before {color: black;}#sk-container-id-4 div.sk-toggleable__content {max-height: 0;max-width: 0;overflow: hidden;text-align: left;background-color: #f0f8ff;}#sk-container-id-4 div.sk-toggleable__content pre {margin: 0.2em;color: black;border-radius: 0.25em;background-color: #f0f8ff;}#sk-container-id-4 input.sk-toggleable__control:checked~div.sk-toggleable__content {max-height: 200px;max-width: 100%;overflow: auto;}#sk-container-id-4 input.sk-toggleable__control:checked~label.sk-toggleable__label-arrow:before {content: \"▾\";}#sk-container-id-4 div.sk-estimator input.sk-toggleable__control:checked~label.sk-toggleable__label {background-color: #d4ebff;}#sk-container-id-4 div.sk-label input.sk-toggleable__control:checked~label.sk-toggleable__label {background-color: #d4ebff;}#sk-container-id-4 input.sk-hidden--visually {border: 0;clip: rect(1px 1px 1px 1px);clip: rect(1px, 1px, 1px, 1px);height: 1px;margin: -1px;overflow: hidden;padding: 0;position: absolute;width: 1px;}#sk-container-id-4 div.sk-estimator {font-family: monospace;background-color: #f0f8ff;border: 1px dotted black;border-radius: 0.25em;box-sizing: border-box;margin-bottom: 0.5em;}#sk-container-id-4 div.sk-estimator:hover {background-color: #d4ebff;}#sk-container-id-4 div.sk-parallel-item::after {content: \"\";width: 100%;border-bottom: 1px solid gray;flex-grow: 1;}#sk-container-id-4 div.sk-label:hover label.sk-toggleable__label {background-color: #d4ebff;}#sk-container-id-4 div.sk-serial::before {content: \"\";position: absolute;border-left: 1px solid gray;box-sizing: border-box;top: 0;bottom: 0;left: 50%;z-index: 0;}#sk-container-id-4 div.sk-serial {display: flex;flex-direction: column;align-items: center;background-color: white;padding-right: 0.2em;padding-left: 0.2em;position: relative;}#sk-container-id-4 div.sk-item {position: relative;z-index: 1;}#sk-container-id-4 div.sk-parallel {display: flex;align-items: stretch;justify-content: center;background-color: white;position: relative;}#sk-container-id-4 div.sk-item::before, #sk-container-id-4 div.sk-parallel-item::before {content: \"\";position: absolute;border-left: 1px solid gray;box-sizing: border-box;top: 0;bottom: 0;left: 50%;z-index: -1;}#sk-container-id-4 div.sk-parallel-item {display: flex;flex-direction: column;z-index: 1;position: relative;background-color: white;}#sk-container-id-4 div.sk-parallel-item:first-child::after {align-self: flex-end;width: 50%;}#sk-container-id-4 div.sk-parallel-item:last-child::after {align-self: flex-start;width: 50%;}#sk-container-id-4 div.sk-parallel-item:only-child::after {width: 0;}#sk-container-id-4 div.sk-dashed-wrapped {border: 1px dashed gray;margin: 0 0.4em 0.5em 0.4em;box-sizing: border-box;padding-bottom: 0.4em;background-color: white;}#sk-container-id-4 div.sk-label label {font-family: monospace;font-weight: bold;display: inline-block;line-height: 1.2em;}#sk-container-id-4 div.sk-label-container {text-align: center;}#sk-container-id-4 div.sk-container {/* jupyter's `normalize.less` sets `[hidden] { display: none; }` but bootstrap.min.css set `[hidden] { display: none !important; }` so we also need the `!important` here to be able to override the default hidden behavior on the sphinx rendered scikit-learn.org. See: https://github.com/scikit-learn/scikit-learn/issues/21755 */display: inline-block !important;position: relative;}#sk-container-id-4 div.sk-text-repr-fallback {display: none;}</style><div id=\"sk-container-id-4\" class=\"sk-top-container\"><div class=\"sk-text-repr-fallback\"><pre>XGBClassifier(base_score=None, booster=None, callbacks=None,\n",
       "              colsample_bylevel=None, colsample_bynode=None,\n",
       "              colsample_bytree=None, early_stopping_rounds=None,\n",
       "              enable_categorical=False, eval_metric=None, feature_types=None,\n",
       "              gamma=None, gpu_id=None, grow_policy=None, importance_type=None,\n",
       "              interaction_constraints=None, learning_rate=0.05, max_bin=None,\n",
       "              max_cat_threshold=None, max_cat_to_onehot=None,\n",
       "              max_delta_step=None, max_depth=None, max_leaves=None,\n",
       "              min_child_weight=None, missing=nan, monotone_constraints=None,\n",
       "              n_estimators=100, n_jobs=None, nthread=8, num_parallel_tree=None,\n",
       "              predictor=None, ...)</pre><b>In a Jupyter environment, please rerun this cell to show the HTML representation or trust the notebook. <br />On GitHub, the HTML representation is unable to render, please try loading this page with nbviewer.org.</b></div><div class=\"sk-container\" hidden><div class=\"sk-item\"><div class=\"sk-estimator sk-toggleable\"><input class=\"sk-toggleable__control sk-hidden--visually\" id=\"sk-estimator-id-4\" type=\"checkbox\" checked><label for=\"sk-estimator-id-4\" class=\"sk-toggleable__label sk-toggleable__label-arrow\">XGBClassifier</label><div class=\"sk-toggleable__content\"><pre>XGBClassifier(base_score=None, booster=None, callbacks=None,\n",
       "              colsample_bylevel=None, colsample_bynode=None,\n",
       "              colsample_bytree=None, early_stopping_rounds=None,\n",
       "              enable_categorical=False, eval_metric=None, feature_types=None,\n",
       "              gamma=None, gpu_id=None, grow_policy=None, importance_type=None,\n",
       "              interaction_constraints=None, learning_rate=0.05, max_bin=None,\n",
       "              max_cat_threshold=None, max_cat_to_onehot=None,\n",
       "              max_delta_step=None, max_depth=None, max_leaves=None,\n",
       "              min_child_weight=None, missing=nan, monotone_constraints=None,\n",
       "              n_estimators=100, n_jobs=None, nthread=8, num_parallel_tree=None,\n",
       "              predictor=None, ...)</pre></div></div></div></div></div>"
      ],
      "text/plain": [
       "XGBClassifier(base_score=None, booster=None, callbacks=None,\n",
       "              colsample_bylevel=None, colsample_bynode=None,\n",
       "              colsample_bytree=None, early_stopping_rounds=None,\n",
       "              enable_categorical=False, eval_metric=None, feature_types=None,\n",
       "              gamma=None, gpu_id=None, grow_policy=None, importance_type=None,\n",
       "              interaction_constraints=None, learning_rate=0.05, max_bin=None,\n",
       "              max_cat_threshold=None, max_cat_to_onehot=None,\n",
       "              max_delta_step=None, max_depth=None, max_leaves=None,\n",
       "              min_child_weight=None, missing=nan, monotone_constraints=None,\n",
       "              n_estimators=100, n_jobs=None, nthread=8, num_parallel_tree=None,\n",
       "              predictor=None, ...)"
      ]
     },
     "execution_count": 31,
     "metadata": {},
     "output_type": "execute_result"
    }
   ],
   "source": [
    "# 訓練模型\n",
    "xgb_model.fit(X_train, y_train, verbose=True,\n",
    "                        eval_set=[(X_train, y_train), (X_test, y_test)])"
   ]
  },
  {
   "attachments": {},
   "cell_type": "markdown",
   "metadata": {},
   "source": [
    "嘗試調整300顆樹，並將learning rate調整為0.01"
   ]
  },
  {
   "cell_type": "code",
   "execution_count": 32,
   "metadata": {},
   "outputs": [],
   "source": [
    "# 定義模型：嘗試調整300顆樹，並將learning rate調整為0.01\n",
    "# 【通常樹的增加與learning rate的減少會增益預測效果】\n",
    "xgb_model = XGBClassifier(n_estimators=500 ,random_state = 0,\n",
    "            nthread = 8, learning_rate=0.01)"
   ]
  },
  {
   "cell_type": "code",
   "execution_count": 33,
   "metadata": {},
   "outputs": [
    {
     "name": "stdout",
     "output_type": "stream",
     "text": [
      "[0]\tvalidation_0-logloss:0.68731\tvalidation_1-logloss:0.68744\n",
      "[1]\tvalidation_0-logloss:0.68159\tvalidation_1-logloss:0.68186\n",
      "[2]\tvalidation_0-logloss:0.67598\tvalidation_1-logloss:0.67638\n",
      "[3]\tvalidation_0-logloss:0.67048\tvalidation_1-logloss:0.67102\n",
      "[4]\tvalidation_0-logloss:0.66508\tvalidation_1-logloss:0.66576\n",
      "[5]\tvalidation_0-logloss:0.65979\tvalidation_1-logloss:0.66058\n",
      "[6]\tvalidation_0-logloss:0.65460\tvalidation_1-logloss:0.65552\n",
      "[7]\tvalidation_0-logloss:0.64951\tvalidation_1-logloss:0.65051\n",
      "[8]\tvalidation_0-logloss:0.64451\tvalidation_1-logloss:0.64562\n",
      "[9]\tvalidation_0-logloss:0.63960\tvalidation_1-logloss:0.64081\n",
      "[10]\tvalidation_0-logloss:0.63479\tvalidation_1-logloss:0.63609\n",
      "[11]\tvalidation_0-logloss:0.63007\tvalidation_1-logloss:0.63146\n",
      "[12]\tvalidation_0-logloss:0.62543\tvalidation_1-logloss:0.62692\n",
      "[13]\tvalidation_0-logloss:0.62088\tvalidation_1-logloss:0.62243\n",
      "[14]\tvalidation_0-logloss:0.61640\tvalidation_1-logloss:0.61806\n",
      "[15]\tvalidation_0-logloss:0.61201\tvalidation_1-logloss:0.61373\n",
      "[16]\tvalidation_0-logloss:0.60770\tvalidation_1-logloss:0.60953\n",
      "[17]\tvalidation_0-logloss:0.60346\tvalidation_1-logloss:0.60534\n",
      "[18]\tvalidation_0-logloss:0.59929\tvalidation_1-logloss:0.60125\n",
      "[19]\tvalidation_0-logloss:0.59520\tvalidation_1-logloss:0.59725\n",
      "[20]\tvalidation_0-logloss:0.59116\tvalidation_1-logloss:0.59334\n",
      "[21]\tvalidation_0-logloss:0.58719\tvalidation_1-logloss:0.58948\n",
      "[22]\tvalidation_0-logloss:0.58331\tvalidation_1-logloss:0.58567\n",
      "[23]\tvalidation_0-logloss:0.57947\tvalidation_1-logloss:0.58194\n",
      "[24]\tvalidation_0-logloss:0.57572\tvalidation_1-logloss:0.57824\n",
      "[25]\tvalidation_0-logloss:0.57201\tvalidation_1-logloss:0.57464\n",
      "[26]\tvalidation_0-logloss:0.56839\tvalidation_1-logloss:0.57111\n",
      "[27]\tvalidation_0-logloss:0.56482\tvalidation_1-logloss:0.56759\n",
      "[28]\tvalidation_0-logloss:0.56131\tvalidation_1-logloss:0.56419\n",
      "[29]\tvalidation_0-logloss:0.55786\tvalidation_1-logloss:0.56081\n",
      "[30]\tvalidation_0-logloss:0.55447\tvalidation_1-logloss:0.55746\n",
      "[31]\tvalidation_0-logloss:0.55114\tvalidation_1-logloss:0.55423\n",
      "[32]\tvalidation_0-logloss:0.54785\tvalidation_1-logloss:0.55099\n",
      "[33]\tvalidation_0-logloss:0.54462\tvalidation_1-logloss:0.54787\n",
      "[34]\tvalidation_0-logloss:0.54145\tvalidation_1-logloss:0.54477\n",
      "[35]\tvalidation_0-logloss:0.53832\tvalidation_1-logloss:0.54170\n",
      "[36]\tvalidation_0-logloss:0.53525\tvalidation_1-logloss:0.53873\n",
      "[37]\tvalidation_0-logloss:0.53222\tvalidation_1-logloss:0.53575\n",
      "[38]\tvalidation_0-logloss:0.52924\tvalidation_1-logloss:0.53288\n",
      "[39]\tvalidation_0-logloss:0.52631\tvalidation_1-logloss:0.53001\n",
      "[40]\tvalidation_0-logloss:0.52343\tvalidation_1-logloss:0.52720\n",
      "[41]\tvalidation_0-logloss:0.52058\tvalidation_1-logloss:0.52445\n",
      "[42]\tvalidation_0-logloss:0.51778\tvalidation_1-logloss:0.52171\n",
      "[43]\tvalidation_0-logloss:0.51502\tvalidation_1-logloss:0.51904\n",
      "[44]\tvalidation_0-logloss:0.51231\tvalidation_1-logloss:0.51638\n",
      "[45]\tvalidation_0-logloss:0.50964\tvalidation_1-logloss:0.51379\n",
      "[46]\tvalidation_0-logloss:0.50701\tvalidation_1-logloss:0.51125\n",
      "[47]\tvalidation_0-logloss:0.50442\tvalidation_1-logloss:0.50871\n",
      "[48]\tvalidation_0-logloss:0.50187\tvalidation_1-logloss:0.50623\n",
      "[49]\tvalidation_0-logloss:0.49935\tvalidation_1-logloss:0.50383\n",
      "[50]\tvalidation_0-logloss:0.49688\tvalidation_1-logloss:0.50141\n",
      "[51]\tvalidation_0-logloss:0.49445\tvalidation_1-logloss:0.49905\n",
      "[52]\tvalidation_0-logloss:0.49205\tvalidation_1-logloss:0.49676\n",
      "[53]\tvalidation_0-logloss:0.48968\tvalidation_1-logloss:0.49446\n",
      "[54]\tvalidation_0-logloss:0.48735\tvalidation_1-logloss:0.49222\n",
      "[55]\tvalidation_0-logloss:0.48506\tvalidation_1-logloss:0.49000\n",
      "[56]\tvalidation_0-logloss:0.48280\tvalidation_1-logloss:0.48778\n",
      "[57]\tvalidation_0-logloss:0.48051\tvalidation_1-logloss:0.48556\n",
      "[58]\tvalidation_0-logloss:0.47832\tvalidation_1-logloss:0.48345\n",
      "[59]\tvalidation_0-logloss:0.47616\tvalidation_1-logloss:0.48138\n",
      "[60]\tvalidation_0-logloss:0.47397\tvalidation_1-logloss:0.47926\n",
      "[61]\tvalidation_0-logloss:0.47185\tvalidation_1-logloss:0.47723\n",
      "[62]\tvalidation_0-logloss:0.46972\tvalidation_1-logloss:0.47517\n",
      "[63]\tvalidation_0-logloss:0.46766\tvalidation_1-logloss:0.47315\n",
      "[64]\tvalidation_0-logloss:0.46565\tvalidation_1-logloss:0.47122\n",
      "[65]\tvalidation_0-logloss:0.46369\tvalidation_1-logloss:0.46933\n",
      "[66]\tvalidation_0-logloss:0.46168\tvalidation_1-logloss:0.46739\n",
      "[67]\tvalidation_0-logloss:0.45976\tvalidation_1-logloss:0.46553\n",
      "[68]\tvalidation_0-logloss:0.45783\tvalidation_1-logloss:0.46366\n",
      "[69]\tvalidation_0-logloss:0.45591\tvalidation_1-logloss:0.46181\n",
      "[70]\tvalidation_0-logloss:0.45406\tvalidation_1-logloss:0.46001\n",
      "[71]\tvalidation_0-logloss:0.45225\tvalidation_1-logloss:0.45828\n",
      "[72]\tvalidation_0-logloss:0.45041\tvalidation_1-logloss:0.45654\n",
      "[73]\tvalidation_0-logloss:0.44865\tvalidation_1-logloss:0.45484\n",
      "[74]\tvalidation_0-logloss:0.44686\tvalidation_1-logloss:0.45315\n",
      "[75]\tvalidation_0-logloss:0.44513\tvalidation_1-logloss:0.45145\n",
      "[76]\tvalidation_0-logloss:0.44343\tvalidation_1-logloss:0.44982\n",
      "[77]\tvalidation_0-logloss:0.44177\tvalidation_1-logloss:0.44822\n",
      "[78]\tvalidation_0-logloss:0.44008\tvalidation_1-logloss:0.44663\n",
      "[79]\tvalidation_0-logloss:0.43846\tvalidation_1-logloss:0.44505\n",
      "[80]\tvalidation_0-logloss:0.43687\tvalidation_1-logloss:0.44352\n",
      "[81]\tvalidation_0-logloss:0.43525\tvalidation_1-logloss:0.44199\n",
      "[82]\tvalidation_0-logloss:0.43368\tvalidation_1-logloss:0.44048\n",
      "[83]\tvalidation_0-logloss:0.43211\tvalidation_1-logloss:0.43900\n",
      "[84]\tvalidation_0-logloss:0.43060\tvalidation_1-logloss:0.43754\n",
      "[85]\tvalidation_0-logloss:0.42911\tvalidation_1-logloss:0.43607\n",
      "[86]\tvalidation_0-logloss:0.42760\tvalidation_1-logloss:0.43466\n",
      "[87]\tvalidation_0-logloss:0.42616\tvalidation_1-logloss:0.43327\n",
      "[88]\tvalidation_0-logloss:0.42470\tvalidation_1-logloss:0.43188\n",
      "[89]\tvalidation_0-logloss:0.42327\tvalidation_1-logloss:0.43050\n",
      "[90]\tvalidation_0-logloss:0.42188\tvalidation_1-logloss:0.42913\n",
      "[91]\tvalidation_0-logloss:0.42047\tvalidation_1-logloss:0.42780\n",
      "[92]\tvalidation_0-logloss:0.41909\tvalidation_1-logloss:0.42645\n",
      "[93]\tvalidation_0-logloss:0.41776\tvalidation_1-logloss:0.42516\n",
      "[94]\tvalidation_0-logloss:0.41638\tvalidation_1-logloss:0.42387\n",
      "[95]\tvalidation_0-logloss:0.41509\tvalidation_1-logloss:0.42263\n",
      "[96]\tvalidation_0-logloss:0.41375\tvalidation_1-logloss:0.42138\n",
      "[97]\tvalidation_0-logloss:0.41249\tvalidation_1-logloss:0.42015\n",
      "[98]\tvalidation_0-logloss:0.41124\tvalidation_1-logloss:0.41894\n",
      "[99]\tvalidation_0-logloss:0.40995\tvalidation_1-logloss:0.41774\n",
      "[100]\tvalidation_0-logloss:0.40874\tvalidation_1-logloss:0.41658\n",
      "[101]\tvalidation_0-logloss:0.40754\tvalidation_1-logloss:0.41539\n",
      "[102]\tvalidation_0-logloss:0.40631\tvalidation_1-logloss:0.41426\n",
      "[103]\tvalidation_0-logloss:0.40514\tvalidation_1-logloss:0.41313\n",
      "[104]\tvalidation_0-logloss:0.40398\tvalidation_1-logloss:0.41202\n",
      "[105]\tvalidation_0-logloss:0.40282\tvalidation_1-logloss:0.41092\n",
      "[106]\tvalidation_0-logloss:0.40171\tvalidation_1-logloss:0.40985\n",
      "[107]\tvalidation_0-logloss:0.40057\tvalidation_1-logloss:0.40878\n",
      "[108]\tvalidation_0-logloss:0.39949\tvalidation_1-logloss:0.40774\n",
      "[109]\tvalidation_0-logloss:0.39840\tvalidation_1-logloss:0.40670\n",
      "[110]\tvalidation_0-logloss:0.39732\tvalidation_1-logloss:0.40568\n",
      "[111]\tvalidation_0-logloss:0.39628\tvalidation_1-logloss:0.40468\n",
      "[112]\tvalidation_0-logloss:0.39520\tvalidation_1-logloss:0.40363\n",
      "[113]\tvalidation_0-logloss:0.39414\tvalidation_1-logloss:0.40259\n",
      "[114]\tvalidation_0-logloss:0.39313\tvalidation_1-logloss:0.40163\n",
      "[115]\tvalidation_0-logloss:0.39210\tvalidation_1-logloss:0.40061\n",
      "[116]\tvalidation_0-logloss:0.39108\tvalidation_1-logloss:0.39962\n",
      "[117]\tvalidation_0-logloss:0.39009\tvalidation_1-logloss:0.39868\n",
      "[118]\tvalidation_0-logloss:0.38909\tvalidation_1-logloss:0.39770\n",
      "[119]\tvalidation_0-logloss:0.38811\tvalidation_1-logloss:0.39674\n",
      "[120]\tvalidation_0-logloss:0.38713\tvalidation_1-logloss:0.39580\n",
      "[121]\tvalidation_0-logloss:0.38617\tvalidation_1-logloss:0.39492\n",
      "[122]\tvalidation_0-logloss:0.38522\tvalidation_1-logloss:0.39400\n",
      "[123]\tvalidation_0-logloss:0.38429\tvalidation_1-logloss:0.39309\n",
      "[124]\tvalidation_0-logloss:0.38341\tvalidation_1-logloss:0.39226\n",
      "[125]\tvalidation_0-logloss:0.38250\tvalidation_1-logloss:0.39136\n",
      "[126]\tvalidation_0-logloss:0.38160\tvalidation_1-logloss:0.39050\n",
      "[127]\tvalidation_0-logloss:0.38073\tvalidation_1-logloss:0.38970\n",
      "[128]\tvalidation_0-logloss:0.37987\tvalidation_1-logloss:0.38889\n",
      "[129]\tvalidation_0-logloss:0.37900\tvalidation_1-logloss:0.38812\n",
      "[130]\tvalidation_0-logloss:0.37814\tvalidation_1-logloss:0.38733\n",
      "[131]\tvalidation_0-logloss:0.37730\tvalidation_1-logloss:0.38653\n",
      "[132]\tvalidation_0-logloss:0.37647\tvalidation_1-logloss:0.38580\n",
      "[133]\tvalidation_0-logloss:0.37564\tvalidation_1-logloss:0.38505\n",
      "[134]\tvalidation_0-logloss:0.37483\tvalidation_1-logloss:0.38434\n",
      "[135]\tvalidation_0-logloss:0.37401\tvalidation_1-logloss:0.38359\n",
      "[136]\tvalidation_0-logloss:0.37322\tvalidation_1-logloss:0.38288\n",
      "[137]\tvalidation_0-logloss:0.37244\tvalidation_1-logloss:0.38215\n",
      "[138]\tvalidation_0-logloss:0.37167\tvalidation_1-logloss:0.38148\n",
      "[139]\tvalidation_0-logloss:0.37090\tvalidation_1-logloss:0.38077\n",
      "[140]\tvalidation_0-logloss:0.37015\tvalidation_1-logloss:0.38012\n",
      "[141]\tvalidation_0-logloss:0.36939\tvalidation_1-logloss:0.37944\n",
      "[142]\tvalidation_0-logloss:0.36865\tvalidation_1-logloss:0.37876\n",
      "[143]\tvalidation_0-logloss:0.36791\tvalidation_1-logloss:0.37813\n",
      "[144]\tvalidation_0-logloss:0.36716\tvalidation_1-logloss:0.37745\n",
      "[145]\tvalidation_0-logloss:0.36644\tvalidation_1-logloss:0.37681\n",
      "[146]\tvalidation_0-logloss:0.36569\tvalidation_1-logloss:0.37616\n",
      "[147]\tvalidation_0-logloss:0.36498\tvalidation_1-logloss:0.37553\n",
      "[148]\tvalidation_0-logloss:0.36429\tvalidation_1-logloss:0.37494\n",
      "[149]\tvalidation_0-logloss:0.36358\tvalidation_1-logloss:0.37435\n",
      "[150]\tvalidation_0-logloss:0.36291\tvalidation_1-logloss:0.37377\n",
      "[151]\tvalidation_0-logloss:0.36225\tvalidation_1-logloss:0.37320\n",
      "[152]\tvalidation_0-logloss:0.36158\tvalidation_1-logloss:0.37261\n",
      "[153]\tvalidation_0-logloss:0.36092\tvalidation_1-logloss:0.37201\n",
      "[154]\tvalidation_0-logloss:0.36023\tvalidation_1-logloss:0.37143\n",
      "[155]\tvalidation_0-logloss:0.35959\tvalidation_1-logloss:0.37088\n",
      "[156]\tvalidation_0-logloss:0.35895\tvalidation_1-logloss:0.37033\n",
      "[157]\tvalidation_0-logloss:0.35830\tvalidation_1-logloss:0.36979\n",
      "[158]\tvalidation_0-logloss:0.35764\tvalidation_1-logloss:0.36924\n",
      "[159]\tvalidation_0-logloss:0.35703\tvalidation_1-logloss:0.36870\n",
      "[160]\tvalidation_0-logloss:0.35639\tvalidation_1-logloss:0.36815\n",
      "[161]\tvalidation_0-logloss:0.35576\tvalidation_1-logloss:0.36766\n",
      "[162]\tvalidation_0-logloss:0.35514\tvalidation_1-logloss:0.36713\n",
      "[163]\tvalidation_0-logloss:0.35455\tvalidation_1-logloss:0.36661\n",
      "[164]\tvalidation_0-logloss:0.35397\tvalidation_1-logloss:0.36611\n",
      "[165]\tvalidation_0-logloss:0.35337\tvalidation_1-logloss:0.36561\n",
      "[166]\tvalidation_0-logloss:0.35275\tvalidation_1-logloss:0.36511\n",
      "[167]\tvalidation_0-logloss:0.35217\tvalidation_1-logloss:0.36459\n",
      "[168]\tvalidation_0-logloss:0.35156\tvalidation_1-logloss:0.36410\n",
      "[169]\tvalidation_0-logloss:0.35100\tvalidation_1-logloss:0.36360\n",
      "[170]\tvalidation_0-logloss:0.35040\tvalidation_1-logloss:0.36312\n",
      "[171]\tvalidation_0-logloss:0.34986\tvalidation_1-logloss:0.36264\n",
      "[172]\tvalidation_0-logloss:0.34928\tvalidation_1-logloss:0.36218\n",
      "[173]\tvalidation_0-logloss:0.34870\tvalidation_1-logloss:0.36172\n",
      "[174]\tvalidation_0-logloss:0.34818\tvalidation_1-logloss:0.36127\n",
      "[175]\tvalidation_0-logloss:0.34762\tvalidation_1-logloss:0.36082\n",
      "[176]\tvalidation_0-logloss:0.34709\tvalidation_1-logloss:0.36036\n",
      "[177]\tvalidation_0-logloss:0.34654\tvalidation_1-logloss:0.35994\n",
      "[178]\tvalidation_0-logloss:0.34603\tvalidation_1-logloss:0.35948\n",
      "[179]\tvalidation_0-logloss:0.34551\tvalidation_1-logloss:0.35907\n",
      "[180]\tvalidation_0-logloss:0.34502\tvalidation_1-logloss:0.35868\n",
      "[181]\tvalidation_0-logloss:0.34449\tvalidation_1-logloss:0.35828\n",
      "[182]\tvalidation_0-logloss:0.34399\tvalidation_1-logloss:0.35790\n",
      "[183]\tvalidation_0-logloss:0.34349\tvalidation_1-logloss:0.35748\n",
      "[184]\tvalidation_0-logloss:0.34298\tvalidation_1-logloss:0.35709\n",
      "[185]\tvalidation_0-logloss:0.34249\tvalidation_1-logloss:0.35667\n",
      "[186]\tvalidation_0-logloss:0.34202\tvalidation_1-logloss:0.35626\n",
      "[187]\tvalidation_0-logloss:0.34152\tvalidation_1-logloss:0.35588\n",
      "[188]\tvalidation_0-logloss:0.34105\tvalidation_1-logloss:0.35549\n",
      "[189]\tvalidation_0-logloss:0.34055\tvalidation_1-logloss:0.35513\n",
      "[190]\tvalidation_0-logloss:0.34009\tvalidation_1-logloss:0.35477\n",
      "[191]\tvalidation_0-logloss:0.33963\tvalidation_1-logloss:0.35444\n",
      "[192]\tvalidation_0-logloss:0.33914\tvalidation_1-logloss:0.35411\n",
      "[193]\tvalidation_0-logloss:0.33869\tvalidation_1-logloss:0.35373\n",
      "[194]\tvalidation_0-logloss:0.33823\tvalidation_1-logloss:0.35342\n",
      "[195]\tvalidation_0-logloss:0.33781\tvalidation_1-logloss:0.35307\n",
      "[196]\tvalidation_0-logloss:0.33736\tvalidation_1-logloss:0.35277\n",
      "[197]\tvalidation_0-logloss:0.33690\tvalidation_1-logloss:0.35246\n",
      "[198]\tvalidation_0-logloss:0.33647\tvalidation_1-logloss:0.35210\n",
      "[199]\tvalidation_0-logloss:0.33602\tvalidation_1-logloss:0.35180\n",
      "[200]\tvalidation_0-logloss:0.33558\tvalidation_1-logloss:0.35151\n",
      "[201]\tvalidation_0-logloss:0.33516\tvalidation_1-logloss:0.35116\n",
      "[202]\tvalidation_0-logloss:0.33472\tvalidation_1-logloss:0.35088\n",
      "[203]\tvalidation_0-logloss:0.33432\tvalidation_1-logloss:0.35057\n",
      "[204]\tvalidation_0-logloss:0.33391\tvalidation_1-logloss:0.35029\n",
      "[205]\tvalidation_0-logloss:0.33351\tvalidation_1-logloss:0.34998\n",
      "[206]\tvalidation_0-logloss:0.33309\tvalidation_1-logloss:0.34967\n",
      "[207]\tvalidation_0-logloss:0.33267\tvalidation_1-logloss:0.34938\n",
      "[208]\tvalidation_0-logloss:0.33228\tvalidation_1-logloss:0.34910\n",
      "[209]\tvalidation_0-logloss:0.33189\tvalidation_1-logloss:0.34880\n",
      "[210]\tvalidation_0-logloss:0.33149\tvalidation_1-logloss:0.34854\n",
      "[211]\tvalidation_0-logloss:0.33112\tvalidation_1-logloss:0.34827\n",
      "[212]\tvalidation_0-logloss:0.33075\tvalidation_1-logloss:0.34799\n",
      "[213]\tvalidation_0-logloss:0.33037\tvalidation_1-logloss:0.34773\n",
      "[214]\tvalidation_0-logloss:0.33000\tvalidation_1-logloss:0.34746\n",
      "[215]\tvalidation_0-logloss:0.32961\tvalidation_1-logloss:0.34720\n",
      "[216]\tvalidation_0-logloss:0.32923\tvalidation_1-logloss:0.34695\n",
      "[217]\tvalidation_0-logloss:0.32888\tvalidation_1-logloss:0.34668\n",
      "[218]\tvalidation_0-logloss:0.32849\tvalidation_1-logloss:0.34637\n",
      "[219]\tvalidation_0-logloss:0.32815\tvalidation_1-logloss:0.34612\n",
      "[220]\tvalidation_0-logloss:0.32780\tvalidation_1-logloss:0.34585\n",
      "[221]\tvalidation_0-logloss:0.32743\tvalidation_1-logloss:0.34563\n",
      "[222]\tvalidation_0-logloss:0.32707\tvalidation_1-logloss:0.34540\n",
      "[223]\tvalidation_0-logloss:0.32671\tvalidation_1-logloss:0.34513\n",
      "[224]\tvalidation_0-logloss:0.32638\tvalidation_1-logloss:0.34489\n",
      "[225]\tvalidation_0-logloss:0.32605\tvalidation_1-logloss:0.34464\n",
      "[226]\tvalidation_0-logloss:0.32569\tvalidation_1-logloss:0.34440\n",
      "[227]\tvalidation_0-logloss:0.32538\tvalidation_1-logloss:0.34419\n",
      "[228]\tvalidation_0-logloss:0.32502\tvalidation_1-logloss:0.34391\n",
      "[229]\tvalidation_0-logloss:0.32471\tvalidation_1-logloss:0.34369\n",
      "[230]\tvalidation_0-logloss:0.32436\tvalidation_1-logloss:0.34343\n",
      "[231]\tvalidation_0-logloss:0.32404\tvalidation_1-logloss:0.34321\n",
      "[232]\tvalidation_0-logloss:0.32374\tvalidation_1-logloss:0.34301\n",
      "[233]\tvalidation_0-logloss:0.32346\tvalidation_1-logloss:0.34281\n",
      "[234]\tvalidation_0-logloss:0.32311\tvalidation_1-logloss:0.34255\n",
      "[235]\tvalidation_0-logloss:0.32280\tvalidation_1-logloss:0.34234\n",
      "[236]\tvalidation_0-logloss:0.32251\tvalidation_1-logloss:0.34214\n",
      "[237]\tvalidation_0-logloss:0.32222\tvalidation_1-logloss:0.34193\n",
      "[238]\tvalidation_0-logloss:0.32189\tvalidation_1-logloss:0.34170\n",
      "[239]\tvalidation_0-logloss:0.32163\tvalidation_1-logloss:0.34150\n",
      "[240]\tvalidation_0-logloss:0.32133\tvalidation_1-logloss:0.34125\n",
      "[241]\tvalidation_0-logloss:0.32102\tvalidation_1-logloss:0.34107\n",
      "[242]\tvalidation_0-logloss:0.32066\tvalidation_1-logloss:0.34085\n",
      "[243]\tvalidation_0-logloss:0.32039\tvalidation_1-logloss:0.34066\n",
      "[244]\tvalidation_0-logloss:0.32009\tvalidation_1-logloss:0.34047\n",
      "[245]\tvalidation_0-logloss:0.31974\tvalidation_1-logloss:0.34026\n",
      "[246]\tvalidation_0-logloss:0.31939\tvalidation_1-logloss:0.34005\n",
      "[247]\tvalidation_0-logloss:0.31905\tvalidation_1-logloss:0.33986\n",
      "[248]\tvalidation_0-logloss:0.31877\tvalidation_1-logloss:0.33964\n",
      "[249]\tvalidation_0-logloss:0.31844\tvalidation_1-logloss:0.33945\n",
      "[250]\tvalidation_0-logloss:0.31820\tvalidation_1-logloss:0.33928\n",
      "[251]\tvalidation_0-logloss:0.31787\tvalidation_1-logloss:0.33910\n",
      "[252]\tvalidation_0-logloss:0.31761\tvalidation_1-logloss:0.33895\n",
      "[253]\tvalidation_0-logloss:0.31735\tvalidation_1-logloss:0.33874\n",
      "[254]\tvalidation_0-logloss:0.31704\tvalidation_1-logloss:0.33858\n",
      "[255]\tvalidation_0-logloss:0.31676\tvalidation_1-logloss:0.33845\n",
      "[256]\tvalidation_0-logloss:0.31650\tvalidation_1-logloss:0.33826\n",
      "[257]\tvalidation_0-logloss:0.31622\tvalidation_1-logloss:0.33813\n",
      "[258]\tvalidation_0-logloss:0.31598\tvalidation_1-logloss:0.33795\n",
      "[259]\tvalidation_0-logloss:0.31574\tvalidation_1-logloss:0.33780\n",
      "[260]\tvalidation_0-logloss:0.31547\tvalidation_1-logloss:0.33767\n",
      "[261]\tvalidation_0-logloss:0.31519\tvalidation_1-logloss:0.33755\n",
      "[262]\tvalidation_0-logloss:0.31492\tvalidation_1-logloss:0.33741\n",
      "[263]\tvalidation_0-logloss:0.31467\tvalidation_1-logloss:0.33724\n",
      "[264]\tvalidation_0-logloss:0.31444\tvalidation_1-logloss:0.33709\n",
      "[265]\tvalidation_0-logloss:0.31417\tvalidation_1-logloss:0.33696\n",
      "[266]\tvalidation_0-logloss:0.31393\tvalidation_1-logloss:0.33685\n",
      "[267]\tvalidation_0-logloss:0.31363\tvalidation_1-logloss:0.33674\n",
      "[268]\tvalidation_0-logloss:0.31339\tvalidation_1-logloss:0.33656\n",
      "[269]\tvalidation_0-logloss:0.31317\tvalidation_1-logloss:0.33643\n",
      "[270]\tvalidation_0-logloss:0.31290\tvalidation_1-logloss:0.33632\n",
      "[271]\tvalidation_0-logloss:0.31260\tvalidation_1-logloss:0.33618\n",
      "[272]\tvalidation_0-logloss:0.31235\tvalidation_1-logloss:0.33606\n",
      "[273]\tvalidation_0-logloss:0.31212\tvalidation_1-logloss:0.33597\n",
      "[274]\tvalidation_0-logloss:0.31187\tvalidation_1-logloss:0.33585\n",
      "[275]\tvalidation_0-logloss:0.31164\tvalidation_1-logloss:0.33569\n",
      "[276]\tvalidation_0-logloss:0.31143\tvalidation_1-logloss:0.33558\n",
      "[277]\tvalidation_0-logloss:0.31121\tvalidation_1-logloss:0.33545\n",
      "[278]\tvalidation_0-logloss:0.31097\tvalidation_1-logloss:0.33534\n",
      "[279]\tvalidation_0-logloss:0.31072\tvalidation_1-logloss:0.33523\n",
      "[280]\tvalidation_0-logloss:0.31050\tvalidation_1-logloss:0.33510\n",
      "[281]\tvalidation_0-logloss:0.31029\tvalidation_1-logloss:0.33497\n",
      "[282]\tvalidation_0-logloss:0.31007\tvalidation_1-logloss:0.33487\n",
      "[283]\tvalidation_0-logloss:0.30986\tvalidation_1-logloss:0.33477\n",
      "[284]\tvalidation_0-logloss:0.30963\tvalidation_1-logloss:0.33468\n",
      "[285]\tvalidation_0-logloss:0.30942\tvalidation_1-logloss:0.33459\n",
      "[286]\tvalidation_0-logloss:0.30922\tvalidation_1-logloss:0.33451\n",
      "[287]\tvalidation_0-logloss:0.30900\tvalidation_1-logloss:0.33441\n",
      "[288]\tvalidation_0-logloss:0.30876\tvalidation_1-logloss:0.33433\n",
      "[289]\tvalidation_0-logloss:0.30851\tvalidation_1-logloss:0.33426\n",
      "[290]\tvalidation_0-logloss:0.30828\tvalidation_1-logloss:0.33416\n",
      "[291]\tvalidation_0-logloss:0.30804\tvalidation_1-logloss:0.33408\n",
      "[292]\tvalidation_0-logloss:0.30781\tvalidation_1-logloss:0.33397\n",
      "[293]\tvalidation_0-logloss:0.30763\tvalidation_1-logloss:0.33389\n",
      "[294]\tvalidation_0-logloss:0.30741\tvalidation_1-logloss:0.33384\n",
      "[295]\tvalidation_0-logloss:0.30718\tvalidation_1-logloss:0.33374\n",
      "[296]\tvalidation_0-logloss:0.30697\tvalidation_1-logloss:0.33368\n",
      "[297]\tvalidation_0-logloss:0.30676\tvalidation_1-logloss:0.33357\n",
      "[298]\tvalidation_0-logloss:0.30654\tvalidation_1-logloss:0.33351\n",
      "[299]\tvalidation_0-logloss:0.30634\tvalidation_1-logloss:0.33343\n",
      "[300]\tvalidation_0-logloss:0.30608\tvalidation_1-logloss:0.33328\n",
      "[301]\tvalidation_0-logloss:0.30586\tvalidation_1-logloss:0.33320\n",
      "[302]\tvalidation_0-logloss:0.30567\tvalidation_1-logloss:0.33311\n",
      "[303]\tvalidation_0-logloss:0.30547\tvalidation_1-logloss:0.33299\n",
      "[304]\tvalidation_0-logloss:0.30527\tvalidation_1-logloss:0.33294\n",
      "[305]\tvalidation_0-logloss:0.30505\tvalidation_1-logloss:0.33287\n",
      "[306]\tvalidation_0-logloss:0.30484\tvalidation_1-logloss:0.33278\n",
      "[307]\tvalidation_0-logloss:0.30463\tvalidation_1-logloss:0.33268\n",
      "[308]\tvalidation_0-logloss:0.30444\tvalidation_1-logloss:0.33261\n",
      "[309]\tvalidation_0-logloss:0.30423\tvalidation_1-logloss:0.33253\n",
      "[310]\tvalidation_0-logloss:0.30403\tvalidation_1-logloss:0.33246\n",
      "[311]\tvalidation_0-logloss:0.30379\tvalidation_1-logloss:0.33237\n",
      "[312]\tvalidation_0-logloss:0.30361\tvalidation_1-logloss:0.33230\n",
      "[313]\tvalidation_0-logloss:0.30342\tvalidation_1-logloss:0.33225\n",
      "[314]\tvalidation_0-logloss:0.30319\tvalidation_1-logloss:0.33215\n",
      "[315]\tvalidation_0-logloss:0.30300\tvalidation_1-logloss:0.33209\n",
      "[316]\tvalidation_0-logloss:0.30283\tvalidation_1-logloss:0.33202\n",
      "[317]\tvalidation_0-logloss:0.30262\tvalidation_1-logloss:0.33197\n",
      "[318]\tvalidation_0-logloss:0.30241\tvalidation_1-logloss:0.33190\n",
      "[319]\tvalidation_0-logloss:0.30224\tvalidation_1-logloss:0.33184\n",
      "[320]\tvalidation_0-logloss:0.30204\tvalidation_1-logloss:0.33180\n",
      "[321]\tvalidation_0-logloss:0.30184\tvalidation_1-logloss:0.33178\n",
      "[322]\tvalidation_0-logloss:0.30165\tvalidation_1-logloss:0.33173\n",
      "[323]\tvalidation_0-logloss:0.30145\tvalidation_1-logloss:0.33168\n",
      "[324]\tvalidation_0-logloss:0.30126\tvalidation_1-logloss:0.33159\n",
      "[325]\tvalidation_0-logloss:0.30105\tvalidation_1-logloss:0.33153\n",
      "[326]\tvalidation_0-logloss:0.30083\tvalidation_1-logloss:0.33144\n",
      "[327]\tvalidation_0-logloss:0.30066\tvalidation_1-logloss:0.33141\n",
      "[328]\tvalidation_0-logloss:0.30047\tvalidation_1-logloss:0.33139\n",
      "[329]\tvalidation_0-logloss:0.30029\tvalidation_1-logloss:0.33133\n",
      "[330]\tvalidation_0-logloss:0.30012\tvalidation_1-logloss:0.33128\n",
      "[331]\tvalidation_0-logloss:0.29991\tvalidation_1-logloss:0.33120\n",
      "[332]\tvalidation_0-logloss:0.29972\tvalidation_1-logloss:0.33119\n",
      "[333]\tvalidation_0-logloss:0.29951\tvalidation_1-logloss:0.33110\n",
      "[334]\tvalidation_0-logloss:0.29934\tvalidation_1-logloss:0.33106\n",
      "[335]\tvalidation_0-logloss:0.29920\tvalidation_1-logloss:0.33100\n",
      "[336]\tvalidation_0-logloss:0.29904\tvalidation_1-logloss:0.33094\n",
      "[337]\tvalidation_0-logloss:0.29889\tvalidation_1-logloss:0.33089\n",
      "[338]\tvalidation_0-logloss:0.29873\tvalidation_1-logloss:0.33084\n",
      "[339]\tvalidation_0-logloss:0.29859\tvalidation_1-logloss:0.33078\n",
      "[340]\tvalidation_0-logloss:0.29847\tvalidation_1-logloss:0.33075\n",
      "[341]\tvalidation_0-logloss:0.29834\tvalidation_1-logloss:0.33069\n",
      "[342]\tvalidation_0-logloss:0.29819\tvalidation_1-logloss:0.33066\n",
      "[343]\tvalidation_0-logloss:0.29805\tvalidation_1-logloss:0.33062\n",
      "[344]\tvalidation_0-logloss:0.29790\tvalidation_1-logloss:0.33055\n",
      "[345]\tvalidation_0-logloss:0.29777\tvalidation_1-logloss:0.33050\n",
      "[346]\tvalidation_0-logloss:0.29762\tvalidation_1-logloss:0.33046\n",
      "[347]\tvalidation_0-logloss:0.29749\tvalidation_1-logloss:0.33043\n",
      "[348]\tvalidation_0-logloss:0.29736\tvalidation_1-logloss:0.33035\n",
      "[349]\tvalidation_0-logloss:0.29723\tvalidation_1-logloss:0.33032\n",
      "[350]\tvalidation_0-logloss:0.29711\tvalidation_1-logloss:0.33028\n",
      "[351]\tvalidation_0-logloss:0.29699\tvalidation_1-logloss:0.33022\n",
      "[352]\tvalidation_0-logloss:0.29688\tvalidation_1-logloss:0.33017\n",
      "[353]\tvalidation_0-logloss:0.29675\tvalidation_1-logloss:0.33013\n",
      "[354]\tvalidation_0-logloss:0.29661\tvalidation_1-logloss:0.33006\n",
      "[355]\tvalidation_0-logloss:0.29649\tvalidation_1-logloss:0.33005\n",
      "[356]\tvalidation_0-logloss:0.29639\tvalidation_1-logloss:0.33000\n",
      "[357]\tvalidation_0-logloss:0.29630\tvalidation_1-logloss:0.32996\n",
      "[358]\tvalidation_0-logloss:0.29609\tvalidation_1-logloss:0.32989\n",
      "[359]\tvalidation_0-logloss:0.29596\tvalidation_1-logloss:0.32986\n",
      "[360]\tvalidation_0-logloss:0.29585\tvalidation_1-logloss:0.32985\n",
      "[361]\tvalidation_0-logloss:0.29575\tvalidation_1-logloss:0.32981\n",
      "[362]\tvalidation_0-logloss:0.29555\tvalidation_1-logloss:0.32974\n",
      "[363]\tvalidation_0-logloss:0.29538\tvalidation_1-logloss:0.32968\n",
      "[364]\tvalidation_0-logloss:0.29521\tvalidation_1-logloss:0.32963\n",
      "[365]\tvalidation_0-logloss:0.29513\tvalidation_1-logloss:0.32960\n",
      "[366]\tvalidation_0-logloss:0.29501\tvalidation_1-logloss:0.32958\n",
      "[367]\tvalidation_0-logloss:0.29490\tvalidation_1-logloss:0.32955\n",
      "[368]\tvalidation_0-logloss:0.29479\tvalidation_1-logloss:0.32954\n",
      "[369]\tvalidation_0-logloss:0.29465\tvalidation_1-logloss:0.32953\n",
      "[370]\tvalidation_0-logloss:0.29453\tvalidation_1-logloss:0.32950\n",
      "[371]\tvalidation_0-logloss:0.29439\tvalidation_1-logloss:0.32945\n",
      "[372]\tvalidation_0-logloss:0.29427\tvalidation_1-logloss:0.32944\n",
      "[373]\tvalidation_0-logloss:0.29418\tvalidation_1-logloss:0.32939\n",
      "[374]\tvalidation_0-logloss:0.29399\tvalidation_1-logloss:0.32933\n",
      "[375]\tvalidation_0-logloss:0.29384\tvalidation_1-logloss:0.32932\n",
      "[376]\tvalidation_0-logloss:0.29374\tvalidation_1-logloss:0.32930\n",
      "[377]\tvalidation_0-logloss:0.29363\tvalidation_1-logloss:0.32925\n",
      "[378]\tvalidation_0-logloss:0.29350\tvalidation_1-logloss:0.32920\n",
      "[379]\tvalidation_0-logloss:0.29340\tvalidation_1-logloss:0.32919\n",
      "[380]\tvalidation_0-logloss:0.29332\tvalidation_1-logloss:0.32917\n",
      "[381]\tvalidation_0-logloss:0.29322\tvalidation_1-logloss:0.32916\n",
      "[382]\tvalidation_0-logloss:0.29310\tvalidation_1-logloss:0.32915\n",
      "[383]\tvalidation_0-logloss:0.29292\tvalidation_1-logloss:0.32905\n",
      "[384]\tvalidation_0-logloss:0.29281\tvalidation_1-logloss:0.32904\n",
      "[385]\tvalidation_0-logloss:0.29269\tvalidation_1-logloss:0.32903\n",
      "[386]\tvalidation_0-logloss:0.29258\tvalidation_1-logloss:0.32899\n",
      "[387]\tvalidation_0-logloss:0.29250\tvalidation_1-logloss:0.32897\n",
      "[388]\tvalidation_0-logloss:0.29239\tvalidation_1-logloss:0.32898\n",
      "[389]\tvalidation_0-logloss:0.29229\tvalidation_1-logloss:0.32898\n",
      "[390]\tvalidation_0-logloss:0.29219\tvalidation_1-logloss:0.32893\n",
      "[391]\tvalidation_0-logloss:0.29208\tvalidation_1-logloss:0.32894\n",
      "[392]\tvalidation_0-logloss:0.29201\tvalidation_1-logloss:0.32893\n",
      "[393]\tvalidation_0-logloss:0.29179\tvalidation_1-logloss:0.32887\n",
      "[394]\tvalidation_0-logloss:0.29169\tvalidation_1-logloss:0.32886\n",
      "[395]\tvalidation_0-logloss:0.29152\tvalidation_1-logloss:0.32882\n",
      "[396]\tvalidation_0-logloss:0.29140\tvalidation_1-logloss:0.32878\n",
      "[397]\tvalidation_0-logloss:0.29126\tvalidation_1-logloss:0.32879\n",
      "[398]\tvalidation_0-logloss:0.29116\tvalidation_1-logloss:0.32877\n",
      "[399]\tvalidation_0-logloss:0.29104\tvalidation_1-logloss:0.32873\n",
      "[400]\tvalidation_0-logloss:0.29087\tvalidation_1-logloss:0.32869\n",
      "[401]\tvalidation_0-logloss:0.29079\tvalidation_1-logloss:0.32865\n",
      "[402]\tvalidation_0-logloss:0.29069\tvalidation_1-logloss:0.32863\n",
      "[403]\tvalidation_0-logloss:0.29059\tvalidation_1-logloss:0.32861\n",
      "[404]\tvalidation_0-logloss:0.29049\tvalidation_1-logloss:0.32857\n",
      "[405]\tvalidation_0-logloss:0.29041\tvalidation_1-logloss:0.32854\n",
      "[406]\tvalidation_0-logloss:0.29030\tvalidation_1-logloss:0.32853\n",
      "[407]\tvalidation_0-logloss:0.29020\tvalidation_1-logloss:0.32854\n",
      "[408]\tvalidation_0-logloss:0.29004\tvalidation_1-logloss:0.32849\n",
      "[409]\tvalidation_0-logloss:0.28996\tvalidation_1-logloss:0.32846\n",
      "[410]\tvalidation_0-logloss:0.28986\tvalidation_1-logloss:0.32846\n",
      "[411]\tvalidation_0-logloss:0.28971\tvalidation_1-logloss:0.32843\n",
      "[412]\tvalidation_0-logloss:0.28962\tvalidation_1-logloss:0.32846\n",
      "[413]\tvalidation_0-logloss:0.28952\tvalidation_1-logloss:0.32846\n",
      "[414]\tvalidation_0-logloss:0.28936\tvalidation_1-logloss:0.32843\n",
      "[415]\tvalidation_0-logloss:0.28927\tvalidation_1-logloss:0.32843\n",
      "[416]\tvalidation_0-logloss:0.28912\tvalidation_1-logloss:0.32840\n",
      "[417]\tvalidation_0-logloss:0.28904\tvalidation_1-logloss:0.32838\n",
      "[418]\tvalidation_0-logloss:0.28888\tvalidation_1-logloss:0.32835\n",
      "[419]\tvalidation_0-logloss:0.28881\tvalidation_1-logloss:0.32835\n",
      "[420]\tvalidation_0-logloss:0.28874\tvalidation_1-logloss:0.32831\n",
      "[421]\tvalidation_0-logloss:0.28857\tvalidation_1-logloss:0.32829\n",
      "[422]\tvalidation_0-logloss:0.28843\tvalidation_1-logloss:0.32827\n",
      "[423]\tvalidation_0-logloss:0.28834\tvalidation_1-logloss:0.32828\n",
      "[424]\tvalidation_0-logloss:0.28825\tvalidation_1-logloss:0.32828\n",
      "[425]\tvalidation_0-logloss:0.28810\tvalidation_1-logloss:0.32824\n",
      "[426]\tvalidation_0-logloss:0.28804\tvalidation_1-logloss:0.32824\n",
      "[427]\tvalidation_0-logloss:0.28790\tvalidation_1-logloss:0.32821\n",
      "[428]\tvalidation_0-logloss:0.28783\tvalidation_1-logloss:0.32818\n",
      "[429]\tvalidation_0-logloss:0.28774\tvalidation_1-logloss:0.32819\n",
      "[430]\tvalidation_0-logloss:0.28766\tvalidation_1-logloss:0.32818\n",
      "[431]\tvalidation_0-logloss:0.28752\tvalidation_1-logloss:0.32814\n",
      "[432]\tvalidation_0-logloss:0.28743\tvalidation_1-logloss:0.32816\n",
      "[433]\tvalidation_0-logloss:0.28736\tvalidation_1-logloss:0.32812\n",
      "[434]\tvalidation_0-logloss:0.28727\tvalidation_1-logloss:0.32813\n",
      "[435]\tvalidation_0-logloss:0.28720\tvalidation_1-logloss:0.32810\n",
      "[436]\tvalidation_0-logloss:0.28712\tvalidation_1-logloss:0.32808\n",
      "[437]\tvalidation_0-logloss:0.28705\tvalidation_1-logloss:0.32805\n",
      "[438]\tvalidation_0-logloss:0.28697\tvalidation_1-logloss:0.32806\n",
      "[439]\tvalidation_0-logloss:0.28682\tvalidation_1-logloss:0.32805\n",
      "[440]\tvalidation_0-logloss:0.28668\tvalidation_1-logloss:0.32804\n",
      "[441]\tvalidation_0-logloss:0.28657\tvalidation_1-logloss:0.32807\n",
      "[442]\tvalidation_0-logloss:0.28648\tvalidation_1-logloss:0.32806\n",
      "[443]\tvalidation_0-logloss:0.28633\tvalidation_1-logloss:0.32803\n",
      "[444]\tvalidation_0-logloss:0.28627\tvalidation_1-logloss:0.32801\n",
      "[445]\tvalidation_0-logloss:0.28620\tvalidation_1-logloss:0.32800\n",
      "[446]\tvalidation_0-logloss:0.28610\tvalidation_1-logloss:0.32802\n",
      "[447]\tvalidation_0-logloss:0.28597\tvalidation_1-logloss:0.32802\n",
      "[448]\tvalidation_0-logloss:0.28587\tvalidation_1-logloss:0.32798\n",
      "[449]\tvalidation_0-logloss:0.28580\tvalidation_1-logloss:0.32796\n",
      "[450]\tvalidation_0-logloss:0.28563\tvalidation_1-logloss:0.32791\n",
      "[451]\tvalidation_0-logloss:0.28550\tvalidation_1-logloss:0.32789\n",
      "[452]\tvalidation_0-logloss:0.28540\tvalidation_1-logloss:0.32792\n",
      "[453]\tvalidation_0-logloss:0.28524\tvalidation_1-logloss:0.32785\n",
      "[454]\tvalidation_0-logloss:0.28511\tvalidation_1-logloss:0.32783\n",
      "[455]\tvalidation_0-logloss:0.28504\tvalidation_1-logloss:0.32783\n",
      "[456]\tvalidation_0-logloss:0.28495\tvalidation_1-logloss:0.32788\n",
      "[457]\tvalidation_0-logloss:0.28486\tvalidation_1-logloss:0.32786\n",
      "[458]\tvalidation_0-logloss:0.28469\tvalidation_1-logloss:0.32783\n",
      "[459]\tvalidation_0-logloss:0.28455\tvalidation_1-logloss:0.32782\n",
      "[460]\tvalidation_0-logloss:0.28448\tvalidation_1-logloss:0.32780\n",
      "[461]\tvalidation_0-logloss:0.28439\tvalidation_1-logloss:0.32781\n",
      "[462]\tvalidation_0-logloss:0.28431\tvalidation_1-logloss:0.32781\n",
      "[463]\tvalidation_0-logloss:0.28419\tvalidation_1-logloss:0.32778\n",
      "[464]\tvalidation_0-logloss:0.28413\tvalidation_1-logloss:0.32778\n",
      "[465]\tvalidation_0-logloss:0.28397\tvalidation_1-logloss:0.32774\n",
      "[466]\tvalidation_0-logloss:0.28387\tvalidation_1-logloss:0.32775\n",
      "[467]\tvalidation_0-logloss:0.28372\tvalidation_1-logloss:0.32772\n",
      "[468]\tvalidation_0-logloss:0.28360\tvalidation_1-logloss:0.32772\n",
      "[469]\tvalidation_0-logloss:0.28351\tvalidation_1-logloss:0.32773\n",
      "[470]\tvalidation_0-logloss:0.28339\tvalidation_1-logloss:0.32772\n",
      "[471]\tvalidation_0-logloss:0.28331\tvalidation_1-logloss:0.32772\n",
      "[472]\tvalidation_0-logloss:0.28325\tvalidation_1-logloss:0.32771\n",
      "[473]\tvalidation_0-logloss:0.28316\tvalidation_1-logloss:0.32772\n",
      "[474]\tvalidation_0-logloss:0.28309\tvalidation_1-logloss:0.32773\n",
      "[475]\tvalidation_0-logloss:0.28297\tvalidation_1-logloss:0.32771\n",
      "[476]\tvalidation_0-logloss:0.28291\tvalidation_1-logloss:0.32772\n",
      "[477]\tvalidation_0-logloss:0.28272\tvalidation_1-logloss:0.32770\n",
      "[478]\tvalidation_0-logloss:0.28263\tvalidation_1-logloss:0.32771\n",
      "[479]\tvalidation_0-logloss:0.28256\tvalidation_1-logloss:0.32772\n",
      "[480]\tvalidation_0-logloss:0.28244\tvalidation_1-logloss:0.32771\n",
      "[481]\tvalidation_0-logloss:0.28238\tvalidation_1-logloss:0.32769\n",
      "[482]\tvalidation_0-logloss:0.28219\tvalidation_1-logloss:0.32768\n",
      "[483]\tvalidation_0-logloss:0.28210\tvalidation_1-logloss:0.32769\n",
      "[484]\tvalidation_0-logloss:0.28198\tvalidation_1-logloss:0.32769\n",
      "[485]\tvalidation_0-logloss:0.28192\tvalidation_1-logloss:0.32769\n",
      "[486]\tvalidation_0-logloss:0.28184\tvalidation_1-logloss:0.32768\n",
      "[487]\tvalidation_0-logloss:0.28170\tvalidation_1-logloss:0.32765\n",
      "[488]\tvalidation_0-logloss:0.28158\tvalidation_1-logloss:0.32762\n",
      "[489]\tvalidation_0-logloss:0.28149\tvalidation_1-logloss:0.32766\n",
      "[490]\tvalidation_0-logloss:0.28143\tvalidation_1-logloss:0.32768\n",
      "[491]\tvalidation_0-logloss:0.28126\tvalidation_1-logloss:0.32765\n",
      "[492]\tvalidation_0-logloss:0.28114\tvalidation_1-logloss:0.32767\n",
      "[493]\tvalidation_0-logloss:0.28108\tvalidation_1-logloss:0.32766\n",
      "[494]\tvalidation_0-logloss:0.28101\tvalidation_1-logloss:0.32763\n",
      "[495]\tvalidation_0-logloss:0.28088\tvalidation_1-logloss:0.32765\n",
      "[496]\tvalidation_0-logloss:0.28081\tvalidation_1-logloss:0.32762\n",
      "[497]\tvalidation_0-logloss:0.28069\tvalidation_1-logloss:0.32761\n",
      "[498]\tvalidation_0-logloss:0.28052\tvalidation_1-logloss:0.32762\n",
      "[499]\tvalidation_0-logloss:0.28041\tvalidation_1-logloss:0.32762\n"
     ]
    },
    {
     "data": {
      "text/html": [
       "<style>#sk-container-id-5 {color: black;background-color: white;}#sk-container-id-5 pre{padding: 0;}#sk-container-id-5 div.sk-toggleable {background-color: white;}#sk-container-id-5 label.sk-toggleable__label {cursor: pointer;display: block;width: 100%;margin-bottom: 0;padding: 0.3em;box-sizing: border-box;text-align: center;}#sk-container-id-5 label.sk-toggleable__label-arrow:before {content: \"▸\";float: left;margin-right: 0.25em;color: #696969;}#sk-container-id-5 label.sk-toggleable__label-arrow:hover:before {color: black;}#sk-container-id-5 div.sk-estimator:hover label.sk-toggleable__label-arrow:before {color: black;}#sk-container-id-5 div.sk-toggleable__content {max-height: 0;max-width: 0;overflow: hidden;text-align: left;background-color: #f0f8ff;}#sk-container-id-5 div.sk-toggleable__content pre {margin: 0.2em;color: black;border-radius: 0.25em;background-color: #f0f8ff;}#sk-container-id-5 input.sk-toggleable__control:checked~div.sk-toggleable__content {max-height: 200px;max-width: 100%;overflow: auto;}#sk-container-id-5 input.sk-toggleable__control:checked~label.sk-toggleable__label-arrow:before {content: \"▾\";}#sk-container-id-5 div.sk-estimator input.sk-toggleable__control:checked~label.sk-toggleable__label {background-color: #d4ebff;}#sk-container-id-5 div.sk-label input.sk-toggleable__control:checked~label.sk-toggleable__label {background-color: #d4ebff;}#sk-container-id-5 input.sk-hidden--visually {border: 0;clip: rect(1px 1px 1px 1px);clip: rect(1px, 1px, 1px, 1px);height: 1px;margin: -1px;overflow: hidden;padding: 0;position: absolute;width: 1px;}#sk-container-id-5 div.sk-estimator {font-family: monospace;background-color: #f0f8ff;border: 1px dotted black;border-radius: 0.25em;box-sizing: border-box;margin-bottom: 0.5em;}#sk-container-id-5 div.sk-estimator:hover {background-color: #d4ebff;}#sk-container-id-5 div.sk-parallel-item::after {content: \"\";width: 100%;border-bottom: 1px solid gray;flex-grow: 1;}#sk-container-id-5 div.sk-label:hover label.sk-toggleable__label {background-color: #d4ebff;}#sk-container-id-5 div.sk-serial::before {content: \"\";position: absolute;border-left: 1px solid gray;box-sizing: border-box;top: 0;bottom: 0;left: 50%;z-index: 0;}#sk-container-id-5 div.sk-serial {display: flex;flex-direction: column;align-items: center;background-color: white;padding-right: 0.2em;padding-left: 0.2em;position: relative;}#sk-container-id-5 div.sk-item {position: relative;z-index: 1;}#sk-container-id-5 div.sk-parallel {display: flex;align-items: stretch;justify-content: center;background-color: white;position: relative;}#sk-container-id-5 div.sk-item::before, #sk-container-id-5 div.sk-parallel-item::before {content: \"\";position: absolute;border-left: 1px solid gray;box-sizing: border-box;top: 0;bottom: 0;left: 50%;z-index: -1;}#sk-container-id-5 div.sk-parallel-item {display: flex;flex-direction: column;z-index: 1;position: relative;background-color: white;}#sk-container-id-5 div.sk-parallel-item:first-child::after {align-self: flex-end;width: 50%;}#sk-container-id-5 div.sk-parallel-item:last-child::after {align-self: flex-start;width: 50%;}#sk-container-id-5 div.sk-parallel-item:only-child::after {width: 0;}#sk-container-id-5 div.sk-dashed-wrapped {border: 1px dashed gray;margin: 0 0.4em 0.5em 0.4em;box-sizing: border-box;padding-bottom: 0.4em;background-color: white;}#sk-container-id-5 div.sk-label label {font-family: monospace;font-weight: bold;display: inline-block;line-height: 1.2em;}#sk-container-id-5 div.sk-label-container {text-align: center;}#sk-container-id-5 div.sk-container {/* jupyter's `normalize.less` sets `[hidden] { display: none; }` but bootstrap.min.css set `[hidden] { display: none !important; }` so we also need the `!important` here to be able to override the default hidden behavior on the sphinx rendered scikit-learn.org. See: https://github.com/scikit-learn/scikit-learn/issues/21755 */display: inline-block !important;position: relative;}#sk-container-id-5 div.sk-text-repr-fallback {display: none;}</style><div id=\"sk-container-id-5\" class=\"sk-top-container\"><div class=\"sk-text-repr-fallback\"><pre>XGBClassifier(base_score=None, booster=None, callbacks=None,\n",
       "              colsample_bylevel=None, colsample_bynode=None,\n",
       "              colsample_bytree=None, early_stopping_rounds=None,\n",
       "              enable_categorical=False, eval_metric=None, feature_types=None,\n",
       "              gamma=None, gpu_id=None, grow_policy=None, importance_type=None,\n",
       "              interaction_constraints=None, learning_rate=0.01, max_bin=None,\n",
       "              max_cat_threshold=None, max_cat_to_onehot=None,\n",
       "              max_delta_step=None, max_depth=None, max_leaves=None,\n",
       "              min_child_weight=None, missing=nan, monotone_constraints=None,\n",
       "              n_estimators=500, n_jobs=None, nthread=8, num_parallel_tree=None,\n",
       "              predictor=None, ...)</pre><b>In a Jupyter environment, please rerun this cell to show the HTML representation or trust the notebook. <br />On GitHub, the HTML representation is unable to render, please try loading this page with nbviewer.org.</b></div><div class=\"sk-container\" hidden><div class=\"sk-item\"><div class=\"sk-estimator sk-toggleable\"><input class=\"sk-toggleable__control sk-hidden--visually\" id=\"sk-estimator-id-5\" type=\"checkbox\" checked><label for=\"sk-estimator-id-5\" class=\"sk-toggleable__label sk-toggleable__label-arrow\">XGBClassifier</label><div class=\"sk-toggleable__content\"><pre>XGBClassifier(base_score=None, booster=None, callbacks=None,\n",
       "              colsample_bylevel=None, colsample_bynode=None,\n",
       "              colsample_bytree=None, early_stopping_rounds=None,\n",
       "              enable_categorical=False, eval_metric=None, feature_types=None,\n",
       "              gamma=None, gpu_id=None, grow_policy=None, importance_type=None,\n",
       "              interaction_constraints=None, learning_rate=0.01, max_bin=None,\n",
       "              max_cat_threshold=None, max_cat_to_onehot=None,\n",
       "              max_delta_step=None, max_depth=None, max_leaves=None,\n",
       "              min_child_weight=None, missing=nan, monotone_constraints=None,\n",
       "              n_estimators=500, n_jobs=None, nthread=8, num_parallel_tree=None,\n",
       "              predictor=None, ...)</pre></div></div></div></div></div>"
      ],
      "text/plain": [
       "XGBClassifier(base_score=None, booster=None, callbacks=None,\n",
       "              colsample_bylevel=None, colsample_bynode=None,\n",
       "              colsample_bytree=None, early_stopping_rounds=None,\n",
       "              enable_categorical=False, eval_metric=None, feature_types=None,\n",
       "              gamma=None, gpu_id=None, grow_policy=None, importance_type=None,\n",
       "              interaction_constraints=None, learning_rate=0.01, max_bin=None,\n",
       "              max_cat_threshold=None, max_cat_to_onehot=None,\n",
       "              max_delta_step=None, max_depth=None, max_leaves=None,\n",
       "              min_child_weight=None, missing=nan, monotone_constraints=None,\n",
       "              n_estimators=500, n_jobs=None, nthread=8, num_parallel_tree=None,\n",
       "              predictor=None, ...)"
      ]
     },
     "execution_count": 33,
     "metadata": {},
     "output_type": "execute_result"
    }
   ],
   "source": [
    "# 開始執行訓練\n",
    "xgb_model.fit(X_train, y_train, verbose=True,\n",
    "                        eval_set=[(X_train, y_train), (X_test, y_test)])"
   ]
  },
  {
   "cell_type": "code",
   "execution_count": 34,
   "metadata": {},
   "outputs": [],
   "source": [
    "# 預測\n",
    "xgb_pred = xgb_model.predict(X_test)"
   ]
  },
  {
   "cell_type": "code",
   "execution_count": 35,
   "metadata": {},
   "outputs": [],
   "source": [
    "# 預測機率\n",
    "xgb_pred_proba = xgb_model.predict_proba(X_test)"
   ]
  },
  {
   "cell_type": "code",
   "execution_count": 36,
   "metadata": {},
   "outputs": [
    {
     "data": {
      "text/plain": [
       "0.871"
      ]
     },
     "execution_count": 36,
     "metadata": {},
     "output_type": "execute_result"
    }
   ],
   "source": [
    "# 準確率\n",
    "accuracy_score(y_test, xgb_pred)"
   ]
  },
  {
   "attachments": {},
   "cell_type": "markdown",
   "metadata": {},
   "source": [
    "## 八、製作顧客產品推薦名單"
   ]
  },
  {
   "cell_type": "code",
   "execution_count": 37,
   "metadata": {},
   "outputs": [
    {
     "data": {
      "text/plain": [
       "9394    0\n",
       "898     1\n",
       "2398    0\n",
       "5906    0\n",
       "2343    0\n",
       "       ..\n",
       "1037    0\n",
       "2899    0\n",
       "9549    0\n",
       "2740    0\n",
       "6690    0\n",
       "Name: buy, Length: 2000, dtype: int64"
      ]
     },
     "execution_count": 37,
     "metadata": {},
     "output_type": "execute_result"
    }
   ],
   "source": [
    "# 已經驗證過的資料\n",
    "y_test"
   ]
  },
  {
   "cell_type": "code",
   "execution_count": 38,
   "metadata": {},
   "outputs": [
    {
     "data": {
      "text/html": [
       "<div>\n",
       "<style scoped>\n",
       "    .dataframe tbody tr th:only-of-type {\n",
       "        vertical-align: middle;\n",
       "    }\n",
       "\n",
       "    .dataframe tbody tr th {\n",
       "        vertical-align: top;\n",
       "    }\n",
       "\n",
       "    .dataframe thead th {\n",
       "        text-align: right;\n",
       "    }\n",
       "</style>\n",
       "<table border=\"1\" class=\"dataframe\">\n",
       "  <thead>\n",
       "    <tr style=\"text-align: right;\">\n",
       "      <th></th>\n",
       "      <th>客戶對A商品【實際】購買狀態</th>\n",
       "    </tr>\n",
       "  </thead>\n",
       "  <tbody>\n",
       "    <tr>\n",
       "      <th>0</th>\n",
       "      <td>0</td>\n",
       "    </tr>\n",
       "    <tr>\n",
       "      <th>1</th>\n",
       "      <td>1</td>\n",
       "    </tr>\n",
       "    <tr>\n",
       "      <th>2</th>\n",
       "      <td>0</td>\n",
       "    </tr>\n",
       "    <tr>\n",
       "      <th>3</th>\n",
       "      <td>0</td>\n",
       "    </tr>\n",
       "    <tr>\n",
       "      <th>4</th>\n",
       "      <td>0</td>\n",
       "    </tr>\n",
       "  </tbody>\n",
       "</table>\n",
       "</div>"
      ],
      "text/plain": [
       "   客戶對A商品【實際】購買狀態\n",
       "0               0\n",
       "1               1\n",
       "2               0\n",
       "3               0\n",
       "4               0"
      ]
     },
     "execution_count": 38,
     "metadata": {},
     "output_type": "execute_result"
    }
   ],
   "source": [
    "XGBClassifier_test_df=pd.DataFrame(y_test.values ,columns =['客戶對A商品【實際】購買狀態'])\n",
    "XGBClassifier_test_df.head()"
   ]
  },
  {
   "cell_type": "code",
   "execution_count": 39,
   "metadata": {},
   "outputs": [
    {
     "data": {
      "text/plain": [
       "array([[0.6254863 , 0.3745137 ],\n",
       "       [0.7831879 , 0.21681206],\n",
       "       [0.842691  , 0.15730901],\n",
       "       ...,\n",
       "       [0.91584694, 0.08415303],\n",
       "       [0.80696   , 0.19304001],\n",
       "       [0.7875271 , 0.21247289]], dtype=float32)"
      ]
     },
     "execution_count": 39,
     "metadata": {},
     "output_type": "execute_result"
    }
   ],
   "source": [
    "# 預測購買機率\n",
    "xgb_pred_proba"
   ]
  },
  {
   "cell_type": "code",
   "execution_count": 40,
   "metadata": {},
   "outputs": [
    {
     "data": {
      "text/plain": [
       "array([0.3745137 , 0.21681206, 0.15730901, ..., 0.08415303, 0.19304001,\n",
       "       0.21247289], dtype=float32)"
      ]
     },
     "execution_count": 40,
     "metadata": {},
     "output_type": "execute_result"
    }
   ],
   "source": [
    "# 先檢視一下預測出來的顧客清單，發現，我們要抓第一個欄位，即預測會購買的欄位機率\n",
    "# [:, 1]：抓全部的row與抓第一欄（算頭，我的頭是1，尾無）\n",
    "# 在array裡面，我們可以直接省略iloc\n",
    "# 在array或pandas裡面， df[ row,  column]\n",
    "xgb_pred_proba[ :  , 1]"
   ]
  },
  {
   "cell_type": "code",
   "execution_count": 41,
   "metadata": {},
   "outputs": [
    {
     "data": {
      "text/html": [
       "<div>\n",
       "<style scoped>\n",
       "    .dataframe tbody tr th:only-of-type {\n",
       "        vertical-align: middle;\n",
       "    }\n",
       "\n",
       "    .dataframe tbody tr th {\n",
       "        vertical-align: top;\n",
       "    }\n",
       "\n",
       "    .dataframe thead th {\n",
       "        text-align: right;\n",
       "    }\n",
       "</style>\n",
       "<table border=\"1\" class=\"dataframe\">\n",
       "  <thead>\n",
       "    <tr style=\"text-align: right;\">\n",
       "      <th></th>\n",
       "      <th>客戶對A商品【實際】購買狀態</th>\n",
       "      <th>客戶對A商品【預測】購買機率</th>\n",
       "    </tr>\n",
       "  </thead>\n",
       "  <tbody>\n",
       "    <tr>\n",
       "      <th>0</th>\n",
       "      <td>0</td>\n",
       "      <td>0.374514</td>\n",
       "    </tr>\n",
       "    <tr>\n",
       "      <th>1</th>\n",
       "      <td>1</td>\n",
       "      <td>0.216812</td>\n",
       "    </tr>\n",
       "    <tr>\n",
       "      <th>2</th>\n",
       "      <td>0</td>\n",
       "      <td>0.157309</td>\n",
       "    </tr>\n",
       "    <tr>\n",
       "      <th>3</th>\n",
       "      <td>0</td>\n",
       "      <td>0.067028</td>\n",
       "    </tr>\n",
       "    <tr>\n",
       "      <th>4</th>\n",
       "      <td>0</td>\n",
       "      <td>0.067427</td>\n",
       "    </tr>\n",
       "  </tbody>\n",
       "</table>\n",
       "</div>"
      ],
      "text/plain": [
       "   客戶對A商品【實際】購買狀態  客戶對A商品【預測】購買機率\n",
       "0               0        0.374514\n",
       "1               1        0.216812\n",
       "2               0        0.157309\n",
       "3               0        0.067028\n",
       "4               0        0.067427"
      ]
     },
     "execution_count": 41,
     "metadata": {},
     "output_type": "execute_result"
    }
   ],
   "source": [
    "XGBClassifier_test_df['客戶對A商品【預測】購買機率'] = xgb_pred_proba[:,1]\n",
    "XGBClassifier_test_df.head()"
   ]
  },
  {
   "cell_type": "code",
   "execution_count": 42,
   "metadata": {},
   "outputs": [
    {
     "data": {
      "text/plain": [
       "9394    9394\n",
       "898      898\n",
       "2398    2398\n",
       "5906    5906\n",
       "2343    2343\n",
       "        ... \n",
       "1037    1037\n",
       "2899    2899\n",
       "9549    9549\n",
       "2740    2740\n",
       "6690    6690\n",
       "Name: UID, Length: 2000, dtype: int64"
      ]
     },
     "execution_count": 42,
     "metadata": {},
     "output_type": "execute_result"
    }
   ],
   "source": [
    "# 看一下我們的test_uid（測試資料集的uid）\n",
    "test_uid"
   ]
  },
  {
   "cell_type": "code",
   "execution_count": 43,
   "metadata": {},
   "outputs": [
    {
     "data": {
      "text/html": [
       "<div>\n",
       "<style scoped>\n",
       "    .dataframe tbody tr th:only-of-type {\n",
       "        vertical-align: middle;\n",
       "    }\n",
       "\n",
       "    .dataframe tbody tr th {\n",
       "        vertical-align: top;\n",
       "    }\n",
       "\n",
       "    .dataframe thead th {\n",
       "        text-align: right;\n",
       "    }\n",
       "</style>\n",
       "<table border=\"1\" class=\"dataframe\">\n",
       "  <thead>\n",
       "    <tr style=\"text-align: right;\">\n",
       "      <th></th>\n",
       "      <th>index</th>\n",
       "      <th>UID</th>\n",
       "    </tr>\n",
       "  </thead>\n",
       "  <tbody>\n",
       "    <tr>\n",
       "      <th>0</th>\n",
       "      <td>9394</td>\n",
       "      <td>9394</td>\n",
       "    </tr>\n",
       "    <tr>\n",
       "      <th>1</th>\n",
       "      <td>898</td>\n",
       "      <td>898</td>\n",
       "    </tr>\n",
       "    <tr>\n",
       "      <th>2</th>\n",
       "      <td>2398</td>\n",
       "      <td>2398</td>\n",
       "    </tr>\n",
       "    <tr>\n",
       "      <th>3</th>\n",
       "      <td>5906</td>\n",
       "      <td>5906</td>\n",
       "    </tr>\n",
       "    <tr>\n",
       "      <th>4</th>\n",
       "      <td>2343</td>\n",
       "      <td>2343</td>\n",
       "    </tr>\n",
       "    <tr>\n",
       "      <th>...</th>\n",
       "      <td>...</td>\n",
       "      <td>...</td>\n",
       "    </tr>\n",
       "    <tr>\n",
       "      <th>1995</th>\n",
       "      <td>1037</td>\n",
       "      <td>1037</td>\n",
       "    </tr>\n",
       "    <tr>\n",
       "      <th>1996</th>\n",
       "      <td>2899</td>\n",
       "      <td>2899</td>\n",
       "    </tr>\n",
       "    <tr>\n",
       "      <th>1997</th>\n",
       "      <td>9549</td>\n",
       "      <td>9549</td>\n",
       "    </tr>\n",
       "    <tr>\n",
       "      <th>1998</th>\n",
       "      <td>2740</td>\n",
       "      <td>2740</td>\n",
       "    </tr>\n",
       "    <tr>\n",
       "      <th>1999</th>\n",
       "      <td>6690</td>\n",
       "      <td>6690</td>\n",
       "    </tr>\n",
       "  </tbody>\n",
       "</table>\n",
       "<p>2000 rows × 2 columns</p>\n",
       "</div>"
      ],
      "text/plain": [
       "      index   UID\n",
       "0      9394  9394\n",
       "1       898   898\n",
       "2      2398  2398\n",
       "3      5906  5906\n",
       "4      2343  2343\n",
       "...     ...   ...\n",
       "1995   1037  1037\n",
       "1996   2899  2899\n",
       "1997   9549  9549\n",
       "1998   2740  2740\n",
       "1999   6690  6690\n",
       "\n",
       "[2000 rows x 2 columns]"
      ]
     },
     "execution_count": 43,
     "metadata": {},
     "output_type": "execute_result"
    }
   ],
   "source": [
    "# 將流水號（index）與顧客清單（XGBClassifier_test_df）的流水號一致才可以合併正確\n",
    "# reset_index：將流水號重新編碼，會將流水號獨立出來一個新的欄位\n",
    "# drop(columns = ['index']) ：將【流水號獨立出來一個新的欄位】給刪掉\n",
    "# Q：看似有兩個index，但是最左邊的index會不算在欄位的範圍，知道reset_index後，才會有index在欄位裡面\n",
    "test_uid = test_uid.reset_index()\n",
    "test_uid"
   ]
  },
  {
   "cell_type": "code",
   "execution_count": 44,
   "metadata": {},
   "outputs": [
    {
     "data": {
      "text/html": [
       "<div>\n",
       "<style scoped>\n",
       "    .dataframe tbody tr th:only-of-type {\n",
       "        vertical-align: middle;\n",
       "    }\n",
       "\n",
       "    .dataframe tbody tr th {\n",
       "        vertical-align: top;\n",
       "    }\n",
       "\n",
       "    .dataframe thead th {\n",
       "        text-align: right;\n",
       "    }\n",
       "</style>\n",
       "<table border=\"1\" class=\"dataframe\">\n",
       "  <thead>\n",
       "    <tr style=\"text-align: right;\">\n",
       "      <th></th>\n",
       "      <th>UID</th>\n",
       "    </tr>\n",
       "  </thead>\n",
       "  <tbody>\n",
       "    <tr>\n",
       "      <th>0</th>\n",
       "      <td>9394</td>\n",
       "    </tr>\n",
       "    <tr>\n",
       "      <th>1</th>\n",
       "      <td>898</td>\n",
       "    </tr>\n",
       "    <tr>\n",
       "      <th>2</th>\n",
       "      <td>2398</td>\n",
       "    </tr>\n",
       "    <tr>\n",
       "      <th>3</th>\n",
       "      <td>5906</td>\n",
       "    </tr>\n",
       "    <tr>\n",
       "      <th>4</th>\n",
       "      <td>2343</td>\n",
       "    </tr>\n",
       "    <tr>\n",
       "      <th>...</th>\n",
       "      <td>...</td>\n",
       "    </tr>\n",
       "    <tr>\n",
       "      <th>1995</th>\n",
       "      <td>1037</td>\n",
       "    </tr>\n",
       "    <tr>\n",
       "      <th>1996</th>\n",
       "      <td>2899</td>\n",
       "    </tr>\n",
       "    <tr>\n",
       "      <th>1997</th>\n",
       "      <td>9549</td>\n",
       "    </tr>\n",
       "    <tr>\n",
       "      <th>1998</th>\n",
       "      <td>2740</td>\n",
       "    </tr>\n",
       "    <tr>\n",
       "      <th>1999</th>\n",
       "      <td>6690</td>\n",
       "    </tr>\n",
       "  </tbody>\n",
       "</table>\n",
       "<p>2000 rows × 1 columns</p>\n",
       "</div>"
      ],
      "text/plain": [
       "       UID\n",
       "0     9394\n",
       "1      898\n",
       "2     2398\n",
       "3     5906\n",
       "4     2343\n",
       "...    ...\n",
       "1995  1037\n",
       "1996  2899\n",
       "1997  9549\n",
       "1998  2740\n",
       "1999  6690\n",
       "\n",
       "[2000 rows x 1 columns]"
      ]
     },
     "execution_count": 44,
     "metadata": {},
     "output_type": "execute_result"
    }
   ],
   "source": [
    "# 將index去除\n",
    "test_uid = test_uid.drop(columns = ['index'])\n",
    "test_uid"
   ]
  },
  {
   "attachments": {},
   "cell_type": "markdown",
   "metadata": {},
   "source": [
    "將test_uid與XGBClassifier_test_df結合成2欄"
   ]
  },
  {
   "cell_type": "code",
   "execution_count": 45,
   "metadata": {},
   "outputs": [
    {
     "data": {
      "text/html": [
       "<div>\n",
       "<style scoped>\n",
       "    .dataframe tbody tr th:only-of-type {\n",
       "        vertical-align: middle;\n",
       "    }\n",
       "\n",
       "    .dataframe tbody tr th {\n",
       "        vertical-align: top;\n",
       "    }\n",
       "\n",
       "    .dataframe thead th {\n",
       "        text-align: right;\n",
       "    }\n",
       "</style>\n",
       "<table border=\"1\" class=\"dataframe\">\n",
       "  <thead>\n",
       "    <tr style=\"text-align: right;\">\n",
       "      <th></th>\n",
       "      <th>UID</th>\n",
       "      <th>客戶對A商品【實際】購買狀態</th>\n",
       "      <th>客戶對A商品【預測】購買機率</th>\n",
       "    </tr>\n",
       "  </thead>\n",
       "  <tbody>\n",
       "    <tr>\n",
       "      <th>0</th>\n",
       "      <td>9394</td>\n",
       "      <td>0</td>\n",
       "      <td>0.374514</td>\n",
       "    </tr>\n",
       "    <tr>\n",
       "      <th>1</th>\n",
       "      <td>898</td>\n",
       "      <td>1</td>\n",
       "      <td>0.216812</td>\n",
       "    </tr>\n",
       "    <tr>\n",
       "      <th>2</th>\n",
       "      <td>2398</td>\n",
       "      <td>0</td>\n",
       "      <td>0.157309</td>\n",
       "    </tr>\n",
       "    <tr>\n",
       "      <th>3</th>\n",
       "      <td>5906</td>\n",
       "      <td>0</td>\n",
       "      <td>0.067028</td>\n",
       "    </tr>\n",
       "    <tr>\n",
       "      <th>4</th>\n",
       "      <td>2343</td>\n",
       "      <td>0</td>\n",
       "      <td>0.067427</td>\n",
       "    </tr>\n",
       "    <tr>\n",
       "      <th>...</th>\n",
       "      <td>...</td>\n",
       "      <td>...</td>\n",
       "      <td>...</td>\n",
       "    </tr>\n",
       "    <tr>\n",
       "      <th>1995</th>\n",
       "      <td>1037</td>\n",
       "      <td>0</td>\n",
       "      <td>0.027477</td>\n",
       "    </tr>\n",
       "    <tr>\n",
       "      <th>1996</th>\n",
       "      <td>2899</td>\n",
       "      <td>0</td>\n",
       "      <td>0.051384</td>\n",
       "    </tr>\n",
       "    <tr>\n",
       "      <th>1997</th>\n",
       "      <td>9549</td>\n",
       "      <td>0</td>\n",
       "      <td>0.084153</td>\n",
       "    </tr>\n",
       "    <tr>\n",
       "      <th>1998</th>\n",
       "      <td>2740</td>\n",
       "      <td>0</td>\n",
       "      <td>0.193040</td>\n",
       "    </tr>\n",
       "    <tr>\n",
       "      <th>1999</th>\n",
       "      <td>6690</td>\n",
       "      <td>0</td>\n",
       "      <td>0.212473</td>\n",
       "    </tr>\n",
       "  </tbody>\n",
       "</table>\n",
       "<p>2000 rows × 3 columns</p>\n",
       "</div>"
      ],
      "text/plain": [
       "       UID  客戶對A商品【實際】購買狀態  客戶對A商品【預測】購買機率\n",
       "0     9394               0        0.374514\n",
       "1      898               1        0.216812\n",
       "2     2398               0        0.157309\n",
       "3     5906               0        0.067028\n",
       "4     2343               0        0.067427\n",
       "...    ...             ...             ...\n",
       "1995  1037               0        0.027477\n",
       "1996  2899               0        0.051384\n",
       "1997  9549               0        0.084153\n",
       "1998  2740               0        0.193040\n",
       "1999  6690               0        0.212473\n",
       "\n",
       "[2000 rows x 3 columns]"
      ]
     },
     "execution_count": 45,
     "metadata": {},
     "output_type": "execute_result"
    }
   ],
   "source": [
    "XGBClassifier_test_df = pd.concat([test_uid, XGBClassifier_test_df  ], axis = 1)\n",
    "XGBClassifier_test_df"
   ]
  },
  {
   "cell_type": "code",
   "execution_count": 46,
   "metadata": {},
   "outputs": [
    {
     "data": {
      "text/html": [
       "<div>\n",
       "<style scoped>\n",
       "    .dataframe tbody tr th:only-of-type {\n",
       "        vertical-align: middle;\n",
       "    }\n",
       "\n",
       "    .dataframe tbody tr th {\n",
       "        vertical-align: top;\n",
       "    }\n",
       "\n",
       "    .dataframe thead th {\n",
       "        text-align: right;\n",
       "    }\n",
       "</style>\n",
       "<table border=\"1\" class=\"dataframe\">\n",
       "  <thead>\n",
       "    <tr style=\"text-align: right;\">\n",
       "      <th></th>\n",
       "      <th>UID</th>\n",
       "      <th>客戶對A商品【實際】購買狀態</th>\n",
       "      <th>客戶對A商品【預測】購買機率</th>\n",
       "    </tr>\n",
       "  </thead>\n",
       "  <tbody>\n",
       "    <tr>\n",
       "      <th>733</th>\n",
       "      <td>5922</td>\n",
       "      <td>1</td>\n",
       "      <td>0.981281</td>\n",
       "    </tr>\n",
       "    <tr>\n",
       "      <th>1335</th>\n",
       "      <td>237</td>\n",
       "      <td>1</td>\n",
       "      <td>0.981216</td>\n",
       "    </tr>\n",
       "    <tr>\n",
       "      <th>323</th>\n",
       "      <td>7457</td>\n",
       "      <td>1</td>\n",
       "      <td>0.979898</td>\n",
       "    </tr>\n",
       "    <tr>\n",
       "      <th>1430</th>\n",
       "      <td>2154</td>\n",
       "      <td>1</td>\n",
       "      <td>0.979530</td>\n",
       "    </tr>\n",
       "    <tr>\n",
       "      <th>1357</th>\n",
       "      <td>4563</td>\n",
       "      <td>1</td>\n",
       "      <td>0.977599</td>\n",
       "    </tr>\n",
       "    <tr>\n",
       "      <th>...</th>\n",
       "      <td>...</td>\n",
       "      <td>...</td>\n",
       "      <td>...</td>\n",
       "    </tr>\n",
       "    <tr>\n",
       "      <th>337</th>\n",
       "      <td>2585</td>\n",
       "      <td>0</td>\n",
       "      <td>0.010535</td>\n",
       "    </tr>\n",
       "    <tr>\n",
       "      <th>192</th>\n",
       "      <td>9862</td>\n",
       "      <td>0</td>\n",
       "      <td>0.010484</td>\n",
       "    </tr>\n",
       "    <tr>\n",
       "      <th>1239</th>\n",
       "      <td>9752</td>\n",
       "      <td>0</td>\n",
       "      <td>0.010370</td>\n",
       "    </tr>\n",
       "    <tr>\n",
       "      <th>805</th>\n",
       "      <td>2250</td>\n",
       "      <td>0</td>\n",
       "      <td>0.010152</td>\n",
       "    </tr>\n",
       "    <tr>\n",
       "      <th>523</th>\n",
       "      <td>3842</td>\n",
       "      <td>0</td>\n",
       "      <td>0.010151</td>\n",
       "    </tr>\n",
       "  </tbody>\n",
       "</table>\n",
       "<p>2000 rows × 3 columns</p>\n",
       "</div>"
      ],
      "text/plain": [
       "       UID  客戶對A商品【實際】購買狀態  客戶對A商品【預測】購買機率\n",
       "733   5922               1        0.981281\n",
       "1335   237               1        0.981216\n",
       "323   7457               1        0.979898\n",
       "1430  2154               1        0.979530\n",
       "1357  4563               1        0.977599\n",
       "...    ...             ...             ...\n",
       "337   2585               0        0.010535\n",
       "192   9862               0        0.010484\n",
       "1239  9752               0        0.010370\n",
       "805   2250               0        0.010152\n",
       "523   3842               0        0.010151\n",
       "\n",
       "[2000 rows x 3 columns]"
      ]
     },
     "execution_count": 46,
     "metadata": {},
     "output_type": "execute_result"
    }
   ],
   "source": [
    "XGBClassifier_test_df = XGBClassifier_test_df.sort_values('客戶對A商品【預測】購買機率', ascending=False)\n",
    "XGBClassifier_test_df"
   ]
  },
  {
   "cell_type": "code",
   "execution_count": 47,
   "metadata": {},
   "outputs": [],
   "source": [
    "XGBClassifier_test_df.to_csv('顧客產品推薦名單.csv', encoding='utf-8-sig')"
   ]
  },
  {
   "cell_type": "code",
   "execution_count": 48,
   "metadata": {},
   "outputs": [
    {
     "data": {
      "text/html": [
       "<div>\n",
       "<style scoped>\n",
       "    .dataframe tbody tr th:only-of-type {\n",
       "        vertical-align: middle;\n",
       "    }\n",
       "\n",
       "    .dataframe tbody tr th {\n",
       "        vertical-align: top;\n",
       "    }\n",
       "\n",
       "    .dataframe thead th {\n",
       "        text-align: right;\n",
       "    }\n",
       "</style>\n",
       "<table border=\"1\" class=\"dataframe\">\n",
       "  <thead>\n",
       "    <tr style=\"text-align: right;\">\n",
       "      <th></th>\n",
       "      <th>UID</th>\n",
       "      <th>客戶對A商品【實際】購買狀態</th>\n",
       "      <th>客戶對A商品【預測】購買機率</th>\n",
       "    </tr>\n",
       "  </thead>\n",
       "  <tbody>\n",
       "    <tr>\n",
       "      <th>733</th>\n",
       "      <td>5922</td>\n",
       "      <td>1</td>\n",
       "      <td>0.981281</td>\n",
       "    </tr>\n",
       "    <tr>\n",
       "      <th>1335</th>\n",
       "      <td>237</td>\n",
       "      <td>1</td>\n",
       "      <td>0.981216</td>\n",
       "    </tr>\n",
       "    <tr>\n",
       "      <th>323</th>\n",
       "      <td>7457</td>\n",
       "      <td>1</td>\n",
       "      <td>0.979898</td>\n",
       "    </tr>\n",
       "    <tr>\n",
       "      <th>1430</th>\n",
       "      <td>2154</td>\n",
       "      <td>1</td>\n",
       "      <td>0.979530</td>\n",
       "    </tr>\n",
       "    <tr>\n",
       "      <th>1357</th>\n",
       "      <td>4563</td>\n",
       "      <td>1</td>\n",
       "      <td>0.977599</td>\n",
       "    </tr>\n",
       "    <tr>\n",
       "      <th>...</th>\n",
       "      <td>...</td>\n",
       "      <td>...</td>\n",
       "      <td>...</td>\n",
       "    </tr>\n",
       "    <tr>\n",
       "      <th>337</th>\n",
       "      <td>2585</td>\n",
       "      <td>0</td>\n",
       "      <td>0.010535</td>\n",
       "    </tr>\n",
       "    <tr>\n",
       "      <th>192</th>\n",
       "      <td>9862</td>\n",
       "      <td>0</td>\n",
       "      <td>0.010484</td>\n",
       "    </tr>\n",
       "    <tr>\n",
       "      <th>1239</th>\n",
       "      <td>9752</td>\n",
       "      <td>0</td>\n",
       "      <td>0.010370</td>\n",
       "    </tr>\n",
       "    <tr>\n",
       "      <th>805</th>\n",
       "      <td>2250</td>\n",
       "      <td>0</td>\n",
       "      <td>0.010152</td>\n",
       "    </tr>\n",
       "    <tr>\n",
       "      <th>523</th>\n",
       "      <td>3842</td>\n",
       "      <td>0</td>\n",
       "      <td>0.010151</td>\n",
       "    </tr>\n",
       "  </tbody>\n",
       "</table>\n",
       "<p>2000 rows × 3 columns</p>\n",
       "</div>"
      ],
      "text/plain": [
       "       UID  客戶對A商品【實際】購買狀態  客戶對A商品【預測】購買機率\n",
       "733   5922               1        0.981281\n",
       "1335   237               1        0.981216\n",
       "323   7457               1        0.979898\n",
       "1430  2154               1        0.979530\n",
       "1357  4563               1        0.977599\n",
       "...    ...             ...             ...\n",
       "337   2585               0        0.010535\n",
       "192   9862               0        0.010484\n",
       "1239  9752               0        0.010370\n",
       "805   2250               0        0.010152\n",
       "523   3842               0        0.010151\n",
       "\n",
       "[2000 rows x 3 columns]"
      ]
     },
     "execution_count": 48,
     "metadata": {},
     "output_type": "execute_result"
    }
   ],
   "source": [
    "# 用 util.py 之自定義函式重新 run 一次\n",
    "from util import client_list\n",
    "client_list(model = xgb_model,y_test=y_test, X_test=X_test, test_uid=test_uid, name = 'test')"
   ]
  },
  {
   "attachments": {},
   "cell_type": "markdown",
   "metadata": {},
   "source": [
    "## 九、儲存model"
   ]
  },
  {
   "cell_type": "code",
   "execution_count": 49,
   "metadata": {},
   "outputs": [],
   "source": [
    "import pickle"
   ]
  },
  {
   "cell_type": "code",
   "execution_count": 50,
   "metadata": {},
   "outputs": [],
   "source": [
    "# 商業意涵\n",
    "# 1. 不用再次訓練本模型，僅需要再次載入及預測新資料即可\n",
    "# 2. 可以做合作夥伴第二次生意，保密模型的訓練過程\n",
    "pickle.dump(xgb_model, open(\"xgb_model.dat\", \"wb\"))  #wb : write binary (寫入成二元檔案)\n"
   ]
  },
  {
   "cell_type": "code",
   "execution_count": 51,
   "metadata": {},
   "outputs": [
    {
     "data": {
      "text/html": [
       "<style>#sk-container-id-6 {color: black;background-color: white;}#sk-container-id-6 pre{padding: 0;}#sk-container-id-6 div.sk-toggleable {background-color: white;}#sk-container-id-6 label.sk-toggleable__label {cursor: pointer;display: block;width: 100%;margin-bottom: 0;padding: 0.3em;box-sizing: border-box;text-align: center;}#sk-container-id-6 label.sk-toggleable__label-arrow:before {content: \"▸\";float: left;margin-right: 0.25em;color: #696969;}#sk-container-id-6 label.sk-toggleable__label-arrow:hover:before {color: black;}#sk-container-id-6 div.sk-estimator:hover label.sk-toggleable__label-arrow:before {color: black;}#sk-container-id-6 div.sk-toggleable__content {max-height: 0;max-width: 0;overflow: hidden;text-align: left;background-color: #f0f8ff;}#sk-container-id-6 div.sk-toggleable__content pre {margin: 0.2em;color: black;border-radius: 0.25em;background-color: #f0f8ff;}#sk-container-id-6 input.sk-toggleable__control:checked~div.sk-toggleable__content {max-height: 200px;max-width: 100%;overflow: auto;}#sk-container-id-6 input.sk-toggleable__control:checked~label.sk-toggleable__label-arrow:before {content: \"▾\";}#sk-container-id-6 div.sk-estimator input.sk-toggleable__control:checked~label.sk-toggleable__label {background-color: #d4ebff;}#sk-container-id-6 div.sk-label input.sk-toggleable__control:checked~label.sk-toggleable__label {background-color: #d4ebff;}#sk-container-id-6 input.sk-hidden--visually {border: 0;clip: rect(1px 1px 1px 1px);clip: rect(1px, 1px, 1px, 1px);height: 1px;margin: -1px;overflow: hidden;padding: 0;position: absolute;width: 1px;}#sk-container-id-6 div.sk-estimator {font-family: monospace;background-color: #f0f8ff;border: 1px dotted black;border-radius: 0.25em;box-sizing: border-box;margin-bottom: 0.5em;}#sk-container-id-6 div.sk-estimator:hover {background-color: #d4ebff;}#sk-container-id-6 div.sk-parallel-item::after {content: \"\";width: 100%;border-bottom: 1px solid gray;flex-grow: 1;}#sk-container-id-6 div.sk-label:hover label.sk-toggleable__label {background-color: #d4ebff;}#sk-container-id-6 div.sk-serial::before {content: \"\";position: absolute;border-left: 1px solid gray;box-sizing: border-box;top: 0;bottom: 0;left: 50%;z-index: 0;}#sk-container-id-6 div.sk-serial {display: flex;flex-direction: column;align-items: center;background-color: white;padding-right: 0.2em;padding-left: 0.2em;position: relative;}#sk-container-id-6 div.sk-item {position: relative;z-index: 1;}#sk-container-id-6 div.sk-parallel {display: flex;align-items: stretch;justify-content: center;background-color: white;position: relative;}#sk-container-id-6 div.sk-item::before, #sk-container-id-6 div.sk-parallel-item::before {content: \"\";position: absolute;border-left: 1px solid gray;box-sizing: border-box;top: 0;bottom: 0;left: 50%;z-index: -1;}#sk-container-id-6 div.sk-parallel-item {display: flex;flex-direction: column;z-index: 1;position: relative;background-color: white;}#sk-container-id-6 div.sk-parallel-item:first-child::after {align-self: flex-end;width: 50%;}#sk-container-id-6 div.sk-parallel-item:last-child::after {align-self: flex-start;width: 50%;}#sk-container-id-6 div.sk-parallel-item:only-child::after {width: 0;}#sk-container-id-6 div.sk-dashed-wrapped {border: 1px dashed gray;margin: 0 0.4em 0.5em 0.4em;box-sizing: border-box;padding-bottom: 0.4em;background-color: white;}#sk-container-id-6 div.sk-label label {font-family: monospace;font-weight: bold;display: inline-block;line-height: 1.2em;}#sk-container-id-6 div.sk-label-container {text-align: center;}#sk-container-id-6 div.sk-container {/* jupyter's `normalize.less` sets `[hidden] { display: none; }` but bootstrap.min.css set `[hidden] { display: none !important; }` so we also need the `!important` here to be able to override the default hidden behavior on the sphinx rendered scikit-learn.org. See: https://github.com/scikit-learn/scikit-learn/issues/21755 */display: inline-block !important;position: relative;}#sk-container-id-6 div.sk-text-repr-fallback {display: none;}</style><div id=\"sk-container-id-6\" class=\"sk-top-container\"><div class=\"sk-text-repr-fallback\"><pre>XGBClassifier(base_score=None, booster=None, callbacks=None,\n",
       "              colsample_bylevel=None, colsample_bynode=None,\n",
       "              colsample_bytree=None, early_stopping_rounds=None,\n",
       "              enable_categorical=False, eval_metric=None, feature_types=None,\n",
       "              gamma=None, gpu_id=None, grow_policy=None, importance_type=None,\n",
       "              interaction_constraints=None, learning_rate=0.01, max_bin=None,\n",
       "              max_cat_threshold=None, max_cat_to_onehot=None,\n",
       "              max_delta_step=None, max_depth=None, max_leaves=None,\n",
       "              min_child_weight=None, missing=nan, monotone_constraints=None,\n",
       "              n_estimators=500, n_jobs=None, nthread=8, num_parallel_tree=None,\n",
       "              predictor=None, ...)</pre><b>In a Jupyter environment, please rerun this cell to show the HTML representation or trust the notebook. <br />On GitHub, the HTML representation is unable to render, please try loading this page with nbviewer.org.</b></div><div class=\"sk-container\" hidden><div class=\"sk-item\"><div class=\"sk-estimator sk-toggleable\"><input class=\"sk-toggleable__control sk-hidden--visually\" id=\"sk-estimator-id-6\" type=\"checkbox\" checked><label for=\"sk-estimator-id-6\" class=\"sk-toggleable__label sk-toggleable__label-arrow\">XGBClassifier</label><div class=\"sk-toggleable__content\"><pre>XGBClassifier(base_score=None, booster=None, callbacks=None,\n",
       "              colsample_bylevel=None, colsample_bynode=None,\n",
       "              colsample_bytree=None, early_stopping_rounds=None,\n",
       "              enable_categorical=False, eval_metric=None, feature_types=None,\n",
       "              gamma=None, gpu_id=None, grow_policy=None, importance_type=None,\n",
       "              interaction_constraints=None, learning_rate=0.01, max_bin=None,\n",
       "              max_cat_threshold=None, max_cat_to_onehot=None,\n",
       "              max_delta_step=None, max_depth=None, max_leaves=None,\n",
       "              min_child_weight=None, missing=nan, monotone_constraints=None,\n",
       "              n_estimators=500, n_jobs=None, nthread=8, num_parallel_tree=None,\n",
       "              predictor=None, ...)</pre></div></div></div></div></div>"
      ],
      "text/plain": [
       "XGBClassifier(base_score=None, booster=None, callbacks=None,\n",
       "              colsample_bylevel=None, colsample_bynode=None,\n",
       "              colsample_bytree=None, early_stopping_rounds=None,\n",
       "              enable_categorical=False, eval_metric=None, feature_types=None,\n",
       "              gamma=None, gpu_id=None, grow_policy=None, importance_type=None,\n",
       "              interaction_constraints=None, learning_rate=0.01, max_bin=None,\n",
       "              max_cat_threshold=None, max_cat_to_onehot=None,\n",
       "              max_delta_step=None, max_depth=None, max_leaves=None,\n",
       "              min_child_weight=None, missing=nan, monotone_constraints=None,\n",
       "              n_estimators=500, n_jobs=None, nthread=8, num_parallel_tree=None,\n",
       "              predictor=None, ...)"
      ]
     },
     "execution_count": 51,
     "metadata": {},
     "output_type": "execute_result"
    }
   ],
   "source": [
    "# 未來直接 load 模型即可使用\n",
    "model_xgb = pickle.load(open(\"xgb_model.dat\", \"rb\")) # read binary\n",
    "model_xgb"
   ]
  },
  {
   "cell_type": "code",
   "execution_count": null,
   "metadata": {},
   "outputs": [],
   "source": []
  }
 ],
 "metadata": {
  "kernelspec": {
   "display_name": "base",
   "language": "python",
   "name": "python3"
  },
  "language_info": {
   "codemirror_mode": {
    "name": "ipython",
    "version": 3
   },
   "file_extension": ".py",
   "mimetype": "text/x-python",
   "name": "python",
   "nbconvert_exporter": "python",
   "pygments_lexer": "ipython3",
   "version": "3.10.9"
  },
  "orig_nbformat": 4
 },
 "nbformat": 4,
 "nbformat_minor": 2
}
