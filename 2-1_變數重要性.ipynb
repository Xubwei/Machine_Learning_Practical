{
 "cells": [
  {
   "attachments": {},
   "cell_type": "markdown",
   "metadata": {},
   "source": [
    "# 變數重要性"
   ]
  },
  {
   "attachments": {},
   "cell_type": "markdown",
   "metadata": {},
   "source": [
    "## 一、載入套件及資料集"
   ]
  },
  {
   "cell_type": "code",
   "execution_count": 75,
   "metadata": {},
   "outputs": [],
   "source": [
    "import os\n",
    "os.environ['KMP_DUPLICATE_LIB_OK']='True'\n",
    "from util import get_dummies, detect_str_columns,model,profit_linechart,profit_linechart_all,logistic_model\n",
    "import pandas as pd\n",
    "from sklearn.ensemble import RandomForestClassifier\n",
    "from xgboost import XGBClassifier\n",
    "from sklearn.model_selection import train_test_split\n",
    "import numpy as np\n",
    "\n",
    "# ----設定繪圖-------\n",
    "from plotly.offline import download_plotlyjs, init_notebook_mode, plot, iplot\n",
    "import plotly.express as px\n"
   ]
  },
  {
   "cell_type": "code",
   "execution_count": 76,
   "metadata": {},
   "outputs": [
    {
     "data": {
      "text/html": [
       "<div>\n",
       "<style scoped>\n",
       "    .dataframe tbody tr th:only-of-type {\n",
       "        vertical-align: middle;\n",
       "    }\n",
       "\n",
       "    .dataframe tbody tr th {\n",
       "        vertical-align: top;\n",
       "    }\n",
       "\n",
       "    .dataframe thead th {\n",
       "        text-align: right;\n",
       "    }\n",
       "</style>\n",
       "<table border=\"1\" class=\"dataframe\">\n",
       "  <thead>\n",
       "    <tr style=\"text-align: right;\">\n",
       "      <th></th>\n",
       "      <th>Prod_output_num</th>\n",
       "      <th>locations</th>\n",
       "      <th>gender</th>\n",
       "      <th>age</th>\n",
       "      <th>click_on_prod</th>\n",
       "      <th>balance</th>\n",
       "      <th>registry_to_use_time</th>\n",
       "      <th>credit_card_paid</th>\n",
       "      <th>active_member</th>\n",
       "      <th>estimated_salary</th>\n",
       "      <th>buy</th>\n",
       "      <th>UID</th>\n",
       "    </tr>\n",
       "  </thead>\n",
       "  <tbody>\n",
       "    <tr>\n",
       "      <th>0</th>\n",
       "      <td>619</td>\n",
       "      <td>Taipei</td>\n",
       "      <td>Female</td>\n",
       "      <td>42</td>\n",
       "      <td>2</td>\n",
       "      <td>0.00</td>\n",
       "      <td>4</td>\n",
       "      <td>1</td>\n",
       "      <td>0</td>\n",
       "      <td>101348.88</td>\n",
       "      <td>1</td>\n",
       "      <td>0</td>\n",
       "    </tr>\n",
       "    <tr>\n",
       "      <th>1</th>\n",
       "      <td>608</td>\n",
       "      <td>Tainan</td>\n",
       "      <td>Female</td>\n",
       "      <td>41</td>\n",
       "      <td>1</td>\n",
       "      <td>83807.86</td>\n",
       "      <td>4</td>\n",
       "      <td>0</td>\n",
       "      <td>0</td>\n",
       "      <td>112542.58</td>\n",
       "      <td>0</td>\n",
       "      <td>1</td>\n",
       "    </tr>\n",
       "    <tr>\n",
       "      <th>2</th>\n",
       "      <td>502</td>\n",
       "      <td>Taipei</td>\n",
       "      <td>Female</td>\n",
       "      <td>42</td>\n",
       "      <td>8</td>\n",
       "      <td>159660.80</td>\n",
       "      <td>2</td>\n",
       "      <td>1</td>\n",
       "      <td>1</td>\n",
       "      <td>113931.57</td>\n",
       "      <td>1</td>\n",
       "      <td>2</td>\n",
       "    </tr>\n",
       "    <tr>\n",
       "      <th>3</th>\n",
       "      <td>699</td>\n",
       "      <td>Taipei</td>\n",
       "      <td>Female</td>\n",
       "      <td>39</td>\n",
       "      <td>1</td>\n",
       "      <td>0.00</td>\n",
       "      <td>3</td>\n",
       "      <td>0</td>\n",
       "      <td>1</td>\n",
       "      <td>93826.63</td>\n",
       "      <td>0</td>\n",
       "      <td>3</td>\n",
       "    </tr>\n",
       "    <tr>\n",
       "      <th>4</th>\n",
       "      <td>850</td>\n",
       "      <td>Tainan</td>\n",
       "      <td>Female</td>\n",
       "      <td>43</td>\n",
       "      <td>2</td>\n",
       "      <td>125510.82</td>\n",
       "      <td>4</td>\n",
       "      <td>1</td>\n",
       "      <td>0</td>\n",
       "      <td>79084.10</td>\n",
       "      <td>0</td>\n",
       "      <td>4</td>\n",
       "    </tr>\n",
       "  </tbody>\n",
       "</table>\n",
       "</div>"
      ],
      "text/plain": [
       "   Prod_output_num locations  gender  age  click_on_prod    balance  \\\n",
       "0              619    Taipei  Female   42              2       0.00   \n",
       "1              608    Tainan  Female   41              1   83807.86   \n",
       "2              502    Taipei  Female   42              8  159660.80   \n",
       "3              699    Taipei  Female   39              1       0.00   \n",
       "4              850    Tainan  Female   43              2  125510.82   \n",
       "\n",
       "   registry_to_use_time  credit_card_paid  active_member  estimated_salary  \\\n",
       "0                     4                 1              0         101348.88   \n",
       "1                     4                 0              0         112542.58   \n",
       "2                     2                 1              1         113931.57   \n",
       "3                     3                 0              1          93826.63   \n",
       "4                     4                 1              0          79084.10   \n",
       "\n",
       "   buy  UID  \n",
       "0    1    0  \n",
       "1    0    1  \n",
       "2    1    2  \n",
       "3    0    3  \n",
       "4    0    4  "
      ]
     },
     "execution_count": 76,
     "metadata": {},
     "output_type": "execute_result"
    }
   ],
   "source": [
    "# 讀取資料\n",
    "data = pd.read_csv('contract.csv')\n",
    "data.head(5)"
   ]
  },
  {
   "attachments": {},
   "cell_type": "markdown",
   "metadata": {},
   "source": [
    "## 二、資料前處理"
   ]
  },
  {
   "cell_type": "code",
   "execution_count": 77,
   "metadata": {},
   "outputs": [],
   "source": [
    "# 偵測有字串的欄位\n",
    "str_columns = detect_str_columns(data)\n",
    "dataset = get_dummies(str_columns, data)\n",
    "\n",
    "# 切分資料集\n",
    "X =dataset.drop(columns=['buy'])\n",
    "y =dataset['buy']\n",
    "\n",
    "X_train, X_test, y_train, y_test = train_test_split(X, y, test_size = 0.2, random_state = 0) \n",
    "# 保留UID\n",
    "train_uid = X_train['UID']\n",
    "test_uid = X_test['UID']\n",
    "\n",
    "# 設定xgb 分類模型\n",
    "# 刪除UID\n",
    "del X_train['UID']\n",
    "del X_test['UID']"
   ]
  },
  {
   "attachments": {},
   "cell_type": "markdown",
   "metadata": {},
   "source": [
    "## 三、XGBClassifier重要性分析"
   ]
  },
  {
   "cell_type": "code",
   "execution_count": 78,
   "metadata": {},
   "outputs": [],
   "source": [
    "xgb_model = XGBClassifier(n_estimators = 300, random_state = 0,nthread = 8)"
   ]
  },
  {
   "cell_type": "code",
   "execution_count": 79,
   "metadata": {},
   "outputs": [
    {
     "name": "stdout",
     "output_type": "stream",
     "text": [
      "[0]\tvalidation_0-logloss:0.54555\tvalidation_1-logloss:0.54844\n",
      "[1]\tvalidation_0-logloss:0.46487\tvalidation_1-logloss:0.46964\n",
      "[2]\tvalidation_0-logloss:0.41426\tvalidation_1-logloss:0.42155\n",
      "[3]\tvalidation_0-logloss:0.38225\tvalidation_1-logloss:0.39151\n",
      "[4]\tvalidation_0-logloss:0.35869\tvalidation_1-logloss:0.37068\n",
      "[5]\tvalidation_0-logloss:0.34120\tvalidation_1-logloss:0.35691\n",
      "[6]\tvalidation_0-logloss:0.32922\tvalidation_1-logloss:0.34798\n",
      "[7]\tvalidation_0-logloss:0.31883\tvalidation_1-logloss:0.34201\n",
      "[8]\tvalidation_0-logloss:0.31095\tvalidation_1-logloss:0.33791\n",
      "[9]\tvalidation_0-logloss:0.30463\tvalidation_1-logloss:0.33557\n",
      "[10]\tvalidation_0-logloss:0.30081\tvalidation_1-logloss:0.33410\n",
      "[11]\tvalidation_0-logloss:0.29698\tvalidation_1-logloss:0.33393\n",
      "[12]\tvalidation_0-logloss:0.29254\tvalidation_1-logloss:0.33239\n",
      "[13]\tvalidation_0-logloss:0.28987\tvalidation_1-logloss:0.33148\n",
      "[14]\tvalidation_0-logloss:0.28509\tvalidation_1-logloss:0.33241\n",
      "[15]\tvalidation_0-logloss:0.28060\tvalidation_1-logloss:0.33055\n",
      "[16]\tvalidation_0-logloss:0.27873\tvalidation_1-logloss:0.33060\n",
      "[17]\tvalidation_0-logloss:0.27707\tvalidation_1-logloss:0.33108\n",
      "[18]\tvalidation_0-logloss:0.27369\tvalidation_1-logloss:0.33336\n",
      "[19]\tvalidation_0-logloss:0.27085\tvalidation_1-logloss:0.33120\n",
      "[20]\tvalidation_0-logloss:0.26912\tvalidation_1-logloss:0.33124\n",
      "[21]\tvalidation_0-logloss:0.26543\tvalidation_1-logloss:0.33293\n",
      "[22]\tvalidation_0-logloss:0.26309\tvalidation_1-logloss:0.33358\n",
      "[23]\tvalidation_0-logloss:0.26093\tvalidation_1-logloss:0.33469\n",
      "[24]\tvalidation_0-logloss:0.25988\tvalidation_1-logloss:0.33466\n",
      "[25]\tvalidation_0-logloss:0.25697\tvalidation_1-logloss:0.33329\n",
      "[26]\tvalidation_0-logloss:0.25537\tvalidation_1-logloss:0.33325\n",
      "[27]\tvalidation_0-logloss:0.25466\tvalidation_1-logloss:0.33349\n",
      "[28]\tvalidation_0-logloss:0.25083\tvalidation_1-logloss:0.33348\n",
      "[29]\tvalidation_0-logloss:0.24639\tvalidation_1-logloss:0.33405\n",
      "[30]\tvalidation_0-logloss:0.24433\tvalidation_1-logloss:0.33434\n",
      "[31]\tvalidation_0-logloss:0.24050\tvalidation_1-logloss:0.33511\n",
      "[32]\tvalidation_0-logloss:0.24012\tvalidation_1-logloss:0.33582\n",
      "[33]\tvalidation_0-logloss:0.23892\tvalidation_1-logloss:0.33555\n",
      "[34]\tvalidation_0-logloss:0.23761\tvalidation_1-logloss:0.33588\n",
      "[35]\tvalidation_0-logloss:0.23717\tvalidation_1-logloss:0.33612\n",
      "[36]\tvalidation_0-logloss:0.23603\tvalidation_1-logloss:0.33660\n",
      "[37]\tvalidation_0-logloss:0.23373\tvalidation_1-logloss:0.33654\n",
      "[38]\tvalidation_0-logloss:0.23263\tvalidation_1-logloss:0.33656\n",
      "[39]\tvalidation_0-logloss:0.23193\tvalidation_1-logloss:0.33713\n",
      "[40]\tvalidation_0-logloss:0.23000\tvalidation_1-logloss:0.33739\n",
      "[41]\tvalidation_0-logloss:0.22777\tvalidation_1-logloss:0.33847\n",
      "[42]\tvalidation_0-logloss:0.22511\tvalidation_1-logloss:0.33926\n",
      "[43]\tvalidation_0-logloss:0.22429\tvalidation_1-logloss:0.33965\n",
      "[44]\tvalidation_0-logloss:0.22093\tvalidation_1-logloss:0.33975\n",
      "[45]\tvalidation_0-logloss:0.22049\tvalidation_1-logloss:0.34017\n",
      "[46]\tvalidation_0-logloss:0.21995\tvalidation_1-logloss:0.34000\n",
      "[47]\tvalidation_0-logloss:0.21813\tvalidation_1-logloss:0.34066\n",
      "[48]\tvalidation_0-logloss:0.21768\tvalidation_1-logloss:0.34073\n",
      "[49]\tvalidation_0-logloss:0.21732\tvalidation_1-logloss:0.34145\n",
      "[50]\tvalidation_0-logloss:0.21569\tvalidation_1-logloss:0.34162\n",
      "[51]\tvalidation_0-logloss:0.21379\tvalidation_1-logloss:0.34127\n",
      "[52]\tvalidation_0-logloss:0.21161\tvalidation_1-logloss:0.34121\n",
      "[53]\tvalidation_0-logloss:0.21136\tvalidation_1-logloss:0.34168\n",
      "[54]\tvalidation_0-logloss:0.20891\tvalidation_1-logloss:0.34268\n",
      "[55]\tvalidation_0-logloss:0.20524\tvalidation_1-logloss:0.34228\n",
      "[56]\tvalidation_0-logloss:0.20295\tvalidation_1-logloss:0.34192\n",
      "[57]\tvalidation_0-logloss:0.20185\tvalidation_1-logloss:0.34186\n",
      "[58]\tvalidation_0-logloss:0.20091\tvalidation_1-logloss:0.34243\n",
      "[59]\tvalidation_0-logloss:0.19914\tvalidation_1-logloss:0.34345\n",
      "[60]\tvalidation_0-logloss:0.19734\tvalidation_1-logloss:0.34401\n",
      "[61]\tvalidation_0-logloss:0.19691\tvalidation_1-logloss:0.34408\n",
      "[62]\tvalidation_0-logloss:0.19658\tvalidation_1-logloss:0.34431\n",
      "[63]\tvalidation_0-logloss:0.19429\tvalidation_1-logloss:0.34492\n",
      "[64]\tvalidation_0-logloss:0.19218\tvalidation_1-logloss:0.34582\n",
      "[65]\tvalidation_0-logloss:0.19112\tvalidation_1-logloss:0.34544\n",
      "[66]\tvalidation_0-logloss:0.19025\tvalidation_1-logloss:0.34567\n",
      "[67]\tvalidation_0-logloss:0.18995\tvalidation_1-logloss:0.34594\n",
      "[68]\tvalidation_0-logloss:0.18971\tvalidation_1-logloss:0.34597\n",
      "[69]\tvalidation_0-logloss:0.18778\tvalidation_1-logloss:0.34656\n",
      "[70]\tvalidation_0-logloss:0.18696\tvalidation_1-logloss:0.34657\n",
      "[71]\tvalidation_0-logloss:0.18641\tvalidation_1-logloss:0.34671\n",
      "[72]\tvalidation_0-logloss:0.18627\tvalidation_1-logloss:0.34665\n",
      "[73]\tvalidation_0-logloss:0.18498\tvalidation_1-logloss:0.34736\n",
      "[74]\tvalidation_0-logloss:0.18389\tvalidation_1-logloss:0.34782\n",
      "[75]\tvalidation_0-logloss:0.18270\tvalidation_1-logloss:0.34934\n",
      "[76]\tvalidation_0-logloss:0.18041\tvalidation_1-logloss:0.35021\n",
      "[77]\tvalidation_0-logloss:0.18003\tvalidation_1-logloss:0.35033\n",
      "[78]\tvalidation_0-logloss:0.17917\tvalidation_1-logloss:0.35046\n",
      "[79]\tvalidation_0-logloss:0.17785\tvalidation_1-logloss:0.35116\n",
      "[80]\tvalidation_0-logloss:0.17683\tvalidation_1-logloss:0.35138\n",
      "[81]\tvalidation_0-logloss:0.17433\tvalidation_1-logloss:0.35166\n",
      "[82]\tvalidation_0-logloss:0.17331\tvalidation_1-logloss:0.35205\n",
      "[83]\tvalidation_0-logloss:0.17221\tvalidation_1-logloss:0.35278\n",
      "[84]\tvalidation_0-logloss:0.17180\tvalidation_1-logloss:0.35291\n",
      "[85]\tvalidation_0-logloss:0.17052\tvalidation_1-logloss:0.35316\n",
      "[86]\tvalidation_0-logloss:0.17014\tvalidation_1-logloss:0.35356\n",
      "[87]\tvalidation_0-logloss:0.16810\tvalidation_1-logloss:0.35416\n",
      "[88]\tvalidation_0-logloss:0.16699\tvalidation_1-logloss:0.35470\n",
      "[89]\tvalidation_0-logloss:0.16595\tvalidation_1-logloss:0.35486\n",
      "[90]\tvalidation_0-logloss:0.16414\tvalidation_1-logloss:0.35546\n",
      "[91]\tvalidation_0-logloss:0.16236\tvalidation_1-logloss:0.35596\n",
      "[92]\tvalidation_0-logloss:0.16161\tvalidation_1-logloss:0.35664\n",
      "[93]\tvalidation_0-logloss:0.16025\tvalidation_1-logloss:0.35707\n",
      "[94]\tvalidation_0-logloss:0.15937\tvalidation_1-logloss:0.35744\n",
      "[95]\tvalidation_0-logloss:0.15829\tvalidation_1-logloss:0.35769\n",
      "[96]\tvalidation_0-logloss:0.15802\tvalidation_1-logloss:0.35831\n",
      "[97]\tvalidation_0-logloss:0.15676\tvalidation_1-logloss:0.35875\n",
      "[98]\tvalidation_0-logloss:0.15566\tvalidation_1-logloss:0.35981\n",
      "[99]\tvalidation_0-logloss:0.15511\tvalidation_1-logloss:0.36043\n",
      "[100]\tvalidation_0-logloss:0.15400\tvalidation_1-logloss:0.36062\n",
      "[101]\tvalidation_0-logloss:0.15199\tvalidation_1-logloss:0.36204\n",
      "[102]\tvalidation_0-logloss:0.15067\tvalidation_1-logloss:0.36146\n",
      "[103]\tvalidation_0-logloss:0.15012\tvalidation_1-logloss:0.36175\n",
      "[104]\tvalidation_0-logloss:0.14880\tvalidation_1-logloss:0.36312\n",
      "[105]\tvalidation_0-logloss:0.14772\tvalidation_1-logloss:0.36425\n",
      "[106]\tvalidation_0-logloss:0.14748\tvalidation_1-logloss:0.36437\n",
      "[107]\tvalidation_0-logloss:0.14675\tvalidation_1-logloss:0.36435\n",
      "[108]\tvalidation_0-logloss:0.14666\tvalidation_1-logloss:0.36481\n",
      "[109]\tvalidation_0-logloss:0.14548\tvalidation_1-logloss:0.36524\n",
      "[110]\tvalidation_0-logloss:0.14491\tvalidation_1-logloss:0.36579\n",
      "[111]\tvalidation_0-logloss:0.14481\tvalidation_1-logloss:0.36599\n",
      "[112]\tvalidation_0-logloss:0.14469\tvalidation_1-logloss:0.36599\n",
      "[113]\tvalidation_0-logloss:0.14346\tvalidation_1-logloss:0.36615\n",
      "[114]\tvalidation_0-logloss:0.14256\tvalidation_1-logloss:0.36655\n",
      "[115]\tvalidation_0-logloss:0.14106\tvalidation_1-logloss:0.36773\n",
      "[116]\tvalidation_0-logloss:0.14017\tvalidation_1-logloss:0.36821\n",
      "[117]\tvalidation_0-logloss:0.13848\tvalidation_1-logloss:0.36909\n",
      "[118]\tvalidation_0-logloss:0.13754\tvalidation_1-logloss:0.36971\n",
      "[119]\tvalidation_0-logloss:0.13664\tvalidation_1-logloss:0.36990\n",
      "[120]\tvalidation_0-logloss:0.13567\tvalidation_1-logloss:0.37022\n",
      "[121]\tvalidation_0-logloss:0.13521\tvalidation_1-logloss:0.37116\n",
      "[122]\tvalidation_0-logloss:0.13425\tvalidation_1-logloss:0.37199\n",
      "[123]\tvalidation_0-logloss:0.13339\tvalidation_1-logloss:0.37255\n",
      "[124]\tvalidation_0-logloss:0.13298\tvalidation_1-logloss:0.37280\n",
      "[125]\tvalidation_0-logloss:0.13265\tvalidation_1-logloss:0.37340\n",
      "[126]\tvalidation_0-logloss:0.13093\tvalidation_1-logloss:0.37389\n",
      "[127]\tvalidation_0-logloss:0.13026\tvalidation_1-logloss:0.37451\n",
      "[128]\tvalidation_0-logloss:0.12965\tvalidation_1-logloss:0.37444\n",
      "[129]\tvalidation_0-logloss:0.12960\tvalidation_1-logloss:0.37454\n",
      "[130]\tvalidation_0-logloss:0.12917\tvalidation_1-logloss:0.37516\n",
      "[131]\tvalidation_0-logloss:0.12884\tvalidation_1-logloss:0.37541\n",
      "[132]\tvalidation_0-logloss:0.12806\tvalidation_1-logloss:0.37612\n",
      "[133]\tvalidation_0-logloss:0.12715\tvalidation_1-logloss:0.37635\n",
      "[134]\tvalidation_0-logloss:0.12662\tvalidation_1-logloss:0.37618\n",
      "[135]\tvalidation_0-logloss:0.12519\tvalidation_1-logloss:0.37616\n",
      "[136]\tvalidation_0-logloss:0.12475\tvalidation_1-logloss:0.37647\n",
      "[137]\tvalidation_0-logloss:0.12380\tvalidation_1-logloss:0.37652\n",
      "[138]\tvalidation_0-logloss:0.12222\tvalidation_1-logloss:0.37760\n",
      "[139]\tvalidation_0-logloss:0.12165\tvalidation_1-logloss:0.37740\n",
      "[140]\tvalidation_0-logloss:0.12000\tvalidation_1-logloss:0.37783\n",
      "[141]\tvalidation_0-logloss:0.11931\tvalidation_1-logloss:0.37831\n",
      "[142]\tvalidation_0-logloss:0.11897\tvalidation_1-logloss:0.37845\n",
      "[143]\tvalidation_0-logloss:0.11867\tvalidation_1-logloss:0.37871\n",
      "[144]\tvalidation_0-logloss:0.11767\tvalidation_1-logloss:0.38017\n",
      "[145]\tvalidation_0-logloss:0.11578\tvalidation_1-logloss:0.38068\n",
      "[146]\tvalidation_0-logloss:0.11519\tvalidation_1-logloss:0.38076\n",
      "[147]\tvalidation_0-logloss:0.11510\tvalidation_1-logloss:0.38112\n",
      "[148]\tvalidation_0-logloss:0.11477\tvalidation_1-logloss:0.38113\n",
      "[149]\tvalidation_0-logloss:0.11407\tvalidation_1-logloss:0.38194\n",
      "[150]\tvalidation_0-logloss:0.11363\tvalidation_1-logloss:0.38148\n",
      "[151]\tvalidation_0-logloss:0.11223\tvalidation_1-logloss:0.38256\n",
      "[152]\tvalidation_0-logloss:0.11056\tvalidation_1-logloss:0.38309\n",
      "[153]\tvalidation_0-logloss:0.11009\tvalidation_1-logloss:0.38342\n",
      "[154]\tvalidation_0-logloss:0.10919\tvalidation_1-logloss:0.38390\n",
      "[155]\tvalidation_0-logloss:0.10826\tvalidation_1-logloss:0.38460\n",
      "[156]\tvalidation_0-logloss:0.10728\tvalidation_1-logloss:0.38495\n",
      "[157]\tvalidation_0-logloss:0.10650\tvalidation_1-logloss:0.38491\n",
      "[158]\tvalidation_0-logloss:0.10629\tvalidation_1-logloss:0.38582\n",
      "[159]\tvalidation_0-logloss:0.10497\tvalidation_1-logloss:0.38588\n",
      "[160]\tvalidation_0-logloss:0.10381\tvalidation_1-logloss:0.38681\n",
      "[161]\tvalidation_0-logloss:0.10338\tvalidation_1-logloss:0.38685\n",
      "[162]\tvalidation_0-logloss:0.10220\tvalidation_1-logloss:0.38720\n",
      "[163]\tvalidation_0-logloss:0.10214\tvalidation_1-logloss:0.38746\n",
      "[164]\tvalidation_0-logloss:0.10141\tvalidation_1-logloss:0.38756\n",
      "[165]\tvalidation_0-logloss:0.09990\tvalidation_1-logloss:0.38897\n",
      "[166]\tvalidation_0-logloss:0.09907\tvalidation_1-logloss:0.38953\n",
      "[167]\tvalidation_0-logloss:0.09844\tvalidation_1-logloss:0.39032\n",
      "[168]\tvalidation_0-logloss:0.09794\tvalidation_1-logloss:0.39121\n",
      "[169]\tvalidation_0-logloss:0.09721\tvalidation_1-logloss:0.39212\n",
      "[170]\tvalidation_0-logloss:0.09626\tvalidation_1-logloss:0.39266\n",
      "[171]\tvalidation_0-logloss:0.09481\tvalidation_1-logloss:0.39382\n",
      "[172]\tvalidation_0-logloss:0.09423\tvalidation_1-logloss:0.39389\n",
      "[173]\tvalidation_0-logloss:0.09376\tvalidation_1-logloss:0.39395\n",
      "[174]\tvalidation_0-logloss:0.09335\tvalidation_1-logloss:0.39428\n",
      "[175]\tvalidation_0-logloss:0.09322\tvalidation_1-logloss:0.39434\n",
      "[176]\tvalidation_0-logloss:0.09235\tvalidation_1-logloss:0.39448\n",
      "[177]\tvalidation_0-logloss:0.09127\tvalidation_1-logloss:0.39511\n",
      "[178]\tvalidation_0-logloss:0.09110\tvalidation_1-logloss:0.39555\n",
      "[179]\tvalidation_0-logloss:0.09104\tvalidation_1-logloss:0.39591\n",
      "[180]\tvalidation_0-logloss:0.09093\tvalidation_1-logloss:0.39633\n",
      "[181]\tvalidation_0-logloss:0.09034\tvalidation_1-logloss:0.39681\n",
      "[182]\tvalidation_0-logloss:0.09009\tvalidation_1-logloss:0.39666\n",
      "[183]\tvalidation_0-logloss:0.09001\tvalidation_1-logloss:0.39688\n",
      "[184]\tvalidation_0-logloss:0.08965\tvalidation_1-logloss:0.39725\n",
      "[185]\tvalidation_0-logloss:0.08939\tvalidation_1-logloss:0.39718\n",
      "[186]\tvalidation_0-logloss:0.08814\tvalidation_1-logloss:0.39882\n",
      "[187]\tvalidation_0-logloss:0.08720\tvalidation_1-logloss:0.39841\n",
      "[188]\tvalidation_0-logloss:0.08669\tvalidation_1-logloss:0.39826\n",
      "[189]\tvalidation_0-logloss:0.08623\tvalidation_1-logloss:0.39877\n",
      "[190]\tvalidation_0-logloss:0.08567\tvalidation_1-logloss:0.39968\n",
      "[191]\tvalidation_0-logloss:0.08500\tvalidation_1-logloss:0.40064\n",
      "[192]\tvalidation_0-logloss:0.08489\tvalidation_1-logloss:0.40060\n",
      "[193]\tvalidation_0-logloss:0.08443\tvalidation_1-logloss:0.40086\n",
      "[194]\tvalidation_0-logloss:0.08415\tvalidation_1-logloss:0.40120\n",
      "[195]\tvalidation_0-logloss:0.08406\tvalidation_1-logloss:0.40147\n",
      "[196]\tvalidation_0-logloss:0.08340\tvalidation_1-logloss:0.40212\n",
      "[197]\tvalidation_0-logloss:0.08281\tvalidation_1-logloss:0.40299\n",
      "[198]\tvalidation_0-logloss:0.08261\tvalidation_1-logloss:0.40307\n",
      "[199]\tvalidation_0-logloss:0.08186\tvalidation_1-logloss:0.40386\n",
      "[200]\tvalidation_0-logloss:0.08175\tvalidation_1-logloss:0.40416\n",
      "[201]\tvalidation_0-logloss:0.08124\tvalidation_1-logloss:0.40491\n",
      "[202]\tvalidation_0-logloss:0.08109\tvalidation_1-logloss:0.40471\n",
      "[203]\tvalidation_0-logloss:0.08096\tvalidation_1-logloss:0.40490\n",
      "[204]\tvalidation_0-logloss:0.08031\tvalidation_1-logloss:0.40539\n",
      "[205]\tvalidation_0-logloss:0.07980\tvalidation_1-logloss:0.40544\n",
      "[206]\tvalidation_0-logloss:0.07958\tvalidation_1-logloss:0.40526\n",
      "[207]\tvalidation_0-logloss:0.07940\tvalidation_1-logloss:0.40589\n",
      "[208]\tvalidation_0-logloss:0.07919\tvalidation_1-logloss:0.40597\n",
      "[209]\tvalidation_0-logloss:0.07901\tvalidation_1-logloss:0.40631\n",
      "[210]\tvalidation_0-logloss:0.07870\tvalidation_1-logloss:0.40706\n",
      "[211]\tvalidation_0-logloss:0.07826\tvalidation_1-logloss:0.40793\n",
      "[212]\tvalidation_0-logloss:0.07749\tvalidation_1-logloss:0.40815\n",
      "[213]\tvalidation_0-logloss:0.07686\tvalidation_1-logloss:0.40768\n",
      "[214]\tvalidation_0-logloss:0.07613\tvalidation_1-logloss:0.40847\n",
      "[215]\tvalidation_0-logloss:0.07593\tvalidation_1-logloss:0.40844\n",
      "[216]\tvalidation_0-logloss:0.07565\tvalidation_1-logloss:0.40864\n",
      "[217]\tvalidation_0-logloss:0.07484\tvalidation_1-logloss:0.40873\n",
      "[218]\tvalidation_0-logloss:0.07422\tvalidation_1-logloss:0.40862\n",
      "[219]\tvalidation_0-logloss:0.07375\tvalidation_1-logloss:0.40909\n",
      "[220]\tvalidation_0-logloss:0.07304\tvalidation_1-logloss:0.41008\n",
      "[221]\tvalidation_0-logloss:0.07231\tvalidation_1-logloss:0.41039\n",
      "[222]\tvalidation_0-logloss:0.07226\tvalidation_1-logloss:0.41049\n",
      "[223]\tvalidation_0-logloss:0.07189\tvalidation_1-logloss:0.41067\n",
      "[224]\tvalidation_0-logloss:0.07152\tvalidation_1-logloss:0.41129\n",
      "[225]\tvalidation_0-logloss:0.07072\tvalidation_1-logloss:0.41123\n",
      "[226]\tvalidation_0-logloss:0.07028\tvalidation_1-logloss:0.41147\n",
      "[227]\tvalidation_0-logloss:0.06985\tvalidation_1-logloss:0.41207\n",
      "[228]\tvalidation_0-logloss:0.06934\tvalidation_1-logloss:0.41205\n",
      "[229]\tvalidation_0-logloss:0.06838\tvalidation_1-logloss:0.41331\n",
      "[230]\tvalidation_0-logloss:0.06790\tvalidation_1-logloss:0.41390\n",
      "[231]\tvalidation_0-logloss:0.06770\tvalidation_1-logloss:0.41418\n",
      "[232]\tvalidation_0-logloss:0.06750\tvalidation_1-logloss:0.41439\n",
      "[233]\tvalidation_0-logloss:0.06712\tvalidation_1-logloss:0.41489\n",
      "[234]\tvalidation_0-logloss:0.06660\tvalidation_1-logloss:0.41459\n",
      "[235]\tvalidation_0-logloss:0.06591\tvalidation_1-logloss:0.41604\n",
      "[236]\tvalidation_0-logloss:0.06565\tvalidation_1-logloss:0.41616\n",
      "[237]\tvalidation_0-logloss:0.06528\tvalidation_1-logloss:0.41662\n",
      "[238]\tvalidation_0-logloss:0.06502\tvalidation_1-logloss:0.41708\n",
      "[239]\tvalidation_0-logloss:0.06497\tvalidation_1-logloss:0.41762\n",
      "[240]\tvalidation_0-logloss:0.06414\tvalidation_1-logloss:0.41793\n",
      "[241]\tvalidation_0-logloss:0.06308\tvalidation_1-logloss:0.41763\n",
      "[242]\tvalidation_0-logloss:0.06256\tvalidation_1-logloss:0.41859\n",
      "[243]\tvalidation_0-logloss:0.06235\tvalidation_1-logloss:0.41864\n",
      "[244]\tvalidation_0-logloss:0.06173\tvalidation_1-logloss:0.41898\n",
      "[245]\tvalidation_0-logloss:0.06147\tvalidation_1-logloss:0.41932\n",
      "[246]\tvalidation_0-logloss:0.06095\tvalidation_1-logloss:0.41958\n",
      "[247]\tvalidation_0-logloss:0.06066\tvalidation_1-logloss:0.41970\n",
      "[248]\tvalidation_0-logloss:0.06029\tvalidation_1-logloss:0.41944\n",
      "[249]\tvalidation_0-logloss:0.05965\tvalidation_1-logloss:0.41997\n",
      "[250]\tvalidation_0-logloss:0.05960\tvalidation_1-logloss:0.42033\n",
      "[251]\tvalidation_0-logloss:0.05941\tvalidation_1-logloss:0.42087\n",
      "[252]\tvalidation_0-logloss:0.05937\tvalidation_1-logloss:0.42135\n",
      "[253]\tvalidation_0-logloss:0.05870\tvalidation_1-logloss:0.42292\n",
      "[254]\tvalidation_0-logloss:0.05829\tvalidation_1-logloss:0.42286\n",
      "[255]\tvalidation_0-logloss:0.05793\tvalidation_1-logloss:0.42309\n",
      "[256]\tvalidation_0-logloss:0.05771\tvalidation_1-logloss:0.42372\n",
      "[257]\tvalidation_0-logloss:0.05727\tvalidation_1-logloss:0.42441\n",
      "[258]\tvalidation_0-logloss:0.05699\tvalidation_1-logloss:0.42494\n",
      "[259]\tvalidation_0-logloss:0.05667\tvalidation_1-logloss:0.42509\n",
      "[260]\tvalidation_0-logloss:0.05622\tvalidation_1-logloss:0.42584\n",
      "[261]\tvalidation_0-logloss:0.05603\tvalidation_1-logloss:0.42585\n",
      "[262]\tvalidation_0-logloss:0.05580\tvalidation_1-logloss:0.42625\n",
      "[263]\tvalidation_0-logloss:0.05550\tvalidation_1-logloss:0.42718\n",
      "[264]\tvalidation_0-logloss:0.05535\tvalidation_1-logloss:0.42732\n",
      "[265]\tvalidation_0-logloss:0.05508\tvalidation_1-logloss:0.42766\n",
      "[266]\tvalidation_0-logloss:0.05474\tvalidation_1-logloss:0.42829\n",
      "[267]\tvalidation_0-logloss:0.05452\tvalidation_1-logloss:0.42827\n",
      "[268]\tvalidation_0-logloss:0.05425\tvalidation_1-logloss:0.42902\n",
      "[269]\tvalidation_0-logloss:0.05393\tvalidation_1-logloss:0.42955\n",
      "[270]\tvalidation_0-logloss:0.05377\tvalidation_1-logloss:0.42976\n",
      "[271]\tvalidation_0-logloss:0.05372\tvalidation_1-logloss:0.42983\n",
      "[272]\tvalidation_0-logloss:0.05359\tvalidation_1-logloss:0.42986\n",
      "[273]\tvalidation_0-logloss:0.05347\tvalidation_1-logloss:0.43028\n",
      "[274]\tvalidation_0-logloss:0.05330\tvalidation_1-logloss:0.43076\n",
      "[275]\tvalidation_0-logloss:0.05296\tvalidation_1-logloss:0.43121\n",
      "[276]\tvalidation_0-logloss:0.05266\tvalidation_1-logloss:0.43194\n",
      "[277]\tvalidation_0-logloss:0.05243\tvalidation_1-logloss:0.43273\n",
      "[278]\tvalidation_0-logloss:0.05237\tvalidation_1-logloss:0.43288\n",
      "[279]\tvalidation_0-logloss:0.05210\tvalidation_1-logloss:0.43266\n",
      "[280]\tvalidation_0-logloss:0.05203\tvalidation_1-logloss:0.43300\n",
      "[281]\tvalidation_0-logloss:0.05174\tvalidation_1-logloss:0.43316\n",
      "[282]\tvalidation_0-logloss:0.05138\tvalidation_1-logloss:0.43333\n",
      "[283]\tvalidation_0-logloss:0.05092\tvalidation_1-logloss:0.43435\n",
      "[284]\tvalidation_0-logloss:0.05056\tvalidation_1-logloss:0.43449\n",
      "[285]\tvalidation_0-logloss:0.05040\tvalidation_1-logloss:0.43461\n",
      "[286]\tvalidation_0-logloss:0.05007\tvalidation_1-logloss:0.43458\n",
      "[287]\tvalidation_0-logloss:0.04960\tvalidation_1-logloss:0.43494\n",
      "[288]\tvalidation_0-logloss:0.04940\tvalidation_1-logloss:0.43579\n",
      "[289]\tvalidation_0-logloss:0.04925\tvalidation_1-logloss:0.43623\n",
      "[290]\tvalidation_0-logloss:0.04894\tvalidation_1-logloss:0.43744\n",
      "[291]\tvalidation_0-logloss:0.04879\tvalidation_1-logloss:0.43724\n",
      "[292]\tvalidation_0-logloss:0.04853\tvalidation_1-logloss:0.43824\n",
      "[293]\tvalidation_0-logloss:0.04822\tvalidation_1-logloss:0.43779\n",
      "[294]\tvalidation_0-logloss:0.04807\tvalidation_1-logloss:0.43803\n",
      "[295]\tvalidation_0-logloss:0.04793\tvalidation_1-logloss:0.43817\n",
      "[296]\tvalidation_0-logloss:0.04760\tvalidation_1-logloss:0.43779\n",
      "[297]\tvalidation_0-logloss:0.04716\tvalidation_1-logloss:0.43914\n",
      "[298]\tvalidation_0-logloss:0.04696\tvalidation_1-logloss:0.43940\n",
      "[299]\tvalidation_0-logloss:0.04677\tvalidation_1-logloss:0.43951\n"
     ]
    }
   ],
   "source": [
    "# 訓練\n",
    "model_xgb = xgb_model.fit(X_train, y_train, verbose=True,\n",
    "                        eval_set=[(X_train, y_train), (X_test, y_test)])"
   ]
  },
  {
   "attachments": {},
   "cell_type": "markdown",
   "metadata": {},
   "source": [
    "### 抓出重要特徵值的重要性"
   ]
  },
  {
   "cell_type": "code",
   "execution_count": 80,
   "metadata": {},
   "outputs": [
    {
     "data": {
      "text/plain": [
       "1.0"
      ]
     },
     "execution_count": 80,
     "metadata": {},
     "output_type": "execute_result"
    }
   ],
   "source": [
    "# feature importances：變數重要性\n",
    "feat_imp = model_xgb.feature_importances_\n",
    "feat_imp.sum()"
   ]
  },
  {
   "cell_type": "code",
   "execution_count": 81,
   "metadata": {},
   "outputs": [
    {
     "data": {
      "text/plain": [
       "array([0.04340016, 0.11266518, 0.0388808 , 0.05783476, 0.28120565,\n",
       "       0.03560276, 0.15115465, 0.04365196, 0.10935609, 0.07045466,\n",
       "       0.05579334], dtype=float32)"
      ]
     },
     "execution_count": 81,
     "metadata": {},
     "output_type": "execute_result"
    }
   ],
   "source": [
    "# 新增的Cell：查看importance裡面的樣子\n",
    "feat_imp"
   ]
  },
  {
   "attachments": {},
   "cell_type": "markdown",
   "metadata": {},
   "source": [
    "### 抓出特徵值欄位"
   ]
  },
  {
   "cell_type": "code",
   "execution_count": 82,
   "metadata": {},
   "outputs": [
    {
     "data": {
      "text/plain": [
       "['Prod_output_num',\n",
       " 'age',\n",
       " 'click_on_prod',\n",
       " 'balance',\n",
       " 'registry_to_use_time',\n",
       " 'credit_card_paid',\n",
       " 'active_member',\n",
       " 'estimated_salary',\n",
       " 'locations_Tainan',\n",
       " 'locations_Taipei',\n",
       " 'gender_Male']"
      ]
     },
     "execution_count": 82,
     "metadata": {},
     "output_type": "execute_result"
    }
   ],
   "source": [
    "feat = X_train.columns.tolist()\n",
    "feat"
   ]
  },
  {
   "attachments": {},
   "cell_type": "markdown",
   "metadata": {},
   "source": [
    "### 合併變成DataFrame "
   ]
  },
  {
   "cell_type": "code",
   "execution_count": 83,
   "metadata": {},
   "outputs": [
    {
     "data": {
      "text/html": [
       "<div>\n",
       "<style scoped>\n",
       "    .dataframe tbody tr th:only-of-type {\n",
       "        vertical-align: middle;\n",
       "    }\n",
       "\n",
       "    .dataframe tbody tr th {\n",
       "        vertical-align: top;\n",
       "    }\n",
       "\n",
       "    .dataframe thead th {\n",
       "        text-align: right;\n",
       "    }\n",
       "</style>\n",
       "<table border=\"1\" class=\"dataframe\">\n",
       "  <thead>\n",
       "    <tr style=\"text-align: right;\">\n",
       "      <th></th>\n",
       "      <th>特徵值</th>\n",
       "      <th>重要性程度</th>\n",
       "    </tr>\n",
       "  </thead>\n",
       "  <tbody>\n",
       "    <tr>\n",
       "      <th>5</th>\n",
       "      <td>credit_card_paid</td>\n",
       "      <td>0.035603</td>\n",
       "    </tr>\n",
       "    <tr>\n",
       "      <th>2</th>\n",
       "      <td>click_on_prod</td>\n",
       "      <td>0.038881</td>\n",
       "    </tr>\n",
       "    <tr>\n",
       "      <th>0</th>\n",
       "      <td>Prod_output_num</td>\n",
       "      <td>0.043400</td>\n",
       "    </tr>\n",
       "    <tr>\n",
       "      <th>7</th>\n",
       "      <td>estimated_salary</td>\n",
       "      <td>0.043652</td>\n",
       "    </tr>\n",
       "    <tr>\n",
       "      <th>10</th>\n",
       "      <td>gender_Male</td>\n",
       "      <td>0.055793</td>\n",
       "    </tr>\n",
       "    <tr>\n",
       "      <th>3</th>\n",
       "      <td>balance</td>\n",
       "      <td>0.057835</td>\n",
       "    </tr>\n",
       "    <tr>\n",
       "      <th>9</th>\n",
       "      <td>locations_Taipei</td>\n",
       "      <td>0.070455</td>\n",
       "    </tr>\n",
       "    <tr>\n",
       "      <th>8</th>\n",
       "      <td>locations_Tainan</td>\n",
       "      <td>0.109356</td>\n",
       "    </tr>\n",
       "    <tr>\n",
       "      <th>1</th>\n",
       "      <td>age</td>\n",
       "      <td>0.112665</td>\n",
       "    </tr>\n",
       "    <tr>\n",
       "      <th>6</th>\n",
       "      <td>active_member</td>\n",
       "      <td>0.151155</td>\n",
       "    </tr>\n",
       "    <tr>\n",
       "      <th>4</th>\n",
       "      <td>registry_to_use_time</td>\n",
       "      <td>0.281206</td>\n",
       "    </tr>\n",
       "  </tbody>\n",
       "</table>\n",
       "</div>"
      ],
      "text/plain": [
       "                     特徵值     重要性程度\n",
       "5       credit_card_paid  0.035603\n",
       "2          click_on_prod  0.038881\n",
       "0        Prod_output_num  0.043400\n",
       "7       estimated_salary  0.043652\n",
       "10           gender_Male  0.055793\n",
       "3                balance  0.057835\n",
       "9       locations_Taipei  0.070455\n",
       "8       locations_Tainan  0.109356\n",
       "1                    age  0.112665\n",
       "6          active_member  0.151155\n",
       "4   registry_to_use_time  0.281206"
      ]
     },
     "execution_count": 83,
     "metadata": {},
     "output_type": "execute_result"
    }
   ],
   "source": [
    "res_data = pd.DataFrame({'特徵值': feat,\n",
    "                        '重要性程度': feat_imp})\n",
    "res_data = res_data.sort_values('重要性程度',ascending=True)\n",
    "res_data"
   ]
  },
  {
   "cell_type": "code",
   "execution_count": 84,
   "metadata": {},
   "outputs": [
    {
     "data": {
      "text/plain": [
       "'xgb_Importances.html'"
      ]
     },
     "execution_count": 84,
     "metadata": {},
     "output_type": "execute_result"
    }
   ],
   "source": [
    "### 視覺化\n",
    "# bar：barchart代表長條圖\n",
    "plot_name = 'xgb_Importances'\n",
    "fig = px.bar(res_data, x='重要性程度', y='特徵值',\n",
    "            color='重要性程度',orientation='h' )\n",
    "plot(fig, filename = plot_name+ '.html')"
   ]
  },
  {
   "cell_type": "code",
   "execution_count": 85,
   "metadata": {},
   "outputs": [
    {
     "data": {
      "application/vnd.plotly.v1+json": {
       "config": {
        "plotlyServerURL": "https://plot.ly"
       },
       "data": [
        {
         "alignmentgroup": "True",
         "hovertemplate": "重要性程度=%{marker.color}<br>特徵值=%{y}<extra></extra>",
         "legendgroup": "",
         "marker": {
          "color": [
           0.03560275956988335,
           0.03888079524040222,
           0.04340016469359398,
           0.04365195706486702,
           0.055793341249227524,
           0.05783476307988167,
           0.0704546570777893,
           0.10935609042644501,
           0.11266517639160156,
           0.15115465223789215,
           0.2812056541442871
          ],
          "coloraxis": "coloraxis",
          "pattern": {
           "shape": ""
          }
         },
         "name": "",
         "offsetgroup": "",
         "orientation": "h",
         "showlegend": false,
         "textposition": "auto",
         "type": "bar",
         "x": [
          0.03560275956988335,
          0.03888079524040222,
          0.04340016469359398,
          0.04365195706486702,
          0.055793341249227524,
          0.05783476307988167,
          0.0704546570777893,
          0.10935609042644501,
          0.11266517639160156,
          0.15115465223789215,
          0.2812056541442871
         ],
         "xaxis": "x",
         "y": [
          "credit_card_paid",
          "click_on_prod",
          "Prod_output_num",
          "estimated_salary",
          "gender_Male",
          "balance",
          "locations_Taipei",
          "locations_Tainan",
          "age",
          "active_member",
          "registry_to_use_time"
         ],
         "yaxis": "y"
        }
       ],
       "layout": {
        "barmode": "relative",
        "coloraxis": {
         "colorbar": {
          "title": {
           "text": "重要性程度"
          }
         },
         "colorscale": [
          [
           0,
           "#0d0887"
          ],
          [
           0.1111111111111111,
           "#46039f"
          ],
          [
           0.2222222222222222,
           "#7201a8"
          ],
          [
           0.3333333333333333,
           "#9c179e"
          ],
          [
           0.4444444444444444,
           "#bd3786"
          ],
          [
           0.5555555555555556,
           "#d8576b"
          ],
          [
           0.6666666666666666,
           "#ed7953"
          ],
          [
           0.7777777777777778,
           "#fb9f3a"
          ],
          [
           0.8888888888888888,
           "#fdca26"
          ],
          [
           1,
           "#f0f921"
          ]
         ]
        },
        "legend": {
         "tracegroupgap": 0
        },
        "margin": {
         "t": 60
        },
        "template": {
         "data": {
          "bar": [
           {
            "error_x": {
             "color": "#2a3f5f"
            },
            "error_y": {
             "color": "#2a3f5f"
            },
            "marker": {
             "line": {
              "color": "#E5ECF6",
              "width": 0.5
             },
             "pattern": {
              "fillmode": "overlay",
              "size": 10,
              "solidity": 0.2
             }
            },
            "type": "bar"
           }
          ],
          "barpolar": [
           {
            "marker": {
             "line": {
              "color": "#E5ECF6",
              "width": 0.5
             },
             "pattern": {
              "fillmode": "overlay",
              "size": 10,
              "solidity": 0.2
             }
            },
            "type": "barpolar"
           }
          ],
          "carpet": [
           {
            "aaxis": {
             "endlinecolor": "#2a3f5f",
             "gridcolor": "white",
             "linecolor": "white",
             "minorgridcolor": "white",
             "startlinecolor": "#2a3f5f"
            },
            "baxis": {
             "endlinecolor": "#2a3f5f",
             "gridcolor": "white",
             "linecolor": "white",
             "minorgridcolor": "white",
             "startlinecolor": "#2a3f5f"
            },
            "type": "carpet"
           }
          ],
          "choropleth": [
           {
            "colorbar": {
             "outlinewidth": 0,
             "ticks": ""
            },
            "type": "choropleth"
           }
          ],
          "contour": [
           {
            "colorbar": {
             "outlinewidth": 0,
             "ticks": ""
            },
            "colorscale": [
             [
              0,
              "#0d0887"
             ],
             [
              0.1111111111111111,
              "#46039f"
             ],
             [
              0.2222222222222222,
              "#7201a8"
             ],
             [
              0.3333333333333333,
              "#9c179e"
             ],
             [
              0.4444444444444444,
              "#bd3786"
             ],
             [
              0.5555555555555556,
              "#d8576b"
             ],
             [
              0.6666666666666666,
              "#ed7953"
             ],
             [
              0.7777777777777778,
              "#fb9f3a"
             ],
             [
              0.8888888888888888,
              "#fdca26"
             ],
             [
              1,
              "#f0f921"
             ]
            ],
            "type": "contour"
           }
          ],
          "contourcarpet": [
           {
            "colorbar": {
             "outlinewidth": 0,
             "ticks": ""
            },
            "type": "contourcarpet"
           }
          ],
          "heatmap": [
           {
            "colorbar": {
             "outlinewidth": 0,
             "ticks": ""
            },
            "colorscale": [
             [
              0,
              "#0d0887"
             ],
             [
              0.1111111111111111,
              "#46039f"
             ],
             [
              0.2222222222222222,
              "#7201a8"
             ],
             [
              0.3333333333333333,
              "#9c179e"
             ],
             [
              0.4444444444444444,
              "#bd3786"
             ],
             [
              0.5555555555555556,
              "#d8576b"
             ],
             [
              0.6666666666666666,
              "#ed7953"
             ],
             [
              0.7777777777777778,
              "#fb9f3a"
             ],
             [
              0.8888888888888888,
              "#fdca26"
             ],
             [
              1,
              "#f0f921"
             ]
            ],
            "type": "heatmap"
           }
          ],
          "heatmapgl": [
           {
            "colorbar": {
             "outlinewidth": 0,
             "ticks": ""
            },
            "colorscale": [
             [
              0,
              "#0d0887"
             ],
             [
              0.1111111111111111,
              "#46039f"
             ],
             [
              0.2222222222222222,
              "#7201a8"
             ],
             [
              0.3333333333333333,
              "#9c179e"
             ],
             [
              0.4444444444444444,
              "#bd3786"
             ],
             [
              0.5555555555555556,
              "#d8576b"
             ],
             [
              0.6666666666666666,
              "#ed7953"
             ],
             [
              0.7777777777777778,
              "#fb9f3a"
             ],
             [
              0.8888888888888888,
              "#fdca26"
             ],
             [
              1,
              "#f0f921"
             ]
            ],
            "type": "heatmapgl"
           }
          ],
          "histogram": [
           {
            "marker": {
             "pattern": {
              "fillmode": "overlay",
              "size": 10,
              "solidity": 0.2
             }
            },
            "type": "histogram"
           }
          ],
          "histogram2d": [
           {
            "colorbar": {
             "outlinewidth": 0,
             "ticks": ""
            },
            "colorscale": [
             [
              0,
              "#0d0887"
             ],
             [
              0.1111111111111111,
              "#46039f"
             ],
             [
              0.2222222222222222,
              "#7201a8"
             ],
             [
              0.3333333333333333,
              "#9c179e"
             ],
             [
              0.4444444444444444,
              "#bd3786"
             ],
             [
              0.5555555555555556,
              "#d8576b"
             ],
             [
              0.6666666666666666,
              "#ed7953"
             ],
             [
              0.7777777777777778,
              "#fb9f3a"
             ],
             [
              0.8888888888888888,
              "#fdca26"
             ],
             [
              1,
              "#f0f921"
             ]
            ],
            "type": "histogram2d"
           }
          ],
          "histogram2dcontour": [
           {
            "colorbar": {
             "outlinewidth": 0,
             "ticks": ""
            },
            "colorscale": [
             [
              0,
              "#0d0887"
             ],
             [
              0.1111111111111111,
              "#46039f"
             ],
             [
              0.2222222222222222,
              "#7201a8"
             ],
             [
              0.3333333333333333,
              "#9c179e"
             ],
             [
              0.4444444444444444,
              "#bd3786"
             ],
             [
              0.5555555555555556,
              "#d8576b"
             ],
             [
              0.6666666666666666,
              "#ed7953"
             ],
             [
              0.7777777777777778,
              "#fb9f3a"
             ],
             [
              0.8888888888888888,
              "#fdca26"
             ],
             [
              1,
              "#f0f921"
             ]
            ],
            "type": "histogram2dcontour"
           }
          ],
          "mesh3d": [
           {
            "colorbar": {
             "outlinewidth": 0,
             "ticks": ""
            },
            "type": "mesh3d"
           }
          ],
          "parcoords": [
           {
            "line": {
             "colorbar": {
              "outlinewidth": 0,
              "ticks": ""
             }
            },
            "type": "parcoords"
           }
          ],
          "pie": [
           {
            "automargin": true,
            "type": "pie"
           }
          ],
          "scatter": [
           {
            "fillpattern": {
             "fillmode": "overlay",
             "size": 10,
             "solidity": 0.2
            },
            "type": "scatter"
           }
          ],
          "scatter3d": [
           {
            "line": {
             "colorbar": {
              "outlinewidth": 0,
              "ticks": ""
             }
            },
            "marker": {
             "colorbar": {
              "outlinewidth": 0,
              "ticks": ""
             }
            },
            "type": "scatter3d"
           }
          ],
          "scattercarpet": [
           {
            "marker": {
             "colorbar": {
              "outlinewidth": 0,
              "ticks": ""
             }
            },
            "type": "scattercarpet"
           }
          ],
          "scattergeo": [
           {
            "marker": {
             "colorbar": {
              "outlinewidth": 0,
              "ticks": ""
             }
            },
            "type": "scattergeo"
           }
          ],
          "scattergl": [
           {
            "marker": {
             "colorbar": {
              "outlinewidth": 0,
              "ticks": ""
             }
            },
            "type": "scattergl"
           }
          ],
          "scattermapbox": [
           {
            "marker": {
             "colorbar": {
              "outlinewidth": 0,
              "ticks": ""
             }
            },
            "type": "scattermapbox"
           }
          ],
          "scatterpolar": [
           {
            "marker": {
             "colorbar": {
              "outlinewidth": 0,
              "ticks": ""
             }
            },
            "type": "scatterpolar"
           }
          ],
          "scatterpolargl": [
           {
            "marker": {
             "colorbar": {
              "outlinewidth": 0,
              "ticks": ""
             }
            },
            "type": "scatterpolargl"
           }
          ],
          "scatterternary": [
           {
            "marker": {
             "colorbar": {
              "outlinewidth": 0,
              "ticks": ""
             }
            },
            "type": "scatterternary"
           }
          ],
          "surface": [
           {
            "colorbar": {
             "outlinewidth": 0,
             "ticks": ""
            },
            "colorscale": [
             [
              0,
              "#0d0887"
             ],
             [
              0.1111111111111111,
              "#46039f"
             ],
             [
              0.2222222222222222,
              "#7201a8"
             ],
             [
              0.3333333333333333,
              "#9c179e"
             ],
             [
              0.4444444444444444,
              "#bd3786"
             ],
             [
              0.5555555555555556,
              "#d8576b"
             ],
             [
              0.6666666666666666,
              "#ed7953"
             ],
             [
              0.7777777777777778,
              "#fb9f3a"
             ],
             [
              0.8888888888888888,
              "#fdca26"
             ],
             [
              1,
              "#f0f921"
             ]
            ],
            "type": "surface"
           }
          ],
          "table": [
           {
            "cells": {
             "fill": {
              "color": "#EBF0F8"
             },
             "line": {
              "color": "white"
             }
            },
            "header": {
             "fill": {
              "color": "#C8D4E3"
             },
             "line": {
              "color": "white"
             }
            },
            "type": "table"
           }
          ]
         },
         "layout": {
          "annotationdefaults": {
           "arrowcolor": "#2a3f5f",
           "arrowhead": 0,
           "arrowwidth": 1
          },
          "autotypenumbers": "strict",
          "coloraxis": {
           "colorbar": {
            "outlinewidth": 0,
            "ticks": ""
           }
          },
          "colorscale": {
           "diverging": [
            [
             0,
             "#8e0152"
            ],
            [
             0.1,
             "#c51b7d"
            ],
            [
             0.2,
             "#de77ae"
            ],
            [
             0.3,
             "#f1b6da"
            ],
            [
             0.4,
             "#fde0ef"
            ],
            [
             0.5,
             "#f7f7f7"
            ],
            [
             0.6,
             "#e6f5d0"
            ],
            [
             0.7,
             "#b8e186"
            ],
            [
             0.8,
             "#7fbc41"
            ],
            [
             0.9,
             "#4d9221"
            ],
            [
             1,
             "#276419"
            ]
           ],
           "sequential": [
            [
             0,
             "#0d0887"
            ],
            [
             0.1111111111111111,
             "#46039f"
            ],
            [
             0.2222222222222222,
             "#7201a8"
            ],
            [
             0.3333333333333333,
             "#9c179e"
            ],
            [
             0.4444444444444444,
             "#bd3786"
            ],
            [
             0.5555555555555556,
             "#d8576b"
            ],
            [
             0.6666666666666666,
             "#ed7953"
            ],
            [
             0.7777777777777778,
             "#fb9f3a"
            ],
            [
             0.8888888888888888,
             "#fdca26"
            ],
            [
             1,
             "#f0f921"
            ]
           ],
           "sequentialminus": [
            [
             0,
             "#0d0887"
            ],
            [
             0.1111111111111111,
             "#46039f"
            ],
            [
             0.2222222222222222,
             "#7201a8"
            ],
            [
             0.3333333333333333,
             "#9c179e"
            ],
            [
             0.4444444444444444,
             "#bd3786"
            ],
            [
             0.5555555555555556,
             "#d8576b"
            ],
            [
             0.6666666666666666,
             "#ed7953"
            ],
            [
             0.7777777777777778,
             "#fb9f3a"
            ],
            [
             0.8888888888888888,
             "#fdca26"
            ],
            [
             1,
             "#f0f921"
            ]
           ]
          },
          "colorway": [
           "#636efa",
           "#EF553B",
           "#00cc96",
           "#ab63fa",
           "#FFA15A",
           "#19d3f3",
           "#FF6692",
           "#B6E880",
           "#FF97FF",
           "#FECB52"
          ],
          "font": {
           "color": "#2a3f5f"
          },
          "geo": {
           "bgcolor": "white",
           "lakecolor": "white",
           "landcolor": "#E5ECF6",
           "showlakes": true,
           "showland": true,
           "subunitcolor": "white"
          },
          "hoverlabel": {
           "align": "left"
          },
          "hovermode": "closest",
          "mapbox": {
           "style": "light"
          },
          "paper_bgcolor": "white",
          "plot_bgcolor": "#E5ECF6",
          "polar": {
           "angularaxis": {
            "gridcolor": "white",
            "linecolor": "white",
            "ticks": ""
           },
           "bgcolor": "#E5ECF6",
           "radialaxis": {
            "gridcolor": "white",
            "linecolor": "white",
            "ticks": ""
           }
          },
          "scene": {
           "xaxis": {
            "backgroundcolor": "#E5ECF6",
            "gridcolor": "white",
            "gridwidth": 2,
            "linecolor": "white",
            "showbackground": true,
            "ticks": "",
            "zerolinecolor": "white"
           },
           "yaxis": {
            "backgroundcolor": "#E5ECF6",
            "gridcolor": "white",
            "gridwidth": 2,
            "linecolor": "white",
            "showbackground": true,
            "ticks": "",
            "zerolinecolor": "white"
           },
           "zaxis": {
            "backgroundcolor": "#E5ECF6",
            "gridcolor": "white",
            "gridwidth": 2,
            "linecolor": "white",
            "showbackground": true,
            "ticks": "",
            "zerolinecolor": "white"
           }
          },
          "shapedefaults": {
           "line": {
            "color": "#2a3f5f"
           }
          },
          "ternary": {
           "aaxis": {
            "gridcolor": "white",
            "linecolor": "white",
            "ticks": ""
           },
           "baxis": {
            "gridcolor": "white",
            "linecolor": "white",
            "ticks": ""
           },
           "bgcolor": "#E5ECF6",
           "caxis": {
            "gridcolor": "white",
            "linecolor": "white",
            "ticks": ""
           }
          },
          "title": {
           "x": 0.05
          },
          "xaxis": {
           "automargin": true,
           "gridcolor": "white",
           "linecolor": "white",
           "ticks": "",
           "title": {
            "standoff": 15
           },
           "zerolinecolor": "white",
           "zerolinewidth": 2
          },
          "yaxis": {
           "automargin": true,
           "gridcolor": "white",
           "linecolor": "white",
           "ticks": "",
           "title": {
            "standoff": 15
           },
           "zerolinecolor": "white",
           "zerolinewidth": 2
          }
         }
        },
        "xaxis": {
         "anchor": "y",
         "domain": [
          0,
          1
         ],
         "title": {
          "text": "重要性程度"
         }
        },
        "yaxis": {
         "anchor": "x",
         "domain": [
          0,
          1
         ],
         "title": {
          "text": "特徵值"
         }
        }
       }
      }
     },
     "metadata": {},
     "output_type": "display_data"
    }
   ],
   "source": [
    "fig"
   ]
  },
  {
   "cell_type": "code",
   "execution_count": 86,
   "metadata": {},
   "outputs": [
    {
     "data": {
      "text/html": [
       "<div>\n",
       "<style scoped>\n",
       "    .dataframe tbody tr th:only-of-type {\n",
       "        vertical-align: middle;\n",
       "    }\n",
       "\n",
       "    .dataframe tbody tr th {\n",
       "        vertical-align: top;\n",
       "    }\n",
       "\n",
       "    .dataframe thead th {\n",
       "        text-align: right;\n",
       "    }\n",
       "</style>\n",
       "<table border=\"1\" class=\"dataframe\">\n",
       "  <thead>\n",
       "    <tr style=\"text-align: right;\">\n",
       "      <th></th>\n",
       "      <th>特徵值</th>\n",
       "      <th>重要性程度</th>\n",
       "    </tr>\n",
       "  </thead>\n",
       "  <tbody>\n",
       "    <tr>\n",
       "      <th>4</th>\n",
       "      <td>registry_to_use_time</td>\n",
       "      <td>0.281206</td>\n",
       "    </tr>\n",
       "    <tr>\n",
       "      <th>6</th>\n",
       "      <td>active_member</td>\n",
       "      <td>0.151155</td>\n",
       "    </tr>\n",
       "    <tr>\n",
       "      <th>1</th>\n",
       "      <td>age</td>\n",
       "      <td>0.112665</td>\n",
       "    </tr>\n",
       "    <tr>\n",
       "      <th>8</th>\n",
       "      <td>locations_Tainan</td>\n",
       "      <td>0.109356</td>\n",
       "    </tr>\n",
       "    <tr>\n",
       "      <th>9</th>\n",
       "      <td>locations_Taipei</td>\n",
       "      <td>0.070455</td>\n",
       "    </tr>\n",
       "    <tr>\n",
       "      <th>3</th>\n",
       "      <td>balance</td>\n",
       "      <td>0.057835</td>\n",
       "    </tr>\n",
       "    <tr>\n",
       "      <th>10</th>\n",
       "      <td>gender_Male</td>\n",
       "      <td>0.055793</td>\n",
       "    </tr>\n",
       "    <tr>\n",
       "      <th>7</th>\n",
       "      <td>estimated_salary</td>\n",
       "      <td>0.043652</td>\n",
       "    </tr>\n",
       "    <tr>\n",
       "      <th>0</th>\n",
       "      <td>Prod_output_num</td>\n",
       "      <td>0.043400</td>\n",
       "    </tr>\n",
       "    <tr>\n",
       "      <th>2</th>\n",
       "      <td>click_on_prod</td>\n",
       "      <td>0.038881</td>\n",
       "    </tr>\n",
       "    <tr>\n",
       "      <th>5</th>\n",
       "      <td>credit_card_paid</td>\n",
       "      <td>0.035603</td>\n",
       "    </tr>\n",
       "  </tbody>\n",
       "</table>\n",
       "</div>"
      ],
      "text/plain": [
       "                     特徵值     重要性程度\n",
       "4   registry_to_use_time  0.281206\n",
       "6          active_member  0.151155\n",
       "1                    age  0.112665\n",
       "8       locations_Tainan  0.109356\n",
       "9       locations_Taipei  0.070455\n",
       "3                balance  0.057835\n",
       "10           gender_Male  0.055793\n",
       "7       estimated_salary  0.043652\n",
       "0        Prod_output_num  0.043400\n",
       "2          click_on_prod  0.038881\n",
       "5       credit_card_paid  0.035603"
      ]
     },
     "execution_count": 86,
     "metadata": {},
     "output_type": "execute_result"
    }
   ],
   "source": [
    "# 根據「重要性程度」，由高至低排序\n",
    "res_data = res_data.sort_values('重要性程度', ascending= False)\n",
    "res_data"
   ]
  },
  {
   "attachments": {},
   "cell_type": "markdown",
   "metadata": {},
   "source": [
    "## 四、RandomForestClassifier重要性分析"
   ]
  },
  {
   "cell_type": "code",
   "execution_count": 87,
   "metadata": {},
   "outputs": [],
   "source": [
    "rf_model = RandomForestClassifier(n_estimators = 100, random_state = 0,verbose=1,n_jobs=8)"
   ]
  },
  {
   "cell_type": "code",
   "execution_count": 88,
   "metadata": {},
   "outputs": [
    {
     "name": "stderr",
     "output_type": "stream",
     "text": [
      "[Parallel(n_jobs=8)]: Using backend ThreadingBackend with 8 concurrent workers.\n",
      "[Parallel(n_jobs=8)]: Done  34 tasks      | elapsed:    0.1s\n",
      "[Parallel(n_jobs=8)]: Done 100 out of 100 | elapsed:    0.3s finished\n"
     ]
    },
    {
     "data": {
      "text/html": [
       "<style>#sk-container-id-3 {color: black;background-color: white;}#sk-container-id-3 pre{padding: 0;}#sk-container-id-3 div.sk-toggleable {background-color: white;}#sk-container-id-3 label.sk-toggleable__label {cursor: pointer;display: block;width: 100%;margin-bottom: 0;padding: 0.3em;box-sizing: border-box;text-align: center;}#sk-container-id-3 label.sk-toggleable__label-arrow:before {content: \"▸\";float: left;margin-right: 0.25em;color: #696969;}#sk-container-id-3 label.sk-toggleable__label-arrow:hover:before {color: black;}#sk-container-id-3 div.sk-estimator:hover label.sk-toggleable__label-arrow:before {color: black;}#sk-container-id-3 div.sk-toggleable__content {max-height: 0;max-width: 0;overflow: hidden;text-align: left;background-color: #f0f8ff;}#sk-container-id-3 div.sk-toggleable__content pre {margin: 0.2em;color: black;border-radius: 0.25em;background-color: #f0f8ff;}#sk-container-id-3 input.sk-toggleable__control:checked~div.sk-toggleable__content {max-height: 200px;max-width: 100%;overflow: auto;}#sk-container-id-3 input.sk-toggleable__control:checked~label.sk-toggleable__label-arrow:before {content: \"▾\";}#sk-container-id-3 div.sk-estimator input.sk-toggleable__control:checked~label.sk-toggleable__label {background-color: #d4ebff;}#sk-container-id-3 div.sk-label input.sk-toggleable__control:checked~label.sk-toggleable__label {background-color: #d4ebff;}#sk-container-id-3 input.sk-hidden--visually {border: 0;clip: rect(1px 1px 1px 1px);clip: rect(1px, 1px, 1px, 1px);height: 1px;margin: -1px;overflow: hidden;padding: 0;position: absolute;width: 1px;}#sk-container-id-3 div.sk-estimator {font-family: monospace;background-color: #f0f8ff;border: 1px dotted black;border-radius: 0.25em;box-sizing: border-box;margin-bottom: 0.5em;}#sk-container-id-3 div.sk-estimator:hover {background-color: #d4ebff;}#sk-container-id-3 div.sk-parallel-item::after {content: \"\";width: 100%;border-bottom: 1px solid gray;flex-grow: 1;}#sk-container-id-3 div.sk-label:hover label.sk-toggleable__label {background-color: #d4ebff;}#sk-container-id-3 div.sk-serial::before {content: \"\";position: absolute;border-left: 1px solid gray;box-sizing: border-box;top: 0;bottom: 0;left: 50%;z-index: 0;}#sk-container-id-3 div.sk-serial {display: flex;flex-direction: column;align-items: center;background-color: white;padding-right: 0.2em;padding-left: 0.2em;position: relative;}#sk-container-id-3 div.sk-item {position: relative;z-index: 1;}#sk-container-id-3 div.sk-parallel {display: flex;align-items: stretch;justify-content: center;background-color: white;position: relative;}#sk-container-id-3 div.sk-item::before, #sk-container-id-3 div.sk-parallel-item::before {content: \"\";position: absolute;border-left: 1px solid gray;box-sizing: border-box;top: 0;bottom: 0;left: 50%;z-index: -1;}#sk-container-id-3 div.sk-parallel-item {display: flex;flex-direction: column;z-index: 1;position: relative;background-color: white;}#sk-container-id-3 div.sk-parallel-item:first-child::after {align-self: flex-end;width: 50%;}#sk-container-id-3 div.sk-parallel-item:last-child::after {align-self: flex-start;width: 50%;}#sk-container-id-3 div.sk-parallel-item:only-child::after {width: 0;}#sk-container-id-3 div.sk-dashed-wrapped {border: 1px dashed gray;margin: 0 0.4em 0.5em 0.4em;box-sizing: border-box;padding-bottom: 0.4em;background-color: white;}#sk-container-id-3 div.sk-label label {font-family: monospace;font-weight: bold;display: inline-block;line-height: 1.2em;}#sk-container-id-3 div.sk-label-container {text-align: center;}#sk-container-id-3 div.sk-container {/* jupyter's `normalize.less` sets `[hidden] { display: none; }` but bootstrap.min.css set `[hidden] { display: none !important; }` so we also need the `!important` here to be able to override the default hidden behavior on the sphinx rendered scikit-learn.org. See: https://github.com/scikit-learn/scikit-learn/issues/21755 */display: inline-block !important;position: relative;}#sk-container-id-3 div.sk-text-repr-fallback {display: none;}</style><div id=\"sk-container-id-3\" class=\"sk-top-container\"><div class=\"sk-text-repr-fallback\"><pre>RandomForestClassifier(n_jobs=8, random_state=0, verbose=1)</pre><b>In a Jupyter environment, please rerun this cell to show the HTML representation or trust the notebook. <br />On GitHub, the HTML representation is unable to render, please try loading this page with nbviewer.org.</b></div><div class=\"sk-container\" hidden><div class=\"sk-item\"><div class=\"sk-estimator sk-toggleable\"><input class=\"sk-toggleable__control sk-hidden--visually\" id=\"sk-estimator-id-3\" type=\"checkbox\" checked><label for=\"sk-estimator-id-3\" class=\"sk-toggleable__label sk-toggleable__label-arrow\">RandomForestClassifier</label><div class=\"sk-toggleable__content\"><pre>RandomForestClassifier(n_jobs=8, random_state=0, verbose=1)</pre></div></div></div></div></div>"
      ],
      "text/plain": [
       "RandomForestClassifier(n_jobs=8, random_state=0, verbose=1)"
      ]
     },
     "execution_count": 88,
     "metadata": {},
     "output_type": "execute_result"
    }
   ],
   "source": [
    "rf_model.fit( X_train , y_train)"
   ]
  },
  {
   "cell_type": "code",
   "execution_count": 89,
   "metadata": {},
   "outputs": [
    {
     "data": {
      "text/plain": [
       "array([0.14643352, 0.2389462 , 0.0825038 , 0.14161117, 0.12826434,\n",
       "       0.01918327, 0.03690052, 0.14953559, 0.01768844, 0.02016647,\n",
       "       0.01876669])"
      ]
     },
     "execution_count": 89,
     "metadata": {},
     "output_type": "execute_result"
    }
   ],
   "source": [
    "# 抓出重要特徵值\n",
    "feat_imp = rf_model.feature_importances_\n",
    "feat_imp"
   ]
  },
  {
   "cell_type": "code",
   "execution_count": 90,
   "metadata": {},
   "outputs": [
    {
     "data": {
      "text/plain": [
       "['Prod_output_num',\n",
       " 'age',\n",
       " 'click_on_prod',\n",
       " 'balance',\n",
       " 'registry_to_use_time',\n",
       " 'credit_card_paid',\n",
       " 'active_member',\n",
       " 'estimated_salary',\n",
       " 'locations_Tainan',\n",
       " 'locations_Taipei',\n",
       " 'gender_Male']"
      ]
     },
     "execution_count": 90,
     "metadata": {},
     "output_type": "execute_result"
    }
   ],
   "source": [
    "# 抓出特徵值欄位\n",
    "feat = X_train.columns.tolist()\n",
    "feat"
   ]
  },
  {
   "cell_type": "code",
   "execution_count": 91,
   "metadata": {},
   "outputs": [
    {
     "data": {
      "text/html": [
       "<div>\n",
       "<style scoped>\n",
       "    .dataframe tbody tr th:only-of-type {\n",
       "        vertical-align: middle;\n",
       "    }\n",
       "\n",
       "    .dataframe tbody tr th {\n",
       "        vertical-align: top;\n",
       "    }\n",
       "\n",
       "    .dataframe thead th {\n",
       "        text-align: right;\n",
       "    }\n",
       "</style>\n",
       "<table border=\"1\" class=\"dataframe\">\n",
       "  <thead>\n",
       "    <tr style=\"text-align: right;\">\n",
       "      <th></th>\n",
       "      <th>特徵值</th>\n",
       "      <th>重要性程度</th>\n",
       "    </tr>\n",
       "  </thead>\n",
       "  <tbody>\n",
       "    <tr>\n",
       "      <th>0</th>\n",
       "      <td>Prod_output_num</td>\n",
       "      <td>0.146434</td>\n",
       "    </tr>\n",
       "    <tr>\n",
       "      <th>1</th>\n",
       "      <td>age</td>\n",
       "      <td>0.238946</td>\n",
       "    </tr>\n",
       "    <tr>\n",
       "      <th>2</th>\n",
       "      <td>click_on_prod</td>\n",
       "      <td>0.082504</td>\n",
       "    </tr>\n",
       "    <tr>\n",
       "      <th>3</th>\n",
       "      <td>balance</td>\n",
       "      <td>0.141611</td>\n",
       "    </tr>\n",
       "    <tr>\n",
       "      <th>4</th>\n",
       "      <td>registry_to_use_time</td>\n",
       "      <td>0.128264</td>\n",
       "    </tr>\n",
       "    <tr>\n",
       "      <th>5</th>\n",
       "      <td>credit_card_paid</td>\n",
       "      <td>0.019183</td>\n",
       "    </tr>\n",
       "    <tr>\n",
       "      <th>6</th>\n",
       "      <td>active_member</td>\n",
       "      <td>0.036901</td>\n",
       "    </tr>\n",
       "    <tr>\n",
       "      <th>7</th>\n",
       "      <td>estimated_salary</td>\n",
       "      <td>0.149536</td>\n",
       "    </tr>\n",
       "    <tr>\n",
       "      <th>8</th>\n",
       "      <td>locations_Tainan</td>\n",
       "      <td>0.017688</td>\n",
       "    </tr>\n",
       "    <tr>\n",
       "      <th>9</th>\n",
       "      <td>locations_Taipei</td>\n",
       "      <td>0.020166</td>\n",
       "    </tr>\n",
       "    <tr>\n",
       "      <th>10</th>\n",
       "      <td>gender_Male</td>\n",
       "      <td>0.018767</td>\n",
       "    </tr>\n",
       "  </tbody>\n",
       "</table>\n",
       "</div>"
      ],
      "text/plain": [
       "                     特徵值     重要性程度\n",
       "0        Prod_output_num  0.146434\n",
       "1                    age  0.238946\n",
       "2          click_on_prod  0.082504\n",
       "3                balance  0.141611\n",
       "4   registry_to_use_time  0.128264\n",
       "5       credit_card_paid  0.019183\n",
       "6          active_member  0.036901\n",
       "7       estimated_salary  0.149536\n",
       "8       locations_Tainan  0.017688\n",
       "9       locations_Taipei  0.020166\n",
       "10           gender_Male  0.018767"
      ]
     },
     "execution_count": 91,
     "metadata": {},
     "output_type": "execute_result"
    }
   ],
   "source": [
    "res_data = pd.DataFrame({'特徵值': feat,\n",
    "                        '重要性程度': feat_imp})\n",
    "res_data"
   ]
  },
  {
   "cell_type": "code",
   "execution_count": 92,
   "metadata": {},
   "outputs": [
    {
     "data": {
      "text/plain": [
       "'rf_Importances.html'"
      ]
     },
     "execution_count": 92,
     "metadata": {},
     "output_type": "execute_result"
    }
   ],
   "source": [
    "# 繪圖的時候，必須要從低至高排序\n",
    "res_data = res_data.sort_values('重要性程度', ascending=True)\n",
    "# 視覺化\n",
    "plot_name = 'rf_Importances'\n",
    "fig = px.bar(res_data, x='重要性程度', y='特徵值',\n",
    "            color='重要性程度',orientation='h' )\n",
    "plot(fig, filename = plot_name+ '.html')"
   ]
  },
  {
   "cell_type": "code",
   "execution_count": 93,
   "metadata": {},
   "outputs": [
    {
     "data": {
      "application/vnd.plotly.v1+json": {
       "config": {
        "plotlyServerURL": "https://plot.ly"
       },
       "data": [
        {
         "alignmentgroup": "True",
         "hovertemplate": "重要性程度=%{marker.color}<br>特徵值=%{y}<extra></extra>",
         "legendgroup": "",
         "marker": {
          "color": [
           0.017688443398520697,
           0.018766690251955702,
           0.019183273934758216,
           0.020166469276881864,
           0.0369005165708756,
           0.08250379766468686,
           0.12826433505788767,
           0.14161116699666657,
           0.14643351973101534,
           0.14953559058682647,
           0.2389461965299249
          ],
          "coloraxis": "coloraxis",
          "pattern": {
           "shape": ""
          }
         },
         "name": "",
         "offsetgroup": "",
         "orientation": "h",
         "showlegend": false,
         "textposition": "auto",
         "type": "bar",
         "x": [
          0.017688443398520697,
          0.018766690251955702,
          0.019183273934758216,
          0.020166469276881864,
          0.0369005165708756,
          0.08250379766468686,
          0.12826433505788767,
          0.14161116699666657,
          0.14643351973101534,
          0.14953559058682647,
          0.2389461965299249
         ],
         "xaxis": "x",
         "y": [
          "locations_Tainan",
          "gender_Male",
          "credit_card_paid",
          "locations_Taipei",
          "active_member",
          "click_on_prod",
          "registry_to_use_time",
          "balance",
          "Prod_output_num",
          "estimated_salary",
          "age"
         ],
         "yaxis": "y"
        }
       ],
       "layout": {
        "barmode": "relative",
        "coloraxis": {
         "colorbar": {
          "title": {
           "text": "重要性程度"
          }
         },
         "colorscale": [
          [
           0,
           "#0d0887"
          ],
          [
           0.1111111111111111,
           "#46039f"
          ],
          [
           0.2222222222222222,
           "#7201a8"
          ],
          [
           0.3333333333333333,
           "#9c179e"
          ],
          [
           0.4444444444444444,
           "#bd3786"
          ],
          [
           0.5555555555555556,
           "#d8576b"
          ],
          [
           0.6666666666666666,
           "#ed7953"
          ],
          [
           0.7777777777777778,
           "#fb9f3a"
          ],
          [
           0.8888888888888888,
           "#fdca26"
          ],
          [
           1,
           "#f0f921"
          ]
         ]
        },
        "legend": {
         "tracegroupgap": 0
        },
        "margin": {
         "t": 60
        },
        "template": {
         "data": {
          "bar": [
           {
            "error_x": {
             "color": "#2a3f5f"
            },
            "error_y": {
             "color": "#2a3f5f"
            },
            "marker": {
             "line": {
              "color": "#E5ECF6",
              "width": 0.5
             },
             "pattern": {
              "fillmode": "overlay",
              "size": 10,
              "solidity": 0.2
             }
            },
            "type": "bar"
           }
          ],
          "barpolar": [
           {
            "marker": {
             "line": {
              "color": "#E5ECF6",
              "width": 0.5
             },
             "pattern": {
              "fillmode": "overlay",
              "size": 10,
              "solidity": 0.2
             }
            },
            "type": "barpolar"
           }
          ],
          "carpet": [
           {
            "aaxis": {
             "endlinecolor": "#2a3f5f",
             "gridcolor": "white",
             "linecolor": "white",
             "minorgridcolor": "white",
             "startlinecolor": "#2a3f5f"
            },
            "baxis": {
             "endlinecolor": "#2a3f5f",
             "gridcolor": "white",
             "linecolor": "white",
             "minorgridcolor": "white",
             "startlinecolor": "#2a3f5f"
            },
            "type": "carpet"
           }
          ],
          "choropleth": [
           {
            "colorbar": {
             "outlinewidth": 0,
             "ticks": ""
            },
            "type": "choropleth"
           }
          ],
          "contour": [
           {
            "colorbar": {
             "outlinewidth": 0,
             "ticks": ""
            },
            "colorscale": [
             [
              0,
              "#0d0887"
             ],
             [
              0.1111111111111111,
              "#46039f"
             ],
             [
              0.2222222222222222,
              "#7201a8"
             ],
             [
              0.3333333333333333,
              "#9c179e"
             ],
             [
              0.4444444444444444,
              "#bd3786"
             ],
             [
              0.5555555555555556,
              "#d8576b"
             ],
             [
              0.6666666666666666,
              "#ed7953"
             ],
             [
              0.7777777777777778,
              "#fb9f3a"
             ],
             [
              0.8888888888888888,
              "#fdca26"
             ],
             [
              1,
              "#f0f921"
             ]
            ],
            "type": "contour"
           }
          ],
          "contourcarpet": [
           {
            "colorbar": {
             "outlinewidth": 0,
             "ticks": ""
            },
            "type": "contourcarpet"
           }
          ],
          "heatmap": [
           {
            "colorbar": {
             "outlinewidth": 0,
             "ticks": ""
            },
            "colorscale": [
             [
              0,
              "#0d0887"
             ],
             [
              0.1111111111111111,
              "#46039f"
             ],
             [
              0.2222222222222222,
              "#7201a8"
             ],
             [
              0.3333333333333333,
              "#9c179e"
             ],
             [
              0.4444444444444444,
              "#bd3786"
             ],
             [
              0.5555555555555556,
              "#d8576b"
             ],
             [
              0.6666666666666666,
              "#ed7953"
             ],
             [
              0.7777777777777778,
              "#fb9f3a"
             ],
             [
              0.8888888888888888,
              "#fdca26"
             ],
             [
              1,
              "#f0f921"
             ]
            ],
            "type": "heatmap"
           }
          ],
          "heatmapgl": [
           {
            "colorbar": {
             "outlinewidth": 0,
             "ticks": ""
            },
            "colorscale": [
             [
              0,
              "#0d0887"
             ],
             [
              0.1111111111111111,
              "#46039f"
             ],
             [
              0.2222222222222222,
              "#7201a8"
             ],
             [
              0.3333333333333333,
              "#9c179e"
             ],
             [
              0.4444444444444444,
              "#bd3786"
             ],
             [
              0.5555555555555556,
              "#d8576b"
             ],
             [
              0.6666666666666666,
              "#ed7953"
             ],
             [
              0.7777777777777778,
              "#fb9f3a"
             ],
             [
              0.8888888888888888,
              "#fdca26"
             ],
             [
              1,
              "#f0f921"
             ]
            ],
            "type": "heatmapgl"
           }
          ],
          "histogram": [
           {
            "marker": {
             "pattern": {
              "fillmode": "overlay",
              "size": 10,
              "solidity": 0.2
             }
            },
            "type": "histogram"
           }
          ],
          "histogram2d": [
           {
            "colorbar": {
             "outlinewidth": 0,
             "ticks": ""
            },
            "colorscale": [
             [
              0,
              "#0d0887"
             ],
             [
              0.1111111111111111,
              "#46039f"
             ],
             [
              0.2222222222222222,
              "#7201a8"
             ],
             [
              0.3333333333333333,
              "#9c179e"
             ],
             [
              0.4444444444444444,
              "#bd3786"
             ],
             [
              0.5555555555555556,
              "#d8576b"
             ],
             [
              0.6666666666666666,
              "#ed7953"
             ],
             [
              0.7777777777777778,
              "#fb9f3a"
             ],
             [
              0.8888888888888888,
              "#fdca26"
             ],
             [
              1,
              "#f0f921"
             ]
            ],
            "type": "histogram2d"
           }
          ],
          "histogram2dcontour": [
           {
            "colorbar": {
             "outlinewidth": 0,
             "ticks": ""
            },
            "colorscale": [
             [
              0,
              "#0d0887"
             ],
             [
              0.1111111111111111,
              "#46039f"
             ],
             [
              0.2222222222222222,
              "#7201a8"
             ],
             [
              0.3333333333333333,
              "#9c179e"
             ],
             [
              0.4444444444444444,
              "#bd3786"
             ],
             [
              0.5555555555555556,
              "#d8576b"
             ],
             [
              0.6666666666666666,
              "#ed7953"
             ],
             [
              0.7777777777777778,
              "#fb9f3a"
             ],
             [
              0.8888888888888888,
              "#fdca26"
             ],
             [
              1,
              "#f0f921"
             ]
            ],
            "type": "histogram2dcontour"
           }
          ],
          "mesh3d": [
           {
            "colorbar": {
             "outlinewidth": 0,
             "ticks": ""
            },
            "type": "mesh3d"
           }
          ],
          "parcoords": [
           {
            "line": {
             "colorbar": {
              "outlinewidth": 0,
              "ticks": ""
             }
            },
            "type": "parcoords"
           }
          ],
          "pie": [
           {
            "automargin": true,
            "type": "pie"
           }
          ],
          "scatter": [
           {
            "fillpattern": {
             "fillmode": "overlay",
             "size": 10,
             "solidity": 0.2
            },
            "type": "scatter"
           }
          ],
          "scatter3d": [
           {
            "line": {
             "colorbar": {
              "outlinewidth": 0,
              "ticks": ""
             }
            },
            "marker": {
             "colorbar": {
              "outlinewidth": 0,
              "ticks": ""
             }
            },
            "type": "scatter3d"
           }
          ],
          "scattercarpet": [
           {
            "marker": {
             "colorbar": {
              "outlinewidth": 0,
              "ticks": ""
             }
            },
            "type": "scattercarpet"
           }
          ],
          "scattergeo": [
           {
            "marker": {
             "colorbar": {
              "outlinewidth": 0,
              "ticks": ""
             }
            },
            "type": "scattergeo"
           }
          ],
          "scattergl": [
           {
            "marker": {
             "colorbar": {
              "outlinewidth": 0,
              "ticks": ""
             }
            },
            "type": "scattergl"
           }
          ],
          "scattermapbox": [
           {
            "marker": {
             "colorbar": {
              "outlinewidth": 0,
              "ticks": ""
             }
            },
            "type": "scattermapbox"
           }
          ],
          "scatterpolar": [
           {
            "marker": {
             "colorbar": {
              "outlinewidth": 0,
              "ticks": ""
             }
            },
            "type": "scatterpolar"
           }
          ],
          "scatterpolargl": [
           {
            "marker": {
             "colorbar": {
              "outlinewidth": 0,
              "ticks": ""
             }
            },
            "type": "scatterpolargl"
           }
          ],
          "scatterternary": [
           {
            "marker": {
             "colorbar": {
              "outlinewidth": 0,
              "ticks": ""
             }
            },
            "type": "scatterternary"
           }
          ],
          "surface": [
           {
            "colorbar": {
             "outlinewidth": 0,
             "ticks": ""
            },
            "colorscale": [
             [
              0,
              "#0d0887"
             ],
             [
              0.1111111111111111,
              "#46039f"
             ],
             [
              0.2222222222222222,
              "#7201a8"
             ],
             [
              0.3333333333333333,
              "#9c179e"
             ],
             [
              0.4444444444444444,
              "#bd3786"
             ],
             [
              0.5555555555555556,
              "#d8576b"
             ],
             [
              0.6666666666666666,
              "#ed7953"
             ],
             [
              0.7777777777777778,
              "#fb9f3a"
             ],
             [
              0.8888888888888888,
              "#fdca26"
             ],
             [
              1,
              "#f0f921"
             ]
            ],
            "type": "surface"
           }
          ],
          "table": [
           {
            "cells": {
             "fill": {
              "color": "#EBF0F8"
             },
             "line": {
              "color": "white"
             }
            },
            "header": {
             "fill": {
              "color": "#C8D4E3"
             },
             "line": {
              "color": "white"
             }
            },
            "type": "table"
           }
          ]
         },
         "layout": {
          "annotationdefaults": {
           "arrowcolor": "#2a3f5f",
           "arrowhead": 0,
           "arrowwidth": 1
          },
          "autotypenumbers": "strict",
          "coloraxis": {
           "colorbar": {
            "outlinewidth": 0,
            "ticks": ""
           }
          },
          "colorscale": {
           "diverging": [
            [
             0,
             "#8e0152"
            ],
            [
             0.1,
             "#c51b7d"
            ],
            [
             0.2,
             "#de77ae"
            ],
            [
             0.3,
             "#f1b6da"
            ],
            [
             0.4,
             "#fde0ef"
            ],
            [
             0.5,
             "#f7f7f7"
            ],
            [
             0.6,
             "#e6f5d0"
            ],
            [
             0.7,
             "#b8e186"
            ],
            [
             0.8,
             "#7fbc41"
            ],
            [
             0.9,
             "#4d9221"
            ],
            [
             1,
             "#276419"
            ]
           ],
           "sequential": [
            [
             0,
             "#0d0887"
            ],
            [
             0.1111111111111111,
             "#46039f"
            ],
            [
             0.2222222222222222,
             "#7201a8"
            ],
            [
             0.3333333333333333,
             "#9c179e"
            ],
            [
             0.4444444444444444,
             "#bd3786"
            ],
            [
             0.5555555555555556,
             "#d8576b"
            ],
            [
             0.6666666666666666,
             "#ed7953"
            ],
            [
             0.7777777777777778,
             "#fb9f3a"
            ],
            [
             0.8888888888888888,
             "#fdca26"
            ],
            [
             1,
             "#f0f921"
            ]
           ],
           "sequentialminus": [
            [
             0,
             "#0d0887"
            ],
            [
             0.1111111111111111,
             "#46039f"
            ],
            [
             0.2222222222222222,
             "#7201a8"
            ],
            [
             0.3333333333333333,
             "#9c179e"
            ],
            [
             0.4444444444444444,
             "#bd3786"
            ],
            [
             0.5555555555555556,
             "#d8576b"
            ],
            [
             0.6666666666666666,
             "#ed7953"
            ],
            [
             0.7777777777777778,
             "#fb9f3a"
            ],
            [
             0.8888888888888888,
             "#fdca26"
            ],
            [
             1,
             "#f0f921"
            ]
           ]
          },
          "colorway": [
           "#636efa",
           "#EF553B",
           "#00cc96",
           "#ab63fa",
           "#FFA15A",
           "#19d3f3",
           "#FF6692",
           "#B6E880",
           "#FF97FF",
           "#FECB52"
          ],
          "font": {
           "color": "#2a3f5f"
          },
          "geo": {
           "bgcolor": "white",
           "lakecolor": "white",
           "landcolor": "#E5ECF6",
           "showlakes": true,
           "showland": true,
           "subunitcolor": "white"
          },
          "hoverlabel": {
           "align": "left"
          },
          "hovermode": "closest",
          "mapbox": {
           "style": "light"
          },
          "paper_bgcolor": "white",
          "plot_bgcolor": "#E5ECF6",
          "polar": {
           "angularaxis": {
            "gridcolor": "white",
            "linecolor": "white",
            "ticks": ""
           },
           "bgcolor": "#E5ECF6",
           "radialaxis": {
            "gridcolor": "white",
            "linecolor": "white",
            "ticks": ""
           }
          },
          "scene": {
           "xaxis": {
            "backgroundcolor": "#E5ECF6",
            "gridcolor": "white",
            "gridwidth": 2,
            "linecolor": "white",
            "showbackground": true,
            "ticks": "",
            "zerolinecolor": "white"
           },
           "yaxis": {
            "backgroundcolor": "#E5ECF6",
            "gridcolor": "white",
            "gridwidth": 2,
            "linecolor": "white",
            "showbackground": true,
            "ticks": "",
            "zerolinecolor": "white"
           },
           "zaxis": {
            "backgroundcolor": "#E5ECF6",
            "gridcolor": "white",
            "gridwidth": 2,
            "linecolor": "white",
            "showbackground": true,
            "ticks": "",
            "zerolinecolor": "white"
           }
          },
          "shapedefaults": {
           "line": {
            "color": "#2a3f5f"
           }
          },
          "ternary": {
           "aaxis": {
            "gridcolor": "white",
            "linecolor": "white",
            "ticks": ""
           },
           "baxis": {
            "gridcolor": "white",
            "linecolor": "white",
            "ticks": ""
           },
           "bgcolor": "#E5ECF6",
           "caxis": {
            "gridcolor": "white",
            "linecolor": "white",
            "ticks": ""
           }
          },
          "title": {
           "x": 0.05
          },
          "xaxis": {
           "automargin": true,
           "gridcolor": "white",
           "linecolor": "white",
           "ticks": "",
           "title": {
            "standoff": 15
           },
           "zerolinecolor": "white",
           "zerolinewidth": 2
          },
          "yaxis": {
           "automargin": true,
           "gridcolor": "white",
           "linecolor": "white",
           "ticks": "",
           "title": {
            "standoff": 15
           },
           "zerolinecolor": "white",
           "zerolinewidth": 2
          }
         }
        },
        "xaxis": {
         "anchor": "y",
         "domain": [
          0,
          1
         ],
         "title": {
          "text": "重要性程度"
         }
        },
        "yaxis": {
         "anchor": "x",
         "domain": [
          0,
          1
         ],
         "title": {
          "text": "特徵值"
         }
        }
       }
      }
     },
     "metadata": {},
     "output_type": "display_data"
    }
   ],
   "source": [
    "fig"
   ]
  },
  {
   "cell_type": "code",
   "execution_count": 94,
   "metadata": {},
   "outputs": [
    {
     "data": {
      "text/html": [
       "<div>\n",
       "<style scoped>\n",
       "    .dataframe tbody tr th:only-of-type {\n",
       "        vertical-align: middle;\n",
       "    }\n",
       "\n",
       "    .dataframe tbody tr th {\n",
       "        vertical-align: top;\n",
       "    }\n",
       "\n",
       "    .dataframe thead th {\n",
       "        text-align: right;\n",
       "    }\n",
       "</style>\n",
       "<table border=\"1\" class=\"dataframe\">\n",
       "  <thead>\n",
       "    <tr style=\"text-align: right;\">\n",
       "      <th></th>\n",
       "      <th>特徵值</th>\n",
       "      <th>重要性程度</th>\n",
       "    </tr>\n",
       "  </thead>\n",
       "  <tbody>\n",
       "    <tr>\n",
       "      <th>1</th>\n",
       "      <td>age</td>\n",
       "      <td>0.238946</td>\n",
       "    </tr>\n",
       "    <tr>\n",
       "      <th>7</th>\n",
       "      <td>estimated_salary</td>\n",
       "      <td>0.149536</td>\n",
       "    </tr>\n",
       "    <tr>\n",
       "      <th>0</th>\n",
       "      <td>Prod_output_num</td>\n",
       "      <td>0.146434</td>\n",
       "    </tr>\n",
       "    <tr>\n",
       "      <th>3</th>\n",
       "      <td>balance</td>\n",
       "      <td>0.141611</td>\n",
       "    </tr>\n",
       "    <tr>\n",
       "      <th>4</th>\n",
       "      <td>registry_to_use_time</td>\n",
       "      <td>0.128264</td>\n",
       "    </tr>\n",
       "    <tr>\n",
       "      <th>2</th>\n",
       "      <td>click_on_prod</td>\n",
       "      <td>0.082504</td>\n",
       "    </tr>\n",
       "    <tr>\n",
       "      <th>6</th>\n",
       "      <td>active_member</td>\n",
       "      <td>0.036901</td>\n",
       "    </tr>\n",
       "    <tr>\n",
       "      <th>9</th>\n",
       "      <td>locations_Taipei</td>\n",
       "      <td>0.020166</td>\n",
       "    </tr>\n",
       "    <tr>\n",
       "      <th>5</th>\n",
       "      <td>credit_card_paid</td>\n",
       "      <td>0.019183</td>\n",
       "    </tr>\n",
       "    <tr>\n",
       "      <th>10</th>\n",
       "      <td>gender_Male</td>\n",
       "      <td>0.018767</td>\n",
       "    </tr>\n",
       "    <tr>\n",
       "      <th>8</th>\n",
       "      <td>locations_Tainan</td>\n",
       "      <td>0.017688</td>\n",
       "    </tr>\n",
       "  </tbody>\n",
       "</table>\n",
       "</div>"
      ],
      "text/plain": [
       "                     特徵值     重要性程度\n",
       "1                    age  0.238946\n",
       "7       estimated_salary  0.149536\n",
       "0        Prod_output_num  0.146434\n",
       "3                balance  0.141611\n",
       "4   registry_to_use_time  0.128264\n",
       "2          click_on_prod  0.082504\n",
       "6          active_member  0.036901\n",
       "9       locations_Taipei  0.020166\n",
       "5       credit_card_paid  0.019183\n",
       "10           gender_Male  0.018767\n",
       "8       locations_Tainan  0.017688"
      ]
     },
     "execution_count": 94,
     "metadata": {},
     "output_type": "execute_result"
    }
   ],
   "source": [
    "# 根據「重要性程度」，由高至低排序\n",
    "res_data = res_data.sort_values(by='重要性程度', ascending=False)\n",
    "res_data"
   ]
  },
  {
   "attachments": {},
   "cell_type": "markdown",
   "metadata": {},
   "source": [
    "## 五、羅吉斯回歸重要性分析\n"
   ]
  },
  {
   "cell_type": "code",
   "execution_count": 95,
   "metadata": {},
   "outputs": [],
   "source": [
    "from sklearn.linear_model import LogisticRegression\n",
    "logistic_reg = LogisticRegression()"
   ]
  },
  {
   "cell_type": "code",
   "execution_count": 96,
   "metadata": {},
   "outputs": [
    {
     "data": {
      "text/html": [
       "<style>#sk-container-id-4 {color: black;background-color: white;}#sk-container-id-4 pre{padding: 0;}#sk-container-id-4 div.sk-toggleable {background-color: white;}#sk-container-id-4 label.sk-toggleable__label {cursor: pointer;display: block;width: 100%;margin-bottom: 0;padding: 0.3em;box-sizing: border-box;text-align: center;}#sk-container-id-4 label.sk-toggleable__label-arrow:before {content: \"▸\";float: left;margin-right: 0.25em;color: #696969;}#sk-container-id-4 label.sk-toggleable__label-arrow:hover:before {color: black;}#sk-container-id-4 div.sk-estimator:hover label.sk-toggleable__label-arrow:before {color: black;}#sk-container-id-4 div.sk-toggleable__content {max-height: 0;max-width: 0;overflow: hidden;text-align: left;background-color: #f0f8ff;}#sk-container-id-4 div.sk-toggleable__content pre {margin: 0.2em;color: black;border-radius: 0.25em;background-color: #f0f8ff;}#sk-container-id-4 input.sk-toggleable__control:checked~div.sk-toggleable__content {max-height: 200px;max-width: 100%;overflow: auto;}#sk-container-id-4 input.sk-toggleable__control:checked~label.sk-toggleable__label-arrow:before {content: \"▾\";}#sk-container-id-4 div.sk-estimator input.sk-toggleable__control:checked~label.sk-toggleable__label {background-color: #d4ebff;}#sk-container-id-4 div.sk-label input.sk-toggleable__control:checked~label.sk-toggleable__label {background-color: #d4ebff;}#sk-container-id-4 input.sk-hidden--visually {border: 0;clip: rect(1px 1px 1px 1px);clip: rect(1px, 1px, 1px, 1px);height: 1px;margin: -1px;overflow: hidden;padding: 0;position: absolute;width: 1px;}#sk-container-id-4 div.sk-estimator {font-family: monospace;background-color: #f0f8ff;border: 1px dotted black;border-radius: 0.25em;box-sizing: border-box;margin-bottom: 0.5em;}#sk-container-id-4 div.sk-estimator:hover {background-color: #d4ebff;}#sk-container-id-4 div.sk-parallel-item::after {content: \"\";width: 100%;border-bottom: 1px solid gray;flex-grow: 1;}#sk-container-id-4 div.sk-label:hover label.sk-toggleable__label {background-color: #d4ebff;}#sk-container-id-4 div.sk-serial::before {content: \"\";position: absolute;border-left: 1px solid gray;box-sizing: border-box;top: 0;bottom: 0;left: 50%;z-index: 0;}#sk-container-id-4 div.sk-serial {display: flex;flex-direction: column;align-items: center;background-color: white;padding-right: 0.2em;padding-left: 0.2em;position: relative;}#sk-container-id-4 div.sk-item {position: relative;z-index: 1;}#sk-container-id-4 div.sk-parallel {display: flex;align-items: stretch;justify-content: center;background-color: white;position: relative;}#sk-container-id-4 div.sk-item::before, #sk-container-id-4 div.sk-parallel-item::before {content: \"\";position: absolute;border-left: 1px solid gray;box-sizing: border-box;top: 0;bottom: 0;left: 50%;z-index: -1;}#sk-container-id-4 div.sk-parallel-item {display: flex;flex-direction: column;z-index: 1;position: relative;background-color: white;}#sk-container-id-4 div.sk-parallel-item:first-child::after {align-self: flex-end;width: 50%;}#sk-container-id-4 div.sk-parallel-item:last-child::after {align-self: flex-start;width: 50%;}#sk-container-id-4 div.sk-parallel-item:only-child::after {width: 0;}#sk-container-id-4 div.sk-dashed-wrapped {border: 1px dashed gray;margin: 0 0.4em 0.5em 0.4em;box-sizing: border-box;padding-bottom: 0.4em;background-color: white;}#sk-container-id-4 div.sk-label label {font-family: monospace;font-weight: bold;display: inline-block;line-height: 1.2em;}#sk-container-id-4 div.sk-label-container {text-align: center;}#sk-container-id-4 div.sk-container {/* jupyter's `normalize.less` sets `[hidden] { display: none; }` but bootstrap.min.css set `[hidden] { display: none !important; }` so we also need the `!important` here to be able to override the default hidden behavior on the sphinx rendered scikit-learn.org. See: https://github.com/scikit-learn/scikit-learn/issues/21755 */display: inline-block !important;position: relative;}#sk-container-id-4 div.sk-text-repr-fallback {display: none;}</style><div id=\"sk-container-id-4\" class=\"sk-top-container\"><div class=\"sk-text-repr-fallback\"><pre>LogisticRegression()</pre><b>In a Jupyter environment, please rerun this cell to show the HTML representation or trust the notebook. <br />On GitHub, the HTML representation is unable to render, please try loading this page with nbviewer.org.</b></div><div class=\"sk-container\" hidden><div class=\"sk-item\"><div class=\"sk-estimator sk-toggleable\"><input class=\"sk-toggleable__control sk-hidden--visually\" id=\"sk-estimator-id-4\" type=\"checkbox\" checked><label for=\"sk-estimator-id-4\" class=\"sk-toggleable__label sk-toggleable__label-arrow\">LogisticRegression</label><div class=\"sk-toggleable__content\"><pre>LogisticRegression()</pre></div></div></div></div></div>"
      ],
      "text/plain": [
       "LogisticRegression()"
      ]
     },
     "execution_count": 96,
     "metadata": {},
     "output_type": "execute_result"
    }
   ],
   "source": [
    "logistic_reg.fit(X_train, y_train)"
   ]
  },
  {
   "cell_type": "code",
   "execution_count": 97,
   "metadata": {},
   "outputs": [
    {
     "data": {
      "text/plain": [
       "array([[-5.00656203e-03,  4.38844446e-02, -2.26874845e-03,\n",
       "         3.57078406e-06, -4.60233964e-04, -2.21335061e-04,\n",
       "         1.18869212e-03, -1.43598386e-06, -2.68098279e-04,\n",
       "        -8.91596050e-04, -1.04454902e-03]])"
      ]
     },
     "execution_count": 97,
     "metadata": {},
     "output_type": "execute_result"
    }
   ],
   "source": [
    "# coef_: 係數，找出每一個欄位/變數的方向性\n",
    "logistic_reg.coef_"
   ]
  },
  {
   "cell_type": "code",
   "execution_count": 98,
   "metadata": {},
   "outputs": [
    {
     "data": {
      "text/plain": [
       "[-0.0050065620309645495,\n",
       " 0.04388444460695675,\n",
       " -0.002268748453626324,\n",
       " 3.570784058131269e-06,\n",
       " -0.00046023396396059846,\n",
       " -0.00022133506131396456,\n",
       " 0.0011886921207504893,\n",
       " -1.4359838633839826e-06,\n",
       " -0.0002680982787305532,\n",
       " -0.0008915960501870627,\n",
       " -0.0010445490200863723]"
      ]
     },
     "execution_count": 98,
     "metadata": {},
     "output_type": "execute_result"
    }
   ],
   "source": [
    "feat_imp = logistic_reg.coef_.tolist()[0]\n",
    "feat_imp"
   ]
  },
  {
   "cell_type": "code",
   "execution_count": 99,
   "metadata": {},
   "outputs": [
    {
     "data": {
      "text/plain": [
       "Index(['Prod_output_num', 'age', 'click_on_prod', 'balance',\n",
       "       'registry_to_use_time', 'credit_card_paid', 'active_member',\n",
       "       'estimated_salary', 'locations_Tainan', 'locations_Taipei',\n",
       "       'gender_Male'],\n",
       "      dtype='object')"
      ]
     },
     "execution_count": 99,
     "metadata": {},
     "output_type": "execute_result"
    }
   ],
   "source": [
    "X_train.columns"
   ]
  },
  {
   "cell_type": "code",
   "execution_count": 100,
   "metadata": {},
   "outputs": [
    {
     "data": {
      "text/plain": [
       "['Prod_output_num',\n",
       " 'age',\n",
       " 'click_on_prod',\n",
       " 'balance',\n",
       " 'registry_to_use_time',\n",
       " 'credit_card_paid',\n",
       " 'active_member',\n",
       " 'estimated_salary',\n",
       " 'locations_Tainan',\n",
       " 'locations_Taipei',\n",
       " 'gender_Male']"
      ]
     },
     "execution_count": 100,
     "metadata": {},
     "output_type": "execute_result"
    }
   ],
   "source": [
    "feat = X_train.columns.tolist()\n",
    "feat"
   ]
  },
  {
   "cell_type": "code",
   "execution_count": 101,
   "metadata": {},
   "outputs": [
    {
     "data": {
      "text/html": [
       "<div>\n",
       "<style scoped>\n",
       "    .dataframe tbody tr th:only-of-type {\n",
       "        vertical-align: middle;\n",
       "    }\n",
       "\n",
       "    .dataframe tbody tr th {\n",
       "        vertical-align: top;\n",
       "    }\n",
       "\n",
       "    .dataframe thead th {\n",
       "        text-align: right;\n",
       "    }\n",
       "</style>\n",
       "<table border=\"1\" class=\"dataframe\">\n",
       "  <thead>\n",
       "    <tr style=\"text-align: right;\">\n",
       "      <th></th>\n",
       "      <th>特徵值</th>\n",
       "      <th>重要性程度</th>\n",
       "    </tr>\n",
       "  </thead>\n",
       "  <tbody>\n",
       "    <tr>\n",
       "      <th>0</th>\n",
       "      <td>Prod_output_num</td>\n",
       "      <td>-0.005007</td>\n",
       "    </tr>\n",
       "    <tr>\n",
       "      <th>1</th>\n",
       "      <td>age</td>\n",
       "      <td>0.043884</td>\n",
       "    </tr>\n",
       "    <tr>\n",
       "      <th>2</th>\n",
       "      <td>click_on_prod</td>\n",
       "      <td>-0.002269</td>\n",
       "    </tr>\n",
       "    <tr>\n",
       "      <th>3</th>\n",
       "      <td>balance</td>\n",
       "      <td>0.000004</td>\n",
       "    </tr>\n",
       "    <tr>\n",
       "      <th>4</th>\n",
       "      <td>registry_to_use_time</td>\n",
       "      <td>-0.000460</td>\n",
       "    </tr>\n",
       "    <tr>\n",
       "      <th>5</th>\n",
       "      <td>credit_card_paid</td>\n",
       "      <td>-0.000221</td>\n",
       "    </tr>\n",
       "    <tr>\n",
       "      <th>6</th>\n",
       "      <td>active_member</td>\n",
       "      <td>0.001189</td>\n",
       "    </tr>\n",
       "    <tr>\n",
       "      <th>7</th>\n",
       "      <td>estimated_salary</td>\n",
       "      <td>-0.000001</td>\n",
       "    </tr>\n",
       "    <tr>\n",
       "      <th>8</th>\n",
       "      <td>locations_Tainan</td>\n",
       "      <td>-0.000268</td>\n",
       "    </tr>\n",
       "    <tr>\n",
       "      <th>9</th>\n",
       "      <td>locations_Taipei</td>\n",
       "      <td>-0.000892</td>\n",
       "    </tr>\n",
       "    <tr>\n",
       "      <th>10</th>\n",
       "      <td>gender_Male</td>\n",
       "      <td>-0.001045</td>\n",
       "    </tr>\n",
       "  </tbody>\n",
       "</table>\n",
       "</div>"
      ],
      "text/plain": [
       "                     特徵值     重要性程度\n",
       "0        Prod_output_num -0.005007\n",
       "1                    age  0.043884\n",
       "2          click_on_prod -0.002269\n",
       "3                balance  0.000004\n",
       "4   registry_to_use_time -0.000460\n",
       "5       credit_card_paid -0.000221\n",
       "6          active_member  0.001189\n",
       "7       estimated_salary -0.000001\n",
       "8       locations_Tainan -0.000268\n",
       "9       locations_Taipei -0.000892\n",
       "10           gender_Male -0.001045"
      ]
     },
     "execution_count": 101,
     "metadata": {},
     "output_type": "execute_result"
    }
   ],
   "source": [
    "res_data_logistic = pd.DataFrame({'特徵值': feat, '重要性程度': feat_imp})\n",
    "res_data_logistic"
   ]
  },
  {
   "cell_type": "code",
   "execution_count": 102,
   "metadata": {},
   "outputs": [
    {
     "data": {
      "text/html": [
       "<div>\n",
       "<style scoped>\n",
       "    .dataframe tbody tr th:only-of-type {\n",
       "        vertical-align: middle;\n",
       "    }\n",
       "\n",
       "    .dataframe tbody tr th {\n",
       "        vertical-align: top;\n",
       "    }\n",
       "\n",
       "    .dataframe thead th {\n",
       "        text-align: right;\n",
       "    }\n",
       "</style>\n",
       "<table border=\"1\" class=\"dataframe\">\n",
       "  <thead>\n",
       "    <tr style=\"text-align: right;\">\n",
       "      <th></th>\n",
       "      <th>特徵值</th>\n",
       "      <th>重要性程度</th>\n",
       "    </tr>\n",
       "  </thead>\n",
       "  <tbody>\n",
       "    <tr>\n",
       "      <th>1</th>\n",
       "      <td>age</td>\n",
       "      <td>0.043884</td>\n",
       "    </tr>\n",
       "    <tr>\n",
       "      <th>6</th>\n",
       "      <td>active_member</td>\n",
       "      <td>0.001189</td>\n",
       "    </tr>\n",
       "    <tr>\n",
       "      <th>3</th>\n",
       "      <td>balance</td>\n",
       "      <td>0.000004</td>\n",
       "    </tr>\n",
       "    <tr>\n",
       "      <th>7</th>\n",
       "      <td>estimated_salary</td>\n",
       "      <td>-0.000001</td>\n",
       "    </tr>\n",
       "    <tr>\n",
       "      <th>5</th>\n",
       "      <td>credit_card_paid</td>\n",
       "      <td>-0.000221</td>\n",
       "    </tr>\n",
       "    <tr>\n",
       "      <th>8</th>\n",
       "      <td>locations_Tainan</td>\n",
       "      <td>-0.000268</td>\n",
       "    </tr>\n",
       "    <tr>\n",
       "      <th>4</th>\n",
       "      <td>registry_to_use_time</td>\n",
       "      <td>-0.000460</td>\n",
       "    </tr>\n",
       "    <tr>\n",
       "      <th>9</th>\n",
       "      <td>locations_Taipei</td>\n",
       "      <td>-0.000892</td>\n",
       "    </tr>\n",
       "    <tr>\n",
       "      <th>10</th>\n",
       "      <td>gender_Male</td>\n",
       "      <td>-0.001045</td>\n",
       "    </tr>\n",
       "    <tr>\n",
       "      <th>2</th>\n",
       "      <td>click_on_prod</td>\n",
       "      <td>-0.002269</td>\n",
       "    </tr>\n",
       "    <tr>\n",
       "      <th>0</th>\n",
       "      <td>Prod_output_num</td>\n",
       "      <td>-0.005007</td>\n",
       "    </tr>\n",
       "  </tbody>\n",
       "</table>\n",
       "</div>"
      ],
      "text/plain": [
       "                     特徵值     重要性程度\n",
       "1                    age  0.043884\n",
       "6          active_member  0.001189\n",
       "3                balance  0.000004\n",
       "7       estimated_salary -0.000001\n",
       "5       credit_card_paid -0.000221\n",
       "8       locations_Tainan -0.000268\n",
       "4   registry_to_use_time -0.000460\n",
       "9       locations_Taipei -0.000892\n",
       "10           gender_Male -0.001045\n",
       "2          click_on_prod -0.002269\n",
       "0        Prod_output_num -0.005007"
      ]
     },
     "execution_count": 102,
     "metadata": {},
     "output_type": "execute_result"
    }
   ],
   "source": [
    "res_data_logistic = res_data_logistic.sort_values(by='重要性程度', ascending=False)\n",
    "res_data_logistic"
   ]
  },
  {
   "attachments": {},
   "cell_type": "markdown",
   "metadata": {},
   "source": [
    "### 單位增/減量"
   ]
  },
  {
   "cell_type": "code",
   "execution_count": 103,
   "metadata": {},
   "outputs": [
    {
     "data": {
      "text/plain": [
       "2.0"
      ]
     },
     "execution_count": 103,
     "metadata": {},
     "output_type": "execute_result"
    }
   ],
   "source": [
    "# exponential 與 log互相呈現反函數\n",
    "# 兩者可以互相被轉換回來\n",
    "np.exp(np.log(2))"
   ]
  },
  {
   "cell_type": "code",
   "execution_count": 104,
   "metadata": {},
   "outputs": [],
   "source": [
    "# logistic regression裡面的係數/重要性程度是經過log轉換的哦！\n",
    "# 若要將係數轉換回來，要取exponential function\n",
    "# 會變成倍數，舉例：1.3，代表1.3倍的意思\n",
    "# 若1.3 - 1 = 30%，言下之意即是增加30%\n",
    "# 實踐：exp(x) - 1\n",
    "res_data_logistic['對y值的影響百分比'] = np.exp(res_data_logistic['重要性程度']) -1"
   ]
  },
  {
   "cell_type": "code",
   "execution_count": 105,
   "metadata": {},
   "outputs": [
    {
     "data": {
      "text/html": [
       "<div>\n",
       "<style scoped>\n",
       "    .dataframe tbody tr th:only-of-type {\n",
       "        vertical-align: middle;\n",
       "    }\n",
       "\n",
       "    .dataframe tbody tr th {\n",
       "        vertical-align: top;\n",
       "    }\n",
       "\n",
       "    .dataframe thead th {\n",
       "        text-align: right;\n",
       "    }\n",
       "</style>\n",
       "<table border=\"1\" class=\"dataframe\">\n",
       "  <thead>\n",
       "    <tr style=\"text-align: right;\">\n",
       "      <th></th>\n",
       "      <th>特徵值</th>\n",
       "      <th>重要性程度</th>\n",
       "      <th>對y值的影響百分比</th>\n",
       "    </tr>\n",
       "  </thead>\n",
       "  <tbody>\n",
       "    <tr>\n",
       "      <th>1</th>\n",
       "      <td>age</td>\n",
       "      <td>0.043884</td>\n",
       "      <td>0.044862</td>\n",
       "    </tr>\n",
       "    <tr>\n",
       "      <th>6</th>\n",
       "      <td>active_member</td>\n",
       "      <td>0.001189</td>\n",
       "      <td>0.001189</td>\n",
       "    </tr>\n",
       "    <tr>\n",
       "      <th>3</th>\n",
       "      <td>balance</td>\n",
       "      <td>0.000004</td>\n",
       "      <td>0.000004</td>\n",
       "    </tr>\n",
       "    <tr>\n",
       "      <th>7</th>\n",
       "      <td>estimated_salary</td>\n",
       "      <td>-0.000001</td>\n",
       "      <td>-0.000001</td>\n",
       "    </tr>\n",
       "    <tr>\n",
       "      <th>5</th>\n",
       "      <td>credit_card_paid</td>\n",
       "      <td>-0.000221</td>\n",
       "      <td>-0.000221</td>\n",
       "    </tr>\n",
       "    <tr>\n",
       "      <th>8</th>\n",
       "      <td>locations_Tainan</td>\n",
       "      <td>-0.000268</td>\n",
       "      <td>-0.000268</td>\n",
       "    </tr>\n",
       "    <tr>\n",
       "      <th>4</th>\n",
       "      <td>registry_to_use_time</td>\n",
       "      <td>-0.000460</td>\n",
       "      <td>-0.000460</td>\n",
       "    </tr>\n",
       "    <tr>\n",
       "      <th>9</th>\n",
       "      <td>locations_Taipei</td>\n",
       "      <td>-0.000892</td>\n",
       "      <td>-0.000891</td>\n",
       "    </tr>\n",
       "    <tr>\n",
       "      <th>10</th>\n",
       "      <td>gender_Male</td>\n",
       "      <td>-0.001045</td>\n",
       "      <td>-0.001044</td>\n",
       "    </tr>\n",
       "    <tr>\n",
       "      <th>2</th>\n",
       "      <td>click_on_prod</td>\n",
       "      <td>-0.002269</td>\n",
       "      <td>-0.002266</td>\n",
       "    </tr>\n",
       "    <tr>\n",
       "      <th>0</th>\n",
       "      <td>Prod_output_num</td>\n",
       "      <td>-0.005007</td>\n",
       "      <td>-0.004994</td>\n",
       "    </tr>\n",
       "  </tbody>\n",
       "</table>\n",
       "</div>"
      ],
      "text/plain": [
       "                     特徵值     重要性程度  對y值的影響百分比\n",
       "1                    age  0.043884   0.044862\n",
       "6          active_member  0.001189   0.001189\n",
       "3                balance  0.000004   0.000004\n",
       "7       estimated_salary -0.000001  -0.000001\n",
       "5       credit_card_paid -0.000221  -0.000221\n",
       "8       locations_Tainan -0.000268  -0.000268\n",
       "4   registry_to_use_time -0.000460  -0.000460\n",
       "9       locations_Taipei -0.000892  -0.000891\n",
       "10           gender_Male -0.001045  -0.001044\n",
       "2          click_on_prod -0.002269  -0.002266\n",
       "0        Prod_output_num -0.005007  -0.004994"
      ]
     },
     "execution_count": 105,
     "metadata": {},
     "output_type": "execute_result"
    }
   ],
   "source": [
    "res_data_logistic"
   ]
  },
  {
   "attachments": {},
   "cell_type": "markdown",
   "metadata": {},
   "source": [
    "### 視覺化"
   ]
  },
  {
   "cell_type": "code",
   "execution_count": 106,
   "metadata": {},
   "outputs": [
    {
     "data": {
      "text/plain": [
       "'lr_Importances.html'"
      ]
     },
     "execution_count": 106,
     "metadata": {},
     "output_type": "execute_result"
    }
   ],
   "source": [
    "# 根據Importance，由低至高排序\n",
    "# 因爲：繪圖的時候，必須要從低至高排序\n",
    "res_data_logistic = res_data_logistic.sort_values(by='對y值的影響百分比', ascending=True)\n",
    "\n",
    "# 視覺化重要性\n",
    "plot_name = 'lr_Importances'\n",
    "fig = px.bar(res_data_logistic, x='對y值的影響百分比', y='特徵值',\n",
    "            color='對y值的影響百分比',orientation='h' )\n",
    "plot(fig, filename = plot_name+ '.html')"
   ]
  },
  {
   "cell_type": "code",
   "execution_count": 107,
   "metadata": {},
   "outputs": [
    {
     "data": {
      "application/vnd.plotly.v1+json": {
       "config": {
        "plotlyServerURL": "https://plot.ly"
       },
       "data": [
        {
         "alignmentgroup": "True",
         "hovertemplate": "對y值的影響百分比=%{marker.color}<br>特徵值=%{y}<extra></extra>",
         "legendgroup": "",
         "marker": {
          "color": [
           -0.004994050088593549,
           -0.0022661767890410633,
           -0.0010440036686573118,
           -0.0008911986965304264,
           -0.0004601280725553547,
           -0.00026806234359844083,
           -0.0002213105685163752,
           -0.0000014359828323096124,
           0.000003570790433338189,
           0.0011893988952473844,
           0.044861608518282914
          ],
          "coloraxis": "coloraxis",
          "pattern": {
           "shape": ""
          }
         },
         "name": "",
         "offsetgroup": "",
         "orientation": "h",
         "showlegend": false,
         "textposition": "auto",
         "type": "bar",
         "x": [
          -0.004994050088593549,
          -0.0022661767890410633,
          -0.0010440036686573118,
          -0.0008911986965304264,
          -0.0004601280725553547,
          -0.00026806234359844083,
          -0.0002213105685163752,
          -0.0000014359828323096124,
          0.000003570790433338189,
          0.0011893988952473844,
          0.044861608518282914
         ],
         "xaxis": "x",
         "y": [
          "Prod_output_num",
          "click_on_prod",
          "gender_Male",
          "locations_Taipei",
          "registry_to_use_time",
          "locations_Tainan",
          "credit_card_paid",
          "estimated_salary",
          "balance",
          "active_member",
          "age"
         ],
         "yaxis": "y"
        }
       ],
       "layout": {
        "barmode": "relative",
        "coloraxis": {
         "colorbar": {
          "title": {
           "text": "對y值的影響百分比"
          }
         },
         "colorscale": [
          [
           0,
           "#0d0887"
          ],
          [
           0.1111111111111111,
           "#46039f"
          ],
          [
           0.2222222222222222,
           "#7201a8"
          ],
          [
           0.3333333333333333,
           "#9c179e"
          ],
          [
           0.4444444444444444,
           "#bd3786"
          ],
          [
           0.5555555555555556,
           "#d8576b"
          ],
          [
           0.6666666666666666,
           "#ed7953"
          ],
          [
           0.7777777777777778,
           "#fb9f3a"
          ],
          [
           0.8888888888888888,
           "#fdca26"
          ],
          [
           1,
           "#f0f921"
          ]
         ]
        },
        "legend": {
         "tracegroupgap": 0
        },
        "margin": {
         "t": 60
        },
        "template": {
         "data": {
          "bar": [
           {
            "error_x": {
             "color": "#2a3f5f"
            },
            "error_y": {
             "color": "#2a3f5f"
            },
            "marker": {
             "line": {
              "color": "#E5ECF6",
              "width": 0.5
             },
             "pattern": {
              "fillmode": "overlay",
              "size": 10,
              "solidity": 0.2
             }
            },
            "type": "bar"
           }
          ],
          "barpolar": [
           {
            "marker": {
             "line": {
              "color": "#E5ECF6",
              "width": 0.5
             },
             "pattern": {
              "fillmode": "overlay",
              "size": 10,
              "solidity": 0.2
             }
            },
            "type": "barpolar"
           }
          ],
          "carpet": [
           {
            "aaxis": {
             "endlinecolor": "#2a3f5f",
             "gridcolor": "white",
             "linecolor": "white",
             "minorgridcolor": "white",
             "startlinecolor": "#2a3f5f"
            },
            "baxis": {
             "endlinecolor": "#2a3f5f",
             "gridcolor": "white",
             "linecolor": "white",
             "minorgridcolor": "white",
             "startlinecolor": "#2a3f5f"
            },
            "type": "carpet"
           }
          ],
          "choropleth": [
           {
            "colorbar": {
             "outlinewidth": 0,
             "ticks": ""
            },
            "type": "choropleth"
           }
          ],
          "contour": [
           {
            "colorbar": {
             "outlinewidth": 0,
             "ticks": ""
            },
            "colorscale": [
             [
              0,
              "#0d0887"
             ],
             [
              0.1111111111111111,
              "#46039f"
             ],
             [
              0.2222222222222222,
              "#7201a8"
             ],
             [
              0.3333333333333333,
              "#9c179e"
             ],
             [
              0.4444444444444444,
              "#bd3786"
             ],
             [
              0.5555555555555556,
              "#d8576b"
             ],
             [
              0.6666666666666666,
              "#ed7953"
             ],
             [
              0.7777777777777778,
              "#fb9f3a"
             ],
             [
              0.8888888888888888,
              "#fdca26"
             ],
             [
              1,
              "#f0f921"
             ]
            ],
            "type": "contour"
           }
          ],
          "contourcarpet": [
           {
            "colorbar": {
             "outlinewidth": 0,
             "ticks": ""
            },
            "type": "contourcarpet"
           }
          ],
          "heatmap": [
           {
            "colorbar": {
             "outlinewidth": 0,
             "ticks": ""
            },
            "colorscale": [
             [
              0,
              "#0d0887"
             ],
             [
              0.1111111111111111,
              "#46039f"
             ],
             [
              0.2222222222222222,
              "#7201a8"
             ],
             [
              0.3333333333333333,
              "#9c179e"
             ],
             [
              0.4444444444444444,
              "#bd3786"
             ],
             [
              0.5555555555555556,
              "#d8576b"
             ],
             [
              0.6666666666666666,
              "#ed7953"
             ],
             [
              0.7777777777777778,
              "#fb9f3a"
             ],
             [
              0.8888888888888888,
              "#fdca26"
             ],
             [
              1,
              "#f0f921"
             ]
            ],
            "type": "heatmap"
           }
          ],
          "heatmapgl": [
           {
            "colorbar": {
             "outlinewidth": 0,
             "ticks": ""
            },
            "colorscale": [
             [
              0,
              "#0d0887"
             ],
             [
              0.1111111111111111,
              "#46039f"
             ],
             [
              0.2222222222222222,
              "#7201a8"
             ],
             [
              0.3333333333333333,
              "#9c179e"
             ],
             [
              0.4444444444444444,
              "#bd3786"
             ],
             [
              0.5555555555555556,
              "#d8576b"
             ],
             [
              0.6666666666666666,
              "#ed7953"
             ],
             [
              0.7777777777777778,
              "#fb9f3a"
             ],
             [
              0.8888888888888888,
              "#fdca26"
             ],
             [
              1,
              "#f0f921"
             ]
            ],
            "type": "heatmapgl"
           }
          ],
          "histogram": [
           {
            "marker": {
             "pattern": {
              "fillmode": "overlay",
              "size": 10,
              "solidity": 0.2
             }
            },
            "type": "histogram"
           }
          ],
          "histogram2d": [
           {
            "colorbar": {
             "outlinewidth": 0,
             "ticks": ""
            },
            "colorscale": [
             [
              0,
              "#0d0887"
             ],
             [
              0.1111111111111111,
              "#46039f"
             ],
             [
              0.2222222222222222,
              "#7201a8"
             ],
             [
              0.3333333333333333,
              "#9c179e"
             ],
             [
              0.4444444444444444,
              "#bd3786"
             ],
             [
              0.5555555555555556,
              "#d8576b"
             ],
             [
              0.6666666666666666,
              "#ed7953"
             ],
             [
              0.7777777777777778,
              "#fb9f3a"
             ],
             [
              0.8888888888888888,
              "#fdca26"
             ],
             [
              1,
              "#f0f921"
             ]
            ],
            "type": "histogram2d"
           }
          ],
          "histogram2dcontour": [
           {
            "colorbar": {
             "outlinewidth": 0,
             "ticks": ""
            },
            "colorscale": [
             [
              0,
              "#0d0887"
             ],
             [
              0.1111111111111111,
              "#46039f"
             ],
             [
              0.2222222222222222,
              "#7201a8"
             ],
             [
              0.3333333333333333,
              "#9c179e"
             ],
             [
              0.4444444444444444,
              "#bd3786"
             ],
             [
              0.5555555555555556,
              "#d8576b"
             ],
             [
              0.6666666666666666,
              "#ed7953"
             ],
             [
              0.7777777777777778,
              "#fb9f3a"
             ],
             [
              0.8888888888888888,
              "#fdca26"
             ],
             [
              1,
              "#f0f921"
             ]
            ],
            "type": "histogram2dcontour"
           }
          ],
          "mesh3d": [
           {
            "colorbar": {
             "outlinewidth": 0,
             "ticks": ""
            },
            "type": "mesh3d"
           }
          ],
          "parcoords": [
           {
            "line": {
             "colorbar": {
              "outlinewidth": 0,
              "ticks": ""
             }
            },
            "type": "parcoords"
           }
          ],
          "pie": [
           {
            "automargin": true,
            "type": "pie"
           }
          ],
          "scatter": [
           {
            "fillpattern": {
             "fillmode": "overlay",
             "size": 10,
             "solidity": 0.2
            },
            "type": "scatter"
           }
          ],
          "scatter3d": [
           {
            "line": {
             "colorbar": {
              "outlinewidth": 0,
              "ticks": ""
             }
            },
            "marker": {
             "colorbar": {
              "outlinewidth": 0,
              "ticks": ""
             }
            },
            "type": "scatter3d"
           }
          ],
          "scattercarpet": [
           {
            "marker": {
             "colorbar": {
              "outlinewidth": 0,
              "ticks": ""
             }
            },
            "type": "scattercarpet"
           }
          ],
          "scattergeo": [
           {
            "marker": {
             "colorbar": {
              "outlinewidth": 0,
              "ticks": ""
             }
            },
            "type": "scattergeo"
           }
          ],
          "scattergl": [
           {
            "marker": {
             "colorbar": {
              "outlinewidth": 0,
              "ticks": ""
             }
            },
            "type": "scattergl"
           }
          ],
          "scattermapbox": [
           {
            "marker": {
             "colorbar": {
              "outlinewidth": 0,
              "ticks": ""
             }
            },
            "type": "scattermapbox"
           }
          ],
          "scatterpolar": [
           {
            "marker": {
             "colorbar": {
              "outlinewidth": 0,
              "ticks": ""
             }
            },
            "type": "scatterpolar"
           }
          ],
          "scatterpolargl": [
           {
            "marker": {
             "colorbar": {
              "outlinewidth": 0,
              "ticks": ""
             }
            },
            "type": "scatterpolargl"
           }
          ],
          "scatterternary": [
           {
            "marker": {
             "colorbar": {
              "outlinewidth": 0,
              "ticks": ""
             }
            },
            "type": "scatterternary"
           }
          ],
          "surface": [
           {
            "colorbar": {
             "outlinewidth": 0,
             "ticks": ""
            },
            "colorscale": [
             [
              0,
              "#0d0887"
             ],
             [
              0.1111111111111111,
              "#46039f"
             ],
             [
              0.2222222222222222,
              "#7201a8"
             ],
             [
              0.3333333333333333,
              "#9c179e"
             ],
             [
              0.4444444444444444,
              "#bd3786"
             ],
             [
              0.5555555555555556,
              "#d8576b"
             ],
             [
              0.6666666666666666,
              "#ed7953"
             ],
             [
              0.7777777777777778,
              "#fb9f3a"
             ],
             [
              0.8888888888888888,
              "#fdca26"
             ],
             [
              1,
              "#f0f921"
             ]
            ],
            "type": "surface"
           }
          ],
          "table": [
           {
            "cells": {
             "fill": {
              "color": "#EBF0F8"
             },
             "line": {
              "color": "white"
             }
            },
            "header": {
             "fill": {
              "color": "#C8D4E3"
             },
             "line": {
              "color": "white"
             }
            },
            "type": "table"
           }
          ]
         },
         "layout": {
          "annotationdefaults": {
           "arrowcolor": "#2a3f5f",
           "arrowhead": 0,
           "arrowwidth": 1
          },
          "autotypenumbers": "strict",
          "coloraxis": {
           "colorbar": {
            "outlinewidth": 0,
            "ticks": ""
           }
          },
          "colorscale": {
           "diverging": [
            [
             0,
             "#8e0152"
            ],
            [
             0.1,
             "#c51b7d"
            ],
            [
             0.2,
             "#de77ae"
            ],
            [
             0.3,
             "#f1b6da"
            ],
            [
             0.4,
             "#fde0ef"
            ],
            [
             0.5,
             "#f7f7f7"
            ],
            [
             0.6,
             "#e6f5d0"
            ],
            [
             0.7,
             "#b8e186"
            ],
            [
             0.8,
             "#7fbc41"
            ],
            [
             0.9,
             "#4d9221"
            ],
            [
             1,
             "#276419"
            ]
           ],
           "sequential": [
            [
             0,
             "#0d0887"
            ],
            [
             0.1111111111111111,
             "#46039f"
            ],
            [
             0.2222222222222222,
             "#7201a8"
            ],
            [
             0.3333333333333333,
             "#9c179e"
            ],
            [
             0.4444444444444444,
             "#bd3786"
            ],
            [
             0.5555555555555556,
             "#d8576b"
            ],
            [
             0.6666666666666666,
             "#ed7953"
            ],
            [
             0.7777777777777778,
             "#fb9f3a"
            ],
            [
             0.8888888888888888,
             "#fdca26"
            ],
            [
             1,
             "#f0f921"
            ]
           ],
           "sequentialminus": [
            [
             0,
             "#0d0887"
            ],
            [
             0.1111111111111111,
             "#46039f"
            ],
            [
             0.2222222222222222,
             "#7201a8"
            ],
            [
             0.3333333333333333,
             "#9c179e"
            ],
            [
             0.4444444444444444,
             "#bd3786"
            ],
            [
             0.5555555555555556,
             "#d8576b"
            ],
            [
             0.6666666666666666,
             "#ed7953"
            ],
            [
             0.7777777777777778,
             "#fb9f3a"
            ],
            [
             0.8888888888888888,
             "#fdca26"
            ],
            [
             1,
             "#f0f921"
            ]
           ]
          },
          "colorway": [
           "#636efa",
           "#EF553B",
           "#00cc96",
           "#ab63fa",
           "#FFA15A",
           "#19d3f3",
           "#FF6692",
           "#B6E880",
           "#FF97FF",
           "#FECB52"
          ],
          "font": {
           "color": "#2a3f5f"
          },
          "geo": {
           "bgcolor": "white",
           "lakecolor": "white",
           "landcolor": "#E5ECF6",
           "showlakes": true,
           "showland": true,
           "subunitcolor": "white"
          },
          "hoverlabel": {
           "align": "left"
          },
          "hovermode": "closest",
          "mapbox": {
           "style": "light"
          },
          "paper_bgcolor": "white",
          "plot_bgcolor": "#E5ECF6",
          "polar": {
           "angularaxis": {
            "gridcolor": "white",
            "linecolor": "white",
            "ticks": ""
           },
           "bgcolor": "#E5ECF6",
           "radialaxis": {
            "gridcolor": "white",
            "linecolor": "white",
            "ticks": ""
           }
          },
          "scene": {
           "xaxis": {
            "backgroundcolor": "#E5ECF6",
            "gridcolor": "white",
            "gridwidth": 2,
            "linecolor": "white",
            "showbackground": true,
            "ticks": "",
            "zerolinecolor": "white"
           },
           "yaxis": {
            "backgroundcolor": "#E5ECF6",
            "gridcolor": "white",
            "gridwidth": 2,
            "linecolor": "white",
            "showbackground": true,
            "ticks": "",
            "zerolinecolor": "white"
           },
           "zaxis": {
            "backgroundcolor": "#E5ECF6",
            "gridcolor": "white",
            "gridwidth": 2,
            "linecolor": "white",
            "showbackground": true,
            "ticks": "",
            "zerolinecolor": "white"
           }
          },
          "shapedefaults": {
           "line": {
            "color": "#2a3f5f"
           }
          },
          "ternary": {
           "aaxis": {
            "gridcolor": "white",
            "linecolor": "white",
            "ticks": ""
           },
           "baxis": {
            "gridcolor": "white",
            "linecolor": "white",
            "ticks": ""
           },
           "bgcolor": "#E5ECF6",
           "caxis": {
            "gridcolor": "white",
            "linecolor": "white",
            "ticks": ""
           }
          },
          "title": {
           "x": 0.05
          },
          "xaxis": {
           "automargin": true,
           "gridcolor": "white",
           "linecolor": "white",
           "ticks": "",
           "title": {
            "standoff": 15
           },
           "zerolinecolor": "white",
           "zerolinewidth": 2
          },
          "yaxis": {
           "automargin": true,
           "gridcolor": "white",
           "linecolor": "white",
           "ticks": "",
           "title": {
            "standoff": 15
           },
           "zerolinecolor": "white",
           "zerolinewidth": 2
          }
         }
        },
        "xaxis": {
         "anchor": "y",
         "domain": [
          0,
          1
         ],
         "title": {
          "text": "對y值的影響百分比"
         }
        },
        "yaxis": {
         "anchor": "x",
         "domain": [
          0,
          1
         ],
         "title": {
          "text": "特徵值"
         }
        }
       }
      }
     },
     "metadata": {},
     "output_type": "display_data"
    }
   ],
   "source": [
    "fig"
   ]
  },
  {
   "cell_type": "code",
   "execution_count": 108,
   "metadata": {},
   "outputs": [
    {
     "data": {
      "text/html": [
       "<div>\n",
       "<style scoped>\n",
       "    .dataframe tbody tr th:only-of-type {\n",
       "        vertical-align: middle;\n",
       "    }\n",
       "\n",
       "    .dataframe tbody tr th {\n",
       "        vertical-align: top;\n",
       "    }\n",
       "\n",
       "    .dataframe thead th {\n",
       "        text-align: right;\n",
       "    }\n",
       "</style>\n",
       "<table border=\"1\" class=\"dataframe\">\n",
       "  <thead>\n",
       "    <tr style=\"text-align: right;\">\n",
       "      <th></th>\n",
       "      <th>特徵值</th>\n",
       "      <th>重要性程度</th>\n",
       "      <th>對y值的影響百分比</th>\n",
       "    </tr>\n",
       "  </thead>\n",
       "  <tbody>\n",
       "    <tr>\n",
       "      <th>1</th>\n",
       "      <td>age</td>\n",
       "      <td>0.043884</td>\n",
       "      <td>0.044862</td>\n",
       "    </tr>\n",
       "    <tr>\n",
       "      <th>6</th>\n",
       "      <td>active_member</td>\n",
       "      <td>0.001189</td>\n",
       "      <td>0.001189</td>\n",
       "    </tr>\n",
       "    <tr>\n",
       "      <th>3</th>\n",
       "      <td>balance</td>\n",
       "      <td>0.000004</td>\n",
       "      <td>0.000004</td>\n",
       "    </tr>\n",
       "    <tr>\n",
       "      <th>7</th>\n",
       "      <td>estimated_salary</td>\n",
       "      <td>-0.000001</td>\n",
       "      <td>-0.000001</td>\n",
       "    </tr>\n",
       "    <tr>\n",
       "      <th>5</th>\n",
       "      <td>credit_card_paid</td>\n",
       "      <td>-0.000221</td>\n",
       "      <td>-0.000221</td>\n",
       "    </tr>\n",
       "    <tr>\n",
       "      <th>8</th>\n",
       "      <td>locations_Tainan</td>\n",
       "      <td>-0.000268</td>\n",
       "      <td>-0.000268</td>\n",
       "    </tr>\n",
       "    <tr>\n",
       "      <th>4</th>\n",
       "      <td>registry_to_use_time</td>\n",
       "      <td>-0.000460</td>\n",
       "      <td>-0.000460</td>\n",
       "    </tr>\n",
       "    <tr>\n",
       "      <th>9</th>\n",
       "      <td>locations_Taipei</td>\n",
       "      <td>-0.000892</td>\n",
       "      <td>-0.000891</td>\n",
       "    </tr>\n",
       "    <tr>\n",
       "      <th>10</th>\n",
       "      <td>gender_Male</td>\n",
       "      <td>-0.001045</td>\n",
       "      <td>-0.001044</td>\n",
       "    </tr>\n",
       "    <tr>\n",
       "      <th>2</th>\n",
       "      <td>click_on_prod</td>\n",
       "      <td>-0.002269</td>\n",
       "      <td>-0.002266</td>\n",
       "    </tr>\n",
       "    <tr>\n",
       "      <th>0</th>\n",
       "      <td>Prod_output_num</td>\n",
       "      <td>-0.005007</td>\n",
       "      <td>-0.004994</td>\n",
       "    </tr>\n",
       "  </tbody>\n",
       "</table>\n",
       "</div>"
      ],
      "text/plain": [
       "                     特徵值     重要性程度  對y值的影響百分比\n",
       "1                    age  0.043884   0.044862\n",
       "6          active_member  0.001189   0.001189\n",
       "3                balance  0.000004   0.000004\n",
       "7       estimated_salary -0.000001  -0.000001\n",
       "5       credit_card_paid -0.000221  -0.000221\n",
       "8       locations_Tainan -0.000268  -0.000268\n",
       "4   registry_to_use_time -0.000460  -0.000460\n",
       "9       locations_Taipei -0.000892  -0.000891\n",
       "10           gender_Male -0.001045  -0.001044\n",
       "2          click_on_prod -0.002269  -0.002266\n",
       "0        Prod_output_num -0.005007  -0.004994"
      ]
     },
     "execution_count": 108,
     "metadata": {},
     "output_type": "execute_result"
    }
   ],
   "source": [
    "# 根據Importance，由低至高排序\n",
    "res_data_logistic = res_data_logistic.sort_values(by='對y值的影響百分比', ascending=False)\n",
    "res_data_logistic"
   ]
  },
  {
   "attachments": {},
   "cell_type": "markdown",
   "metadata": {},
   "source": [
    "## 六、將Random Forest產出的重要性分析（res_data）與邏輯斯迴歸產出的重要性分析（res_data_logistic）結合在一起"
   ]
  },
  {
   "cell_type": "code",
   "execution_count": 109,
   "metadata": {},
   "outputs": [
    {
     "data": {
      "text/html": [
       "<div>\n",
       "<style scoped>\n",
       "    .dataframe tbody tr th:only-of-type {\n",
       "        vertical-align: middle;\n",
       "    }\n",
       "\n",
       "    .dataframe tbody tr th {\n",
       "        vertical-align: top;\n",
       "    }\n",
       "\n",
       "    .dataframe thead th {\n",
       "        text-align: right;\n",
       "    }\n",
       "</style>\n",
       "<table border=\"1\" class=\"dataframe\">\n",
       "  <thead>\n",
       "    <tr style=\"text-align: right;\">\n",
       "      <th></th>\n",
       "      <th>特徵值</th>\n",
       "      <th>重要性程度</th>\n",
       "    </tr>\n",
       "  </thead>\n",
       "  <tbody>\n",
       "    <tr>\n",
       "      <th>1</th>\n",
       "      <td>age</td>\n",
       "      <td>0.238946</td>\n",
       "    </tr>\n",
       "    <tr>\n",
       "      <th>7</th>\n",
       "      <td>estimated_salary</td>\n",
       "      <td>0.149536</td>\n",
       "    </tr>\n",
       "    <tr>\n",
       "      <th>0</th>\n",
       "      <td>Prod_output_num</td>\n",
       "      <td>0.146434</td>\n",
       "    </tr>\n",
       "    <tr>\n",
       "      <th>3</th>\n",
       "      <td>balance</td>\n",
       "      <td>0.141611</td>\n",
       "    </tr>\n",
       "    <tr>\n",
       "      <th>4</th>\n",
       "      <td>registry_to_use_time</td>\n",
       "      <td>0.128264</td>\n",
       "    </tr>\n",
       "    <tr>\n",
       "      <th>2</th>\n",
       "      <td>click_on_prod</td>\n",
       "      <td>0.082504</td>\n",
       "    </tr>\n",
       "    <tr>\n",
       "      <th>6</th>\n",
       "      <td>active_member</td>\n",
       "      <td>0.036901</td>\n",
       "    </tr>\n",
       "    <tr>\n",
       "      <th>9</th>\n",
       "      <td>locations_Taipei</td>\n",
       "      <td>0.020166</td>\n",
       "    </tr>\n",
       "    <tr>\n",
       "      <th>5</th>\n",
       "      <td>credit_card_paid</td>\n",
       "      <td>0.019183</td>\n",
       "    </tr>\n",
       "    <tr>\n",
       "      <th>10</th>\n",
       "      <td>gender_Male</td>\n",
       "      <td>0.018767</td>\n",
       "    </tr>\n",
       "    <tr>\n",
       "      <th>8</th>\n",
       "      <td>locations_Tainan</td>\n",
       "      <td>0.017688</td>\n",
       "    </tr>\n",
       "  </tbody>\n",
       "</table>\n",
       "</div>"
      ],
      "text/plain": [
       "                     特徵值     重要性程度\n",
       "1                    age  0.238946\n",
       "7       estimated_salary  0.149536\n",
       "0        Prod_output_num  0.146434\n",
       "3                balance  0.141611\n",
       "4   registry_to_use_time  0.128264\n",
       "2          click_on_prod  0.082504\n",
       "6          active_member  0.036901\n",
       "9       locations_Taipei  0.020166\n",
       "5       credit_card_paid  0.019183\n",
       "10           gender_Male  0.018767\n",
       "8       locations_Tainan  0.017688"
      ]
     },
     "execution_count": 109,
     "metadata": {},
     "output_type": "execute_result"
    }
   ],
   "source": [
    "res_data"
   ]
  },
  {
   "cell_type": "code",
   "execution_count": 110,
   "metadata": {},
   "outputs": [
    {
     "data": {
      "text/html": [
       "<div>\n",
       "<style scoped>\n",
       "    .dataframe tbody tr th:only-of-type {\n",
       "        vertical-align: middle;\n",
       "    }\n",
       "\n",
       "    .dataframe tbody tr th {\n",
       "        vertical-align: top;\n",
       "    }\n",
       "\n",
       "    .dataframe thead th {\n",
       "        text-align: right;\n",
       "    }\n",
       "</style>\n",
       "<table border=\"1\" class=\"dataframe\">\n",
       "  <thead>\n",
       "    <tr style=\"text-align: right;\">\n",
       "      <th></th>\n",
       "      <th>特徵值</th>\n",
       "      <th>對y值的影響百分比</th>\n",
       "    </tr>\n",
       "  </thead>\n",
       "  <tbody>\n",
       "    <tr>\n",
       "      <th>1</th>\n",
       "      <td>age</td>\n",
       "      <td>0.044862</td>\n",
       "    </tr>\n",
       "    <tr>\n",
       "      <th>6</th>\n",
       "      <td>active_member</td>\n",
       "      <td>0.001189</td>\n",
       "    </tr>\n",
       "    <tr>\n",
       "      <th>3</th>\n",
       "      <td>balance</td>\n",
       "      <td>0.000004</td>\n",
       "    </tr>\n",
       "    <tr>\n",
       "      <th>7</th>\n",
       "      <td>estimated_salary</td>\n",
       "      <td>-0.000001</td>\n",
       "    </tr>\n",
       "    <tr>\n",
       "      <th>5</th>\n",
       "      <td>credit_card_paid</td>\n",
       "      <td>-0.000221</td>\n",
       "    </tr>\n",
       "    <tr>\n",
       "      <th>8</th>\n",
       "      <td>locations_Tainan</td>\n",
       "      <td>-0.000268</td>\n",
       "    </tr>\n",
       "    <tr>\n",
       "      <th>4</th>\n",
       "      <td>registry_to_use_time</td>\n",
       "      <td>-0.000460</td>\n",
       "    </tr>\n",
       "    <tr>\n",
       "      <th>9</th>\n",
       "      <td>locations_Taipei</td>\n",
       "      <td>-0.000891</td>\n",
       "    </tr>\n",
       "    <tr>\n",
       "      <th>10</th>\n",
       "      <td>gender_Male</td>\n",
       "      <td>-0.001044</td>\n",
       "    </tr>\n",
       "    <tr>\n",
       "      <th>2</th>\n",
       "      <td>click_on_prod</td>\n",
       "      <td>-0.002266</td>\n",
       "    </tr>\n",
       "    <tr>\n",
       "      <th>0</th>\n",
       "      <td>Prod_output_num</td>\n",
       "      <td>-0.004994</td>\n",
       "    </tr>\n",
       "  </tbody>\n",
       "</table>\n",
       "</div>"
      ],
      "text/plain": [
       "                     特徵值  對y值的影響百分比\n",
       "1                    age   0.044862\n",
       "6          active_member   0.001189\n",
       "3                balance   0.000004\n",
       "7       estimated_salary  -0.000001\n",
       "5       credit_card_paid  -0.000221\n",
       "8       locations_Tainan  -0.000268\n",
       "4   registry_to_use_time  -0.000460\n",
       "9       locations_Taipei  -0.000891\n",
       "10           gender_Male  -0.001044\n",
       "2          click_on_prod  -0.002266\n",
       "0        Prod_output_num  -0.004994"
      ]
     },
     "execution_count": 110,
     "metadata": {},
     "output_type": "execute_result"
    }
   ],
   "source": [
    "del res_data_logistic['重要性程度']\n",
    "res_data_logistic"
   ]
  },
  {
   "cell_type": "code",
   "execution_count": 111,
   "metadata": {},
   "outputs": [
    {
     "data": {
      "text/html": [
       "<div>\n",
       "<style scoped>\n",
       "    .dataframe tbody tr th:only-of-type {\n",
       "        vertical-align: middle;\n",
       "    }\n",
       "\n",
       "    .dataframe tbody tr th {\n",
       "        vertical-align: top;\n",
       "    }\n",
       "\n",
       "    .dataframe thead th {\n",
       "        text-align: right;\n",
       "    }\n",
       "</style>\n",
       "<table border=\"1\" class=\"dataframe\">\n",
       "  <thead>\n",
       "    <tr style=\"text-align: right;\">\n",
       "      <th></th>\n",
       "      <th>特徵值</th>\n",
       "      <th>重要性程度</th>\n",
       "      <th>對y值的影響百分比</th>\n",
       "    </tr>\n",
       "  </thead>\n",
       "  <tbody>\n",
       "    <tr>\n",
       "      <th>1</th>\n",
       "      <td>age</td>\n",
       "      <td>0.238946</td>\n",
       "      <td>0.044862</td>\n",
       "    </tr>\n",
       "    <tr>\n",
       "      <th>7</th>\n",
       "      <td>estimated_salary</td>\n",
       "      <td>0.149536</td>\n",
       "      <td>-0.000001</td>\n",
       "    </tr>\n",
       "    <tr>\n",
       "      <th>0</th>\n",
       "      <td>Prod_output_num</td>\n",
       "      <td>0.146434</td>\n",
       "      <td>-0.004994</td>\n",
       "    </tr>\n",
       "    <tr>\n",
       "      <th>3</th>\n",
       "      <td>balance</td>\n",
       "      <td>0.141611</td>\n",
       "      <td>0.000004</td>\n",
       "    </tr>\n",
       "    <tr>\n",
       "      <th>4</th>\n",
       "      <td>registry_to_use_time</td>\n",
       "      <td>0.128264</td>\n",
       "      <td>-0.000460</td>\n",
       "    </tr>\n",
       "    <tr>\n",
       "      <th>2</th>\n",
       "      <td>click_on_prod</td>\n",
       "      <td>0.082504</td>\n",
       "      <td>-0.002266</td>\n",
       "    </tr>\n",
       "    <tr>\n",
       "      <th>6</th>\n",
       "      <td>active_member</td>\n",
       "      <td>0.036901</td>\n",
       "      <td>0.001189</td>\n",
       "    </tr>\n",
       "    <tr>\n",
       "      <th>9</th>\n",
       "      <td>locations_Taipei</td>\n",
       "      <td>0.020166</td>\n",
       "      <td>-0.000891</td>\n",
       "    </tr>\n",
       "    <tr>\n",
       "      <th>5</th>\n",
       "      <td>credit_card_paid</td>\n",
       "      <td>0.019183</td>\n",
       "      <td>-0.000221</td>\n",
       "    </tr>\n",
       "    <tr>\n",
       "      <th>10</th>\n",
       "      <td>gender_Male</td>\n",
       "      <td>0.018767</td>\n",
       "      <td>-0.001044</td>\n",
       "    </tr>\n",
       "    <tr>\n",
       "      <th>8</th>\n",
       "      <td>locations_Tainan</td>\n",
       "      <td>0.017688</td>\n",
       "      <td>-0.000268</td>\n",
       "    </tr>\n",
       "  </tbody>\n",
       "</table>\n",
       "</div>"
      ],
      "text/plain": [
       "                     特徵值     重要性程度  對y值的影響百分比\n",
       "1                    age  0.238946   0.044862\n",
       "7       estimated_salary  0.149536  -0.000001\n",
       "0        Prod_output_num  0.146434  -0.004994\n",
       "3                balance  0.141611   0.000004\n",
       "4   registry_to_use_time  0.128264  -0.000460\n",
       "2          click_on_prod  0.082504  -0.002266\n",
       "6          active_member  0.036901   0.001189\n",
       "9       locations_Taipei  0.020166  -0.000891\n",
       "5       credit_card_paid  0.019183  -0.000221\n",
       "10           gender_Male  0.018767  -0.001044\n",
       "8       locations_Tainan  0.017688  -0.000268"
      ]
     },
     "execution_count": 111,
     "metadata": {},
     "output_type": "execute_result"
    }
   ],
   "source": [
    "res_data = res_data.sort_values('特徵值')\n",
    "res_data_logistic = res_data_logistic.sort_values('特徵值')\n",
    "imp_table = pd.concat([ res_data, res_data_logistic['對y值的影響百分比'] ], axis =  1)\n",
    "imp_table = imp_table.sort_values('重要性程度', ascending=False)\n",
    "# 在此的「重要性程度」是誰的孩子？\n",
    "# 是「隨機森林」的「重要性程度」，非「邏輯斯迴歸」的哦！\n",
    "# 「邏輯斯迴歸」貢獻的是「對y值的影響百分比」\n",
    "imp_table\n",
    "# 對y值的影響百分比 for age？\n",
    "# 當我消費者裡面的age，每增加1單位（歲），會增加約4.5%的購買機率\n",
    "# 所以可以簡易得知，年齡越高，對我來說越有利\n",
    "# 多高？ 看決策樹： active member且50.5歲"
   ]
  },
  {
   "cell_type": "code",
   "execution_count": 112,
   "metadata": {},
   "outputs": [
    {
     "data": {
      "text/html": [
       "<div>\n",
       "<style scoped>\n",
       "    .dataframe tbody tr th:only-of-type {\n",
       "        vertical-align: middle;\n",
       "    }\n",
       "\n",
       "    .dataframe tbody tr th {\n",
       "        vertical-align: top;\n",
       "    }\n",
       "\n",
       "    .dataframe thead th {\n",
       "        text-align: right;\n",
       "    }\n",
       "</style>\n",
       "<table border=\"1\" class=\"dataframe\">\n",
       "  <thead>\n",
       "    <tr style=\"text-align: right;\">\n",
       "      <th></th>\n",
       "      <th>特徵值</th>\n",
       "      <th>重要性分數(優先排序)</th>\n",
       "      <th>對y值的影響百分比（方向性）</th>\n",
       "      <th>調整方向</th>\n",
       "    </tr>\n",
       "  </thead>\n",
       "  <tbody>\n",
       "    <tr>\n",
       "      <th>1</th>\n",
       "      <td>age</td>\n",
       "      <td>0.238946</td>\n",
       "      <td>0.044862</td>\n",
       "      <td>正向調整</td>\n",
       "    </tr>\n",
       "    <tr>\n",
       "      <th>7</th>\n",
       "      <td>estimated_salary</td>\n",
       "      <td>0.149536</td>\n",
       "      <td>-0.000001</td>\n",
       "      <td>負向調整</td>\n",
       "    </tr>\n",
       "    <tr>\n",
       "      <th>0</th>\n",
       "      <td>Prod_output_num</td>\n",
       "      <td>0.146434</td>\n",
       "      <td>-0.004994</td>\n",
       "      <td>負向調整</td>\n",
       "    </tr>\n",
       "    <tr>\n",
       "      <th>3</th>\n",
       "      <td>balance</td>\n",
       "      <td>0.141611</td>\n",
       "      <td>0.000004</td>\n",
       "      <td>正向調整</td>\n",
       "    </tr>\n",
       "    <tr>\n",
       "      <th>4</th>\n",
       "      <td>registry_to_use_time</td>\n",
       "      <td>0.128264</td>\n",
       "      <td>-0.000460</td>\n",
       "      <td>負向調整</td>\n",
       "    </tr>\n",
       "    <tr>\n",
       "      <th>2</th>\n",
       "      <td>click_on_prod</td>\n",
       "      <td>0.082504</td>\n",
       "      <td>-0.002266</td>\n",
       "      <td>負向調整</td>\n",
       "    </tr>\n",
       "    <tr>\n",
       "      <th>6</th>\n",
       "      <td>active_member</td>\n",
       "      <td>0.036901</td>\n",
       "      <td>0.001189</td>\n",
       "      <td>正向調整</td>\n",
       "    </tr>\n",
       "    <tr>\n",
       "      <th>9</th>\n",
       "      <td>locations_Taipei</td>\n",
       "      <td>0.020166</td>\n",
       "      <td>-0.000891</td>\n",
       "      <td>負向調整</td>\n",
       "    </tr>\n",
       "    <tr>\n",
       "      <th>5</th>\n",
       "      <td>credit_card_paid</td>\n",
       "      <td>0.019183</td>\n",
       "      <td>-0.000221</td>\n",
       "      <td>負向調整</td>\n",
       "    </tr>\n",
       "    <tr>\n",
       "      <th>10</th>\n",
       "      <td>gender_Male</td>\n",
       "      <td>0.018767</td>\n",
       "      <td>-0.001044</td>\n",
       "      <td>負向調整</td>\n",
       "    </tr>\n",
       "    <tr>\n",
       "      <th>8</th>\n",
       "      <td>locations_Tainan</td>\n",
       "      <td>0.017688</td>\n",
       "      <td>-0.000268</td>\n",
       "      <td>負向調整</td>\n",
       "    </tr>\n",
       "  </tbody>\n",
       "</table>\n",
       "</div>"
      ],
      "text/plain": [
       "                     特徵值  重要性分數(優先排序)  對y值的影響百分比（方向性）  調整方向\n",
       "1                    age     0.238946        0.044862  正向調整\n",
       "7       estimated_salary     0.149536       -0.000001  負向調整\n",
       "0        Prod_output_num     0.146434       -0.004994  負向調整\n",
       "3                balance     0.141611        0.000004  正向調整\n",
       "4   registry_to_use_time     0.128264       -0.000460  負向調整\n",
       "2          click_on_prod     0.082504       -0.002266  負向調整\n",
       "6          active_member     0.036901        0.001189  正向調整\n",
       "9       locations_Taipei     0.020166       -0.000891  負向調整\n",
       "5       credit_card_paid     0.019183       -0.000221  負向調整\n",
       "10           gender_Male     0.018767       -0.001044  負向調整\n",
       "8       locations_Tainan     0.017688       -0.000268  負向調整"
      ]
     },
     "execution_count": 112,
     "metadata": {},
     "output_type": "execute_result"
    }
   ],
   "source": [
    "#使用np.where將「對y值的影響百分比」<0的特徵值額外標示為「負向調整」，否則為「正向調整」\n",
    "# np.where如同Excel裡面的if else函數\n",
    "imp_table['調整方向'] = np.where( imp_table['對y值的影響百分比']<0, '負向調整', '正向調整')\n",
    "imp_table.columns = ['特徵值', '重要性分數(優先排序)', '對y值的影響百分比（方向性）',  '調整方向']\n",
    "imp_table\n"
   ]
  },
  {
   "attachments": {},
   "cell_type": "markdown",
   "metadata": {},
   "source": [
    "## 六、用決策樹解釋商業意涵"
   ]
  },
  {
   "cell_type": "code",
   "execution_count": 114,
   "metadata": {},
   "outputs": [],
   "source": [
    "from sklearn.tree import DecisionTreeClassifier\n",
    "\n",
    "# 修剪枝節(pruning)：\n",
    "# max_depth：深度，由上至下的最大延展程度\n",
    "# max_leaf_nodes：廣度，由左至右的最大延展程度\n",
    "# max_depth=5, max_leaf_nodes= 7\n",
    "decision_reg = DecisionTreeClassifier(max_depth=5, max_leaf_nodes= 7)\n",
    "# decision_reg = DecisionTreeClassifier()"
   ]
  },
  {
   "cell_type": "code",
   "execution_count": 115,
   "metadata": {},
   "outputs": [],
   "source": [
    "decision_reg.fit(X_train, y_train)\n",
    "y_pred = decision_reg.predict(X_test)"
   ]
  },
  {
   "cell_type": "code",
   "execution_count": 116,
   "metadata": {},
   "outputs": [
    {
     "name": "stdout",
     "output_type": "stream",
     "text": [
      "0.842\n"
     ]
    }
   ],
   "source": [
    "from sklearn.metrics import accuracy_score\n",
    "acc = accuracy_score(y_test, y_pred)\n",
    "print(acc)"
   ]
  },
  {
   "attachments": {},
   "cell_type": "markdown",
   "metadata": {},
   "source": [
    "### 畫出決策樹"
   ]
  },
  {
   "cell_type": "code",
   "execution_count": 117,
   "metadata": {},
   "outputs": [
    {
     "data": {
      "text/plain": [
       "'marketing.pdf'"
      ]
     },
     "execution_count": 117,
     "metadata": {},
     "output_type": "execute_result"
    }
   ],
   "source": [
    "from sklearn import tree\n",
    "import graphviz\n",
    "import os\n",
    "import platform\n",
    "\n",
    "if platform.system() ==  'Windows':\n",
    "    os.environ[\"PATH\"] += os.pathsep + 'C:\\\\Users\\\\saman\\\\Graphviz\\\\bin'\n",
    "\n",
    "dot_data = tree.export_graphviz(decision_reg, out_file=None,\n",
    "                    feature_names=X_test.columns,\n",
    "                    class_names=['no','yes'],\n",
    "                    filled=True, rounded=True,\n",
    "                    special_characters=True)\n",
    "graph = graphviz.Source(dot_data)\n",
    "graph.render('marketing')"
   ]
  },
  {
   "cell_type": "code",
   "execution_count": 118,
   "metadata": {},
   "outputs": [
    {
     "data": {
      "image/svg+xml": [
       "<?xml version=\"1.0\" encoding=\"UTF-8\" standalone=\"no\"?>\n",
       "<!DOCTYPE svg PUBLIC \"-//W3C//DTD SVG 1.1//EN\"\n",
       " \"http://www.w3.org/Graphics/SVG/1.1/DTD/svg11.dtd\">\n",
       "<!-- Generated by graphviz version 8.0.5 (20230430.1635)\n",
       " -->\n",
       "<!-- Title: Tree Pages: 1 -->\n",
       "<svg width=\"857pt\" height=\"462pt\"\n",
       " viewBox=\"0.00 0.00 857.25 461.50\" xmlns=\"http://www.w3.org/2000/svg\" xmlns:xlink=\"http://www.w3.org/1999/xlink\">\n",
       "<g id=\"graph0\" class=\"graph\" transform=\"scale(1 1) rotate(0) translate(4 457.5)\">\n",
       "<title>Tree</title>\n",
       "<polygon fill=\"white\" stroke=\"none\" points=\"-4,4 -4,-457.5 853.25,-457.5 853.25,4 -4,4\"/>\n",
       "<!-- 0 -->\n",
       "<g id=\"node1\" class=\"node\">\n",
       "<title>0</title>\n",
       "<path fill=\"#eca16c\" stroke=\"black\" d=\"M386.62,-453.5C386.62,-453.5 264.88,-453.5 264.88,-453.5 258.88,-453.5 252.88,-447.5 252.88,-441.5 252.88,-441.5 252.88,-375 252.88,-375 252.88,-369 258.88,-363 264.88,-363 264.88,-363 386.62,-363 386.62,-363 392.62,-363 398.62,-369 398.62,-375 398.62,-375 398.62,-441.5 398.62,-441.5 398.62,-447.5 392.62,-453.5 386.62,-453.5\"/>\n",
       "<text text-anchor=\"start\" x=\"292\" y=\"-436.2\" font-family=\"Helvetica,sans-Serif\" font-size=\"14.00\">age ≤ 42.5</text>\n",
       "<text text-anchor=\"start\" x=\"288.62\" y=\"-419.7\" font-family=\"Helvetica,sans-Serif\" font-size=\"14.00\">gini = 0.325</text>\n",
       "<text text-anchor=\"start\" x=\"274.38\" y=\"-403.2\" font-family=\"Helvetica,sans-Serif\" font-size=\"14.00\">samples = 8000</text>\n",
       "<text text-anchor=\"start\" x=\"260.88\" y=\"-386.7\" font-family=\"Helvetica,sans-Serif\" font-size=\"14.00\">value = [6368, 1632]</text>\n",
       "<text text-anchor=\"start\" x=\"293.5\" y=\"-370.2\" font-family=\"Helvetica,sans-Serif\" font-size=\"14.00\">class = no</text>\n",
       "</g>\n",
       "<!-- 1 -->\n",
       "<g id=\"node2\" class=\"node\">\n",
       "<title>1</title>\n",
       "<path fill=\"#e99254\" stroke=\"black\" d=\"M305.12,-327C305.12,-327 144.38,-327 144.38,-327 138.38,-327 132.38,-321 132.38,-315 132.38,-315 132.38,-248.5 132.38,-248.5 132.38,-242.5 138.38,-236.5 144.38,-236.5 144.38,-236.5 305.12,-236.5 305.12,-236.5 311.12,-236.5 317.12,-242.5 317.12,-248.5 317.12,-248.5 317.12,-315 317.12,-315 317.12,-321 311.12,-327 305.12,-327\"/>\n",
       "<text text-anchor=\"start\" x=\"140.38\" y=\"-309.7\" font-family=\"Helvetica,sans-Serif\" font-size=\"14.00\">registry_to_use_time ≤ 2.5</text>\n",
       "<text text-anchor=\"start\" x=\"187.62\" y=\"-293.2\" font-family=\"Helvetica,sans-Serif\" font-size=\"14.00\">gini = 0.209</text>\n",
       "<text text-anchor=\"start\" x=\"173.38\" y=\"-276.7\" font-family=\"Helvetica,sans-Serif\" font-size=\"14.00\">samples = 5707</text>\n",
       "<text text-anchor=\"start\" x=\"164\" y=\"-260.2\" font-family=\"Helvetica,sans-Serif\" font-size=\"14.00\">value = [5029, 678]</text>\n",
       "<text text-anchor=\"start\" x=\"192.5\" y=\"-243.7\" font-family=\"Helvetica,sans-Serif\" font-size=\"14.00\">class = no</text>\n",
       "</g>\n",
       "<!-- 0&#45;&gt;1 -->\n",
       "<g id=\"edge1\" class=\"edge\">\n",
       "<title>0&#45;&gt;1</title>\n",
       "<path fill=\"none\" stroke=\"black\" d=\"M289.57,-362.65C282.54,-353.98 275.1,-344.81 267.87,-335.9\"/>\n",
       "<polygon fill=\"black\" stroke=\"black\" points=\"270.03,-334.01 261.01,-328.45 264.6,-338.42 270.03,-334.01\"/>\n",
       "<text text-anchor=\"middle\" x=\"258.42\" y=\"-347.27\" font-family=\"Helvetica,sans-Serif\" font-size=\"14.00\">True</text>\n",
       "</g>\n",
       "<!-- 2 -->\n",
       "<g id=\"node7\" class=\"node\">\n",
       "<title>2</title>\n",
       "<path fill=\"#f8dbc6\" stroke=\"black\" d=\"M511.5,-327C511.5,-327 386,-327 386,-327 380,-327 374,-321 374,-315 374,-315 374,-248.5 374,-248.5 374,-242.5 380,-236.5 386,-236.5 386,-236.5 511.5,-236.5 511.5,-236.5 517.5,-236.5 523.5,-242.5 523.5,-248.5 523.5,-248.5 523.5,-315 523.5,-315 523.5,-321 517.5,-327 511.5,-327\"/>\n",
       "<text text-anchor=\"start\" x=\"382\" y=\"-309.7\" font-family=\"Helvetica,sans-Serif\" font-size=\"14.00\">active_member ≤ 0.5</text>\n",
       "<text text-anchor=\"start\" x=\"411.62\" y=\"-293.2\" font-family=\"Helvetica,sans-Serif\" font-size=\"14.00\">gini = 0.486</text>\n",
       "<text text-anchor=\"start\" x=\"397.38\" y=\"-276.7\" font-family=\"Helvetica,sans-Serif\" font-size=\"14.00\">samples = 2293</text>\n",
       "<text text-anchor=\"start\" x=\"388\" y=\"-260.2\" font-family=\"Helvetica,sans-Serif\" font-size=\"14.00\">value = [1339, 954]</text>\n",
       "<text text-anchor=\"start\" x=\"416.5\" y=\"-243.7\" font-family=\"Helvetica,sans-Serif\" font-size=\"14.00\">class = no</text>\n",
       "</g>\n",
       "<!-- 0&#45;&gt;2 -->\n",
       "<g id=\"edge6\" class=\"edge\">\n",
       "<title>0&#45;&gt;2</title>\n",
       "<path fill=\"none\" stroke=\"black\" d=\"M369.81,-362.65C378.64,-353.71 388,-344.25 397.06,-335.07\"/>\n",
       "<polygon fill=\"black\" stroke=\"black\" points=\"399.05,-338.03 403.59,-328.45 394.07,-333.11 399.05,-338.03\"/>\n",
       "<text text-anchor=\"middle\" x=\"404.74\" y=\"-347.4\" font-family=\"Helvetica,sans-Serif\" font-size=\"14.00\">False</text>\n",
       "</g>\n",
       "<!-- 5 -->\n",
       "<g id=\"node3\" class=\"node\">\n",
       "<title>5</title>\n",
       "<path fill=\"#7bbeee\" stroke=\"black\" d=\"M102.12,-192.25C102.12,-192.25 13.38,-192.25 13.38,-192.25 7.38,-192.25 1.38,-186.25 1.38,-180.25 1.38,-180.25 1.38,-130.25 1.38,-130.25 1.38,-124.25 7.38,-118.25 13.38,-118.25 13.38,-118.25 102.12,-118.25 102.12,-118.25 108.12,-118.25 114.12,-124.25 114.12,-130.25 114.12,-130.25 114.12,-180.25 114.12,-180.25 114.12,-186.25 108.12,-192.25 102.12,-192.25\"/>\n",
       "<text text-anchor=\"start\" x=\"20.62\" y=\"-174.95\" font-family=\"Helvetica,sans-Serif\" font-size=\"14.00\">gini = 0.375</text>\n",
       "<text text-anchor=\"start\" x=\"10.5\" y=\"-158.45\" font-family=\"Helvetica,sans-Serif\" font-size=\"14.00\">samples = 124</text>\n",
       "<text text-anchor=\"start\" x=\"9.38\" y=\"-141.95\" font-family=\"Helvetica,sans-Serif\" font-size=\"14.00\">value = [31, 93]</text>\n",
       "<text text-anchor=\"start\" x=\"22.12\" y=\"-125.45\" font-family=\"Helvetica,sans-Serif\" font-size=\"14.00\">class = yes</text>\n",
       "</g>\n",
       "<!-- 1&#45;&gt;5 -->\n",
       "<g id=\"edge2\" class=\"edge\">\n",
       "<title>1&#45;&gt;5</title>\n",
       "<path fill=\"none\" stroke=\"black\" d=\"M164.93,-236.15C148.74,-224.09 131.26,-211.05 115.2,-199.08\"/>\n",
       "<polygon fill=\"black\" stroke=\"black\" points=\"117.56,-195.73 107.45,-192.56 113.37,-201.34 117.56,-195.73\"/>\n",
       "</g>\n",
       "<!-- 6 -->\n",
       "<g id=\"node4\" class=\"node\">\n",
       "<title>6</title>\n",
       "<path fill=\"#e89050\" stroke=\"black\" d=\"M305.12,-200.5C305.12,-200.5 144.38,-200.5 144.38,-200.5 138.38,-200.5 132.38,-194.5 132.38,-188.5 132.38,-188.5 132.38,-122 132.38,-122 132.38,-116 138.38,-110 144.38,-110 144.38,-110 305.12,-110 305.12,-110 311.12,-110 317.12,-116 317.12,-122 317.12,-122 317.12,-188.5 317.12,-188.5 317.12,-194.5 311.12,-200.5 305.12,-200.5\"/>\n",
       "<text text-anchor=\"start\" x=\"140.38\" y=\"-183.2\" font-family=\"Helvetica,sans-Serif\" font-size=\"14.00\">registry_to_use_time ≤ 3.5</text>\n",
       "<text text-anchor=\"start\" x=\"187.62\" y=\"-166.7\" font-family=\"Helvetica,sans-Serif\" font-size=\"14.00\">gini = 0.188</text>\n",
       "<text text-anchor=\"start\" x=\"173.38\" y=\"-150.2\" font-family=\"Helvetica,sans-Serif\" font-size=\"14.00\">samples = 5583</text>\n",
       "<text text-anchor=\"start\" x=\"164\" y=\"-133.7\" font-family=\"Helvetica,sans-Serif\" font-size=\"14.00\">value = [4998, 585]</text>\n",
       "<text text-anchor=\"start\" x=\"192.5\" y=\"-117.2\" font-family=\"Helvetica,sans-Serif\" font-size=\"14.00\">class = no</text>\n",
       "</g>\n",
       "<!-- 1&#45;&gt;6 -->\n",
       "<g id=\"edge3\" class=\"edge\">\n",
       "<title>1&#45;&gt;6</title>\n",
       "<path fill=\"none\" stroke=\"black\" d=\"M224.75,-236.15C224.75,-228.29 224.75,-220.01 224.75,-211.89\"/>\n",
       "<polygon fill=\"black\" stroke=\"black\" points=\"228.25,-211.95 224.75,-201.95 221.25,-211.95 228.25,-211.95\"/>\n",
       "</g>\n",
       "<!-- 11 -->\n",
       "<g id=\"node5\" class=\"node\">\n",
       "<title>11</title>\n",
       "<path fill=\"#e68742\" stroke=\"black\" d=\"M125.5,-74C125.5,-74 12,-74 12,-74 6,-74 0,-68 0,-62 0,-62 0,-12 0,-12 0,-6 6,0 12,0 12,0 125.5,0 125.5,0 131.5,0 137.5,-6 137.5,-12 137.5,-12 137.5,-62 137.5,-62 137.5,-68 131.5,-74 125.5,-74\"/>\n",
       "<text text-anchor=\"start\" x=\"31.62\" y=\"-56.7\" font-family=\"Helvetica,sans-Serif\" font-size=\"14.00\">gini = 0.085</text>\n",
       "<text text-anchor=\"start\" x=\"17.38\" y=\"-40.2\" font-family=\"Helvetica,sans-Serif\" font-size=\"14.00\">samples = 2827</text>\n",
       "<text text-anchor=\"start\" x=\"8\" y=\"-23.7\" font-family=\"Helvetica,sans-Serif\" font-size=\"14.00\">value = [2701, 126]</text>\n",
       "<text text-anchor=\"start\" x=\"36.5\" y=\"-7.2\" font-family=\"Helvetica,sans-Serif\" font-size=\"14.00\">class = no</text>\n",
       "</g>\n",
       "<!-- 6&#45;&gt;11 -->\n",
       "<g id=\"edge4\" class=\"edge\">\n",
       "<title>6&#45;&gt;11</title>\n",
       "<path fill=\"none\" stroke=\"black\" d=\"M164.88,-109.64C152.18,-100.17 138.79,-90.19 126.18,-80.8\"/>\n",
       "<polygon fill=\"black\" stroke=\"black\" points=\"128.7,-77.56 118.59,-74.39 124.51,-83.18 128.7,-77.56\"/>\n",
       "</g>\n",
       "<!-- 12 -->\n",
       "<g id=\"node6\" class=\"node\">\n",
       "<title>12</title>\n",
       "<path fill=\"#ea9a61\" stroke=\"black\" d=\"M281.5,-74C281.5,-74 168,-74 168,-74 162,-74 156,-68 156,-62 156,-62 156,-12 156,-12 156,-6 162,0 168,0 168,0 281.5,0 281.5,0 287.5,0 293.5,-6 293.5,-12 293.5,-12 293.5,-62 293.5,-62 293.5,-68 287.5,-74 281.5,-74\"/>\n",
       "<text text-anchor=\"start\" x=\"187.62\" y=\"-56.7\" font-family=\"Helvetica,sans-Serif\" font-size=\"14.00\">gini = 0.278</text>\n",
       "<text text-anchor=\"start\" x=\"173.38\" y=\"-40.2\" font-family=\"Helvetica,sans-Serif\" font-size=\"14.00\">samples = 2756</text>\n",
       "<text text-anchor=\"start\" x=\"164\" y=\"-23.7\" font-family=\"Helvetica,sans-Serif\" font-size=\"14.00\">value = [2297, 459]</text>\n",
       "<text text-anchor=\"start\" x=\"192.5\" y=\"-7.2\" font-family=\"Helvetica,sans-Serif\" font-size=\"14.00\">class = no</text>\n",
       "</g>\n",
       "<!-- 6&#45;&gt;12 -->\n",
       "<g id=\"edge5\" class=\"edge\">\n",
       "<title>6&#45;&gt;12</title>\n",
       "<path fill=\"none\" stroke=\"black\" d=\"M224.75,-109.64C224.75,-101.63 224.75,-93.25 224.75,-85.17\"/>\n",
       "<polygon fill=\"black\" stroke=\"black\" points=\"228.25,-85.39 224.75,-75.39 221.25,-85.39 228.25,-85.39\"/>\n",
       "</g>\n",
       "<!-- 3 -->\n",
       "<g id=\"node8\" class=\"node\">\n",
       "<title>3</title>\n",
       "<path fill=\"#efb083\" stroke=\"black\" d=\"M529.12,-200.5C529.12,-200.5 368.38,-200.5 368.38,-200.5 362.38,-200.5 356.38,-194.5 356.38,-188.5 356.38,-188.5 356.38,-122 356.38,-122 356.38,-116 362.38,-110 368.38,-110 368.38,-110 529.12,-110 529.12,-110 535.12,-110 541.12,-116 541.12,-122 541.12,-122 541.12,-188.5 541.12,-188.5 541.12,-194.5 535.12,-200.5 529.12,-200.5\"/>\n",
       "<text text-anchor=\"start\" x=\"364.38\" y=\"-183.2\" font-family=\"Helvetica,sans-Serif\" font-size=\"14.00\">registry_to_use_time ≤ 2.5</text>\n",
       "<text text-anchor=\"start\" x=\"411.62\" y=\"-166.7\" font-family=\"Helvetica,sans-Serif\" font-size=\"14.00\">gini = 0.396</text>\n",
       "<text text-anchor=\"start\" x=\"397.38\" y=\"-150.2\" font-family=\"Helvetica,sans-Serif\" font-size=\"14.00\">samples = 1262</text>\n",
       "<text text-anchor=\"start\" x=\"392.12\" y=\"-133.7\" font-family=\"Helvetica,sans-Serif\" font-size=\"14.00\">value = [919, 343]</text>\n",
       "<text text-anchor=\"start\" x=\"416.5\" y=\"-117.2\" font-family=\"Helvetica,sans-Serif\" font-size=\"14.00\">class = no</text>\n",
       "</g>\n",
       "<!-- 2&#45;&gt;3 -->\n",
       "<g id=\"edge7\" class=\"edge\">\n",
       "<title>2&#45;&gt;3</title>\n",
       "<path fill=\"none\" stroke=\"black\" d=\"M448.75,-236.15C448.75,-228.29 448.75,-220.01 448.75,-211.89\"/>\n",
       "<polygon fill=\"black\" stroke=\"black\" points=\"452.25,-211.95 448.75,-201.95 445.25,-211.95 452.25,-211.95\"/>\n",
       "</g>\n",
       "<!-- 4 -->\n",
       "<g id=\"node11\" class=\"node\">\n",
       "<title>4</title>\n",
       "<path fill=\"#c1e0f7\" stroke=\"black\" d=\"M698.38,-200.5C698.38,-200.5 593.12,-200.5 593.12,-200.5 587.12,-200.5 581.12,-194.5 581.12,-188.5 581.12,-188.5 581.12,-122 581.12,-122 581.12,-116 587.12,-110 593.12,-110 593.12,-110 698.38,-110 698.38,-110 704.38,-110 710.38,-116 710.38,-122 710.38,-122 710.38,-188.5 710.38,-188.5 710.38,-194.5 704.38,-200.5 698.38,-200.5\"/>\n",
       "<text text-anchor=\"start\" x=\"612\" y=\"-183.2\" font-family=\"Helvetica,sans-Serif\" font-size=\"14.00\">age ≤ 50.5</text>\n",
       "<text text-anchor=\"start\" x=\"608.62\" y=\"-166.7\" font-family=\"Helvetica,sans-Serif\" font-size=\"14.00\">gini = 0.483</text>\n",
       "<text text-anchor=\"start\" x=\"594.38\" y=\"-150.2\" font-family=\"Helvetica,sans-Serif\" font-size=\"14.00\">samples = 1031</text>\n",
       "<text text-anchor=\"start\" x=\"589.12\" y=\"-133.7\" font-family=\"Helvetica,sans-Serif\" font-size=\"14.00\">value = [420, 611]</text>\n",
       "<text text-anchor=\"start\" x=\"610.12\" y=\"-117.2\" font-family=\"Helvetica,sans-Serif\" font-size=\"14.00\">class = yes</text>\n",
       "</g>\n",
       "<!-- 2&#45;&gt;4 -->\n",
       "<g id=\"edge10\" class=\"edge\">\n",
       "<title>2&#45;&gt;4</title>\n",
       "<path fill=\"none\" stroke=\"black\" d=\"M519.32,-236.15C536.43,-225.34 554.76,-213.75 572.02,-202.85\"/>\n",
       "<polygon fill=\"black\" stroke=\"black\" points=\"573.34,-205.52 579.93,-197.22 569.6,-199.6 573.34,-205.52\"/>\n",
       "</g>\n",
       "<!-- 9 -->\n",
       "<g id=\"node9\" class=\"node\">\n",
       "<title>9</title>\n",
       "<path fill=\"#4ea7e8\" stroke=\"black\" d=\"M404,-74C404,-74 323.5,-74 323.5,-74 317.5,-74 311.5,-68 311.5,-62 311.5,-62 311.5,-12 311.5,-12 311.5,-6 317.5,0 323.5,0 323.5,0 404,0 404,0 410,0 416,-6 416,-12 416,-12 416,-62 416,-62 416,-68 410,-74 404,-74\"/>\n",
       "<text text-anchor=\"start\" x=\"326.62\" y=\"-56.7\" font-family=\"Helvetica,sans-Serif\" font-size=\"14.00\">gini = 0.171</text>\n",
       "<text text-anchor=\"start\" x=\"320.62\" y=\"-40.2\" font-family=\"Helvetica,sans-Serif\" font-size=\"14.00\">samples = 53</text>\n",
       "<text text-anchor=\"start\" x=\"319.5\" y=\"-23.7\" font-family=\"Helvetica,sans-Serif\" font-size=\"14.00\">value = [5, 48]</text>\n",
       "<text text-anchor=\"start\" x=\"328.12\" y=\"-7.2\" font-family=\"Helvetica,sans-Serif\" font-size=\"14.00\">class = yes</text>\n",
       "</g>\n",
       "<!-- 3&#45;&gt;9 -->\n",
       "<g id=\"edge8\" class=\"edge\">\n",
       "<title>3&#45;&gt;9</title>\n",
       "<path fill=\"none\" stroke=\"black\" d=\"M416.13,-109.64C409.81,-100.99 403.17,-91.92 396.83,-83.25\"/>\n",
       "<polygon fill=\"black\" stroke=\"black\" points=\"399.09,-81.4 390.36,-75.39 393.44,-85.53 399.09,-81.4\"/>\n",
       "</g>\n",
       "<!-- 10 -->\n",
       "<g id=\"node10\" class=\"node\">\n",
       "<title>10</title>\n",
       "<path fill=\"#edaa79\" stroke=\"black\" d=\"M551.38,-74C551.38,-74 446.12,-74 446.12,-74 440.12,-74 434.12,-68 434.12,-62 434.12,-62 434.12,-12 434.12,-12 434.12,-6 440.12,0 446.12,0 446.12,0 551.38,0 551.38,0 557.38,0 563.38,-6 563.38,-12 563.38,-12 563.38,-62 563.38,-62 563.38,-68 557.38,-74 551.38,-74\"/>\n",
       "<text text-anchor=\"start\" x=\"461.62\" y=\"-56.7\" font-family=\"Helvetica,sans-Serif\" font-size=\"14.00\">gini = 0.369</text>\n",
       "<text text-anchor=\"start\" x=\"447.38\" y=\"-40.2\" font-family=\"Helvetica,sans-Serif\" font-size=\"14.00\">samples = 1209</text>\n",
       "<text text-anchor=\"start\" x=\"442.12\" y=\"-23.7\" font-family=\"Helvetica,sans-Serif\" font-size=\"14.00\">value = [914, 295]</text>\n",
       "<text text-anchor=\"start\" x=\"466.5\" y=\"-7.2\" font-family=\"Helvetica,sans-Serif\" font-size=\"14.00\">class = no</text>\n",
       "</g>\n",
       "<!-- 3&#45;&gt;10 -->\n",
       "<g id=\"edge9\" class=\"edge\">\n",
       "<title>3&#45;&gt;10</title>\n",
       "<path fill=\"none\" stroke=\"black\" d=\"M467.94,-109.64C471.5,-101.35 475.23,-92.68 478.82,-84.34\"/>\n",
       "<polygon fill=\"black\" stroke=\"black\" points=\"482.36,-85.96 483.1,-75.39 475.93,-83.2 482.36,-85.96\"/>\n",
       "</g>\n",
       "<!-- 7 -->\n",
       "<g id=\"node12\" class=\"node\">\n",
       "<title>7</title>\n",
       "<path fill=\"#fbeee4\" stroke=\"black\" d=\"M698.38,-74C698.38,-74 593.12,-74 593.12,-74 587.12,-74 581.12,-68 581.12,-62 581.12,-62 581.12,-12 581.12,-12 581.12,-6 587.12,0 593.12,0 593.12,0 698.38,0 698.38,0 704.38,0 710.38,-6 710.38,-12 710.38,-12 710.38,-62 710.38,-62 710.38,-68 704.38,-74 698.38,-74\"/>\n",
       "<text text-anchor=\"start\" x=\"608.62\" y=\"-56.7\" font-family=\"Helvetica,sans-Serif\" font-size=\"14.00\">gini = 0.497</text>\n",
       "<text text-anchor=\"start\" x=\"598.5\" y=\"-40.2\" font-family=\"Helvetica,sans-Serif\" font-size=\"14.00\">samples = 692</text>\n",
       "<text text-anchor=\"start\" x=\"589.12\" y=\"-23.7\" font-family=\"Helvetica,sans-Serif\" font-size=\"14.00\">value = [371, 321]</text>\n",
       "<text text-anchor=\"start\" x=\"613.5\" y=\"-7.2\" font-family=\"Helvetica,sans-Serif\" font-size=\"14.00\">class = no</text>\n",
       "</g>\n",
       "<!-- 4&#45;&gt;7 -->\n",
       "<g id=\"edge11\" class=\"edge\">\n",
       "<title>4&#45;&gt;7</title>\n",
       "<path fill=\"none\" stroke=\"black\" d=\"M645.75,-109.64C645.75,-101.63 645.75,-93.25 645.75,-85.17\"/>\n",
       "<polygon fill=\"black\" stroke=\"black\" points=\"649.25,-85.39 645.75,-75.39 642.25,-85.39 649.25,-85.39\"/>\n",
       "</g>\n",
       "<!-- 8 -->\n",
       "<g id=\"node13\" class=\"node\">\n",
       "<title>8</title>\n",
       "<path fill=\"#5aaee9\" stroke=\"black\" d=\"M837.25,-74C837.25,-74 740.25,-74 740.25,-74 734.25,-74 728.25,-68 728.25,-62 728.25,-62 728.25,-12 728.25,-12 728.25,-6 734.25,0 740.25,0 740.25,0 837.25,0 837.25,0 843.25,0 849.25,-6 849.25,-12 849.25,-12 849.25,-62 849.25,-62 849.25,-68 843.25,-74 837.25,-74\"/>\n",
       "<text text-anchor=\"start\" x=\"751.62\" y=\"-56.7\" font-family=\"Helvetica,sans-Serif\" font-size=\"14.00\">gini = 0.247</text>\n",
       "<text text-anchor=\"start\" x=\"741.5\" y=\"-40.2\" font-family=\"Helvetica,sans-Serif\" font-size=\"14.00\">samples = 339</text>\n",
       "<text text-anchor=\"start\" x=\"736.25\" y=\"-23.7\" font-family=\"Helvetica,sans-Serif\" font-size=\"14.00\">value = [49, 290]</text>\n",
       "<text text-anchor=\"start\" x=\"753.12\" y=\"-7.2\" font-family=\"Helvetica,sans-Serif\" font-size=\"14.00\">class = yes</text>\n",
       "</g>\n",
       "<!-- 4&#45;&gt;8 -->\n",
       "<g id=\"edge12\" class=\"edge\">\n",
       "<title>4&#45;&gt;8</title>\n",
       "<path fill=\"none\" stroke=\"black\" d=\"M700.63,-109.64C712.16,-100.26 724.31,-90.39 735.77,-81.07\"/>\n",
       "<polygon fill=\"black\" stroke=\"black\" points=\"737.43,-83.42 742.98,-74.39 733.01,-77.99 737.43,-83.42\"/>\n",
       "</g>\n",
       "</g>\n",
       "</svg>\n"
      ],
      "text/plain": [
       "<graphviz.sources.Source at 0x1bd3ce8b730>"
      ]
     },
     "execution_count": 118,
     "metadata": {},
     "output_type": "execute_result"
    }
   ],
   "source": [
    "graph"
   ]
  },
  {
   "attachments": {},
   "cell_type": "markdown",
   "metadata": {},
   "source": [
    "### 使用最適參數的決策樹方法"
   ]
  },
  {
   "cell_type": "code",
   "execution_count": 119,
   "metadata": {},
   "outputs": [
    {
     "name": "stdout",
     "output_type": "stream",
     "text": [
      "0.7975\n",
      "0.8285\n",
      "0.8365\n",
      "0.8335\n",
      "0.842\n",
      "0.842\n",
      "0.842\n",
      "0.8545\n",
      "0.8605\n",
      "0.8605\n",
      "0.8605\n",
      "0.861\n",
      "0.861\n",
      "0.8585\n",
      "0.8585\n",
      "0.8585\n",
      "0.8595\n"
     ]
    }
   ],
   "source": [
    "# 測試從2 ~ 10的深、廣度對準確度的影響，若越准，則採用該參數\n",
    "save = [] # 用save這個list來存每一次的測試結果\n",
    "for para in [2,3,4,5,6,7,8,9,10,11,12,13,14,15,16,17,18]:\n",
    "\n",
    "    from sklearn.tree import DecisionTreeClassifier\n",
    "\n",
    "    # 修剪枝節(pruning)：\n",
    "    # max_depth：深度，由上至下的最大延展程度\n",
    "    # max_leaf_nodes：廣度，由左至右的最大延展程度\n",
    "    # max_depth=5, max_leaf_nodes= 7\n",
    "    decision_reg = DecisionTreeClassifier(max_depth=para, max_leaf_nodes= para)\n",
    "\n",
    "    decision_reg.fit(X_train, y_train)\n",
    "\n",
    "    # 如何決定潛在最適的深、廣度？（參數）\n",
    "    # 可能的解答：藉由預測X_test來查看最好的KPI/財務/準確度\n",
    "    y_pred = decision_reg.predict(X_test)\n",
    "\n",
    "    # 載入準確度套件\n",
    "    # 本次以準確度為例\n",
    "    from sklearn.metrics import accuracy_score\n",
    "    acc = accuracy_score(y_test, y_pred)\n",
    "    print(acc)\n",
    "\n",
    "    # 存測試結果:參數與準確度，共兩種結果\n",
    "    save.append([para, acc])"
   ]
  },
  {
   "cell_type": "code",
   "execution_count": 121,
   "metadata": {},
   "outputs": [
    {
     "data": {
      "text/html": [
       "<div>\n",
       "<style scoped>\n",
       "    .dataframe tbody tr th:only-of-type {\n",
       "        vertical-align: middle;\n",
       "    }\n",
       "\n",
       "    .dataframe tbody tr th {\n",
       "        vertical-align: top;\n",
       "    }\n",
       "\n",
       "    .dataframe thead th {\n",
       "        text-align: right;\n",
       "    }\n",
       "</style>\n",
       "<table border=\"1\" class=\"dataframe\">\n",
       "  <thead>\n",
       "    <tr style=\"text-align: right;\">\n",
       "      <th></th>\n",
       "      <th>參數</th>\n",
       "      <th>準確度</th>\n",
       "    </tr>\n",
       "  </thead>\n",
       "  <tbody>\n",
       "    <tr>\n",
       "      <th>12</th>\n",
       "      <td>14</td>\n",
       "      <td>0.8610</td>\n",
       "    </tr>\n",
       "    <tr>\n",
       "      <th>11</th>\n",
       "      <td>13</td>\n",
       "      <td>0.8610</td>\n",
       "    </tr>\n",
       "    <tr>\n",
       "      <th>8</th>\n",
       "      <td>10</td>\n",
       "      <td>0.8605</td>\n",
       "    </tr>\n",
       "    <tr>\n",
       "      <th>9</th>\n",
       "      <td>11</td>\n",
       "      <td>0.8605</td>\n",
       "    </tr>\n",
       "    <tr>\n",
       "      <th>10</th>\n",
       "      <td>12</td>\n",
       "      <td>0.8605</td>\n",
       "    </tr>\n",
       "    <tr>\n",
       "      <th>16</th>\n",
       "      <td>18</td>\n",
       "      <td>0.8595</td>\n",
       "    </tr>\n",
       "    <tr>\n",
       "      <th>13</th>\n",
       "      <td>15</td>\n",
       "      <td>0.8585</td>\n",
       "    </tr>\n",
       "    <tr>\n",
       "      <th>14</th>\n",
       "      <td>16</td>\n",
       "      <td>0.8585</td>\n",
       "    </tr>\n",
       "    <tr>\n",
       "      <th>15</th>\n",
       "      <td>17</td>\n",
       "      <td>0.8585</td>\n",
       "    </tr>\n",
       "    <tr>\n",
       "      <th>7</th>\n",
       "      <td>9</td>\n",
       "      <td>0.8545</td>\n",
       "    </tr>\n",
       "    <tr>\n",
       "      <th>6</th>\n",
       "      <td>8</td>\n",
       "      <td>0.8420</td>\n",
       "    </tr>\n",
       "    <tr>\n",
       "      <th>5</th>\n",
       "      <td>7</td>\n",
       "      <td>0.8420</td>\n",
       "    </tr>\n",
       "    <tr>\n",
       "      <th>4</th>\n",
       "      <td>6</td>\n",
       "      <td>0.8420</td>\n",
       "    </tr>\n",
       "    <tr>\n",
       "      <th>2</th>\n",
       "      <td>4</td>\n",
       "      <td>0.8365</td>\n",
       "    </tr>\n",
       "    <tr>\n",
       "      <th>3</th>\n",
       "      <td>5</td>\n",
       "      <td>0.8335</td>\n",
       "    </tr>\n",
       "    <tr>\n",
       "      <th>1</th>\n",
       "      <td>3</td>\n",
       "      <td>0.8285</td>\n",
       "    </tr>\n",
       "    <tr>\n",
       "      <th>0</th>\n",
       "      <td>2</td>\n",
       "      <td>0.7975</td>\n",
       "    </tr>\n",
       "  </tbody>\n",
       "</table>\n",
       "</div>"
      ],
      "text/plain": [
       "    參數     準確度\n",
       "12  14  0.8610\n",
       "11  13  0.8610\n",
       "8   10  0.8605\n",
       "9   11  0.8605\n",
       "10  12  0.8605\n",
       "16  18  0.8595\n",
       "13  15  0.8585\n",
       "14  16  0.8585\n",
       "15  17  0.8585\n",
       "7    9  0.8545\n",
       "6    8  0.8420\n",
       "5    7  0.8420\n",
       "4    6  0.8420\n",
       "2    4  0.8365\n",
       "3    5  0.8335\n",
       "1    3  0.8285\n",
       "0    2  0.7975"
      ]
     },
     "execution_count": 121,
     "metadata": {},
     "output_type": "execute_result"
    }
   ],
   "source": [
    "# 將save轉換成data frame，便於排序與檢視\n",
    "save = pd.DataFrame(save)\n",
    "save.columns = ['參數', '準確度']\n",
    "# 準確度由高至低排序\n",
    "save = save.sort_values('準確度', ascending=False)\n",
    "save"
   ]
  },
  {
   "cell_type": "code",
   "execution_count": 122,
   "metadata": {},
   "outputs": [
    {
     "data": {
      "text/html": [
       "<style>#sk-container-id-5 {color: black;background-color: white;}#sk-container-id-5 pre{padding: 0;}#sk-container-id-5 div.sk-toggleable {background-color: white;}#sk-container-id-5 label.sk-toggleable__label {cursor: pointer;display: block;width: 100%;margin-bottom: 0;padding: 0.3em;box-sizing: border-box;text-align: center;}#sk-container-id-5 label.sk-toggleable__label-arrow:before {content: \"▸\";float: left;margin-right: 0.25em;color: #696969;}#sk-container-id-5 label.sk-toggleable__label-arrow:hover:before {color: black;}#sk-container-id-5 div.sk-estimator:hover label.sk-toggleable__label-arrow:before {color: black;}#sk-container-id-5 div.sk-toggleable__content {max-height: 0;max-width: 0;overflow: hidden;text-align: left;background-color: #f0f8ff;}#sk-container-id-5 div.sk-toggleable__content pre {margin: 0.2em;color: black;border-radius: 0.25em;background-color: #f0f8ff;}#sk-container-id-5 input.sk-toggleable__control:checked~div.sk-toggleable__content {max-height: 200px;max-width: 100%;overflow: auto;}#sk-container-id-5 input.sk-toggleable__control:checked~label.sk-toggleable__label-arrow:before {content: \"▾\";}#sk-container-id-5 div.sk-estimator input.sk-toggleable__control:checked~label.sk-toggleable__label {background-color: #d4ebff;}#sk-container-id-5 div.sk-label input.sk-toggleable__control:checked~label.sk-toggleable__label {background-color: #d4ebff;}#sk-container-id-5 input.sk-hidden--visually {border: 0;clip: rect(1px 1px 1px 1px);clip: rect(1px, 1px, 1px, 1px);height: 1px;margin: -1px;overflow: hidden;padding: 0;position: absolute;width: 1px;}#sk-container-id-5 div.sk-estimator {font-family: monospace;background-color: #f0f8ff;border: 1px dotted black;border-radius: 0.25em;box-sizing: border-box;margin-bottom: 0.5em;}#sk-container-id-5 div.sk-estimator:hover {background-color: #d4ebff;}#sk-container-id-5 div.sk-parallel-item::after {content: \"\";width: 100%;border-bottom: 1px solid gray;flex-grow: 1;}#sk-container-id-5 div.sk-label:hover label.sk-toggleable__label {background-color: #d4ebff;}#sk-container-id-5 div.sk-serial::before {content: \"\";position: absolute;border-left: 1px solid gray;box-sizing: border-box;top: 0;bottom: 0;left: 50%;z-index: 0;}#sk-container-id-5 div.sk-serial {display: flex;flex-direction: column;align-items: center;background-color: white;padding-right: 0.2em;padding-left: 0.2em;position: relative;}#sk-container-id-5 div.sk-item {position: relative;z-index: 1;}#sk-container-id-5 div.sk-parallel {display: flex;align-items: stretch;justify-content: center;background-color: white;position: relative;}#sk-container-id-5 div.sk-item::before, #sk-container-id-5 div.sk-parallel-item::before {content: \"\";position: absolute;border-left: 1px solid gray;box-sizing: border-box;top: 0;bottom: 0;left: 50%;z-index: -1;}#sk-container-id-5 div.sk-parallel-item {display: flex;flex-direction: column;z-index: 1;position: relative;background-color: white;}#sk-container-id-5 div.sk-parallel-item:first-child::after {align-self: flex-end;width: 50%;}#sk-container-id-5 div.sk-parallel-item:last-child::after {align-self: flex-start;width: 50%;}#sk-container-id-5 div.sk-parallel-item:only-child::after {width: 0;}#sk-container-id-5 div.sk-dashed-wrapped {border: 1px dashed gray;margin: 0 0.4em 0.5em 0.4em;box-sizing: border-box;padding-bottom: 0.4em;background-color: white;}#sk-container-id-5 div.sk-label label {font-family: monospace;font-weight: bold;display: inline-block;line-height: 1.2em;}#sk-container-id-5 div.sk-label-container {text-align: center;}#sk-container-id-5 div.sk-container {/* jupyter's `normalize.less` sets `[hidden] { display: none; }` but bootstrap.min.css set `[hidden] { display: none !important; }` so we also need the `!important` here to be able to override the default hidden behavior on the sphinx rendered scikit-learn.org. See: https://github.com/scikit-learn/scikit-learn/issues/21755 */display: inline-block !important;position: relative;}#sk-container-id-5 div.sk-text-repr-fallback {display: none;}</style><div id=\"sk-container-id-5\" class=\"sk-top-container\"><div class=\"sk-text-repr-fallback\"><pre>DecisionTreeClassifier(max_depth=14, max_leaf_nodes=14)</pre><b>In a Jupyter environment, please rerun this cell to show the HTML representation or trust the notebook. <br />On GitHub, the HTML representation is unable to render, please try loading this page with nbviewer.org.</b></div><div class=\"sk-container\" hidden><div class=\"sk-item\"><div class=\"sk-estimator sk-toggleable\"><input class=\"sk-toggleable__control sk-hidden--visually\" id=\"sk-estimator-id-5\" type=\"checkbox\" checked><label for=\"sk-estimator-id-5\" class=\"sk-toggleable__label sk-toggleable__label-arrow\">DecisionTreeClassifier</label><div class=\"sk-toggleable__content\"><pre>DecisionTreeClassifier(max_depth=14, max_leaf_nodes=14)</pre></div></div></div></div></div>"
      ],
      "text/plain": [
       "DecisionTreeClassifier(max_depth=14, max_leaf_nodes=14)"
      ]
     },
     "execution_count": 122,
     "metadata": {},
     "output_type": "execute_result"
    }
   ],
   "source": [
    "from sklearn.tree import DecisionTreeClassifier\n",
    "\n",
    "# 修剪枝節(pruning)：\n",
    "# max_depth：深度，由上至下的最大延展程度\n",
    "# max_leaf_nodes：廣度，由左至右的最大延展程度\n",
    "# max_depth=5, max_leaf_nodes= 7\n",
    "ecision_reg = DecisionTreeClassifier(max_depth = save['參數'].iloc[0], max_leaf_nodes= save['參數'].iloc[0])\n",
    "ecision_reg.fit(X_train, y_train)"
   ]
  },
  {
   "cell_type": "code",
   "execution_count": 123,
   "metadata": {},
   "outputs": [
    {
     "data": {
      "image/svg+xml": [
       "<?xml version=\"1.0\" encoding=\"UTF-8\" standalone=\"no\"?>\n",
       "<!DOCTYPE svg PUBLIC \"-//W3C//DTD SVG 1.1//EN\"\n",
       " \"http://www.w3.org/Graphics/SVG/1.1/DTD/svg11.dtd\">\n",
       "<!-- Generated by graphviz version 8.0.5 (20230430.1635)\n",
       " -->\n",
       "<!-- Title: Tree Pages: 1 -->\n",
       "<svg width=\"1551pt\" height=\"968pt\"\n",
       " viewBox=\"0.00 0.00 1550.75 967.50\" xmlns=\"http://www.w3.org/2000/svg\" xmlns:xlink=\"http://www.w3.org/1999/xlink\">\n",
       "<g id=\"graph0\" class=\"graph\" transform=\"scale(1 1) rotate(0) translate(4 963.5)\">\n",
       "<title>Tree</title>\n",
       "<polygon fill=\"white\" stroke=\"none\" points=\"-4,4 -4,-963.5 1546.75,-963.5 1546.75,4 -4,4\"/>\n",
       "<!-- 0 -->\n",
       "<g id=\"node1\" class=\"node\">\n",
       "<title>0</title>\n",
       "<path fill=\"#eca16c\" stroke=\"black\" d=\"M597.25,-959.5C597.25,-959.5 475.5,-959.5 475.5,-959.5 469.5,-959.5 463.5,-953.5 463.5,-947.5 463.5,-947.5 463.5,-881 463.5,-881 463.5,-875 469.5,-869 475.5,-869 475.5,-869 597.25,-869 597.25,-869 603.25,-869 609.25,-875 609.25,-881 609.25,-881 609.25,-947.5 609.25,-947.5 609.25,-953.5 603.25,-959.5 597.25,-959.5\"/>\n",
       "<text text-anchor=\"start\" x=\"502.62\" y=\"-942.2\" font-family=\"Helvetica,sans-Serif\" font-size=\"14.00\">age ≤ 42.5</text>\n",
       "<text text-anchor=\"start\" x=\"499.25\" y=\"-925.7\" font-family=\"Helvetica,sans-Serif\" font-size=\"14.00\">gini = 0.325</text>\n",
       "<text text-anchor=\"start\" x=\"485\" y=\"-909.2\" font-family=\"Helvetica,sans-Serif\" font-size=\"14.00\">samples = 8000</text>\n",
       "<text text-anchor=\"start\" x=\"471.5\" y=\"-892.7\" font-family=\"Helvetica,sans-Serif\" font-size=\"14.00\">value = [6368, 1632]</text>\n",
       "<text text-anchor=\"start\" x=\"504.12\" y=\"-876.2\" font-family=\"Helvetica,sans-Serif\" font-size=\"14.00\">class = no</text>\n",
       "</g>\n",
       "<!-- 1 -->\n",
       "<g id=\"node2\" class=\"node\">\n",
       "<title>1</title>\n",
       "<path fill=\"#e99254\" stroke=\"black\" d=\"M515.75,-833C515.75,-833 355,-833 355,-833 349,-833 343,-827 343,-821 343,-821 343,-754.5 343,-754.5 343,-748.5 349,-742.5 355,-742.5 355,-742.5 515.75,-742.5 515.75,-742.5 521.75,-742.5 527.75,-748.5 527.75,-754.5 527.75,-754.5 527.75,-821 527.75,-821 527.75,-827 521.75,-833 515.75,-833\"/>\n",
       "<text text-anchor=\"start\" x=\"351\" y=\"-815.7\" font-family=\"Helvetica,sans-Serif\" font-size=\"14.00\">registry_to_use_time ≤ 2.5</text>\n",
       "<text text-anchor=\"start\" x=\"398.25\" y=\"-799.2\" font-family=\"Helvetica,sans-Serif\" font-size=\"14.00\">gini = 0.209</text>\n",
       "<text text-anchor=\"start\" x=\"384\" y=\"-782.7\" font-family=\"Helvetica,sans-Serif\" font-size=\"14.00\">samples = 5707</text>\n",
       "<text text-anchor=\"start\" x=\"374.62\" y=\"-766.2\" font-family=\"Helvetica,sans-Serif\" font-size=\"14.00\">value = [5029, 678]</text>\n",
       "<text text-anchor=\"start\" x=\"403.12\" y=\"-749.7\" font-family=\"Helvetica,sans-Serif\" font-size=\"14.00\">class = no</text>\n",
       "</g>\n",
       "<!-- 0&#45;&gt;1 -->\n",
       "<g id=\"edge1\" class=\"edge\">\n",
       "<title>0&#45;&gt;1</title>\n",
       "<path fill=\"none\" stroke=\"black\" d=\"M500.2,-868.65C493.16,-859.98 485.72,-850.81 478.49,-841.9\"/>\n",
       "<polygon fill=\"black\" stroke=\"black\" points=\"480.66,-840.01 471.64,-834.45 475.22,-844.42 480.66,-840.01\"/>\n",
       "<text text-anchor=\"middle\" x=\"469.05\" y=\"-853.27\" font-family=\"Helvetica,sans-Serif\" font-size=\"14.00\">True</text>\n",
       "</g>\n",
       "<!-- 2 -->\n",
       "<g id=\"node13\" class=\"node\">\n",
       "<title>2</title>\n",
       "<path fill=\"#f8dbc6\" stroke=\"black\" d=\"M729.12,-833C729.12,-833 603.62,-833 603.62,-833 597.62,-833 591.62,-827 591.62,-821 591.62,-821 591.62,-754.5 591.62,-754.5 591.62,-748.5 597.62,-742.5 603.62,-742.5 603.62,-742.5 729.12,-742.5 729.12,-742.5 735.12,-742.5 741.12,-748.5 741.12,-754.5 741.12,-754.5 741.12,-821 741.12,-821 741.12,-827 735.12,-833 729.12,-833\"/>\n",
       "<text text-anchor=\"start\" x=\"599.62\" y=\"-815.7\" font-family=\"Helvetica,sans-Serif\" font-size=\"14.00\">active_member ≤ 0.5</text>\n",
       "<text text-anchor=\"start\" x=\"629.25\" y=\"-799.2\" font-family=\"Helvetica,sans-Serif\" font-size=\"14.00\">gini = 0.486</text>\n",
       "<text text-anchor=\"start\" x=\"615\" y=\"-782.7\" font-family=\"Helvetica,sans-Serif\" font-size=\"14.00\">samples = 2293</text>\n",
       "<text text-anchor=\"start\" x=\"605.62\" y=\"-766.2\" font-family=\"Helvetica,sans-Serif\" font-size=\"14.00\">value = [1339, 954]</text>\n",
       "<text text-anchor=\"start\" x=\"634.12\" y=\"-749.7\" font-family=\"Helvetica,sans-Serif\" font-size=\"14.00\">class = no</text>\n",
       "</g>\n",
       "<!-- 0&#45;&gt;2 -->\n",
       "<g id=\"edge12\" class=\"edge\">\n",
       "<title>0&#45;&gt;2</title>\n",
       "<path fill=\"none\" stroke=\"black\" d=\"M582.94,-868.65C592.37,-859.63 602.36,-850.06 612.03,-840.8\"/>\n",
       "<polygon fill=\"black\" stroke=\"black\" points=\"613.9,-843.9 618.7,-834.45 609.05,-838.84 613.9,-843.9\"/>\n",
       "<text text-anchor=\"middle\" x=\"619.16\" y=\"-853.4\" font-family=\"Helvetica,sans-Serif\" font-size=\"14.00\">False</text>\n",
       "</g>\n",
       "<!-- 5 -->\n",
       "<g id=\"node3\" class=\"node\">\n",
       "<title>5</title>\n",
       "<path fill=\"#7bbeee\" stroke=\"black\" d=\"M242.38,-706.5C242.38,-706.5 124.38,-706.5 124.38,-706.5 118.38,-706.5 112.38,-700.5 112.38,-694.5 112.38,-694.5 112.38,-628 112.38,-628 112.38,-622 118.38,-616 124.38,-616 124.38,-616 242.38,-616 242.38,-616 248.38,-616 254.38,-622 254.38,-628 254.38,-628 254.38,-694.5 254.38,-694.5 254.38,-700.5 248.38,-706.5 242.38,-706.5\"/>\n",
       "<text text-anchor=\"start\" x=\"120.38\" y=\"-689.2\" font-family=\"Helvetica,sans-Serif\" font-size=\"14.00\">balance ≤ 23194.08</text>\n",
       "<text text-anchor=\"start\" x=\"146.25\" y=\"-672.7\" font-family=\"Helvetica,sans-Serif\" font-size=\"14.00\">gini = 0.375</text>\n",
       "<text text-anchor=\"start\" x=\"136.12\" y=\"-656.2\" font-family=\"Helvetica,sans-Serif\" font-size=\"14.00\">samples = 124</text>\n",
       "<text text-anchor=\"start\" x=\"135\" y=\"-639.7\" font-family=\"Helvetica,sans-Serif\" font-size=\"14.00\">value = [31, 93]</text>\n",
       "<text text-anchor=\"start\" x=\"147.75\" y=\"-623.2\" font-family=\"Helvetica,sans-Serif\" font-size=\"14.00\">class = yes</text>\n",
       "</g>\n",
       "<!-- 1&#45;&gt;5 -->\n",
       "<g id=\"edge2\" class=\"edge\">\n",
       "<title>1&#45;&gt;5</title>\n",
       "<path fill=\"none\" stroke=\"black\" d=\"M345.11,-742.15C318.81,-729.16 290.25,-715.05 264.55,-702.35\"/>\n",
       "<polygon fill=\"black\" stroke=\"black\" points=\"266.36,-698.85 255.85,-697.56 263.26,-705.13 266.36,-698.85\"/>\n",
       "</g>\n",
       "<!-- 6 -->\n",
       "<g id=\"node6\" class=\"node\">\n",
       "<title>6</title>\n",
       "<path fill=\"#e89050\" stroke=\"black\" d=\"M515.75,-706.5C515.75,-706.5 355,-706.5 355,-706.5 349,-706.5 343,-700.5 343,-694.5 343,-694.5 343,-628 343,-628 343,-622 349,-616 355,-616 355,-616 515.75,-616 515.75,-616 521.75,-616 527.75,-622 527.75,-628 527.75,-628 527.75,-694.5 527.75,-694.5 527.75,-700.5 521.75,-706.5 515.75,-706.5\"/>\n",
       "<text text-anchor=\"start\" x=\"351\" y=\"-689.2\" font-family=\"Helvetica,sans-Serif\" font-size=\"14.00\">registry_to_use_time ≤ 3.5</text>\n",
       "<text text-anchor=\"start\" x=\"398.25\" y=\"-672.7\" font-family=\"Helvetica,sans-Serif\" font-size=\"14.00\">gini = 0.188</text>\n",
       "<text text-anchor=\"start\" x=\"384\" y=\"-656.2\" font-family=\"Helvetica,sans-Serif\" font-size=\"14.00\">samples = 5583</text>\n",
       "<text text-anchor=\"start\" x=\"374.62\" y=\"-639.7\" font-family=\"Helvetica,sans-Serif\" font-size=\"14.00\">value = [4998, 585]</text>\n",
       "<text text-anchor=\"start\" x=\"403.12\" y=\"-623.2\" font-family=\"Helvetica,sans-Serif\" font-size=\"14.00\">class = no</text>\n",
       "</g>\n",
       "<!-- 1&#45;&gt;6 -->\n",
       "<g id=\"edge5\" class=\"edge\">\n",
       "<title>1&#45;&gt;6</title>\n",
       "<path fill=\"none\" stroke=\"black\" d=\"M435.38,-742.15C435.38,-734.29 435.38,-726.01 435.38,-717.89\"/>\n",
       "<polygon fill=\"black\" stroke=\"black\" points=\"438.88,-717.95 435.38,-707.95 431.88,-717.95 438.88,-717.95\"/>\n",
       "</g>\n",
       "<!-- 23 -->\n",
       "<g id=\"node4\" class=\"node\">\n",
       "<title>23</title>\n",
       "<path fill=\"#ffffff\" stroke=\"black\" d=\"M100.75,-571.75C100.75,-571.75 12,-571.75 12,-571.75 6,-571.75 0,-565.75 0,-559.75 0,-559.75 0,-509.75 0,-509.75 0,-503.75 6,-497.75 12,-497.75 12,-497.75 100.75,-497.75 100.75,-497.75 106.75,-497.75 112.75,-503.75 112.75,-509.75 112.75,-509.75 112.75,-559.75 112.75,-559.75 112.75,-565.75 106.75,-571.75 100.75,-571.75\"/>\n",
       "<text text-anchor=\"start\" x=\"27.5\" y=\"-554.45\" font-family=\"Helvetica,sans-Serif\" font-size=\"14.00\">gini = 0.5</text>\n",
       "<text text-anchor=\"start\" x=\"13.25\" y=\"-537.95\" font-family=\"Helvetica,sans-Serif\" font-size=\"14.00\">samples = 50</text>\n",
       "<text text-anchor=\"start\" x=\"8\" y=\"-521.45\" font-family=\"Helvetica,sans-Serif\" font-size=\"14.00\">value = [25, 25]</text>\n",
       "<text text-anchor=\"start\" x=\"24.12\" y=\"-504.95\" font-family=\"Helvetica,sans-Serif\" font-size=\"14.00\">class = no</text>\n",
       "</g>\n",
       "<!-- 5&#45;&gt;23 -->\n",
       "<g id=\"edge3\" class=\"edge\">\n",
       "<title>5&#45;&gt;23</title>\n",
       "<path fill=\"none\" stroke=\"black\" d=\"M137.88,-615.65C125.86,-603.86 112.89,-591.15 100.91,-579.41\"/>\n",
       "<polygon fill=\"black\" stroke=\"black\" points=\"103.8,-577.36 94.21,-572.86 98.9,-582.36 103.8,-577.36\"/>\n",
       "</g>\n",
       "<!-- 24 -->\n",
       "<g id=\"node5\" class=\"node\">\n",
       "<title>24</title>\n",
       "<path fill=\"#4aa6e7\" stroke=\"black\" d=\"M223.62,-571.75C223.62,-571.75 143.12,-571.75 143.12,-571.75 137.12,-571.75 131.12,-565.75 131.12,-559.75 131.12,-559.75 131.12,-509.75 131.12,-509.75 131.12,-503.75 137.12,-497.75 143.12,-497.75 143.12,-497.75 223.62,-497.75 223.62,-497.75 229.62,-497.75 235.62,-503.75 235.62,-509.75 235.62,-509.75 235.62,-559.75 235.62,-559.75 235.62,-565.75 229.62,-571.75 223.62,-571.75\"/>\n",
       "<text text-anchor=\"start\" x=\"146.25\" y=\"-554.45\" font-family=\"Helvetica,sans-Serif\" font-size=\"14.00\">gini = 0.149</text>\n",
       "<text text-anchor=\"start\" x=\"140.25\" y=\"-537.95\" font-family=\"Helvetica,sans-Serif\" font-size=\"14.00\">samples = 74</text>\n",
       "<text text-anchor=\"start\" x=\"139.12\" y=\"-521.45\" font-family=\"Helvetica,sans-Serif\" font-size=\"14.00\">value = [6, 68]</text>\n",
       "<text text-anchor=\"start\" x=\"147.75\" y=\"-504.95\" font-family=\"Helvetica,sans-Serif\" font-size=\"14.00\">class = yes</text>\n",
       "</g>\n",
       "<!-- 5&#45;&gt;24 -->\n",
       "<g id=\"edge4\" class=\"edge\">\n",
       "<title>5&#45;&gt;24</title>\n",
       "<path fill=\"none\" stroke=\"black\" d=\"M183.38,-615.65C183.38,-604.99 183.38,-593.56 183.38,-582.79\"/>\n",
       "<polygon fill=\"black\" stroke=\"black\" points=\"186.88,-582.86 183.38,-572.86 179.88,-582.86 186.88,-582.86\"/>\n",
       "</g>\n",
       "<!-- 11 -->\n",
       "<g id=\"node7\" class=\"node\">\n",
       "<title>11</title>\n",
       "<path fill=\"#e68742\" stroke=\"black\" d=\"M379.12,-571.75C379.12,-571.75 265.62,-571.75 265.62,-571.75 259.62,-571.75 253.62,-565.75 253.62,-559.75 253.62,-559.75 253.62,-509.75 253.62,-509.75 253.62,-503.75 259.62,-497.75 265.62,-497.75 265.62,-497.75 379.12,-497.75 379.12,-497.75 385.12,-497.75 391.12,-503.75 391.12,-509.75 391.12,-509.75 391.12,-559.75 391.12,-559.75 391.12,-565.75 385.12,-571.75 379.12,-571.75\"/>\n",
       "<text text-anchor=\"start\" x=\"285.25\" y=\"-554.45\" font-family=\"Helvetica,sans-Serif\" font-size=\"14.00\">gini = 0.085</text>\n",
       "<text text-anchor=\"start\" x=\"271\" y=\"-537.95\" font-family=\"Helvetica,sans-Serif\" font-size=\"14.00\">samples = 2827</text>\n",
       "<text text-anchor=\"start\" x=\"261.62\" y=\"-521.45\" font-family=\"Helvetica,sans-Serif\" font-size=\"14.00\">value = [2701, 126]</text>\n",
       "<text text-anchor=\"start\" x=\"290.12\" y=\"-504.95\" font-family=\"Helvetica,sans-Serif\" font-size=\"14.00\">class = no</text>\n",
       "</g>\n",
       "<!-- 6&#45;&gt;11 -->\n",
       "<g id=\"edge6\" class=\"edge\">\n",
       "<title>6&#45;&gt;11</title>\n",
       "<path fill=\"none\" stroke=\"black\" d=\"M394.9,-615.65C384.3,-603.98 372.88,-591.39 362.31,-579.75\"/>\n",
       "<polygon fill=\"black\" stroke=\"black\" points=\"365.46,-577.91 356.15,-572.86 360.27,-582.61 365.46,-577.91\"/>\n",
       "</g>\n",
       "<!-- 12 -->\n",
       "<g id=\"node8\" class=\"node\">\n",
       "<title>12</title>\n",
       "<path fill=\"#ea9a61\" stroke=\"black\" d=\"M535.12,-580C535.12,-580 421.62,-580 421.62,-580 415.62,-580 409.62,-574 409.62,-568 409.62,-568 409.62,-501.5 409.62,-501.5 409.62,-495.5 415.62,-489.5 421.62,-489.5 421.62,-489.5 535.12,-489.5 535.12,-489.5 541.12,-489.5 547.12,-495.5 547.12,-501.5 547.12,-501.5 547.12,-568 547.12,-568 547.12,-574 541.12,-580 535.12,-580\"/>\n",
       "<text text-anchor=\"start\" x=\"444.62\" y=\"-562.7\" font-family=\"Helvetica,sans-Serif\" font-size=\"14.00\">age ≤ 38.5</text>\n",
       "<text text-anchor=\"start\" x=\"441.25\" y=\"-546.2\" font-family=\"Helvetica,sans-Serif\" font-size=\"14.00\">gini = 0.278</text>\n",
       "<text text-anchor=\"start\" x=\"427\" y=\"-529.7\" font-family=\"Helvetica,sans-Serif\" font-size=\"14.00\">samples = 2756</text>\n",
       "<text text-anchor=\"start\" x=\"417.62\" y=\"-513.2\" font-family=\"Helvetica,sans-Serif\" font-size=\"14.00\">value = [2297, 459]</text>\n",
       "<text text-anchor=\"start\" x=\"446.12\" y=\"-496.7\" font-family=\"Helvetica,sans-Serif\" font-size=\"14.00\">class = no</text>\n",
       "</g>\n",
       "<!-- 6&#45;&gt;12 -->\n",
       "<g id=\"edge7\" class=\"edge\">\n",
       "<title>6&#45;&gt;12</title>\n",
       "<path fill=\"none\" stroke=\"black\" d=\"M450.78,-615.65C453.56,-607.61 456.48,-599.13 459.35,-590.83\"/>\n",
       "<polygon fill=\"black\" stroke=\"black\" points=\"462.98,-592.05 462.94,-581.45 456.36,-589.76 462.98,-592.05\"/>\n",
       "</g>\n",
       "<!-- 21 -->\n",
       "<g id=\"node9\" class=\"node\">\n",
       "<title>21</title>\n",
       "<path fill=\"#e99558\" stroke=\"black\" d=\"M383.75,-453.5C383.75,-453.5 253,-453.5 253,-453.5 247,-453.5 241,-447.5 241,-441.5 241,-441.5 241,-375 241,-375 241,-369 247,-363 253,-363 253,-363 383.75,-363 383.75,-363 389.75,-363 395.75,-369 395.75,-375 395.75,-375 395.75,-441.5 395.75,-441.5 395.75,-447.5 389.75,-453.5 383.75,-453.5\"/>\n",
       "<text text-anchor=\"start\" x=\"249\" y=\"-436.2\" font-family=\"Helvetica,sans-Serif\" font-size=\"14.00\">locations_Taipei ≤ 0.5</text>\n",
       "<text text-anchor=\"start\" x=\"281.25\" y=\"-419.7\" font-family=\"Helvetica,sans-Serif\" font-size=\"14.00\">gini = 0.236</text>\n",
       "<text text-anchor=\"start\" x=\"267\" y=\"-403.2\" font-family=\"Helvetica,sans-Serif\" font-size=\"14.00\">samples = 2128</text>\n",
       "<text text-anchor=\"start\" x=\"257.62\" y=\"-386.7\" font-family=\"Helvetica,sans-Serif\" font-size=\"14.00\">value = [1837, 291]</text>\n",
       "<text text-anchor=\"start\" x=\"286.12\" y=\"-370.2\" font-family=\"Helvetica,sans-Serif\" font-size=\"14.00\">class = no</text>\n",
       "</g>\n",
       "<!-- 12&#45;&gt;21 -->\n",
       "<g id=\"edge8\" class=\"edge\">\n",
       "<title>12&#45;&gt;21</title>\n",
       "<path fill=\"none\" stroke=\"black\" d=\"M421.06,-489.15C409.11,-479.86 396.43,-469.99 384.2,-460.47\"/>\n",
       "<polygon fill=\"black\" stroke=\"black\" points=\"386.87,-457.33 376.82,-453.95 382.57,-462.86 386.87,-457.33\"/>\n",
       "</g>\n",
       "<!-- 22 -->\n",
       "<g id=\"node12\" class=\"node\">\n",
       "<title>22</title>\n",
       "<path fill=\"#eeaf81\" stroke=\"black\" d=\"M531,-445.25C531,-445.25 425.75,-445.25 425.75,-445.25 419.75,-445.25 413.75,-439.25 413.75,-433.25 413.75,-433.25 413.75,-383.25 413.75,-383.25 413.75,-377.25 419.75,-371.25 425.75,-371.25 425.75,-371.25 531,-371.25 531,-371.25 537,-371.25 543,-377.25 543,-383.25 543,-383.25 543,-433.25 543,-433.25 543,-439.25 537,-445.25 531,-445.25\"/>\n",
       "<text text-anchor=\"start\" x=\"441.25\" y=\"-427.95\" font-family=\"Helvetica,sans-Serif\" font-size=\"14.00\">gini = 0.392</text>\n",
       "<text text-anchor=\"start\" x=\"431.12\" y=\"-411.45\" font-family=\"Helvetica,sans-Serif\" font-size=\"14.00\">samples = 628</text>\n",
       "<text text-anchor=\"start\" x=\"421.75\" y=\"-394.95\" font-family=\"Helvetica,sans-Serif\" font-size=\"14.00\">value = [460, 168]</text>\n",
       "<text text-anchor=\"start\" x=\"446.12\" y=\"-378.45\" font-family=\"Helvetica,sans-Serif\" font-size=\"14.00\">class = no</text>\n",
       "</g>\n",
       "<!-- 12&#45;&gt;22 -->\n",
       "<g id=\"edge11\" class=\"edge\">\n",
       "<title>12&#45;&gt;22</title>\n",
       "<path fill=\"none\" stroke=\"black\" d=\"M478.38,-489.15C478.38,-478.49 478.38,-467.06 478.38,-456.29\"/>\n",
       "<polygon fill=\"black\" stroke=\"black\" points=\"481.88,-456.36 478.38,-446.36 474.88,-456.36 481.88,-456.36\"/>\n",
       "</g>\n",
       "<!-- 29 -->\n",
       "<g id=\"node10\" class=\"node\">\n",
       "<title>29</title>\n",
       "<path fill=\"#eb9d64\" stroke=\"black\" d=\"M236,-318.75C236,-318.75 130.75,-318.75 130.75,-318.75 124.75,-318.75 118.75,-312.75 118.75,-306.75 118.75,-306.75 118.75,-256.75 118.75,-256.75 118.75,-250.75 124.75,-244.75 130.75,-244.75 130.75,-244.75 236,-244.75 236,-244.75 242,-244.75 248,-250.75 248,-256.75 248,-256.75 248,-306.75 248,-306.75 248,-312.75 242,-318.75 236,-318.75\"/>\n",
       "<text text-anchor=\"start\" x=\"146.25\" y=\"-301.45\" font-family=\"Helvetica,sans-Serif\" font-size=\"14.00\">gini = 0.295</text>\n",
       "<text text-anchor=\"start\" x=\"132\" y=\"-284.95\" font-family=\"Helvetica,sans-Serif\" font-size=\"14.00\">samples = 1017</text>\n",
       "<text text-anchor=\"start\" x=\"126.75\" y=\"-268.45\" font-family=\"Helvetica,sans-Serif\" font-size=\"14.00\">value = [834, 183]</text>\n",
       "<text text-anchor=\"start\" x=\"151.12\" y=\"-251.95\" font-family=\"Helvetica,sans-Serif\" font-size=\"14.00\">class = no</text>\n",
       "</g>\n",
       "<!-- 21&#45;&gt;29 -->\n",
       "<g id=\"edge9\" class=\"edge\">\n",
       "<title>21&#45;&gt;29</title>\n",
       "<path fill=\"none\" stroke=\"black\" d=\"M270.02,-362.65C257.11,-350.75 243.19,-337.91 230.36,-326.08\"/>\n",
       "<polygon fill=\"black\" stroke=\"black\" points=\"233.25,-324.06 223.53,-319.86 228.5,-329.21 233.25,-324.06\"/>\n",
       "</g>\n",
       "<!-- 30 -->\n",
       "<g id=\"node11\" class=\"node\">\n",
       "<title>30</title>\n",
       "<path fill=\"#e88f4e\" stroke=\"black\" d=\"M391.12,-318.75C391.12,-318.75 277.62,-318.75 277.62,-318.75 271.62,-318.75 265.62,-312.75 265.62,-306.75 265.62,-306.75 265.62,-256.75 265.62,-256.75 265.62,-250.75 271.62,-244.75 277.62,-244.75 277.62,-244.75 391.12,-244.75 391.12,-244.75 397.12,-244.75 403.12,-250.75 403.12,-256.75 403.12,-256.75 403.12,-306.75 403.12,-306.75 403.12,-312.75 397.12,-318.75 391.12,-318.75\"/>\n",
       "<text text-anchor=\"start\" x=\"297.25\" y=\"-301.45\" font-family=\"Helvetica,sans-Serif\" font-size=\"14.00\">gini = 0.176</text>\n",
       "<text text-anchor=\"start\" x=\"283\" y=\"-284.95\" font-family=\"Helvetica,sans-Serif\" font-size=\"14.00\">samples = 1111</text>\n",
       "<text text-anchor=\"start\" x=\"273.62\" y=\"-268.45\" font-family=\"Helvetica,sans-Serif\" font-size=\"14.00\">value = [1003, 108]</text>\n",
       "<text text-anchor=\"start\" x=\"302.12\" y=\"-251.95\" font-family=\"Helvetica,sans-Serif\" font-size=\"14.00\">class = no</text>\n",
       "</g>\n",
       "<!-- 21&#45;&gt;30 -->\n",
       "<g id=\"edge10\" class=\"edge\">\n",
       "<title>21&#45;&gt;30</title>\n",
       "<path fill=\"none\" stroke=\"black\" d=\"M324.11,-362.65C325.49,-351.87 326.98,-340.32 328.37,-329.45\"/>\n",
       "<polygon fill=\"black\" stroke=\"black\" points=\"331.93,-330.22 329.73,-319.86 324.99,-329.33 331.93,-330.22\"/>\n",
       "</g>\n",
       "<!-- 3 -->\n",
       "<g id=\"node14\" class=\"node\">\n",
       "<title>3</title>\n",
       "<path fill=\"#efb083\" stroke=\"black\" d=\"M746.75,-706.5C746.75,-706.5 586,-706.5 586,-706.5 580,-706.5 574,-700.5 574,-694.5 574,-694.5 574,-628 574,-628 574,-622 580,-616 586,-616 586,-616 746.75,-616 746.75,-616 752.75,-616 758.75,-622 758.75,-628 758.75,-628 758.75,-694.5 758.75,-694.5 758.75,-700.5 752.75,-706.5 746.75,-706.5\"/>\n",
       "<text text-anchor=\"start\" x=\"582\" y=\"-689.2\" font-family=\"Helvetica,sans-Serif\" font-size=\"14.00\">registry_to_use_time ≤ 2.5</text>\n",
       "<text text-anchor=\"start\" x=\"629.25\" y=\"-672.7\" font-family=\"Helvetica,sans-Serif\" font-size=\"14.00\">gini = 0.396</text>\n",
       "<text text-anchor=\"start\" x=\"615\" y=\"-656.2\" font-family=\"Helvetica,sans-Serif\" font-size=\"14.00\">samples = 1262</text>\n",
       "<text text-anchor=\"start\" x=\"609.75\" y=\"-639.7\" font-family=\"Helvetica,sans-Serif\" font-size=\"14.00\">value = [919, 343]</text>\n",
       "<text text-anchor=\"start\" x=\"634.12\" y=\"-623.2\" font-family=\"Helvetica,sans-Serif\" font-size=\"14.00\">class = no</text>\n",
       "</g>\n",
       "<!-- 2&#45;&gt;3 -->\n",
       "<g id=\"edge13\" class=\"edge\">\n",
       "<title>2&#45;&gt;3</title>\n",
       "<path fill=\"none\" stroke=\"black\" d=\"M666.38,-742.15C666.38,-734.29 666.38,-726.01 666.38,-717.89\"/>\n",
       "<polygon fill=\"black\" stroke=\"black\" points=\"669.88,-717.95 666.38,-707.95 662.88,-717.95 669.88,-717.95\"/>\n",
       "</g>\n",
       "<!-- 4 -->\n",
       "<g id=\"node27\" class=\"node\">\n",
       "<title>4</title>\n",
       "<path fill=\"#c1e0f7\" stroke=\"black\" d=\"M1175,-706.5C1175,-706.5 1069.75,-706.5 1069.75,-706.5 1063.75,-706.5 1057.75,-700.5 1057.75,-694.5 1057.75,-694.5 1057.75,-628 1057.75,-628 1057.75,-622 1063.75,-616 1069.75,-616 1069.75,-616 1175,-616 1175,-616 1181,-616 1187,-622 1187,-628 1187,-628 1187,-694.5 1187,-694.5 1187,-700.5 1181,-706.5 1175,-706.5\"/>\n",
       "<text text-anchor=\"start\" x=\"1088.62\" y=\"-689.2\" font-family=\"Helvetica,sans-Serif\" font-size=\"14.00\">age ≤ 50.5</text>\n",
       "<text text-anchor=\"start\" x=\"1085.25\" y=\"-672.7\" font-family=\"Helvetica,sans-Serif\" font-size=\"14.00\">gini = 0.483</text>\n",
       "<text text-anchor=\"start\" x=\"1071\" y=\"-656.2\" font-family=\"Helvetica,sans-Serif\" font-size=\"14.00\">samples = 1031</text>\n",
       "<text text-anchor=\"start\" x=\"1065.75\" y=\"-639.7\" font-family=\"Helvetica,sans-Serif\" font-size=\"14.00\">value = [420, 611]</text>\n",
       "<text text-anchor=\"start\" x=\"1086.75\" y=\"-623.2\" font-family=\"Helvetica,sans-Serif\" font-size=\"14.00\">class = yes</text>\n",
       "</g>\n",
       "<!-- 2&#45;&gt;4 -->\n",
       "<g id=\"edge26\" class=\"edge\">\n",
       "<title>2&#45;&gt;4</title>\n",
       "<path fill=\"none\" stroke=\"black\" d=\"M741.42,-766.26C825.91,-743.19 962.42,-705.92 1047.03,-682.82\"/>\n",
       "<polygon fill=\"black\" stroke=\"black\" points=\"1047.87,-685.95 1056.6,-679.94 1046.03,-679.19 1047.87,-685.95\"/>\n",
       "</g>\n",
       "<!-- 9 -->\n",
       "<g id=\"node15\" class=\"node\">\n",
       "<title>9</title>\n",
       "<path fill=\"#4ea7e8\" stroke=\"black\" d=\"M664.62,-571.75C664.62,-571.75 584.12,-571.75 584.12,-571.75 578.12,-571.75 572.12,-565.75 572.12,-559.75 572.12,-559.75 572.12,-509.75 572.12,-509.75 572.12,-503.75 578.12,-497.75 584.12,-497.75 584.12,-497.75 664.62,-497.75 664.62,-497.75 670.62,-497.75 676.62,-503.75 676.62,-509.75 676.62,-509.75 676.62,-559.75 676.62,-559.75 676.62,-565.75 670.62,-571.75 664.62,-571.75\"/>\n",
       "<text text-anchor=\"start\" x=\"587.25\" y=\"-554.45\" font-family=\"Helvetica,sans-Serif\" font-size=\"14.00\">gini = 0.171</text>\n",
       "<text text-anchor=\"start\" x=\"581.25\" y=\"-537.95\" font-family=\"Helvetica,sans-Serif\" font-size=\"14.00\">samples = 53</text>\n",
       "<text text-anchor=\"start\" x=\"580.12\" y=\"-521.45\" font-family=\"Helvetica,sans-Serif\" font-size=\"14.00\">value = [5, 48]</text>\n",
       "<text text-anchor=\"start\" x=\"588.75\" y=\"-504.95\" font-family=\"Helvetica,sans-Serif\" font-size=\"14.00\">class = yes</text>\n",
       "</g>\n",
       "<!-- 3&#45;&gt;9 -->\n",
       "<g id=\"edge14\" class=\"edge\">\n",
       "<title>3&#45;&gt;9</title>\n",
       "<path fill=\"none\" stroke=\"black\" d=\"M651.33,-615.65C647.66,-604.76 643.72,-593.08 640.01,-582.11\"/>\n",
       "<polygon fill=\"black\" stroke=\"black\" points=\"643.07,-581.21 636.56,-572.86 636.44,-583.45 643.07,-581.21\"/>\n",
       "</g>\n",
       "<!-- 10 -->\n",
       "<g id=\"node16\" class=\"node\">\n",
       "<title>10</title>\n",
       "<path fill=\"#edaa79\" stroke=\"black\" d=\"M867.75,-580C867.75,-580 707,-580 707,-580 701,-580 695,-574 695,-568 695,-568 695,-501.5 695,-501.5 695,-495.5 701,-489.5 707,-489.5 707,-489.5 867.75,-489.5 867.75,-489.5 873.75,-489.5 879.75,-495.5 879.75,-501.5 879.75,-501.5 879.75,-568 879.75,-568 879.75,-574 873.75,-580 867.75,-580\"/>\n",
       "<text text-anchor=\"start\" x=\"703\" y=\"-562.7\" font-family=\"Helvetica,sans-Serif\" font-size=\"14.00\">registry_to_use_time ≤ 3.5</text>\n",
       "<text text-anchor=\"start\" x=\"750.25\" y=\"-546.2\" font-family=\"Helvetica,sans-Serif\" font-size=\"14.00\">gini = 0.369</text>\n",
       "<text text-anchor=\"start\" x=\"736\" y=\"-529.7\" font-family=\"Helvetica,sans-Serif\" font-size=\"14.00\">samples = 1209</text>\n",
       "<text text-anchor=\"start\" x=\"730.75\" y=\"-513.2\" font-family=\"Helvetica,sans-Serif\" font-size=\"14.00\">value = [914, 295]</text>\n",
       "<text text-anchor=\"start\" x=\"755.12\" y=\"-496.7\" font-family=\"Helvetica,sans-Serif\" font-size=\"14.00\">class = no</text>\n",
       "</g>\n",
       "<!-- 3&#45;&gt;10 -->\n",
       "<g id=\"edge15\" class=\"edge\">\n",
       "<title>3&#45;&gt;10</title>\n",
       "<path fill=\"none\" stroke=\"black\" d=\"M709.72,-615.65C718.41,-606.71 727.61,-597.25 736.52,-588.07\"/>\n",
       "<polygon fill=\"black\" stroke=\"black\" points=\"738.47,-591.06 742.93,-581.45 733.45,-586.18 738.47,-591.06\"/>\n",
       "</g>\n",
       "<!-- 13 -->\n",
       "<g id=\"node17\" class=\"node\">\n",
       "<title>13</title>\n",
       "<path fill=\"#e99254\" stroke=\"black\" d=\"M699.5,-453.5C699.5,-453.5 573.25,-453.5 573.25,-453.5 567.25,-453.5 561.25,-447.5 561.25,-441.5 561.25,-441.5 561.25,-375 561.25,-375 561.25,-369 567.25,-363 573.25,-363 573.25,-363 699.5,-363 699.5,-363 705.5,-363 711.5,-369 711.5,-375 711.5,-375 711.5,-441.5 711.5,-441.5 711.5,-447.5 705.5,-453.5 699.5,-453.5\"/>\n",
       "<text text-anchor=\"start\" x=\"569.25\" y=\"-436.2\" font-family=\"Helvetica,sans-Serif\" font-size=\"14.00\">balance ≤ 43031.969</text>\n",
       "<text text-anchor=\"start\" x=\"603.38\" y=\"-419.7\" font-family=\"Helvetica,sans-Serif\" font-size=\"14.00\">gini = 0.21</text>\n",
       "<text text-anchor=\"start\" x=\"589.12\" y=\"-403.2\" font-family=\"Helvetica,sans-Serif\" font-size=\"14.00\">samples = 554</text>\n",
       "<text text-anchor=\"start\" x=\"583.88\" y=\"-386.7\" font-family=\"Helvetica,sans-Serif\" font-size=\"14.00\">value = [488, 66]</text>\n",
       "<text text-anchor=\"start\" x=\"604.12\" y=\"-370.2\" font-family=\"Helvetica,sans-Serif\" font-size=\"14.00\">class = no</text>\n",
       "</g>\n",
       "<!-- 10&#45;&gt;13 -->\n",
       "<g id=\"edge16\" class=\"edge\">\n",
       "<title>10&#45;&gt;13</title>\n",
       "<path fill=\"none\" stroke=\"black\" d=\"M733.29,-489.15C722.12,-479.95 710.27,-470.18 698.83,-460.75\"/>\n",
       "<polygon fill=\"black\" stroke=\"black\" points=\"701.54,-457.61 691.59,-453.95 697.08,-463.01 701.54,-457.61\"/>\n",
       "</g>\n",
       "<!-- 14 -->\n",
       "<g id=\"node20\" class=\"node\">\n",
       "<title>14</title>\n",
       "<path fill=\"#f3c5a3\" stroke=\"black\" d=\"M847,-453.5C847,-453.5 741.75,-453.5 741.75,-453.5 735.75,-453.5 729.75,-447.5 729.75,-441.5 729.75,-441.5 729.75,-375 729.75,-375 729.75,-369 735.75,-363 741.75,-363 741.75,-363 847,-363 847,-363 853,-363 859,-369 859,-375 859,-375 859,-441.5 859,-441.5 859,-447.5 853,-453.5 847,-453.5\"/>\n",
       "<text text-anchor=\"start\" x=\"760.62\" y=\"-436.2\" font-family=\"Helvetica,sans-Serif\" font-size=\"14.00\">age ≤ 58.5</text>\n",
       "<text text-anchor=\"start\" x=\"757.25\" y=\"-419.7\" font-family=\"Helvetica,sans-Serif\" font-size=\"14.00\">gini = 0.455</text>\n",
       "<text text-anchor=\"start\" x=\"747.12\" y=\"-403.2\" font-family=\"Helvetica,sans-Serif\" font-size=\"14.00\">samples = 655</text>\n",
       "<text text-anchor=\"start\" x=\"737.75\" y=\"-386.7\" font-family=\"Helvetica,sans-Serif\" font-size=\"14.00\">value = [426, 229]</text>\n",
       "<text text-anchor=\"start\" x=\"762.12\" y=\"-370.2\" font-family=\"Helvetica,sans-Serif\" font-size=\"14.00\">class = no</text>\n",
       "</g>\n",
       "<!-- 10&#45;&gt;14 -->\n",
       "<g id=\"edge19\" class=\"edge\">\n",
       "<title>10&#45;&gt;14</title>\n",
       "<path fill=\"none\" stroke=\"black\" d=\"M789.88,-489.15C790.32,-481.29 790.79,-473.01 791.25,-464.89\"/>\n",
       "<polygon fill=\"black\" stroke=\"black\" points=\"794.79,-465.13 791.86,-454.95 787.81,-464.74 794.79,-465.13\"/>\n",
       "</g>\n",
       "<!-- 25 -->\n",
       "<g id=\"node18\" class=\"node\">\n",
       "<title>25</title>\n",
       "<path fill=\"#e68640\" stroke=\"black\" d=\"M545.88,-318.75C545.88,-318.75 448.88,-318.75 448.88,-318.75 442.88,-318.75 436.88,-312.75 436.88,-306.75 436.88,-306.75 436.88,-256.75 436.88,-256.75 436.88,-250.75 442.88,-244.75 448.88,-244.75 448.88,-244.75 545.88,-244.75 545.88,-244.75 551.88,-244.75 557.88,-250.75 557.88,-256.75 557.88,-256.75 557.88,-306.75 557.88,-306.75 557.88,-312.75 551.88,-318.75 545.88,-318.75\"/>\n",
       "<text text-anchor=\"start\" x=\"460.25\" y=\"-301.45\" font-family=\"Helvetica,sans-Serif\" font-size=\"14.00\">gini = 0.069</text>\n",
       "<text text-anchor=\"start\" x=\"450.12\" y=\"-284.95\" font-family=\"Helvetica,sans-Serif\" font-size=\"14.00\">samples = 307</text>\n",
       "<text text-anchor=\"start\" x=\"444.88\" y=\"-268.45\" font-family=\"Helvetica,sans-Serif\" font-size=\"14.00\">value = [296, 11]</text>\n",
       "<text text-anchor=\"start\" x=\"465.12\" y=\"-251.95\" font-family=\"Helvetica,sans-Serif\" font-size=\"14.00\">class = no</text>\n",
       "</g>\n",
       "<!-- 13&#45;&gt;25 -->\n",
       "<g id=\"edge17\" class=\"edge\">\n",
       "<title>13&#45;&gt;25</title>\n",
       "<path fill=\"none\" stroke=\"black\" d=\"M586.59,-362.65C573.3,-350.75 558.96,-337.91 545.75,-326.08\"/>\n",
       "<polygon fill=\"black\" stroke=\"black\" points=\"548.47,-323.92 538.69,-319.86 543.8,-329.13 548.47,-323.92\"/>\n",
       "</g>\n",
       "<!-- 26 -->\n",
       "<g id=\"node19\" class=\"node\">\n",
       "<title>26</title>\n",
       "<path fill=\"#eca572\" stroke=\"black\" d=\"M684.88,-318.75C684.88,-318.75 587.88,-318.75 587.88,-318.75 581.88,-318.75 575.88,-312.75 575.88,-306.75 575.88,-306.75 575.88,-256.75 575.88,-256.75 575.88,-250.75 581.88,-244.75 587.88,-244.75 587.88,-244.75 684.88,-244.75 684.88,-244.75 690.88,-244.75 696.88,-250.75 696.88,-256.75 696.88,-256.75 696.88,-306.75 696.88,-306.75 696.88,-312.75 690.88,-318.75 684.88,-318.75\"/>\n",
       "<text text-anchor=\"start\" x=\"599.25\" y=\"-301.45\" font-family=\"Helvetica,sans-Serif\" font-size=\"14.00\">gini = 0.346</text>\n",
       "<text text-anchor=\"start\" x=\"589.12\" y=\"-284.95\" font-family=\"Helvetica,sans-Serif\" font-size=\"14.00\">samples = 247</text>\n",
       "<text text-anchor=\"start\" x=\"583.88\" y=\"-268.45\" font-family=\"Helvetica,sans-Serif\" font-size=\"14.00\">value = [192, 55]</text>\n",
       "<text text-anchor=\"start\" x=\"604.12\" y=\"-251.95\" font-family=\"Helvetica,sans-Serif\" font-size=\"14.00\">class = no</text>\n",
       "</g>\n",
       "<!-- 13&#45;&gt;26 -->\n",
       "<g id=\"edge18\" class=\"edge\">\n",
       "<title>13&#45;&gt;26</title>\n",
       "<path fill=\"none\" stroke=\"black\" d=\"M636.38,-362.65C636.38,-351.99 636.38,-340.56 636.38,-329.79\"/>\n",
       "<polygon fill=\"black\" stroke=\"black\" points=\"639.88,-329.86 636.38,-319.86 632.88,-329.86 639.88,-329.86\"/>\n",
       "</g>\n",
       "<!-- 19 -->\n",
       "<g id=\"node21\" class=\"node\">\n",
       "<title>19</title>\n",
       "<path fill=\"#f8deca\" stroke=\"black\" d=\"M860.25,-327C860.25,-327 726.5,-327 726.5,-327 720.5,-327 714.5,-321 714.5,-315 714.5,-315 714.5,-248.5 714.5,-248.5 714.5,-242.5 720.5,-236.5 726.5,-236.5 726.5,-236.5 860.25,-236.5 860.25,-236.5 866.25,-236.5 872.25,-242.5 872.25,-248.5 872.25,-248.5 872.25,-315 872.25,-315 872.25,-321 866.25,-327 860.25,-327\"/>\n",
       "<text text-anchor=\"start\" x=\"722.5\" y=\"-309.7\" font-family=\"Helvetica,sans-Serif\" font-size=\"14.00\">locations_Tainan ≤ 0.5</text>\n",
       "<text text-anchor=\"start\" x=\"756.25\" y=\"-293.2\" font-family=\"Helvetica,sans-Serif\" font-size=\"14.00\">gini = 0.488</text>\n",
       "<text text-anchor=\"start\" x=\"746.12\" y=\"-276.7\" font-family=\"Helvetica,sans-Serif\" font-size=\"14.00\">samples = 470</text>\n",
       "<text text-anchor=\"start\" x=\"736.75\" y=\"-260.2\" font-family=\"Helvetica,sans-Serif\" font-size=\"14.00\">value = [271, 199]</text>\n",
       "<text text-anchor=\"start\" x=\"761.12\" y=\"-243.7\" font-family=\"Helvetica,sans-Serif\" font-size=\"14.00\">class = no</text>\n",
       "</g>\n",
       "<!-- 14&#45;&gt;19 -->\n",
       "<g id=\"edge20\" class=\"edge\">\n",
       "<title>14&#45;&gt;19</title>\n",
       "<path fill=\"none\" stroke=\"black\" d=\"M794.02,-362.65C793.95,-354.79 793.89,-346.51 793.82,-338.39\"/>\n",
       "<polygon fill=\"black\" stroke=\"black\" points=\"797.31,-338.42 793.73,-328.45 790.31,-338.48 797.31,-338.42\"/>\n",
       "</g>\n",
       "<!-- 20 -->\n",
       "<g id=\"node26\" class=\"node\">\n",
       "<title>20</title>\n",
       "<path fill=\"#ea995f\" stroke=\"black\" d=\"M998.88,-318.75C998.88,-318.75 901.88,-318.75 901.88,-318.75 895.88,-318.75 889.88,-312.75 889.88,-306.75 889.88,-306.75 889.88,-256.75 889.88,-256.75 889.88,-250.75 895.88,-244.75 901.88,-244.75 901.88,-244.75 998.88,-244.75 998.88,-244.75 1004.88,-244.75 1010.88,-250.75 1010.88,-256.75 1010.88,-256.75 1010.88,-306.75 1010.88,-306.75 1010.88,-312.75 1004.88,-318.75 998.88,-318.75\"/>\n",
       "<text text-anchor=\"start\" x=\"913.25\" y=\"-301.45\" font-family=\"Helvetica,sans-Serif\" font-size=\"14.00\">gini = 0.272</text>\n",
       "<text text-anchor=\"start\" x=\"903.12\" y=\"-284.95\" font-family=\"Helvetica,sans-Serif\" font-size=\"14.00\">samples = 185</text>\n",
       "<text text-anchor=\"start\" x=\"897.88\" y=\"-268.45\" font-family=\"Helvetica,sans-Serif\" font-size=\"14.00\">value = [155, 30]</text>\n",
       "<text text-anchor=\"start\" x=\"918.12\" y=\"-251.95\" font-family=\"Helvetica,sans-Serif\" font-size=\"14.00\">class = no</text>\n",
       "</g>\n",
       "<!-- 14&#45;&gt;20 -->\n",
       "<g id=\"edge25\" class=\"edge\">\n",
       "<title>14&#45;&gt;20</title>\n",
       "<path fill=\"none\" stroke=\"black\" d=\"M850.25,-362.65C865.24,-350.7 881.41,-337.79 896.29,-325.92\"/>\n",
       "<polygon fill=\"black\" stroke=\"black\" points=\"898.25,-328.03 903.88,-319.06 893.88,-322.56 898.25,-328.03\"/>\n",
       "</g>\n",
       "<!-- 31 -->\n",
       "<g id=\"node22\" class=\"node\">\n",
       "<title>31</title>\n",
       "<path fill=\"#fdf3ec\" stroke=\"black\" d=\"M782.75,-200.5C782.75,-200.5 652,-200.5 652,-200.5 646,-200.5 640,-194.5 640,-188.5 640,-188.5 640,-122 640,-122 640,-116 646,-110 652,-110 652,-110 782.75,-110 782.75,-110 788.75,-110 794.75,-116 794.75,-122 794.75,-122 794.75,-188.5 794.75,-188.5 794.75,-194.5 788.75,-200.5 782.75,-200.5\"/>\n",
       "<text text-anchor=\"start\" x=\"648\" y=\"-183.2\" font-family=\"Helvetica,sans-Serif\" font-size=\"14.00\">locations_Taipei ≤ 0.5</text>\n",
       "<text text-anchor=\"start\" x=\"680.25\" y=\"-166.7\" font-family=\"Helvetica,sans-Serif\" font-size=\"14.00\">gini = 0.499</text>\n",
       "<text text-anchor=\"start\" x=\"670.12\" y=\"-150.2\" font-family=\"Helvetica,sans-Serif\" font-size=\"14.00\">samples = 345</text>\n",
       "<text text-anchor=\"start\" x=\"660.75\" y=\"-133.7\" font-family=\"Helvetica,sans-Serif\" font-size=\"14.00\">value = [181, 164]</text>\n",
       "<text text-anchor=\"start\" x=\"685.12\" y=\"-117.2\" font-family=\"Helvetica,sans-Serif\" font-size=\"14.00\">class = no</text>\n",
       "</g>\n",
       "<!-- 19&#45;&gt;31 -->\n",
       "<g id=\"edge21\" class=\"edge\">\n",
       "<title>19&#45;&gt;31</title>\n",
       "<path fill=\"none\" stroke=\"black\" d=\"M766.15,-236.15C761.02,-227.75 755.61,-218.88 750.32,-210.23\"/>\n",
       "<polygon fill=\"black\" stroke=\"black\" points=\"752.86,-208.66 744.66,-201.95 746.89,-212.31 752.86,-208.66\"/>\n",
       "</g>\n",
       "<!-- 32 -->\n",
       "<g id=\"node25\" class=\"node\">\n",
       "<title>32</title>\n",
       "<path fill=\"#efb286\" stroke=\"black\" d=\"M913.75,-192.25C913.75,-192.25 825,-192.25 825,-192.25 819,-192.25 813,-186.25 813,-180.25 813,-180.25 813,-130.25 813,-130.25 813,-124.25 819,-118.25 825,-118.25 825,-118.25 913.75,-118.25 913.75,-118.25 919.75,-118.25 925.75,-124.25 925.75,-130.25 925.75,-130.25 925.75,-180.25 925.75,-180.25 925.75,-186.25 919.75,-192.25 913.75,-192.25\"/>\n",
       "<text text-anchor=\"start\" x=\"832.25\" y=\"-174.95\" font-family=\"Helvetica,sans-Serif\" font-size=\"14.00\">gini = 0.403</text>\n",
       "<text text-anchor=\"start\" x=\"822.12\" y=\"-158.45\" font-family=\"Helvetica,sans-Serif\" font-size=\"14.00\">samples = 125</text>\n",
       "<text text-anchor=\"start\" x=\"821\" y=\"-141.95\" font-family=\"Helvetica,sans-Serif\" font-size=\"14.00\">value = [90, 35]</text>\n",
       "<text text-anchor=\"start\" x=\"837.12\" y=\"-125.45\" font-family=\"Helvetica,sans-Serif\" font-size=\"14.00\">class = no</text>\n",
       "</g>\n",
       "<!-- 19&#45;&gt;32 -->\n",
       "<g id=\"edge24\" class=\"edge\">\n",
       "<title>19&#45;&gt;32</title>\n",
       "<path fill=\"none\" stroke=\"black\" d=\"M820.6,-236.15C827.45,-224.93 834.82,-212.86 841.69,-201.6\"/>\n",
       "<polygon fill=\"black\" stroke=\"black\" points=\"845.11,-203.71 847.33,-193.36 839.14,-200.07 845.11,-203.71\"/>\n",
       "</g>\n",
       "<!-- 33 -->\n",
       "<g id=\"node23\" class=\"node\">\n",
       "<title>33</title>\n",
       "<path fill=\"#acd6f4\" stroke=\"black\" d=\"M694.75,-74C694.75,-74 606,-74 606,-74 600,-74 594,-68 594,-62 594,-62 594,-12 594,-12 594,-6 600,0 606,0 606,0 694.75,0 694.75,0 700.75,0 706.75,-6 706.75,-12 706.75,-12 706.75,-62 706.75,-62 706.75,-68 700.75,-74 694.75,-74\"/>\n",
       "<text text-anchor=\"start\" x=\"613.25\" y=\"-56.7\" font-family=\"Helvetica,sans-Serif\" font-size=\"14.00\">gini = 0.465</text>\n",
       "<text text-anchor=\"start\" x=\"603.12\" y=\"-40.2\" font-family=\"Helvetica,sans-Serif\" font-size=\"14.00\">samples = 125</text>\n",
       "<text text-anchor=\"start\" x=\"602\" y=\"-23.7\" font-family=\"Helvetica,sans-Serif\" font-size=\"14.00\">value = [46, 79]</text>\n",
       "<text text-anchor=\"start\" x=\"614.75\" y=\"-7.2\" font-family=\"Helvetica,sans-Serif\" font-size=\"14.00\">class = yes</text>\n",
       "</g>\n",
       "<!-- 31&#45;&gt;33 -->\n",
       "<g id=\"edge22\" class=\"edge\">\n",
       "<title>31&#45;&gt;33</title>\n",
       "<path fill=\"none\" stroke=\"black\" d=\"M691.66,-109.64C686.78,-101.17 681.67,-92.3 676.77,-83.8\"/>\n",
       "<polygon fill=\"black\" stroke=\"black\" points=\"679.38,-82.31 671.35,-75.39 673.31,-85.81 679.38,-82.31\"/>\n",
       "</g>\n",
       "<!-- 34 -->\n",
       "<g id=\"node24\" class=\"node\">\n",
       "<title>34</title>\n",
       "<path fill=\"#f5d0b6\" stroke=\"black\" d=\"M833.88,-74C833.88,-74 736.88,-74 736.88,-74 730.88,-74 724.88,-68 724.88,-62 724.88,-62 724.88,-12 724.88,-12 724.88,-6 730.88,0 736.88,0 736.88,0 833.88,0 833.88,0 839.88,0 845.88,-6 845.88,-12 845.88,-12 845.88,-62 845.88,-62 845.88,-68 839.88,-74 833.88,-74\"/>\n",
       "<text text-anchor=\"start\" x=\"748.25\" y=\"-56.7\" font-family=\"Helvetica,sans-Serif\" font-size=\"14.00\">gini = 0.474</text>\n",
       "<text text-anchor=\"start\" x=\"738.12\" y=\"-40.2\" font-family=\"Helvetica,sans-Serif\" font-size=\"14.00\">samples = 220</text>\n",
       "<text text-anchor=\"start\" x=\"732.88\" y=\"-23.7\" font-family=\"Helvetica,sans-Serif\" font-size=\"14.00\">value = [135, 85]</text>\n",
       "<text text-anchor=\"start\" x=\"753.12\" y=\"-7.2\" font-family=\"Helvetica,sans-Serif\" font-size=\"14.00\">class = no</text>\n",
       "</g>\n",
       "<!-- 31&#45;&gt;34 -->\n",
       "<g id=\"edge23\" class=\"edge\">\n",
       "<title>31&#45;&gt;34</title>\n",
       "<path fill=\"none\" stroke=\"black\" d=\"M743.47,-109.64C748.42,-101.17 753.61,-92.3 758.59,-83.8\"/>\n",
       "<polygon fill=\"black\" stroke=\"black\" points=\"762.06,-85.79 764.09,-75.39 756.02,-82.26 762.06,-85.79\"/>\n",
       "</g>\n",
       "<!-- 7 -->\n",
       "<g id=\"node28\" class=\"node\">\n",
       "<title>7</title>\n",
       "<path fill=\"#fbeee4\" stroke=\"black\" d=\"M1202.75,-580C1202.75,-580 1042,-580 1042,-580 1036,-580 1030,-574 1030,-568 1030,-568 1030,-501.5 1030,-501.5 1030,-495.5 1036,-489.5 1042,-489.5 1042,-489.5 1202.75,-489.5 1202.75,-489.5 1208.75,-489.5 1214.75,-495.5 1214.75,-501.5 1214.75,-501.5 1214.75,-568 1214.75,-568 1214.75,-574 1208.75,-580 1202.75,-580\"/>\n",
       "<text text-anchor=\"start\" x=\"1038\" y=\"-562.7\" font-family=\"Helvetica,sans-Serif\" font-size=\"14.00\">registry_to_use_time ≤ 3.5</text>\n",
       "<text text-anchor=\"start\" x=\"1085.25\" y=\"-546.2\" font-family=\"Helvetica,sans-Serif\" font-size=\"14.00\">gini = 0.497</text>\n",
       "<text text-anchor=\"start\" x=\"1075.12\" y=\"-529.7\" font-family=\"Helvetica,sans-Serif\" font-size=\"14.00\">samples = 692</text>\n",
       "<text text-anchor=\"start\" x=\"1065.75\" y=\"-513.2\" font-family=\"Helvetica,sans-Serif\" font-size=\"14.00\">value = [371, 321]</text>\n",
       "<text text-anchor=\"start\" x=\"1090.12\" y=\"-496.7\" font-family=\"Helvetica,sans-Serif\" font-size=\"14.00\">class = no</text>\n",
       "</g>\n",
       "<!-- 4&#45;&gt;7 -->\n",
       "<g id=\"edge27\" class=\"edge\">\n",
       "<title>4&#45;&gt;7</title>\n",
       "<path fill=\"none\" stroke=\"black\" d=\"M1122.38,-615.65C1122.38,-607.79 1122.38,-599.51 1122.38,-591.39\"/>\n",
       "<polygon fill=\"black\" stroke=\"black\" points=\"1125.88,-591.45 1122.38,-581.45 1118.88,-591.45 1125.88,-591.45\"/>\n",
       "</g>\n",
       "<!-- 8 -->\n",
       "<g id=\"node35\" class=\"node\">\n",
       "<title>8</title>\n",
       "<path fill=\"#5aaee9\" stroke=\"black\" d=\"M1341.88,-571.75C1341.88,-571.75 1244.88,-571.75 1244.88,-571.75 1238.88,-571.75 1232.88,-565.75 1232.88,-559.75 1232.88,-559.75 1232.88,-509.75 1232.88,-509.75 1232.88,-503.75 1238.88,-497.75 1244.88,-497.75 1244.88,-497.75 1341.88,-497.75 1341.88,-497.75 1347.88,-497.75 1353.88,-503.75 1353.88,-509.75 1353.88,-509.75 1353.88,-559.75 1353.88,-559.75 1353.88,-565.75 1347.88,-571.75 1341.88,-571.75\"/>\n",
       "<text text-anchor=\"start\" x=\"1256.25\" y=\"-554.45\" font-family=\"Helvetica,sans-Serif\" font-size=\"14.00\">gini = 0.247</text>\n",
       "<text text-anchor=\"start\" x=\"1246.12\" y=\"-537.95\" font-family=\"Helvetica,sans-Serif\" font-size=\"14.00\">samples = 339</text>\n",
       "<text text-anchor=\"start\" x=\"1240.88\" y=\"-521.45\" font-family=\"Helvetica,sans-Serif\" font-size=\"14.00\">value = [49, 290]</text>\n",
       "<text text-anchor=\"start\" x=\"1257.75\" y=\"-504.95\" font-family=\"Helvetica,sans-Serif\" font-size=\"14.00\">class = yes</text>\n",
       "</g>\n",
       "<!-- 4&#45;&gt;8 -->\n",
       "<g id=\"edge34\" class=\"edge\">\n",
       "<title>4&#45;&gt;8</title>\n",
       "<path fill=\"none\" stroke=\"black\" d=\"M1183.63,-615.65C1200.36,-603.47 1218.44,-590.31 1235,-578.25\"/>\n",
       "<polygon fill=\"black\" stroke=\"black\" points=\"1236.49,-580.77 1242.51,-572.06 1232.37,-575.11 1236.49,-580.77\"/>\n",
       "</g>\n",
       "<!-- 15 -->\n",
       "<g id=\"node29\" class=\"node\">\n",
       "<title>15</title>\n",
       "<path fill=\"#f0b58b\" stroke=\"black\" d=\"M1202.75,-453.5C1202.75,-453.5 1042,-453.5 1042,-453.5 1036,-453.5 1030,-447.5 1030,-441.5 1030,-441.5 1030,-375 1030,-375 1030,-369 1036,-363 1042,-363 1042,-363 1202.75,-363 1202.75,-363 1208.75,-363 1214.75,-369 1214.75,-375 1214.75,-375 1214.75,-441.5 1214.75,-441.5 1214.75,-447.5 1208.75,-453.5 1202.75,-453.5\"/>\n",
       "<text text-anchor=\"start\" x=\"1038\" y=\"-436.2\" font-family=\"Helvetica,sans-Serif\" font-size=\"14.00\">registry_to_use_time ≤ 2.5</text>\n",
       "<text text-anchor=\"start\" x=\"1085.25\" y=\"-419.7\" font-family=\"Helvetica,sans-Serif\" font-size=\"14.00\">gini = 0.415</text>\n",
       "<text text-anchor=\"start\" x=\"1075.12\" y=\"-403.2\" font-family=\"Helvetica,sans-Serif\" font-size=\"14.00\">samples = 296</text>\n",
       "<text text-anchor=\"start\" x=\"1069.88\" y=\"-386.7\" font-family=\"Helvetica,sans-Serif\" font-size=\"14.00\">value = [209, 87]</text>\n",
       "<text text-anchor=\"start\" x=\"1090.12\" y=\"-370.2\" font-family=\"Helvetica,sans-Serif\" font-size=\"14.00\">class = no</text>\n",
       "</g>\n",
       "<!-- 7&#45;&gt;15 -->\n",
       "<g id=\"edge28\" class=\"edge\">\n",
       "<title>7&#45;&gt;15</title>\n",
       "<path fill=\"none\" stroke=\"black\" d=\"M1122.38,-489.15C1122.38,-481.29 1122.38,-473.01 1122.38,-464.89\"/>\n",
       "<polygon fill=\"black\" stroke=\"black\" points=\"1125.88,-464.95 1122.38,-454.95 1118.88,-464.95 1125.88,-464.95\"/>\n",
       "</g>\n",
       "<!-- 16 -->\n",
       "<g id=\"node32\" class=\"node\">\n",
       "<title>16</title>\n",
       "<path fill=\"#c2e1f7\" stroke=\"black\" d=\"M1416.75,-453.5C1416.75,-453.5 1286,-453.5 1286,-453.5 1280,-453.5 1274,-447.5 1274,-441.5 1274,-441.5 1274,-375 1274,-375 1274,-369 1280,-363 1286,-363 1286,-363 1416.75,-363 1416.75,-363 1422.75,-363 1428.75,-369 1428.75,-375 1428.75,-375 1428.75,-441.5 1428.75,-441.5 1428.75,-447.5 1422.75,-453.5 1416.75,-453.5\"/>\n",
       "<text text-anchor=\"start\" x=\"1282\" y=\"-436.2\" font-family=\"Helvetica,sans-Serif\" font-size=\"14.00\">locations_Taipei ≤ 0.5</text>\n",
       "<text text-anchor=\"start\" x=\"1314.25\" y=\"-419.7\" font-family=\"Helvetica,sans-Serif\" font-size=\"14.00\">gini = 0.483</text>\n",
       "<text text-anchor=\"start\" x=\"1304.12\" y=\"-403.2\" font-family=\"Helvetica,sans-Serif\" font-size=\"14.00\">samples = 396</text>\n",
       "<text text-anchor=\"start\" x=\"1294.75\" y=\"-386.7\" font-family=\"Helvetica,sans-Serif\" font-size=\"14.00\">value = [162, 234]</text>\n",
       "<text text-anchor=\"start\" x=\"1315.75\" y=\"-370.2\" font-family=\"Helvetica,sans-Serif\" font-size=\"14.00\">class = yes</text>\n",
       "</g>\n",
       "<!-- 7&#45;&gt;16 -->\n",
       "<g id=\"edge31\" class=\"edge\">\n",
       "<title>7&#45;&gt;16</title>\n",
       "<path fill=\"none\" stroke=\"black\" d=\"M1204.4,-489.15C1223.81,-478.6 1244.58,-467.31 1264.21,-456.64\"/>\n",
       "<polygon fill=\"black\" stroke=\"black\" points=\"1265.63,-459.31 1272.75,-451.45 1262.29,-453.16 1265.63,-459.31\"/>\n",
       "</g>\n",
       "<!-- 17 -->\n",
       "<g id=\"node30\" class=\"node\">\n",
       "<title>17</title>\n",
       "<path fill=\"#399de5\" stroke=\"black\" d=\"M1121.62,-318.75C1121.62,-318.75 1041.12,-318.75 1041.12,-318.75 1035.12,-318.75 1029.12,-312.75 1029.12,-306.75 1029.12,-306.75 1029.12,-256.75 1029.12,-256.75 1029.12,-250.75 1035.12,-244.75 1041.12,-244.75 1041.12,-244.75 1121.62,-244.75 1121.62,-244.75 1127.62,-244.75 1133.62,-250.75 1133.62,-256.75 1133.62,-256.75 1133.62,-306.75 1133.62,-306.75 1133.62,-312.75 1127.62,-318.75 1121.62,-318.75\"/>\n",
       "<text text-anchor=\"start\" x=\"1052.5\" y=\"-301.45\" font-family=\"Helvetica,sans-Serif\" font-size=\"14.00\">gini = 0.0</text>\n",
       "<text text-anchor=\"start\" x=\"1038.25\" y=\"-284.95\" font-family=\"Helvetica,sans-Serif\" font-size=\"14.00\">samples = 39</text>\n",
       "<text text-anchor=\"start\" x=\"1037.12\" y=\"-268.45\" font-family=\"Helvetica,sans-Serif\" font-size=\"14.00\">value = [0, 39]</text>\n",
       "<text text-anchor=\"start\" x=\"1045.75\" y=\"-251.95\" font-family=\"Helvetica,sans-Serif\" font-size=\"14.00\">class = yes</text>\n",
       "</g>\n",
       "<!-- 15&#45;&gt;17 -->\n",
       "<g id=\"edge29\" class=\"edge\">\n",
       "<title>15&#45;&gt;17</title>\n",
       "<path fill=\"none\" stroke=\"black\" d=\"M1107.69,-362.65C1104.1,-351.76 1100.26,-340.08 1096.64,-329.11\"/>\n",
       "<polygon fill=\"black\" stroke=\"black\" points=\"1099.72,-328.26 1093.27,-319.86 1093.07,-330.45 1099.72,-328.26\"/>\n",
       "</g>\n",
       "<!-- 18 -->\n",
       "<g id=\"node31\" class=\"node\">\n",
       "<title>18</title>\n",
       "<path fill=\"#eb9e66\" stroke=\"black\" d=\"M1260.88,-318.75C1260.88,-318.75 1163.88,-318.75 1163.88,-318.75 1157.88,-318.75 1151.88,-312.75 1151.88,-306.75 1151.88,-306.75 1151.88,-256.75 1151.88,-256.75 1151.88,-250.75 1157.88,-244.75 1163.88,-244.75 1163.88,-244.75 1260.88,-244.75 1260.88,-244.75 1266.88,-244.75 1272.88,-250.75 1272.88,-256.75 1272.88,-256.75 1272.88,-306.75 1272.88,-306.75 1272.88,-312.75 1266.88,-318.75 1260.88,-318.75\"/>\n",
       "<text text-anchor=\"start\" x=\"1175.25\" y=\"-301.45\" font-family=\"Helvetica,sans-Serif\" font-size=\"14.00\">gini = 0.304</text>\n",
       "<text text-anchor=\"start\" x=\"1165.12\" y=\"-284.95\" font-family=\"Helvetica,sans-Serif\" font-size=\"14.00\">samples = 257</text>\n",
       "<text text-anchor=\"start\" x=\"1159.88\" y=\"-268.45\" font-family=\"Helvetica,sans-Serif\" font-size=\"14.00\">value = [209, 48]</text>\n",
       "<text text-anchor=\"start\" x=\"1180.12\" y=\"-251.95\" font-family=\"Helvetica,sans-Serif\" font-size=\"14.00\">class = no</text>\n",
       "</g>\n",
       "<!-- 15&#45;&gt;18 -->\n",
       "<g id=\"edge30\" class=\"edge\">\n",
       "<title>15&#45;&gt;18</title>\n",
       "<path fill=\"none\" stroke=\"black\" d=\"M1154.61,-362.65C1162.81,-351.31 1171.63,-339.12 1179.84,-327.76\"/>\n",
       "<polygon fill=\"black\" stroke=\"black\" points=\"1183.25,-330.01 1186.27,-319.86 1177.58,-325.91 1183.25,-330.01\"/>\n",
       "</g>\n",
       "<!-- 27 -->\n",
       "<g id=\"node33\" class=\"node\">\n",
       "<title>27</title>\n",
       "<path fill=\"#93caf1\" stroke=\"black\" d=\"M1399.88,-318.75C1399.88,-318.75 1302.88,-318.75 1302.88,-318.75 1296.88,-318.75 1290.88,-312.75 1290.88,-306.75 1290.88,-306.75 1290.88,-256.75 1290.88,-256.75 1290.88,-250.75 1296.88,-244.75 1302.88,-244.75 1302.88,-244.75 1399.88,-244.75 1399.88,-244.75 1405.88,-244.75 1411.88,-250.75 1411.88,-256.75 1411.88,-256.75 1411.88,-306.75 1411.88,-306.75 1411.88,-312.75 1405.88,-318.75 1399.88,-318.75\"/>\n",
       "<text text-anchor=\"start\" x=\"1318.38\" y=\"-301.45\" font-family=\"Helvetica,sans-Serif\" font-size=\"14.00\">gini = 0.43</text>\n",
       "<text text-anchor=\"start\" x=\"1304.12\" y=\"-284.95\" font-family=\"Helvetica,sans-Serif\" font-size=\"14.00\">samples = 217</text>\n",
       "<text text-anchor=\"start\" x=\"1298.88\" y=\"-268.45\" font-family=\"Helvetica,sans-Serif\" font-size=\"14.00\">value = [68, 149]</text>\n",
       "<text text-anchor=\"start\" x=\"1315.75\" y=\"-251.95\" font-family=\"Helvetica,sans-Serif\" font-size=\"14.00\">class = yes</text>\n",
       "</g>\n",
       "<!-- 16&#45;&gt;27 -->\n",
       "<g id=\"edge32\" class=\"edge\">\n",
       "<title>16&#45;&gt;27</title>\n",
       "<path fill=\"none\" stroke=\"black\" d=\"M1351.38,-362.65C1351.38,-351.99 1351.38,-340.56 1351.38,-329.79\"/>\n",
       "<polygon fill=\"black\" stroke=\"black\" points=\"1354.88,-329.86 1351.38,-319.86 1347.88,-329.86 1354.88,-329.86\"/>\n",
       "</g>\n",
       "<!-- 28 -->\n",
       "<g id=\"node34\" class=\"node\">\n",
       "<title>28</title>\n",
       "<path fill=\"#fdf3ec\" stroke=\"black\" d=\"M1530.75,-318.75C1530.75,-318.75 1442,-318.75 1442,-318.75 1436,-318.75 1430,-312.75 1430,-306.75 1430,-306.75 1430,-256.75 1430,-256.75 1430,-250.75 1436,-244.75 1442,-244.75 1442,-244.75 1530.75,-244.75 1530.75,-244.75 1536.75,-244.75 1542.75,-250.75 1542.75,-256.75 1542.75,-256.75 1542.75,-306.75 1542.75,-306.75 1542.75,-312.75 1536.75,-318.75 1530.75,-318.75\"/>\n",
       "<text text-anchor=\"start\" x=\"1449.25\" y=\"-301.45\" font-family=\"Helvetica,sans-Serif\" font-size=\"14.00\">gini = 0.499</text>\n",
       "<text text-anchor=\"start\" x=\"1439.12\" y=\"-284.95\" font-family=\"Helvetica,sans-Serif\" font-size=\"14.00\">samples = 179</text>\n",
       "<text text-anchor=\"start\" x=\"1438\" y=\"-268.45\" font-family=\"Helvetica,sans-Serif\" font-size=\"14.00\">value = [94, 85]</text>\n",
       "<text text-anchor=\"start\" x=\"1454.12\" y=\"-251.95\" font-family=\"Helvetica,sans-Serif\" font-size=\"14.00\">class = no</text>\n",
       "</g>\n",
       "<!-- 16&#45;&gt;28 -->\n",
       "<g id=\"edge33\" class=\"edge\">\n",
       "<title>16&#45;&gt;28</title>\n",
       "<path fill=\"none\" stroke=\"black\" d=\"M1399.73,-362.65C1412.64,-350.75 1426.56,-337.91 1439.39,-326.08\"/>\n",
       "<polygon fill=\"black\" stroke=\"black\" points=\"1441.25,-329.21 1446.22,-319.86 1436.5,-324.06 1441.25,-329.21\"/>\n",
       "</g>\n",
       "</g>\n",
       "</svg>\n"
      ],
      "text/plain": [
       "<graphviz.sources.Source at 0x1bd3ce8b7f0>"
      ]
     },
     "execution_count": 123,
     "metadata": {},
     "output_type": "execute_result"
    }
   ],
   "source": [
    "if platform.system() ==  'Windows':\n",
    "    os.environ[\"PATH\"] += os.pathsep + 'C:/Program Files (x86)/Graphviz2.38/bin/'\n",
    "\n",
    "dot_data = tree.export_graphviz(decision_reg, out_file=None,\n",
    "                    feature_names=X_test.columns,\n",
    "                    class_names=['no','yes'],\n",
    "                    filled=True, rounded=True,\n",
    "                    special_characters=True)\n",
    "graph = graphviz.Source(dot_data)\n",
    "graph.render('marketing_optimizetree')\n",
    "graph"
   ]
  },
  {
   "cell_type": "code",
   "execution_count": null,
   "metadata": {},
   "outputs": [],
   "source": []
  }
 ],
 "metadata": {
  "kernelspec": {
   "display_name": "base",
   "language": "python",
   "name": "python3"
  },
  "language_info": {
   "codemirror_mode": {
    "name": "ipython",
    "version": 3
   },
   "file_extension": ".py",
   "mimetype": "text/x-python",
   "name": "python",
   "nbconvert_exporter": "python",
   "pygments_lexer": "ipython3",
   "version": "3.10.9"
  },
  "orig_nbformat": 4
 },
 "nbformat": 4,
 "nbformat_minor": 2
}
